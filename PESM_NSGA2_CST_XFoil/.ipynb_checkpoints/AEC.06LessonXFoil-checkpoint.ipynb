{
 "cells": [
  {
   "cell_type": "code",
   "execution_count": 1,
   "metadata": {
    "collapsed": true,
    "internals": {},
    "slideshow": {
     "slide_type": "-"
    }
   },
   "outputs": [],
   "source": [
    "import time, array, random, copy, math\n",
    "import numpy as np\n",
    "import pandas as pd\n",
    "import matplotlib.pyplot as plt\n",
    "%matplotlib inline\n",
    "import seaborn\n",
    "seaborn.set(style='whitegrid')\n",
    "seaborn.set_context('notebook')\n",
    "from deap import algorithms, base, benchmarks, tools, creator\n",
    "import XFoilGame"
   ]
  },
  {
   "cell_type": "markdown",
   "metadata": {
    "internals": {
     "frag_helper": "fragment_end",
     "frag_number": 11,
     "slide_type": "subslide"
    },
    "slideshow": {
     "slide_type": "subslide"
    }
   },
   "source": [
    "Planting a constant seed to always have the same results (and avoid surprises in class). -*you should not do this in a real-world case!*"
   ]
  },
  {
   "cell_type": "code",
   "execution_count": 2,
   "metadata": {
    "collapsed": true,
    "internals": {
     "frag_helper": "fragment_end",
     "frag_number": 11,
     "slide_helper": "subslide_end"
    },
    "slide_helper": "slide_end",
    "slideshow": {
     "slide_type": "-"
    }
   },
   "outputs": [],
   "source": [
    "random.seed(a=42)"
   ]
  },
  {
   "cell_type": "markdown",
   "metadata": {
    "internals": {
     "frag_helper": "fragment_end",
     "frag_number": 11,
     "slide_helper": "subslide_end",
     "slide_type": "subslide"
    },
    "slide_helper": "slide_end",
    "slideshow": {
     "slide_type": "slide"
    }
   },
   "source": [
    "## Implementing NSGA-II\n",
    "\n",
    "We will deal with [DTLZ3](http://www.tik.ee.ethz.ch/sop/download/supplementary/testproblems/dtlz3/), which is a more difficult test problem.\n",
    "\n",
    "* DTLZ problems can be configured to have as many objectives as desired, but as we want to visualize results we will stick to two objectives.\n",
    "* DTLZ3 is a (more complex) version of [DTLZ2](http://www.tik.ee.ethz.ch/sop/download/supplementary/testproblems/dtlz2/).\n",
    "* The Pareto-optimal front of DTLZ3 lies in the first [orthant](http://en.wikipedia.org/wiki/Orthant) of a unit (radius 1) hypersphere located at the coordinate origin ($\\vec{0}$).\n",
    "* It has many local optima that run parallel to the global optima and render the optimization process more complicated.\n",
    "\n",
    "<div align='center'><img src='http://www.cs.cinvestav.mx/~emoobook/apendix-e/galeria4/dtlz3a.jpg' width=\"38%\" align='center'/>\n",
    "from Coello Coello, Lamont and Van Veldhuizen (2007) Evolutionary Algorithms for Solving Multi-Objective Problems, Second Edition. Springer [Appendix E](http://www.cs.cinvestav.mx/~emoobook/apendix-e/apendix-e.html).</div>"
   ]
  },
  {
   "cell_type": "markdown",
   "metadata": {
    "internals": {
     "frag_helper": "fragment_end",
     "frag_number": 11,
     "slide_type": "subslide"
    },
    "slideshow": {
     "slide_type": "slide"
    }
   },
   "source": [
    "New `toolbox` instance with the necessary components."
   ]
  },
  {
   "cell_type": "code",
   "execution_count": 3,
   "metadata": {
    "collapsed": true,
    "internals": {
     "frag_helper": "fragment_end",
     "frag_number": 11
    },
    "slideshow": {
     "slide_type": "-"
    }
   },
   "outputs": [],
   "source": [
    "toolbox = base.Toolbox()"
   ]
  },
  {
   "cell_type": "markdown",
   "metadata": {},
   "source": [
    "Define problem domain as $\\vec{x}\\in\\left[0,1\\right]^{30}$ and a two-objective DTLZ3 instance."
   ]
  },
  {
   "cell_type": "code",
   "execution_count": 4,
   "metadata": {
    "internals": {
     "frag_helper": "fragment_end",
     "frag_number": 11
    },
    "slideshow": {
     "slide_type": "-"
    }
   },
   "outputs": [],
   "source": [
    "NDIM = 8\n",
    "BOUND_LOW, BOUND_UP = [0.1, 0.1, 0, 0.1, -0.5, 0.1, 0.1, 0.1], [0.5, 1, 1, 1, -0.1, 1, 1, 1]\n",
    "\n",
    "#To start, lets have a visual example of the Pareto dominance relationship in action.\n",
    "#In this notebook we will deal with two-objective problems in order to simplify visualization.\n",
    "#Therefore, we can create:\n",
    "creator.create(\"FitnessMin\", base.Fitness, weights=(-1.0,-1.0))\n",
    "creator.create(\"Individual\", array.array, typecode='d', \n",
    "               fitness=creator.FitnessMin)"
   ]
  },
  {
   "cell_type": "code",
   "execution_count": 5,
   "metadata": {
    "collapsed": true
   },
   "outputs": [],
   "source": [
    "#Defining attributes, individuals and population.\n",
    "def uniform(low, up, size=None):\n",
    "    try:\n",
    "        return [random.uniform(a, b) for a, b in zip(low, up)]\n",
    "    except TypeError:\n",
    "        return [random.uniform(a, b) for a, b in zip([low] * size, [up] * size)]"
   ]
  },
  {
   "cell_type": "markdown",
   "metadata": {
    "internals": {
     "frag_helper": "fragment_end",
     "frag_number": 11
    },
    "slideshow": {
     "slide_type": "-"
    }
   },
   "source": [
    "Describing attributes, individuals and population and defining the selection, mating and mutation operators."
   ]
  },
  {
   "cell_type": "code",
   "execution_count": 6,
   "metadata": {
    "collapsed": true
   },
   "outputs": [],
   "source": [
    "#setting up the XFoilGame\n",
    "def NSGA2XFoil(ind, objdims):\n",
    "    XFG = XFoilGame.XFoilGame()\n",
    "    testgen = XFG.newGame(ind)\n",
    "    return testgen"
   ]
  },
  {
   "cell_type": "code",
   "execution_count": 7,
   "metadata": {
    "collapsed": true,
    "internals": {
     "frag_helper": "fragment_end",
     "frag_number": 11
    },
    "slideshow": {
     "slide_type": "-"
    }
   },
   "outputs": [],
   "source": [
    "toolbox.register(\"evaluate\", lambda ind: NSGA2XFoil(ind, 2))\n",
    "toolbox.register(\"attr_float\", uniform, BOUND_LOW, BOUND_UP, NDIM)\n",
    "toolbox.register(\"individual\", tools.initIterate, creator.Individual, toolbox.attr_float)\n",
    "toolbox.register(\"population\", tools.initRepeat, list, toolbox.individual)\n",
    "toolbox.register(\"mate\", tools.cxSimulatedBinaryBounded, low=BOUND_LOW, up=BOUND_UP, eta=20.0)\n",
    "toolbox.register(\"mutate\", tools.mutPolynomialBounded, low=BOUND_LOW, up=BOUND_UP, eta=20.0, indpb=1.0/NDIM)\n",
    "toolbox.register(\"select\", tools.selNSGA2)"
   ]
  },
  {
   "cell_type": "markdown",
   "metadata": {
    "internals": {
     "frag_helper": "fragment_end",
     "frag_number": 11
    },
    "slideshow": {
     "slide_type": "-"
    }
   },
   "source": [
    "Let's also use the `toolbox` to store other configuration parameters of the algorithm. This will show itself usefull when performing massive experiments."
   ]
  },
  {
   "cell_type": "code",
   "execution_count": 8,
   "metadata": {
    "collapsed": true,
    "internals": {
     "frag_helper": "fragment_end",
     "frag_number": 11,
     "slide_helper": "subslide_end"
    },
    "slide_helper": "slide_end",
    "slideshow": {
     "slide_type": "-"
    }
   },
   "outputs": [],
   "source": [
    "toolbox.pop_size = 5\n",
    "toolbox.max_gen = 10\n",
    "toolbox.mut_prob = 0.2\n",
    "pop = toolbox.population(toolbox.pop_size)"
   ]
  },
  {
   "cell_type": "markdown",
   "metadata": {
    "internals": {
     "frag_helper": "fragment_end",
     "frag_number": 11,
     "slide_type": "subslide"
    },
    "slideshow": {
     "slide_type": "slide"
    }
   },
   "source": [
    "## A compact NSGA-II implementation\n",
    "\n",
    "Storing all the required information in the `toolbox` and using DEAP's `algorithms.eaMuPlusLambda` function allows us to create a very compact -albeit not a 100% exact copy of the original- implementation of NSGA-II."
   ]
  },
  {
   "cell_type": "code",
   "execution_count": 9,
   "metadata": {
    "collapsed": true,
    "internals": {
     "frag_helper": "fragment_end",
     "frag_number": 11,
     "slide_helper": "subslide_end"
    },
    "slide_helper": "slide_end",
    "slideshow": {
     "slide_type": "-"
    }
   },
   "outputs": [],
   "source": [
    "def run_ea(toolbox, stats=None, verbose=False):\n",
    "    pop = toolbox.population(toolbox.pop_size)\n",
    "    fitnesses = map(toolbox.evaluate, pop)\n",
    "    \n",
    "    for ind, fit in zip(pop, fitnesses):\n",
    "        ind.fitness.values = fit\n",
    "        print len(ind)\n",
    "    pop = toolbox.select(pop, toolbox.pop_size)\n",
    "    return algorithms.eaMuPlusLambda(pop, toolbox, mu=toolbox.pop_size, \n",
    "                                     lambda_=toolbox.pop_size, \n",
    "                                     cxpb=1-toolbox.mut_prob,\n",
    "                                     mutpb=toolbox.mut_prob, \n",
    "                                     stats=stats, \n",
    "                                     ngen=toolbox.max_gen, \n",
    "                                     verbose=verbose)"
   ]
  },
  {
   "cell_type": "markdown",
   "metadata": {
    "internals": {
     "frag_helper": "fragment_end",
     "frag_number": 11,
     "slide_type": "subslide"
    },
    "slideshow": {
     "slide_type": "slide"
    }
   },
   "source": [
    "## Running the algorithm"
   ]
  },
  {
   "cell_type": "markdown",
   "metadata": {
    "internals": {
     "frag_helper": "fragment_end",
     "frag_number": 11
    },
    "slideshow": {
     "slide_type": "-"
    }
   },
   "source": [
    "We are now ready to run our NSGA-II."
   ]
  },
  {
   "cell_type": "code",
   "execution_count": 10,
   "metadata": {
    "internals": {
     "frag_helper": "fragment_end",
     "frag_number": 11
    },
    "slideshow": {
     "slide_type": "-"
    }
   },
   "outputs": [
    {
     "name": "stdout",
     "output_type": "stream",
     "text": [
      "8\n",
      "8\n",
      "8\n",
      "8\n",
      "8\n"
     ]
    },
    {
     "name": "stderr",
     "output_type": "stream",
     "text": [
      "/usr/lib/pymodules/python2.7/matplotlib/pyplot.py:412: RuntimeWarning: More than 20 figures have been opened. Figures created through the pyplot interface (`matplotlib.pyplot.figure`) are retained until explicitly closed and may consume too much memory. (To control this warning, see the rcParam `figure.max_num_figures`).\n",
      "  max_open_warning, RuntimeWarning)\n"
     ]
    },
    {
     "ename": "KeyboardInterrupt",
     "evalue": "",
     "output_type": "error",
     "traceback": [
      "\u001b[0;31m---------------------------------------------------------------------------\u001b[0m",
      "\u001b[0;31mKeyboardInterrupt\u001b[0m                         Traceback (most recent call last)",
      "\u001b[0;32m<ipython-input-10-45ffceeb654e>\u001b[0m in \u001b[0;36m<module>\u001b[0;34m()\u001b[0m\n\u001b[0;32m----> 1\u001b[0;31m \u001b[0mget_ipython\u001b[0m\u001b[0;34m(\u001b[0m\u001b[0;34m)\u001b[0m\u001b[0;34m.\u001b[0m\u001b[0mmagic\u001b[0m\u001b[0;34m(\u001b[0m\u001b[0;34mu'time res,_ = run_ea(toolbox)'\u001b[0m\u001b[0;34m)\u001b[0m\u001b[0;34m\u001b[0m\u001b[0m\n\u001b[0m",
      "\u001b[0;32m/usr/local/lib/python2.7/dist-packages/IPython/core/interactiveshell.pyc\u001b[0m in \u001b[0;36mmagic\u001b[0;34m(self, arg_s)\u001b[0m\n\u001b[1;32m   2156\u001b[0m         \u001b[0mmagic_name\u001b[0m\u001b[0;34m,\u001b[0m \u001b[0m_\u001b[0m\u001b[0;34m,\u001b[0m \u001b[0mmagic_arg_s\u001b[0m \u001b[0;34m=\u001b[0m \u001b[0marg_s\u001b[0m\u001b[0;34m.\u001b[0m\u001b[0mpartition\u001b[0m\u001b[0;34m(\u001b[0m\u001b[0;34m' '\u001b[0m\u001b[0;34m)\u001b[0m\u001b[0;34m\u001b[0m\u001b[0m\n\u001b[1;32m   2157\u001b[0m         \u001b[0mmagic_name\u001b[0m \u001b[0;34m=\u001b[0m \u001b[0mmagic_name\u001b[0m\u001b[0;34m.\u001b[0m\u001b[0mlstrip\u001b[0m\u001b[0;34m(\u001b[0m\u001b[0mprefilter\u001b[0m\u001b[0;34m.\u001b[0m\u001b[0mESC_MAGIC\u001b[0m\u001b[0;34m)\u001b[0m\u001b[0;34m\u001b[0m\u001b[0m\n\u001b[0;32m-> 2158\u001b[0;31m         \u001b[0;32mreturn\u001b[0m \u001b[0mself\u001b[0m\u001b[0;34m.\u001b[0m\u001b[0mrun_line_magic\u001b[0m\u001b[0;34m(\u001b[0m\u001b[0mmagic_name\u001b[0m\u001b[0;34m,\u001b[0m \u001b[0mmagic_arg_s\u001b[0m\u001b[0;34m)\u001b[0m\u001b[0;34m\u001b[0m\u001b[0m\n\u001b[0m\u001b[1;32m   2159\u001b[0m \u001b[0;34m\u001b[0m\u001b[0m\n\u001b[1;32m   2160\u001b[0m     \u001b[0;31m#-------------------------------------------------------------------------\u001b[0m\u001b[0;34m\u001b[0m\u001b[0;34m\u001b[0m\u001b[0m\n",
      "\u001b[0;32m/usr/local/lib/python2.7/dist-packages/IPython/core/interactiveshell.pyc\u001b[0m in \u001b[0;36mrun_line_magic\u001b[0;34m(self, magic_name, line)\u001b[0m\n\u001b[1;32m   2077\u001b[0m                 \u001b[0mkwargs\u001b[0m\u001b[0;34m[\u001b[0m\u001b[0;34m'local_ns'\u001b[0m\u001b[0;34m]\u001b[0m \u001b[0;34m=\u001b[0m \u001b[0msys\u001b[0m\u001b[0;34m.\u001b[0m\u001b[0m_getframe\u001b[0m\u001b[0;34m(\u001b[0m\u001b[0mstack_depth\u001b[0m\u001b[0;34m)\u001b[0m\u001b[0;34m.\u001b[0m\u001b[0mf_locals\u001b[0m\u001b[0;34m\u001b[0m\u001b[0m\n\u001b[1;32m   2078\u001b[0m             \u001b[0;32mwith\u001b[0m \u001b[0mself\u001b[0m\u001b[0;34m.\u001b[0m\u001b[0mbuiltin_trap\u001b[0m\u001b[0;34m:\u001b[0m\u001b[0;34m\u001b[0m\u001b[0m\n\u001b[0;32m-> 2079\u001b[0;31m                 \u001b[0mresult\u001b[0m \u001b[0;34m=\u001b[0m \u001b[0mfn\u001b[0m\u001b[0;34m(\u001b[0m\u001b[0;34m*\u001b[0m\u001b[0margs\u001b[0m\u001b[0;34m,\u001b[0m\u001b[0;34m**\u001b[0m\u001b[0mkwargs\u001b[0m\u001b[0;34m)\u001b[0m\u001b[0;34m\u001b[0m\u001b[0m\n\u001b[0m\u001b[1;32m   2080\u001b[0m             \u001b[0;32mreturn\u001b[0m \u001b[0mresult\u001b[0m\u001b[0;34m\u001b[0m\u001b[0m\n\u001b[1;32m   2081\u001b[0m \u001b[0;34m\u001b[0m\u001b[0m\n",
      "\u001b[0;32m<decorator-gen-59>\u001b[0m in \u001b[0;36mtime\u001b[0;34m(self, line, cell, local_ns)\u001b[0m\n",
      "\u001b[0;32m/usr/local/lib/python2.7/dist-packages/IPython/core/magic.pyc\u001b[0m in \u001b[0;36m<lambda>\u001b[0;34m(f, *a, **k)\u001b[0m\n\u001b[1;32m    186\u001b[0m     \u001b[0;31m# but it's overkill for just that one bit of state.\u001b[0m\u001b[0;34m\u001b[0m\u001b[0;34m\u001b[0m\u001b[0m\n\u001b[1;32m    187\u001b[0m     \u001b[0;32mdef\u001b[0m \u001b[0mmagic_deco\u001b[0m\u001b[0;34m(\u001b[0m\u001b[0marg\u001b[0m\u001b[0;34m)\u001b[0m\u001b[0;34m:\u001b[0m\u001b[0;34m\u001b[0m\u001b[0m\n\u001b[0;32m--> 188\u001b[0;31m         \u001b[0mcall\u001b[0m \u001b[0;34m=\u001b[0m \u001b[0;32mlambda\u001b[0m \u001b[0mf\u001b[0m\u001b[0;34m,\u001b[0m \u001b[0;34m*\u001b[0m\u001b[0ma\u001b[0m\u001b[0;34m,\u001b[0m \u001b[0;34m**\u001b[0m\u001b[0mk\u001b[0m\u001b[0;34m:\u001b[0m \u001b[0mf\u001b[0m\u001b[0;34m(\u001b[0m\u001b[0;34m*\u001b[0m\u001b[0ma\u001b[0m\u001b[0;34m,\u001b[0m \u001b[0;34m**\u001b[0m\u001b[0mk\u001b[0m\u001b[0;34m)\u001b[0m\u001b[0;34m\u001b[0m\u001b[0m\n\u001b[0m\u001b[1;32m    189\u001b[0m \u001b[0;34m\u001b[0m\u001b[0m\n\u001b[1;32m    190\u001b[0m         \u001b[0;32mif\u001b[0m \u001b[0mcallable\u001b[0m\u001b[0;34m(\u001b[0m\u001b[0marg\u001b[0m\u001b[0;34m)\u001b[0m\u001b[0;34m:\u001b[0m\u001b[0;34m\u001b[0m\u001b[0m\n",
      "\u001b[0;32m/usr/local/lib/python2.7/dist-packages/IPython/core/magics/execution.pyc\u001b[0m in \u001b[0;36mtime\u001b[0;34m(self, line, cell, local_ns)\u001b[0m\n\u001b[1;32m   1183\u001b[0m         \u001b[0;32melse\u001b[0m\u001b[0;34m:\u001b[0m\u001b[0;34m\u001b[0m\u001b[0m\n\u001b[1;32m   1184\u001b[0m             \u001b[0mst\u001b[0m \u001b[0;34m=\u001b[0m \u001b[0mclock2\u001b[0m\u001b[0;34m(\u001b[0m\u001b[0;34m)\u001b[0m\u001b[0;34m\u001b[0m\u001b[0m\n\u001b[0;32m-> 1185\u001b[0;31m             \u001b[0;32mexec\u001b[0m\u001b[0;34m(\u001b[0m\u001b[0mcode\u001b[0m\u001b[0;34m,\u001b[0m \u001b[0mglob\u001b[0m\u001b[0;34m,\u001b[0m \u001b[0mlocal_ns\u001b[0m\u001b[0;34m)\u001b[0m\u001b[0;34m\u001b[0m\u001b[0m\n\u001b[0m\u001b[1;32m   1186\u001b[0m             \u001b[0mend\u001b[0m \u001b[0;34m=\u001b[0m \u001b[0mclock2\u001b[0m\u001b[0;34m(\u001b[0m\u001b[0;34m)\u001b[0m\u001b[0;34m\u001b[0m\u001b[0m\n\u001b[1;32m   1187\u001b[0m             \u001b[0mout\u001b[0m \u001b[0;34m=\u001b[0m \u001b[0mNone\u001b[0m\u001b[0;34m\u001b[0m\u001b[0m\n",
      "\u001b[0;32m<timed exec>\u001b[0m in \u001b[0;36m<module>\u001b[0;34m()\u001b[0m\n",
      "\u001b[0;32m<ipython-input-9-b71dd916d531>\u001b[0m in \u001b[0;36mrun_ea\u001b[0;34m(toolbox, stats, verbose)\u001b[0m\n\u001b[1;32m     13\u001b[0m                                      \u001b[0mstats\u001b[0m\u001b[0;34m=\u001b[0m\u001b[0mstats\u001b[0m\u001b[0;34m,\u001b[0m\u001b[0;34m\u001b[0m\u001b[0m\n\u001b[1;32m     14\u001b[0m                                      \u001b[0mngen\u001b[0m\u001b[0;34m=\u001b[0m\u001b[0mtoolbox\u001b[0m\u001b[0;34m.\u001b[0m\u001b[0mmax_gen\u001b[0m\u001b[0;34m,\u001b[0m\u001b[0;34m\u001b[0m\u001b[0m\n\u001b[0;32m---> 15\u001b[0;31m                                      verbose=verbose)\n\u001b[0m",
      "\u001b[0;32m/usr/local/lib/python2.7/dist-packages/deap-1.1.0-py2.7-linux-x86_64.egg/deap/algorithms.pyc\u001b[0m in \u001b[0;36meaMuPlusLambda\u001b[0;34m(population, toolbox, mu, lambda_, cxpb, mutpb, ngen, stats, halloffame, verbose)\u001b[0m\n\u001b[1;32m    320\u001b[0m         \u001b[0;31m# Evaluate the individuals with an invalid fitness\u001b[0m\u001b[0;34m\u001b[0m\u001b[0;34m\u001b[0m\u001b[0m\n\u001b[1;32m    321\u001b[0m         \u001b[0minvalid_ind\u001b[0m \u001b[0;34m=\u001b[0m \u001b[0;34m[\u001b[0m\u001b[0mind\u001b[0m \u001b[0;32mfor\u001b[0m \u001b[0mind\u001b[0m \u001b[0;32min\u001b[0m \u001b[0moffspring\u001b[0m \u001b[0;32mif\u001b[0m \u001b[0;32mnot\u001b[0m \u001b[0mind\u001b[0m\u001b[0;34m.\u001b[0m\u001b[0mfitness\u001b[0m\u001b[0;34m.\u001b[0m\u001b[0mvalid\u001b[0m\u001b[0;34m]\u001b[0m\u001b[0;34m\u001b[0m\u001b[0m\n\u001b[0;32m--> 322\u001b[0;31m         \u001b[0mfitnesses\u001b[0m \u001b[0;34m=\u001b[0m \u001b[0mtoolbox\u001b[0m\u001b[0;34m.\u001b[0m\u001b[0mmap\u001b[0m\u001b[0;34m(\u001b[0m\u001b[0mtoolbox\u001b[0m\u001b[0;34m.\u001b[0m\u001b[0mevaluate\u001b[0m\u001b[0;34m,\u001b[0m \u001b[0minvalid_ind\u001b[0m\u001b[0;34m)\u001b[0m\u001b[0;34m\u001b[0m\u001b[0m\n\u001b[0m\u001b[1;32m    323\u001b[0m         \u001b[0;32mfor\u001b[0m \u001b[0mind\u001b[0m\u001b[0;34m,\u001b[0m \u001b[0mfit\u001b[0m \u001b[0;32min\u001b[0m \u001b[0mzip\u001b[0m\u001b[0;34m(\u001b[0m\u001b[0minvalid_ind\u001b[0m\u001b[0;34m,\u001b[0m \u001b[0mfitnesses\u001b[0m\u001b[0;34m)\u001b[0m\u001b[0;34m:\u001b[0m\u001b[0;34m\u001b[0m\u001b[0m\n\u001b[1;32m    324\u001b[0m             \u001b[0mind\u001b[0m\u001b[0;34m.\u001b[0m\u001b[0mfitness\u001b[0m\u001b[0;34m.\u001b[0m\u001b[0mvalues\u001b[0m \u001b[0;34m=\u001b[0m \u001b[0mfit\u001b[0m\u001b[0;34m\u001b[0m\u001b[0m\n",
      "\u001b[0;32m<ipython-input-7-f722d51061b9>\u001b[0m in \u001b[0;36m<lambda>\u001b[0;34m(ind)\u001b[0m\n\u001b[0;32m----> 1\u001b[0;31m \u001b[0mtoolbox\u001b[0m\u001b[0;34m.\u001b[0m\u001b[0mregister\u001b[0m\u001b[0;34m(\u001b[0m\u001b[0;34m\"evaluate\"\u001b[0m\u001b[0;34m,\u001b[0m \u001b[0;32mlambda\u001b[0m \u001b[0mind\u001b[0m\u001b[0;34m:\u001b[0m \u001b[0mNSGA2XFoil\u001b[0m\u001b[0;34m(\u001b[0m\u001b[0mind\u001b[0m\u001b[0;34m,\u001b[0m \u001b[0;36m2\u001b[0m\u001b[0;34m)\u001b[0m\u001b[0;34m)\u001b[0m\u001b[0;34m\u001b[0m\u001b[0m\n\u001b[0m\u001b[1;32m      2\u001b[0m \u001b[0mtoolbox\u001b[0m\u001b[0;34m.\u001b[0m\u001b[0mregister\u001b[0m\u001b[0;34m(\u001b[0m\u001b[0;34m\"attr_float\"\u001b[0m\u001b[0;34m,\u001b[0m \u001b[0muniform\u001b[0m\u001b[0;34m,\u001b[0m \u001b[0mBOUND_LOW\u001b[0m\u001b[0;34m,\u001b[0m \u001b[0mBOUND_UP\u001b[0m\u001b[0;34m,\u001b[0m \u001b[0mNDIM\u001b[0m\u001b[0;34m)\u001b[0m\u001b[0;34m\u001b[0m\u001b[0m\n\u001b[1;32m      3\u001b[0m \u001b[0mtoolbox\u001b[0m\u001b[0;34m.\u001b[0m\u001b[0mregister\u001b[0m\u001b[0;34m(\u001b[0m\u001b[0;34m\"individual\"\u001b[0m\u001b[0;34m,\u001b[0m \u001b[0mtools\u001b[0m\u001b[0;34m.\u001b[0m\u001b[0minitIterate\u001b[0m\u001b[0;34m,\u001b[0m \u001b[0mcreator\u001b[0m\u001b[0;34m.\u001b[0m\u001b[0mIndividual\u001b[0m\u001b[0;34m,\u001b[0m \u001b[0mtoolbox\u001b[0m\u001b[0;34m.\u001b[0m\u001b[0mattr_float\u001b[0m\u001b[0;34m)\u001b[0m\u001b[0;34m\u001b[0m\u001b[0m\n\u001b[1;32m      4\u001b[0m \u001b[0mtoolbox\u001b[0m\u001b[0;34m.\u001b[0m\u001b[0mregister\u001b[0m\u001b[0;34m(\u001b[0m\u001b[0;34m\"population\"\u001b[0m\u001b[0;34m,\u001b[0m \u001b[0mtools\u001b[0m\u001b[0;34m.\u001b[0m\u001b[0minitRepeat\u001b[0m\u001b[0;34m,\u001b[0m \u001b[0mlist\u001b[0m\u001b[0;34m,\u001b[0m \u001b[0mtoolbox\u001b[0m\u001b[0;34m.\u001b[0m\u001b[0mindividual\u001b[0m\u001b[0;34m)\u001b[0m\u001b[0;34m\u001b[0m\u001b[0m\n\u001b[1;32m      5\u001b[0m \u001b[0mtoolbox\u001b[0m\u001b[0;34m.\u001b[0m\u001b[0mregister\u001b[0m\u001b[0;34m(\u001b[0m\u001b[0;34m\"mate\"\u001b[0m\u001b[0;34m,\u001b[0m \u001b[0mtools\u001b[0m\u001b[0;34m.\u001b[0m\u001b[0mcxSimulatedBinaryBounded\u001b[0m\u001b[0;34m,\u001b[0m \u001b[0mlow\u001b[0m\u001b[0;34m=\u001b[0m\u001b[0mBOUND_LOW\u001b[0m\u001b[0;34m,\u001b[0m \u001b[0mup\u001b[0m\u001b[0;34m=\u001b[0m\u001b[0mBOUND_UP\u001b[0m\u001b[0;34m,\u001b[0m \u001b[0meta\u001b[0m\u001b[0;34m=\u001b[0m\u001b[0;36m20.0\u001b[0m\u001b[0;34m)\u001b[0m\u001b[0;34m\u001b[0m\u001b[0m\n",
      "\u001b[0;32m<ipython-input-6-783e2deb220a>\u001b[0m in \u001b[0;36mNSGA2XFoil\u001b[0;34m(ind, objdims)\u001b[0m\n\u001b[1;32m      2\u001b[0m \u001b[0;32mdef\u001b[0m \u001b[0mNSGA2XFoil\u001b[0m\u001b[0;34m(\u001b[0m\u001b[0mind\u001b[0m\u001b[0;34m,\u001b[0m \u001b[0mobjdims\u001b[0m\u001b[0;34m)\u001b[0m\u001b[0;34m:\u001b[0m\u001b[0;34m\u001b[0m\u001b[0m\n\u001b[1;32m      3\u001b[0m     \u001b[0mXFG\u001b[0m \u001b[0;34m=\u001b[0m \u001b[0mXFoilGame\u001b[0m\u001b[0;34m.\u001b[0m\u001b[0mXFoilGame\u001b[0m\u001b[0;34m(\u001b[0m\u001b[0;34m)\u001b[0m\u001b[0;34m\u001b[0m\u001b[0m\n\u001b[0;32m----> 4\u001b[0;31m     \u001b[0mtestgen\u001b[0m \u001b[0;34m=\u001b[0m \u001b[0mXFG\u001b[0m\u001b[0;34m.\u001b[0m\u001b[0mnewGame\u001b[0m\u001b[0;34m(\u001b[0m\u001b[0mind\u001b[0m\u001b[0;34m)\u001b[0m\u001b[0;34m\u001b[0m\u001b[0m\n\u001b[0m\u001b[1;32m      5\u001b[0m     \u001b[0;32mreturn\u001b[0m \u001b[0mtestgen\u001b[0m\u001b[0;34m\u001b[0m\u001b[0m\n",
      "\u001b[0;32m/home/simonx/Documents/Udacity/Projects/capstone/testingRoom/DEAPNSGA2XFoil/XFoilGame.pyc\u001b[0m in \u001b[0;36mnewGame\u001b[0;34m(self, actions)\u001b[0m\n\u001b[1;32m    146\u001b[0m             \u001b[0;32mprint\u001b[0m \u001b[0;34m\"airfoil model not selected\"\u001b[0m\u001b[0;34m\u001b[0m\u001b[0m\n\u001b[1;32m    147\u001b[0m \u001b[0;34m\u001b[0m\u001b[0m\n\u001b[0;32m--> 148\u001b[0;31m         \u001b[0mself\u001b[0m\u001b[0;34m.\u001b[0m\u001b[0mXfoil\u001b[0m\u001b[0;34m(\u001b[0m\u001b[0mname\u001b[0m\u001b[0;34m,\u001b[0m\u001b[0mself\u001b[0m\u001b[0;34m.\u001b[0m\u001b[0mNcrit\u001b[0m\u001b[0;34m,\u001b[0m\u001b[0mself\u001b[0m\u001b[0;34m.\u001b[0m\u001b[0mRe\u001b[0m\u001b[0;34m,\u001b[0m \u001b[0mself\u001b[0m\u001b[0;34m.\u001b[0m\u001b[0mM1\u001b[0m\u001b[0;34m,\u001b[0m \u001b[0mself\u001b[0m\u001b[0;34m.\u001b[0m\u001b[0mM2\u001b[0m\u001b[0;34m,\u001b[0m \u001b[0mself\u001b[0m\u001b[0;34m.\u001b[0m\u001b[0mNoIter\u001b[0m\u001b[0;34m)\u001b[0m\u001b[0;34m\u001b[0m\u001b[0m\n\u001b[0m\u001b[1;32m    149\u001b[0m         \u001b[0mself\u001b[0m\u001b[0;34m.\u001b[0m\u001b[0mwriteArchiveBase\u001b[0m\u001b[0;34m(\u001b[0m\u001b[0mname\u001b[0m\u001b[0;34m,\u001b[0m \u001b[0mself\u001b[0m\u001b[0;34m.\u001b[0m\u001b[0mM1\u001b[0m\u001b[0;34m,\u001b[0m \u001b[0mself\u001b[0m\u001b[0;34m.\u001b[0m\u001b[0mM2\u001b[0m\u001b[0;34m,\u001b[0m \u001b[0mactions\u001b[0m\u001b[0;34m)\u001b[0m\u001b[0;34m\u001b[0m\u001b[0m\n\u001b[1;32m    150\u001b[0m         \u001b[0;32mreturn\u001b[0m \u001b[0mself\u001b[0m\u001b[0;34m.\u001b[0m\u001b[0mgetObjectiveValues\u001b[0m\u001b[0;34m(\u001b[0m\u001b[0mname\u001b[0m\u001b[0;34m)\u001b[0m\u001b[0;34m\u001b[0m\u001b[0m\n",
      "\u001b[0;32m/home/simonx/Documents/Udacity/Projects/capstone/testingRoom/DEAPNSGA2XFoil/XFoilGame.pyc\u001b[0m in \u001b[0;36mXfoil\u001b[0;34m(self, name, Ncrit, Re, M1, M2, NoIter)\u001b[0m\n\u001b[1;32m     76\u001b[0m         \u001b[0mCmd\u001b[0m\u001b[0;34m(\u001b[0m\u001b[0;34m' '\u001b[0m\u001b[0;34m)\u001b[0m  \u001b[0;31m# escape OPER\u001b[0m\u001b[0;34m\u001b[0m\u001b[0m\n\u001b[1;32m     77\u001b[0m         \u001b[0mCmd\u001b[0m\u001b[0;34m(\u001b[0m\u001b[0;34m'quit'\u001b[0m\u001b[0;34m)\u001b[0m  \u001b[0;31m# exit\u001b[0m\u001b[0;34m\u001b[0m\u001b[0m\n\u001b[0;32m---> 78\u001b[0;31m         \u001b[0mresp\u001b[0m \u001b[0;34m=\u001b[0m \u001b[0mps\u001b[0m\u001b[0;34m.\u001b[0m\u001b[0mstdout\u001b[0m\u001b[0;34m.\u001b[0m\u001b[0mread\u001b[0m\u001b[0;34m(\u001b[0m\u001b[0;34m)\u001b[0m\u001b[0;34m\u001b[0m\u001b[0m\n\u001b[0m\u001b[1;32m     79\u001b[0m \u001b[0;34m\u001b[0m\u001b[0m\n\u001b[1;32m     80\u001b[0m \u001b[0;34m\u001b[0m\u001b[0m\n",
      "\u001b[0;31mKeyboardInterrupt\u001b[0m: "
     ]
    },
    {
     "data": {
      "image/png": "[encoded data removed]",
      "text/plain": [
       "<matplotlib.figure.Figure at 0x7f8ce41ae150>"
      ]
     },
     "metadata": {},
     "output_type": "display_data"
    },
    {
     "data": {
      "image/png": "[encoded data removed]",
      "text/plain": [
       "<matplotlib.figure.Figure at 0x7f8ce419bf90>"
      ]
     },
     "metadata": {},
     "output_type": "display_data"
    },
    {
     "data": {
      "image/png": "[encoded data removed]",
      "text/plain": [
       "<matplotlib.figure.Figure at 0x7f8cdd8ac450>"
      ]
     },
     "metadata": {},
     "output_type": "display_data"
    },
    {
     "data": {
      "image/png": "[encoded data removed]",
      "text/plain": [
       "<matplotlib.figure.Figure at 0x7f8cdc6a0b10>"
      ]
     },
     "metadata": {},
     "output_type": "display_data"
    },
    {
     "data": {
      "image/png": "[encoded data removed]",
      "text/plain": [
       "<matplotlib.figure.Figure at 0x7f8cdd6d3410>"
      ]
     },
     "metadata": {},
     "output_type": "display_data"
    },
    {
     "data": {
      "image/png": "[encoded data removed]",
      "text/plain": [
       "<matplotlib.figure.Figure at 0x7f8cdca56f90>"
      ]
     },
     "metadata": {},
     "output_type": "display_data"
    },
    {
     "data": {
      "image/png": "[encoded data removed]",
      "text/plain": [
       "<matplotlib.figure.Figure at 0x7f8cdd452e90>"
      ]
     },
     "metadata": {},
     "output_type": "display_data"
    },
    {
     "data": {
      "image/png": "[encoded data removed]",
      "text/plain": [
       "<matplotlib.figure.Figure at 0x7f8cdd20d090>"
      ]
     },
     "metadata": {},
     "output_type": "display_data"
    },
    {
     "data": {
      "image/png": "[encoded data removed]",
      "text/plain": [
       "<matplotlib.figure.Figure at 0x7f8cdcf64190>"
      ]
     },
     "metadata": {},
     "output_type": "display_data"
    },
    {
     "data": {
      "image/png": "[encoded data removed]",
      "text/plain": [
       "<matplotlib.figure.Figure at 0x7f8cdcd49fd0>"
      ]
     },
     "metadata": {},
     "output_type": "display_data"
    },
    {
     "data": {
      "image/png": "[encoded data removed]",
      "text/plain": [
       "<matplotlib.figure.Figure at 0x7f8cdca5f410>"
      ]
     },
     "metadata": {},
     "output_type": "display_data"
    },
    {
     "data": {
      "image/png": "[encoded data removed]",
      "text/plain": [
       "<matplotlib.figure.Figure at 0x7f8cdc771210>"
      ]
     },
     "metadata": {},
     "output_type": "display_data"
    },
    {
     "data": {
      "image/png": "[encoded data removed]",
      "text/plain": [
       "<matplotlib.figure.Figure at 0x7f8cdc744e90>"
      ]
     },
     "metadata": {},
     "output_type": "display_data"
    },
    {
     "data": {
      "image/png": "[encoded data removed]",
      "text/plain": [
       "<matplotlib.figure.Figure at 0x7f8cdc18efd0>"
      ]
     },
     "metadata": {},
     "output_type": "display_data"
    },
    {
     "data": {
      "image/png": "[encoded data removed]",
      "text/plain": [
       "<matplotlib.figure.Figure at 0x7f8cc6671c10>"
      ]
     },
     "metadata": {},
     "output_type": "display_data"
    },
    {
     "data": {
      "image/png": "[encoded data removed]",
      "text/plain": [
       "<matplotlib.figure.Figure at 0x7f8cc6e49fd0>"
      ]
     },
     "metadata": {},
     "output_type": "display_data"
    },
    {
     "data": {
      "image/png": "[encoded data removed]",
      "text/plain": [
       "<matplotlib.figure.Figure at 0x7f8cc6bbdc10>"
      ]
     },
     "metadata": {},
     "output_type": "display_data"
    },
    {
     "data": {
      "image/png": "[encoded data removed]",
      "text/plain": [
       "<matplotlib.figure.Figure at 0x7f8cc6950610>"
      ]
     },
     "metadata": {},
     "output_type": "display_data"
    },
    {
     "data": {
      "image/png": "[encoded data removed]",
      "text/plain": [
       "<matplotlib.figure.Figure at 0x7f8cc67439d0>"
      ]
     },
     "metadata": {},
     "output_type": "display_data"
    },
    {
     "data": {
      "image/png": "[encoded data removed]",
      "text/plain": [
       "<matplotlib.figure.Figure at 0x7f8cc6251810>"
      ]
     },
     "metadata": {},
     "output_type": "display_data"
    },
    {
     "data": {
      "image/png": "[encoded data removed]",
      "text/plain": [
       "<matplotlib.figure.Figure at 0x7f8cc5bf8710>"
      ]
     },
     "metadata": {},
     "output_type": "display_data"
    },
    {
     "data": {
      "image/png": "[encoded data removed]",
      "text/plain": [
       "<matplotlib.figure.Figure at 0x7f8cc5bdedd0>"
      ]
     },
     "metadata": {},
     "output_type": "display_data"
    },
    {
     "data": {
      "image/png": "[encoded data removed]",
      "text/plain": [
       "<matplotlib.figure.Figure at 0x7f8cc5b1e7d0>"
      ]
     },
     "metadata": {},
     "output_type": "display_data"
    }
   ],
   "source": [
    "%time res,_ = run_ea(toolbox)"
   ]
  },
  {
   "cell_type": "markdown",
   "metadata": {
    "internals": {
     "frag_helper": "fragment_end",
     "frag_number": 11
    },
    "slideshow": {
     "slide_type": "-"
    }
   },
   "source": [
    "We can now get the Pareto fronts in the results (`res`)."
   ]
  },
  {
   "cell_type": "code",
   "execution_count": 11,
   "metadata": {
    "internals": {
     "frag_helper": "fragment_end",
     "frag_number": 11,
     "slide_helper": "subslide_end"
    },
    "slide_helper": "slide_end",
    "slideshow": {
     "slide_type": "-"
    }
   },
   "outputs": [
    {
     "ename": "NameError",
     "evalue": "name 'res' is not defined",
     "output_type": "error",
     "traceback": [
      "\u001b[0;31m---------------------------------------------------------------------------\u001b[0m",
      "\u001b[0;31mNameError\u001b[0m                                 Traceback (most recent call last)",
      "\u001b[0;32m<ipython-input-11-ce54acf04deb>\u001b[0m in \u001b[0;36m<module>\u001b[0;34m()\u001b[0m\n\u001b[0;32m----> 1\u001b[0;31m \u001b[0mfronts\u001b[0m \u001b[0;34m=\u001b[0m \u001b[0mtools\u001b[0m\u001b[0;34m.\u001b[0m\u001b[0memo\u001b[0m\u001b[0;34m.\u001b[0m\u001b[0msortLogNondominated\u001b[0m\u001b[0;34m(\u001b[0m\u001b[0mres\u001b[0m\u001b[0;34m,\u001b[0m \u001b[0mlen\u001b[0m\u001b[0;34m(\u001b[0m\u001b[0mres\u001b[0m\u001b[0;34m)\u001b[0m\u001b[0;34m)\u001b[0m\u001b[0;34m\u001b[0m\u001b[0m\n\u001b[0m",
      "\u001b[0;31mNameError\u001b[0m: name 'res' is not defined"
     ]
    }
   ],
   "source": [
    "fronts = tools.emo.sortLogNondominated(res, len(res))"
   ]
  },
  {
   "cell_type": "markdown",
   "metadata": {
    "internals": {
     "frag_helper": "fragment_end",
     "frag_number": 11,
     "slide_type": "subslide"
    },
    "slideshow": {
     "slide_type": "slide"
    }
   },
   "source": [
    "## Resulting Pareto fronts"
   ]
  },
  {
   "cell_type": "code",
   "execution_count": 11,
   "metadata": {
    "internals": {
     "frag_helper": "fragment_end",
     "frag_number": 11
    },
    "slideshow": {
     "slide_type": "-"
    }
   },
   "outputs": [
    {
     "name": "stderr",
     "output_type": "stream",
     "text": [
      "/usr/lib/pymodules/python2.7/matplotlib/collections.py:548: FutureWarning: elementwise comparison failed; returning scalar instead, but in the future will perform elementwise comparison\n",
      "  if self._edgecolors == 'face':\n"
     ]
    },
    {
     "data": {
      "image/png": "[encoded data removed]",
      "text/plain": [
       "<matplotlib.figure.Figure at 0x7f2eabbf4090>"
      ]
     },
     "metadata": {},
     "output_type": "display_data"
    }
   ],
   "source": [
    "plot_colors = seaborn.color_palette(\"Set1\", n_colors=10)\n",
    "fig, ax = plt.subplots(1, figsize=(4,4))\n",
    "for i,inds in enumerate(fronts):\n",
    "    par = [toolbox.evaluate(ind) for ind in inds]\n",
    "    df = pd.DataFrame(par)\n",
    "    df.plot(ax=ax, kind='scatter', label='Front ' + str(i+1), \n",
    "                 x=df.columns[0], y=df.columns[1], \n",
    "                 color=plot_colors[i])\n",
    "plt.xlabel('$f_1(\\mathbf{x})$');plt.ylabel('$f_2(\\mathbf{x})$');"
   ]
  },
  {
   "cell_type": "markdown",
   "metadata": {
    "internals": {
     "frag_helper": "fragment_end",
     "frag_number": 11,
     "slide_helper": "subslide_end"
    },
    "slide_helper": "slide_end",
    "slideshow": {
     "slide_type": "-"
    }
   },
   "source": [
    "* It is better to make an animated plot of the evolution as it takes place."
   ]
  },
  {
   "cell_type": "markdown",
   "metadata": {
    "internals": {
     "frag_helper": "fragment_end",
     "frag_number": 11,
     "slide_type": "subslide"
    },
    "slideshow": {
     "slide_type": "slide"
    }
   },
   "source": [
    "## Animating the evolutionary process"
   ]
  },
  {
   "cell_type": "markdown",
   "metadata": {
    "internals": {
     "frag_helper": "fragment_end",
     "frag_number": 11
    },
    "slideshow": {
     "slide_type": "-"
    }
   },
   "source": [
    "We create a `stats` to store the individuals not only their objective function values."
   ]
  },
  {
   "cell_type": "code",
   "execution_count": 14,
   "metadata": {
    "collapsed": true,
    "internals": {
     "frag_helper": "fragment_end",
     "frag_number": 11
    },
    "slideshow": {
     "slide_type": "-"
    }
   },
   "outputs": [],
   "source": [
    "stats = tools.Statistics()\n",
    "stats.register(\"pop\", copy.deepcopy)"
   ]
  },
  {
   "cell_type": "code",
   "execution_count": 15,
   "metadata": {
    "collapsed": true,
    "internals": {
     "frag_helper": "fragment_end",
     "frag_number": 11
    },
    "slideshow": {
     "slide_type": "-"
    }
   },
   "outputs": [],
   "source": [
    "toolbox.max_gen = 1000 # we need more generations!"
   ]
  },
  {
   "cell_type": "markdown",
   "metadata": {
    "internals": {
     "frag_helper": "fragment_end",
     "frag_number": 11
    },
    "slideshow": {
     "slide_type": "-"
    }
   },
   "source": [
    "Re-run the algorithm to get the data necessary for plotting."
   ]
  },
  {
   "cell_type": "code",
   "execution_count": 16,
   "metadata": {
    "internals": {
     "frag_helper": "fragment_end",
     "frag_number": 11,
     "slide_helper": "subslide_end"
    },
    "slide_helper": "subslide_end",
    "slideshow": {
     "slide_type": "-"
    }
   },
   "outputs": [
    {
     "name": "stdout",
     "output_type": "stream",
     "text": [
      "CPU times: user 13.6 s, sys: 72 ms, total: 13.7 s\n",
      "Wall time: 13.6 s\n"
     ]
    }
   ],
   "source": [
    "%time res, logbook = run_ea(toolbox, stats=stats)"
   ]
  },
  {
   "cell_type": "code",
   "execution_count": 17,
   "metadata": {
    "collapsed": true,
    "internals": {
     "frag_helper": "fragment_end",
     "frag_number": 11,
     "slide_type": "subslide"
    },
    "slideshow": {
     "slide_type": "subslide"
    }
   },
   "outputs": [],
   "source": [
    "from matplotlib import animation\n",
    "from IPython.display import HTML"
   ]
  },
  {
   "cell_type": "code",
   "execution_count": 18,
   "metadata": {
    "collapsed": true,
    "internals": {
     "frag_helper": "fragment_end",
     "frag_number": 11,
     "slide_helper": "subslide_end"
    },
    "slide_helper": "slide_end",
    "slideshow": {
     "slide_type": "-"
    }
   },
   "outputs": [],
   "source": [
    "def animate(frame_index, logbook):\n",
    "    'Updates all plots to match frame _i_ of the animation.'\n",
    "    ax.clear()    \n",
    "    fronts = tools.emo.sortLogNondominated(logbook.select('pop')[frame_index], \n",
    "                                           len(logbook.select('pop')[frame_index]))\n",
    "    for i,inds in enumerate(fronts):\n",
    "        par = [toolbox.evaluate(ind) for ind in inds]\n",
    "        df = pd.DataFrame(par)\n",
    "        df.plot(ax=ax, kind='scatter', label='Front ' + str(i+1), \n",
    "                 x=df.columns[0], y=df.columns[1], alpha=0.47,\n",
    "                 color=plot_colors[i % len(plot_colors)])\n",
    "        \n",
    "    ax.set_title('$t=$' + str(frame_index))\n",
    "    ax.set_xlabel('$f_1(\\mathbf{x})$');ax.set_ylabel('$f_2(\\mathbf{x})$')\n",
    "    return []"
   ]
  },
  {
   "cell_type": "code",
   "execution_count": 19,
   "metadata": {
    "collapsed": true,
    "internals": {
     "frag_helper": "fragment_end",
     "frag_number": 11,
     "slide_helper": "subslide_end",
     "slide_type": "subslide"
    },
    "slide_helper": "slide_end",
    "slideshow": {
     "slide_type": "slide"
    }
   },
   "outputs": [],
   "source": [
    "fig = plt.figure(figsize=(4,4))\n",
    "ax = fig.gca()\n",
    "anim = animation.FuncAnimation(fig, lambda i: animate(i, logbook), \n",
    "                               frames=len(logbook), interval=60, \n",
    "                               blit=True)\n",
    "plt.close()"
   ]
  },
  {
   "cell_type": "code",
   "execution_count": 20,
   "metadata": {},
   "outputs": [
    {
     "data": {
      "text/plain": [
       "<IPython.core.display.HTML object>"
      ]
     },
     "execution_count": 20,
     "metadata": {},
     "output_type": "execute_result"
    }
   ],
   "source": [
    "HTML(anim.save('test.mp4'))"
   ]
  },
  {
   "cell_type": "code",
   "execution_count": 21,
   "metadata": {},
   "outputs": [
    {
     "data": {
      "text/plain": [
       "<IPython.core.display.HTML object>"
      ]
     },
     "execution_count": 21,
     "metadata": {},
     "output_type": "execute_result"
    }
   ],
   "source": [
    "HTML(anim.save('image.mp4', fps=20, writer=\"avconv\", codec=\"libx264\"))"
   ]
  },
  {
   "cell_type": "markdown",
   "metadata": {
    "internals": {
     "frag_helper": "fragment_end",
     "frag_number": 11,
     "slide_helper": "subslide_end"
    },
    "slide_helper": "slide_end",
    "slideshow": {
     "slide_type": "-"
    }
   },
   "source": [
    "Here it is clearly visible how the algorithm \"jumps\" from one local-optimum to a better one as evolution takes place."
   ]
  },
  {
   "cell_type": "markdown",
   "metadata": {
    "internals": {
     "frag_helper": "fragment_end",
     "frag_number": 11,
     "slide_helper": "subslide_end",
     "slide_type": "subslide"
    },
    "slide_helper": "slide_end",
    "slideshow": {
     "slide_type": "slide"
    }
   },
   "source": [
    "# MOP benchmark problem toolkits\n",
    "\n",
    "Each problem instance is meant to test the algorithms with regard with a given feature: local optima, convexity, discontinuity, bias, or a combination of them.\n",
    "\n",
    "* [*ZDT1-6*](http://www.tik.ee.ethz.ch/sop/download/supplementary/testproblems/): Two-objective problems with a fixed number of decision variables.\n",
    "     * E. Zitzler, K. Deb, and L. Thiele. Comparison of Multiobjective Evolutionary Algorithms: Empirical Results. Evolutionary Computation, 8(2):173-195, 2000. ([pdf](http://www.tik.ee.ethz.ch/sop/publicationListFiles/zdt2000a.pdf))\n",
    "* [*DTLZ1-7*](http://www.tik.ee.ethz.ch/sop/download/supplementary/testproblems/): $m$-objective problems with $n$ variables.\n",
    "     * K. Deb, L. Thiele, M. Laumanns and E. Zitzler. Scalable Multi-Objective Optimization Test Problems. CEC 2002, p. 825 - 830, IEEE Press, 2002. ([pdf](http://www.tik.ee.ethz.ch/sop/publicationListFiles/dtlz2002a.pdf))"
   ]
  },
  {
   "cell_type": "markdown",
   "metadata": {
    "internals": {
     "frag_helper": "fragment_end",
     "frag_number": 11,
     "slide_helper": "subslide_end",
     "slide_type": "subslide"
    },
    "slide_helper": "slide_end",
    "slideshow": {
     "slide_type": "slide"
    }
   },
   "source": [
    "* [*CEC'09*](http://dces.essex.ac.uk/staff/zhang/moeacompetition09.htm): Two- and three- objective problems that very complex Pareto sets.\n",
    "    * Zhang, Q., Zhou, A., Zhao, S., & Suganthan, P. N. (2009). Multiobjective optimization test instances for the CEC 2009 special session and competition. In 2009 IEEE Congress on Evolutionary Computation (pp. 1–30). ([pdf](http://dces.essex.ac.uk/staff/zhang/MOEAcompetition/cec09testproblem0904.pdf.pdf))\n",
    "* [*WFG1-9*](http://www.wfg.csse.uwa.edu.au/publications.html#toolkit): $m$-objective problems with $n$ variables, very complex.\n",
    "    * Huband, S., Hingston, P., Barone, L., & While, L. (2006). A review of multiobjective test problems and a scalable test problem toolkit. IEEE Transactions on Evolutionary Computation, 10(5), 477–506. doi:10.1109/TEVC.2005.861417"
   ]
  },
  {
   "cell_type": "markdown",
   "metadata": {
    "internals": {
     "frag_helper": "fragment_end",
     "frag_number": 11,
     "slide_type": "subslide"
    },
    "slideshow": {
     "slide_type": "slide"
    }
   },
   "source": [
    "How does our NSGA-II behaves when faced with different benchmark problems?"
   ]
  },
  {
   "cell_type": "code",
   "execution_count": 22,
   "metadata": {
    "collapsed": true,
    "internals": {
     "frag_helper": "fragment_end",
     "frag_number": 11,
     "slide_helper": "subslide_end"
    },
    "slide_helper": "slide_end",
    "slideshow": {
     "slide_type": "-"
    }
   },
   "outputs": [],
   "source": [
    "problem_instances = {'ZDT1': benchmarks.zdt1, 'ZDT2': benchmarks.zdt2,\n",
    "                     'ZDT3': benchmarks.zdt3, 'ZDT4': benchmarks.zdt4,\n",
    "                     'DTLZ1': lambda ind: benchmarks.dtlz1(ind,2),\n",
    "                     'DTLZ2': lambda ind: benchmarks.dtlz2(ind,2),\n",
    "                     'DTLZ3': lambda ind: benchmarks.dtlz3(ind,2),\n",
    "                     'DTLZ4': lambda ind: benchmarks.dtlz4(ind,2, 100),\n",
    "                     'DTLZ5': lambda ind: benchmarks.dtlz5(ind,2),\n",
    "                     'DTLZ5': lambda ind: benchmarks.dtlz5(ind,2),\n",
    "                     'DTLZ6': lambda ind: benchmarks.dtlz6(ind,2)}\n",
    "#                     'DTLZ7': lambda ind: benchmarks.dtlz7(ind,2)}"
   ]
  },
  {
   "cell_type": "code",
   "execution_count": 23,
   "metadata": {
    "collapsed": true,
    "internals": {
     "frag_helper": "fragment_end",
     "frag_number": 11,
     "slide_type": "subslide"
    },
    "slideshow": {
     "slide_type": "slide"
    }
   },
   "outputs": [],
   "source": [
    "toolbox.max_gen = 1000\n",
    "\n",
    "stats = tools.Statistics(lambda ind: ind.fitness.values)\n",
    "stats.register(\"obj_vals\", np.copy)\n",
    "\n",
    "def run_problem(toolbox, problem):\n",
    "    toolbox.register('evaluate', problem)\n",
    "    return run_ea(toolbox, stats=stats)"
   ]
  },
  {
   "cell_type": "markdown",
   "metadata": {
    "internals": {
     "frag_helper": "fragment_end",
     "frag_number": 11
    },
    "slideshow": {
     "slide_type": "-"
    }
   },
   "source": [
    "Running NSGA-II solving all problems. Now it takes longer."
   ]
  },
  {
   "cell_type": "code",
   "execution_count": 24,
   "metadata": {
    "internals": {
     "frag_helper": "fragment_end",
     "frag_number": 91,
     "slide_helper": "subslide_end"
    },
    "slide_helper": "slide_end",
    "slideshow": {
     "slide_type": "fragment"
    }
   },
   "outputs": [
    {
     "name": "stdout",
     "output_type": "stream",
     "text": [
      "CPU times: user 2min 30s, sys: 744 ms, total: 2min 31s\n",
      "Wall time: 2min 30s\n"
     ]
    }
   ],
   "source": [
    "%time results = {problem: run_problem(toolbox, problem_instances[problem]) for problem in problem_instances}"
   ]
  },
  {
   "cell_type": "markdown",
   "metadata": {
    "internals": {
     "frag_helper": "fragment_end",
     "frag_number": 91,
     "slide_type": "subslide"
    },
    "slideshow": {
     "slide_type": "slide"
    }
   },
   "source": [
    "Creating this animation takes more programming effort."
   ]
  },
  {
   "cell_type": "code",
   "execution_count": 25,
   "metadata": {
    "collapsed": true,
    "internals": {
     "frag_helper": "fragment_end",
     "frag_number": 91,
     "slide_helper": "subslide_end"
    },
    "slide_helper": "slide_end",
    "slideshow": {
     "slide_type": "-"
    }
   },
   "outputs": [],
   "source": [
    "class MultiProblemAnimation:\n",
    "    def init(self, fig, results):\n",
    "        self.results = results\n",
    "        self.axs = [fig.add_subplot(3,4,i+1) for i in range(len(results))]\n",
    "        self.plots =[]\n",
    "        for i, problem in enumerate(sorted(results)):\n",
    "            (res, logbook) = self.results[problem]\n",
    "            pop = pd.DataFrame(data=logbook.select('obj_vals')[0])\n",
    "            plot = self.axs[i].plot(pop[0], pop[1], 'b.', alpha=0.47)[0]\n",
    "            self.plots.append(plot)\n",
    "        fig.tight_layout()\n",
    "            \n",
    "    def animate(self, t):\n",
    "        'Updates all plots to match frame _i_ of the animation.'\n",
    "        for i, problem in enumerate(sorted(results)):\n",
    "            #self.axs[i].clear()\n",
    "            (res, logbook) = self.results[problem]\n",
    "            pop = pd.DataFrame(data=logbook.select('obj_vals')[t])\n",
    "            self.plots[i].set_data(pop[0], pop[1])\n",
    "            self.axs[i].set_title(problem + '; $t=' + str(t)+'$') \n",
    "            self.axs[i].set_xlim((0, max(1,pop.max()[0])))\n",
    "            self.axs[i].set_ylim((0, max(1,pop.max()[1])))\n",
    "        return self.axs"
   ]
  },
  {
   "cell_type": "code",
   "execution_count": 26,
   "metadata": {
    "collapsed": true,
    "internals": {
     "frag_helper": "fragment_end",
     "frag_number": 91,
     "slide_type": "subslide"
    },
    "slideshow": {
     "slide_type": "slide"
    }
   },
   "outputs": [],
   "source": [
    "mpa = MultiProblemAnimation()"
   ]
  },
  {
   "cell_type": "code",
   "execution_count": 27,
   "metadata": {
    "collapsed": true,
    "internals": {
     "frag_helper": "fragment_end",
     "frag_number": 91,
     "slide_helper": "subslide_end"
    },
    "slide_helper": "slide_end",
    "slideshow": {
     "slide_type": "-"
    }
   },
   "outputs": [],
   "source": [
    "fig = plt.figure(figsize=(14,6))\n",
    "anim = animation.FuncAnimation(fig, mpa.animate, init_func=mpa.init(fig,results), \n",
    "                               frames=toolbox.max_gen, interval=60, blit=True)\n",
    "plt.close()"
   ]
  },
  {
   "cell_type": "code",
   "execution_count": 28,
   "metadata": {},
   "outputs": [
    {
     "data": {
      "text/plain": [
       "<IPython.core.display.HTML object>"
      ]
     },
     "execution_count": 28,
     "metadata": {},
     "output_type": "execute_result"
    }
   ],
   "source": [
    "HTML(anim.save('image.mp4', fps=20, writer=\"avconv\", codec=\"libx264\"))"
   ]
  },
  {
   "cell_type": "markdown",
   "metadata": {
    "internals": {
     "frag_helper": "fragment_end",
     "frag_number": 91,
     "slide_helper": "subslide_end"
    },
    "slide_helper": "slide_end",
    "slideshow": {
     "slide_type": "-"
    }
   },
   "source": [
    "* It is interesting how the algorithm deals with each problem: clearly some problems are harder than others.\n",
    "* In some cases it \"hits\" the Pareto front and then slowly explores it.\n",
    "\n",
    "**Read more about this in the class materials.**"
   ]
  },
  {
   "cell_type": "markdown",
   "metadata": {
    "internals": {
     "frag_helper": "fragment_end",
     "frag_number": 91,
     "slide_helper": "subslide_end",
     "slide_type": "subslide"
    },
    "slide_helper": "slide_end",
    "slideshow": {
     "slide_type": "slide"
    }
   },
   "source": [
    "# Experiment design and reporting results\n",
    "\n",
    "* Watching an animation of an EMO algorithm solve a problem is certainly fun. \n",
    "* It also allows us to understand many particularities of the problem being solved.\n",
    "* But, as [Carlos Coello](http://delta.cs.cinvestav.mx/~ccoello/) would say, we are *not* in an art appreciation class.\n",
    "* We should follow the key concepts provided by the [scientific method](http://en.wikipedia.org/wiki/Scientific_method).\n",
    "* I urge you to study the [experimental design](http://en.wikipedia.org/wiki/Design_of_experiments) topic in depth as it is an essential knowledge.\n",
    "\n",
    "**Evolutionary algorithms are stochastic algorithms, therefore their results must be assessed by repeating experiments until you reach an statistically valid conclusion.** "
   ]
  },
  {
   "cell_type": "markdown",
   "metadata": {
    "internals": {
     "frag_helper": "fragment_end",
     "frag_number": 91,
     "slide_helper": "subslide_end",
     "slide_type": "subslide"
    },
    "slide_helper": "slide_end",
    "slideshow": {
     "slide_type": "slide"
    }
   },
   "source": [
    "## An illustrative simple/sample experiment\n",
    "\n",
    "Let's make a relatively simple but very important experiment:\n",
    "\n",
    "* **Question**: In our NSGA-II applied to a two-objective DTLZ3 problem: Is it more important to have a big population and let the algorithm run for a few iterations or is better to have a small population and let the algorithm run for larger number of iterations.\n",
    "* **Procedure**: We must perform an experiment testing different population sizes and maximum number of iterations while keeping the other parameters constant."
   ]
  },
  {
   "cell_type": "markdown",
   "metadata": {
    "internals": {
     "frag_helper": "fragment_end",
     "frag_number": 91,
     "slide_helper": "subslide_end",
     "slide_type": "subslide"
    },
    "slide_helper": "slide_end",
    "slideshow": {
     "slide_type": "slide"
    }
   },
   "source": [
    "### Notation\n",
    "\n",
    "As usual we need to establish some notation:\n",
    "\n",
    "* *Multi-objective problem* (or just *problem*): A multi-objective optimization problem, as defined above.\n",
    "* *MOEA*: An evolutionary computation method used to solve multi-objective problems.\n",
    "* *Experiment*: a combination of problem and MOEA and a set of values of their parameters.\n",
    "* *Experiment run*: The result of running an experiment.\n",
    "* We will use `toolbox` instances to define experiments. "
   ]
  },
  {
   "cell_type": "markdown",
   "metadata": {
    "internals": {
     "frag_helper": "fragment_end",
     "frag_number": 91,
     "slide_type": "subslide"
    },
    "slideshow": {
     "slide_type": "slide"
    }
   },
   "source": [
    "We start by creating a `toolbox` that will contain the configuration that will be shared across all experiments."
   ]
  },
  {
   "cell_type": "code",
   "execution_count": 29,
   "metadata": {
    "collapsed": true,
    "internals": {
     "frag_helper": "fragment_end",
     "frag_number": 91
    },
    "slideshow": {
     "slide_type": "-"
    }
   },
   "outputs": [],
   "source": [
    "toolbox = base.Toolbox()"
   ]
  },
  {
   "cell_type": "code",
   "execution_count": 30,
   "metadata": {
    "collapsed": true,
    "internals": {
     "frag_helper": "fragment_end",
     "frag_number": 91,
     "slide_helper": "subslide_end"
    },
    "slide_helper": "slide_end",
    "slideshow": {
     "slide_type": "-"
    }
   },
   "outputs": [],
   "source": [
    "BOUND_LOW, BOUND_UP = 0.0, 1.0\n",
    "NDIM = 30\n",
    "# the explanation of this... a few lines bellow\n",
    "def eval_helper(ind):\n",
    "    return benchmarks.dtlz3(ind, 2)\n",
    "\n",
    "toolbox.register(\"evaluate\", eval_helper)"
   ]
  },
  {
   "cell_type": "code",
   "execution_count": 31,
   "metadata": {
    "collapsed": true,
    "internals": {
     "frag_helper": "fragment_end",
     "frag_number": 91,
     "slide_helper": "subslide_end",
     "slide_type": "subslide"
    },
    "slide_helper": "slide_end",
    "slideshow": {
     "slide_type": "slide"
    }
   },
   "outputs": [],
   "source": [
    "def uniform(low, up, size=None):\n",
    "    try:\n",
    "        return [random.uniform(a, b) for a, b in zip(low, up)]\n",
    "    except TypeError:\n",
    "        return [random.uniform(a, b) for a, b in zip([low] * size, [up] * size)]\n",
    "\n",
    "toolbox.register(\"attr_float\", uniform, BOUND_LOW, BOUND_UP, NDIM)\n",
    "toolbox.register(\"individual\", tools.initIterate, creator.Individual, toolbox.attr_float)\n",
    "toolbox.register(\"population\", tools.initRepeat, list, toolbox.individual)\n",
    "\n",
    "toolbox.register(\"mate\", tools.cxSimulatedBinaryBounded, low=BOUND_LOW, up=BOUND_UP, eta=20.0)\n",
    "toolbox.register(\"mutate\", tools.mutPolynomialBounded, low=BOUND_LOW, up=BOUND_UP, eta=20.0, indpb=1.0/NDIM)\n",
    "\n",
    "toolbox.register(\"select\", tools.selNSGA2)\n",
    "\n",
    "toolbox.mut_prob = 0.15"
   ]
  },
  {
   "cell_type": "markdown",
   "metadata": {
    "internals": {
     "frag_helper": "fragment_end",
     "frag_number": 91,
     "slide_type": "subslide"
    },
    "slideshow": {
     "slide_type": "slide"
    }
   },
   "source": [
    "We add a `experiment_name` to `toolbox` that we will fill up later on. Here $n\\mathrm{pop}$ denotes the population size and $t_\\mathrm{max}$ the max. number of iterations."
   ]
  },
  {
   "cell_type": "code",
   "execution_count": 32,
   "metadata": {
    "collapsed": true,
    "internals": {
     "frag_helper": "fragment_end",
     "frag_number": 91
    },
    "slideshow": {
     "slide_type": "-"
    }
   },
   "outputs": [],
   "source": [
    "experiment_name = \"$n_\\mathrm{{pop}}={0};\\ t_\\mathrm{{max}}={1}$\""
   ]
  },
  {
   "cell_type": "code",
   "execution_count": 33,
   "metadata": {
    "collapsed": true
   },
   "outputs": [],
   "source": [
    "total_evals = 500"
   ]
  },
  {
   "cell_type": "markdown",
   "metadata": {
    "internals": {
     "frag_helper": "fragment_end",
     "frag_number": 91
    },
    "slideshow": {
     "slide_type": "-"
    }
   },
   "source": [
    "We can now replicate this toolbox instance and then modify the mutation probabilities."
   ]
  },
  {
   "cell_type": "code",
   "execution_count": 34,
   "metadata": {
    "collapsed": true,
    "internals": {
     "frag_helper": "fragment_end",
     "frag_number": 91
    },
    "slideshow": {
     "slide_type": "-"
    }
   },
   "outputs": [],
   "source": [
    "pop_sizes = (10,50,100)"
   ]
  },
  {
   "cell_type": "code",
   "execution_count": 35,
   "metadata": {
    "collapsed": true
   },
   "outputs": [],
   "source": [
    "toolboxes=list([copy.deepcopy(toolbox) for _ in range(len(pop_sizes))])"
   ]
  },
  {
   "cell_type": "markdown",
   "metadata": {
    "internals": {
     "frag_helper": "fragment_end",
     "frag_number": 91,
     "slide_helper": "subslide_end"
    },
    "slide_helper": "slide_end",
    "slideshow": {
     "slide_type": "-"
    }
   },
   "source": [
    "Now `toolboxes` is a list of copies of the same toolbox. One for each experiment configuration (population size)."
   ]
  },
  {
   "cell_type": "markdown",
   "metadata": {
    "internals": {
     "frag_helper": "fragment_end",
     "frag_number": 91,
     "slide_type": "subslide"
    },
    "slideshow": {
     "slide_type": "slide"
    }
   },
   "source": [
    "...but we still have to set the population sizes in the elements of `toolboxes`."
   ]
  },
  {
   "cell_type": "code",
   "execution_count": 36,
   "metadata": {
    "collapsed": true,
    "internals": {
     "frag_helper": "fragment_end",
     "frag_number": 91
    },
    "slideshow": {
     "slide_type": "-"
    }
   },
   "outputs": [],
   "source": [
    "for pop_size, toolbox in zip(pop_sizes, toolboxes):\n",
    "    toolbox.pop_size = pop_size\n",
    "    toolbox.max_gen = total_evals // pop_size\n",
    "    toolbox.experiment_name = experiment_name.format(toolbox.pop_size, toolbox.max_gen)"
   ]
  },
  {
   "cell_type": "code",
   "execution_count": 37,
   "metadata": {
    "internals": {
     "frag_helper": "fragment_end",
     "frag_number": 114,
     "slide_helper": "subslide_end"
    },
    "slide_helper": "slide_end",
    "slideshow": {
     "slide_type": "fragment"
    }
   },
   "outputs": [
    {
     "name": "stdout",
     "output_type": "stream",
     "text": [
      "('$n_\\\\mathrm{pop}=10;\\\\ t_\\\\mathrm{max}=50$', 10, 50)\n",
      "('$n_\\\\mathrm{pop}=50;\\\\ t_\\\\mathrm{max}=10$', 50, 10)\n",
      "('$n_\\\\mathrm{pop}=100;\\\\ t_\\\\mathrm{max}=5$', 100, 5)\n"
     ]
    }
   ],
   "source": [
    "for toolbox in toolboxes:\n",
    "    print(toolbox.experiment_name, toolbox.pop_size, toolbox.max_gen)"
   ]
  },
  {
   "cell_type": "markdown",
   "metadata": {
    "internals": {
     "frag_helper": "fragment_end",
     "frag_number": 114,
     "slide_type": "subslide"
    },
    "slideshow": {
     "slide_type": "slide"
    }
   },
   "source": [
    "## Experiment design\n",
    "\n",
    "As we are dealing with stochastic methods their results should be reported relying on an statistical analysis.\n",
    "\n",
    "* A given  experiment (a `toolbox` instance in our case) should be repeated a *sufficient* amount of times. \n",
    "* In theory, the more runs the better, but how much in enough? In practice, we could say that about *30* runs is enough.\n",
    "* The non-dominated fronts produced by each experiment run should be compared to each other. \n",
    "* We have seen in class that a number of *performance indicators*, like the *hypervolume*, *additive* and *multiplicative epsilon indicators*, among others, have been proposed for that task.\n",
    "* We can use statistical visualizations like [box plots](http://en.wikipedia.org/wiki/Box_plot) or [violin plots](http://en.wikipedia.org/wiki/Violin_plot) to make a visual assessment of the indicator values produced in each run.\n",
    "* We must apply a set of [statistical hypothesis tests](http://en.wikipedia.org/wiki/Statistical_hypothesis_testing) in order to reach an statistically valid judgment of the results of an algorithms. \n",
    "\n",
    "\n",
    "_Note_: I personally like the number [42](http://en.wikipedia.org/wiki/42_%28number%29) as it is the [answer to The Ultimate Question of Life, the Universe, and Everything](http://en.wikipedia.org/wiki/Phrases_from_The_Hitchhiker%27s_Guide_to_the_Galaxy#Answer_to_the_Ultimate_Question_of_Life.2C_the_Universe.2C_and_Everything_.2842.29)."
   ]
  },
  {
   "cell_type": "code",
   "execution_count": 38,
   "metadata": {
    "collapsed": true,
    "internals": {
     "frag_helper": "fragment_end",
     "frag_number": 114,
     "slide_helper": "subslide_end"
    },
    "slide_helper": "slide_end",
    "slideshow": {
     "slide_type": "-"
    }
   },
   "outputs": [],
   "source": [
    "number_of_runs = 42"
   ]
  },
  {
   "cell_type": "markdown",
   "metadata": {
    "internals": {
     "frag_helper": "fragment_end",
     "frag_number": 114,
     "slide_helper": "subslide_end",
     "slide_type": "subslide"
    },
    "slide_helper": "slide_end",
    "slideshow": {
     "slide_type": "slide"
    }
   },
   "source": [
    "### Running experiments in parallel \n",
    "As we are now solving more demanding problems it would be nice to make our algorithms to run in parallel and profit from modern multi-core CPUs.\n",
    "\n",
    "* In DEAP it is very simple to parallelize an algorithm (if it has been properly programmed) by providing a parallel `map()` function via the `toolbox`.\n",
    "* Local parallelization can be achieved using Python's [`multiprocessing`](https://docs.python.org/2/library/multiprocessing.html) or [`concurrent.futures`](https://docs.python.org/3/library/concurrent.futures.html) modules.\n",
    "* Cluster parallelization can be achieved using IPython Parallel or [SCOOP](http://en.wikipedia.org/wiki/Python_SCOOP_%28software%29)."
   ]
  },
  {
   "cell_type": "markdown",
   "metadata": {
    "internals": {
     "frag_helper": "fragment_end",
     "frag_number": 114,
     "slide_type": "subslide"
    },
    "slideshow": {
     "slide_type": "slide"
    }
   },
   "source": [
    "### Progress feedback\n",
    "\n",
    "* Another issue with these long experiments has to do being patient.\n",
    "* A little bit of feedback on the experiment execution would be cool.\n",
    "* We can use the integer progress bar from [IPython widgets](http://nbviewer.ipython.org/github/jvns/ipython/blob/master/examples/Interactive%20Widgets/Index.ipynb) and report every time an experiment run is finished."
   ]
  },
  {
   "cell_type": "code",
   "execution_count": 39,
   "metadata": {
    "collapsed": true,
    "internals": {
     "frag_helper": "fragment_end",
     "frag_number": 114
    },
    "slideshow": {
     "slide_type": "-"
    }
   },
   "outputs": [],
   "source": [
    "from ipywidgets import IntProgress\n",
    "from IPython.display import display"
   ]
  },
  {
   "cell_type": "markdown",
   "metadata": {
    "internals": {
     "frag_helper": "fragment_end",
     "frag_number": 114,
     "slide_type": "subslide"
    },
    "slideshow": {
     "slide_type": "slide"
    }
   },
   "source": [
    "### A side-effect of using process-based parallelization\n",
    "\n",
    "Process-based parallelization based on `multiprocessing` requires that the parameters passed to `map()` be [pickleable](https://docs.python.org/3.4/library/pickle.html).\n",
    "\n",
    "* The direct consequence is that `lambda` functions can not be directly used. \n",
    "* This is will certainly ruin the party to all `lambda` fans out there! *-me included*.\n",
    "* Hence we need to write some wrapper functions instead.\n",
    "* But, that wrapper function can take care of filtering out dominated individuals in the results."
   ]
  },
  {
   "cell_type": "code",
   "execution_count": 40,
   "metadata": {
    "collapsed": true,
    "internals": {
     "frag_helper": "fragment_end",
     "frag_number": 114,
     "slide_helper": "subslide_end"
    },
    "slide_helper": "slide_end",
    "slideshow": {
     "slide_type": "-"
    }
   },
   "outputs": [],
   "source": [
    "def run_algo_wrapper(toolbox):\n",
    "    result, _ = run_ea(toolbox)\n",
    "    local_pareto_set = tools.emo.sortLogNondominated(result, len(result), first_front_only=True)\n",
    "    return local_pareto_set"
   ]
  },
  {
   "cell_type": "markdown",
   "metadata": {
    "internals": {
     "frag_helper": "fragment_end",
     "frag_number": 114,
     "slide_type": "subslide"
    },
    "slideshow": {
     "slide_type": "slide"
    }
   },
   "source": [
    "# All set! Run the experiments..."
   ]
  },
  {
   "cell_type": "code",
   "execution_count": 41,
   "metadata": {},
   "outputs": [
    {
     "name": "stderr",
     "output_type": "stream",
     "text": [
      "Widget Javascript not detected.  It may not be installed or enabled properly.\n"
     ]
    },
    {
     "data": {
      "application/vnd.jupyter.widget-view+json": {
       "model_id": "3fbf7c1c26c3413484caeb16e7be7252"
      }
     },
     "metadata": {},
     "output_type": "display_data"
    },
    {
     "name": "stdout",
     "output_type": "stream",
     "text": [
      "CPU times: user 508 ms, sys: 132 ms, total: 640 ms\n",
      "Wall time: 7.67 s\n"
     ]
    }
   ],
   "source": [
    "%%time\n",
    "import concurrent.futures\n",
    "progress_bar = IntProgress(description=\"000/000\", max=len(toolboxes)*number_of_runs)\n",
    "display(progress_bar)\n",
    "\n",
    "results = {toolbox.experiment_name:[] for toolbox in toolboxes}\n",
    "with concurrent.futures.ProcessPoolExecutor() as executor:\n",
    "    # Submit all the tasks...\n",
    "    futures = {executor.submit(run_algo_wrapper, toolbox): toolbox\n",
    "               for _ in range(number_of_runs)\n",
    "               for toolbox in toolboxes}\n",
    "    \n",
    "    # ...and wait for them to finish.\n",
    "    for future in concurrent.futures.as_completed(futures):\n",
    "        tb = futures[future]\n",
    "        results[tb.experiment_name].append(future.result())\n",
    "        progress_bar.value +=1\n",
    "        progress_bar.description = \"%03d/%03d:\" % (progress_bar.value, progress_bar.max)"
   ]
  },
  {
   "cell_type": "markdown",
   "metadata": {
    "internals": {
     "frag_helper": "fragment_end",
     "frag_number": 114
    },
    "slideshow": {
     "slide_type": "-"
    }
   },
   "source": [
    "This is not a perfect implementation but... works!"
   ]
  },
  {
   "cell_type": "markdown",
   "metadata": {
    "internals": {
     "frag_helper": "fragment_end",
     "frag_number": 114
    },
    "slideshow": {
     "slide_type": "-"
    }
   },
   "source": [
    "As running the experiments sometimes takes a long time it is a good practice to store the results."
   ]
  },
  {
   "cell_type": "code",
   "execution_count": 42,
   "metadata": {
    "collapsed": true,
    "internals": {
     "frag_helper": "fragment_end",
     "frag_number": 114
    },
    "slideshow": {
     "slide_type": "-"
    }
   },
   "outputs": [],
   "source": [
    "import pickle"
   ]
  },
  {
   "cell_type": "code",
   "execution_count": 43,
   "metadata": {
    "collapsed": true,
    "internals": {
     "frag_helper": "fragment_end",
     "frag_number": 114
    },
    "slideshow": {
     "slide_type": "-"
    }
   },
   "outputs": [],
   "source": [
    "pickle.dump(results, open('nsga_ii_dtlz3-results.pickle', 'wb'))"
   ]
  },
  {
   "cell_type": "markdown",
   "metadata": {
    "internals": {
     "frag_helper": "fragment_end",
     "frag_number": 131
    },
    "slideshow": {
     "slide_type": "fragment"
    }
   },
   "source": [
    "In case you need it, this file is included in the github repository.\n",
    "\n",
    "To load the results we would just have to:"
   ]
  },
  {
   "cell_type": "code",
   "execution_count": 44,
   "metadata": {
    "collapsed": true,
    "internals": {
     "frag_helper": "fragment_end",
     "frag_number": 131,
     "slide_helper": "subslide_end"
    },
    "slide_helper": "slide_end",
    "slideshow": {
     "slide_type": "-"
    }
   },
   "outputs": [],
   "source": [
    "# loaded_results = pickle.load(open('nsga_ii_dtlz3-results.pickle', 'rb'))\n",
    "# results = loaded_results #  <-- uncomment if needed"
   ]
  },
  {
   "cell_type": "markdown",
   "metadata": {
    "internals": {
     "frag_helper": "fragment_end",
     "frag_number": 131,
     "slide_type": "subslide"
    },
    "slideshow": {
     "slide_type": "slide"
    }
   },
   "source": [
    "`results` is a dictionary, but a pandas `DataFrame` is a more handy container for the results."
   ]
  },
  {
   "cell_type": "code",
   "execution_count": 45,
   "metadata": {
    "collapsed": true,
    "internals": {
     "frag_helper": "fragment_end",
     "frag_number": 131,
     "slide_helper": "subslide_end"
    },
    "slide_helper": "slide_end",
    "slideshow": {
     "slide_type": "-"
    }
   },
   "outputs": [],
   "source": [
    "res = pd.DataFrame(results)"
   ]
  },
  {
   "cell_type": "markdown",
   "metadata": {
    "internals": {
     "frag_helper": "fragment_end",
     "frag_number": 131,
     "slide_type": "subslide"
    },
    "slideshow": {
     "slide_type": "slide"
    }
   },
   "source": [
    "Headers may come out unsorted. Let's fix that first. "
   ]
  },
  {
   "cell_type": "code",
   "execution_count": 46,
   "metadata": {
    "internals": {
     "frag_helper": "fragment_end",
     "frag_number": 131,
     "slide_helper": "subslide_end"
    },
    "slide_helper": "subslide_end",
    "slideshow": {
     "slide_type": "-"
    }
   },
   "outputs": [
    {
     "data": {
      "text/html": [
       "<div>\n",
       "<table border=\"1\" class=\"dataframe\">\n",
       "  <thead>\n",
       "    <tr style=\"text-align: right;\">\n",
       "      <th></th>\n",
       "      <th>$n_\\mathrm{pop}=100;\\ t_\\mathrm{max}=5$</th>\n",
       "      <th>$n_\\mathrm{pop}=10;\\ t_\\mathrm{max}=50$</th>\n",
       "      <th>$n_\\mathrm{pop}=50;\\ t_\\mathrm{max}=10$</th>\n",
       "    </tr>\n",
       "  </thead>\n",
       "  <tbody>\n",
       "    <tr>\n",
       "      <th>0</th>\n",
       "      <td>[[0.99826573447, 0.492797362702, 0.39555064994...</td>\n",
       "      <td>[[0.999710052603, 0.92791734141, 0.88999567403...</td>\n",
       "      <td>[[0.999740724917, 0.812176131842, 0.4117732506...</td>\n",
       "    </tr>\n",
       "    <tr>\n",
       "      <th>1</th>\n",
       "      <td>[[0.980737016336, 0.546354020187, 0.4040343075...</td>\n",
       "      <td>[[0.999795688956, 0.714715060459, 0.1037288263...</td>\n",
       "      <td>[[0.993956904865, 0.0222408414476, 0.761871141...</td>\n",
       "    </tr>\n",
       "    <tr>\n",
       "      <th>2</th>\n",
       "      <td>[[0.998214159852, 0.768356314419, 0.6796656321...</td>\n",
       "      <td>[[0.999880760032, 0.698948144205, 0.2924470096...</td>\n",
       "      <td>[[0.99907206019, 0.839465064608, 0.00986095883...</td>\n",
       "    </tr>\n",
       "    <tr>\n",
       "      <th>3</th>\n",
       "      <td>[[0.998646912826, 0.147085706537, 0.3225922629...</td>\n",
       "      <td>[[0.759953319475, 0.951093165728, 0.9776209246...</td>\n",
       "      <td>[[0.999834987495, 0.790514068661, 0.4009624484...</td>\n",
       "    </tr>\n",
       "    <tr>\n",
       "      <th>4</th>\n",
       "      <td>[[0.996915052703, 0.527981695614, 0.8014457069...</td>\n",
       "      <td>[[0.953506337789, 0.904231539298, 0.6822233415...</td>\n",
       "      <td>[[0.999669011806, 0.492009649461, 0.2422419063...</td>\n",
       "    </tr>\n",
       "  </tbody>\n",
       "</table>\n",
       "</div>"
      ],
      "text/plain": [
       "             $n_\\mathrm{pop}=100;\\ t_\\mathrm{max}=5$  \\\n",
       "0  [[0.99826573447, 0.492797362702, 0.39555064994...   \n",
       "1  [[0.980737016336, 0.546354020187, 0.4040343075...   \n",
       "2  [[0.998214159852, 0.768356314419, 0.6796656321...   \n",
       "3  [[0.998646912826, 0.147085706537, 0.3225922629...   \n",
       "4  [[0.996915052703, 0.527981695614, 0.8014457069...   \n",
       "\n",
       "             $n_\\mathrm{pop}=10;\\ t_\\mathrm{max}=50$  \\\n",
       "0  [[0.999710052603, 0.92791734141, 0.88999567403...   \n",
       "1  [[0.999795688956, 0.714715060459, 0.1037288263...   \n",
       "2  [[0.999880760032, 0.698948144205, 0.2924470096...   \n",
       "3  [[0.759953319475, 0.951093165728, 0.9776209246...   \n",
       "4  [[0.953506337789, 0.904231539298, 0.6822233415...   \n",
       "\n",
       "             $n_\\mathrm{pop}=50;\\ t_\\mathrm{max}=10$  \n",
       "0  [[0.999740724917, 0.812176131842, 0.4117732506...  \n",
       "1  [[0.993956904865, 0.0222408414476, 0.761871141...  \n",
       "2  [[0.99907206019, 0.839465064608, 0.00986095883...  \n",
       "3  [[0.999834987495, 0.790514068661, 0.4009624484...  \n",
       "4  [[0.999669011806, 0.492009649461, 0.2422419063...  "
      ]
     },
     "execution_count": 46,
     "metadata": {},
     "output_type": "execute_result"
    }
   ],
   "source": [
    "res.head()"
   ]
  },
  {
   "cell_type": "code",
   "execution_count": 47,
   "metadata": {
    "collapsed": true,
    "internals": {
     "frag_helper": "fragment_end",
     "frag_number": 131,
     "slide_type": "subslide"
    },
    "slideshow": {
     "slide_type": "subslide"
    }
   },
   "outputs": [],
   "source": [
    "res = res.reindex_axis([toolbox.experiment_name for toolbox in toolboxes], axis=1)"
   ]
  },
  {
   "cell_type": "code",
   "execution_count": 48,
   "metadata": {
    "internals": {
     "frag_helper": "fragment_end",
     "frag_number": 131,
     "slide_helper": "subslide_end"
    },
    "slide_helper": "slide_end",
    "slideshow": {
     "slide_type": "-"
    }
   },
   "outputs": [
    {
     "data": {
      "text/html": [
       "<div>\n",
       "<table border=\"1\" class=\"dataframe\">\n",
       "  <thead>\n",
       "    <tr style=\"text-align: right;\">\n",
       "      <th></th>\n",
       "      <th>$n_\\mathrm{pop}=10;\\ t_\\mathrm{max}=50$</th>\n",
       "      <th>$n_\\mathrm{pop}=50;\\ t_\\mathrm{max}=10$</th>\n",
       "      <th>$n_\\mathrm{pop}=100;\\ t_\\mathrm{max}=5$</th>\n",
       "    </tr>\n",
       "  </thead>\n",
       "  <tbody>\n",
       "    <tr>\n",
       "      <th>0</th>\n",
       "      <td>[[0.999710052603, 0.92791734141, 0.88999567403...</td>\n",
       "      <td>[[0.999740724917, 0.812176131842, 0.4117732506...</td>\n",
       "      <td>[[0.99826573447, 0.492797362702, 0.39555064994...</td>\n",
       "    </tr>\n",
       "    <tr>\n",
       "      <th>1</th>\n",
       "      <td>[[0.999795688956, 0.714715060459, 0.1037288263...</td>\n",
       "      <td>[[0.993956904865, 0.0222408414476, 0.761871141...</td>\n",
       "      <td>[[0.980737016336, 0.546354020187, 0.4040343075...</td>\n",
       "    </tr>\n",
       "    <tr>\n",
       "      <th>2</th>\n",
       "      <td>[[0.999880760032, 0.698948144205, 0.2924470096...</td>\n",
       "      <td>[[0.99907206019, 0.839465064608, 0.00986095883...</td>\n",
       "      <td>[[0.998214159852, 0.768356314419, 0.6796656321...</td>\n",
       "    </tr>\n",
       "    <tr>\n",
       "      <th>3</th>\n",
       "      <td>[[0.759953319475, 0.951093165728, 0.9776209246...</td>\n",
       "      <td>[[0.999834987495, 0.790514068661, 0.4009624484...</td>\n",
       "      <td>[[0.998646912826, 0.147085706537, 0.3225922629...</td>\n",
       "    </tr>\n",
       "    <tr>\n",
       "      <th>4</th>\n",
       "      <td>[[0.953506337789, 0.904231539298, 0.6822233415...</td>\n",
       "      <td>[[0.999669011806, 0.492009649461, 0.2422419063...</td>\n",
       "      <td>[[0.996915052703, 0.527981695614, 0.8014457069...</td>\n",
       "    </tr>\n",
       "  </tbody>\n",
       "</table>\n",
       "</div>"
      ],
      "text/plain": [
       "             $n_\\mathrm{pop}=10;\\ t_\\mathrm{max}=50$  \\\n",
       "0  [[0.999710052603, 0.92791734141, 0.88999567403...   \n",
       "1  [[0.999795688956, 0.714715060459, 0.1037288263...   \n",
       "2  [[0.999880760032, 0.698948144205, 0.2924470096...   \n",
       "3  [[0.759953319475, 0.951093165728, 0.9776209246...   \n",
       "4  [[0.953506337789, 0.904231539298, 0.6822233415...   \n",
       "\n",
       "             $n_\\mathrm{pop}=50;\\ t_\\mathrm{max}=10$  \\\n",
       "0  [[0.999740724917, 0.812176131842, 0.4117732506...   \n",
       "1  [[0.993956904865, 0.0222408414476, 0.761871141...   \n",
       "2  [[0.99907206019, 0.839465064608, 0.00986095883...   \n",
       "3  [[0.999834987495, 0.790514068661, 0.4009624484...   \n",
       "4  [[0.999669011806, 0.492009649461, 0.2422419063...   \n",
       "\n",
       "             $n_\\mathrm{pop}=100;\\ t_\\mathrm{max}=5$  \n",
       "0  [[0.99826573447, 0.492797362702, 0.39555064994...  \n",
       "1  [[0.980737016336, 0.546354020187, 0.4040343075...  \n",
       "2  [[0.998214159852, 0.768356314419, 0.6796656321...  \n",
       "3  [[0.998646912826, 0.147085706537, 0.3225922629...  \n",
       "4  [[0.996915052703, 0.527981695614, 0.8014457069...  "
      ]
     },
     "execution_count": 48,
     "metadata": {},
     "output_type": "execute_result"
    }
   ],
   "source": [
    "res.head()"
   ]
  },
  {
   "cell_type": "markdown",
   "metadata": {
    "internals": {
     "frag_helper": "fragment_end",
     "frag_number": 131,
     "slide_type": "subslide"
    },
    "slideshow": {
     "slide_type": "slide"
    }
   },
   "source": [
    "## A first glace at the results"
   ]
  },
  {
   "cell_type": "code",
   "execution_count": 49,
   "metadata": {
    "internals": {
     "frag_helper": "fragment_end",
     "frag_number": 131
    },
    "slideshow": {
     "slide_type": "-"
    }
   },
   "outputs": [
    {
     "data": {
      "image/png": "[encoded data removed]",
      "text/plain": [
       "<matplotlib.figure.Figure at 0x7fc4b2706d50>"
      ]
     },
     "metadata": {},
     "output_type": "display_data"
    }
   ],
   "source": [
    "a = res.applymap(lambda pop: [toolbox.evaluate(ind) for ind in pop])\n",
    "plt.figure(figsize=(11,3))\n",
    "for i, col in enumerate(a.columns):\n",
    "    plt.subplot(1, len(a.columns), i+1)\n",
    "    for pop in a[col]:\n",
    "        x = pd.DataFrame(data=pop)\n",
    "        plt.scatter(x[0], x[1], marker='.', alpha=0.5)\n",
    "    plt.title(col)   "
   ]
  },
  {
   "cell_type": "markdown",
   "metadata": {
    "internals": {
     "frag_helper": "fragment_end",
     "frag_number": 131,
     "slide_helper": "subslide_end"
    },
    "slide_helper": "slide_end",
    "slideshow": {
     "slide_type": "-"
    }
   },
   "source": [
    "The local Pareto-optimal fronts are clearly visible!"
   ]
  },
  {
   "cell_type": "markdown",
   "metadata": {
    "internals": {
     "frag_helper": "fragment_end",
     "frag_number": 131,
     "slide_helper": "subslide_end",
     "slide_type": "subslide"
    },
    "slide_helper": "slide_end",
    "slideshow": {
     "slide_type": "slide"
    }
   },
   "source": [
    "## Calculating performance indicators\n",
    "\n",
    "* As already mentioned, we need to evaluate the quality of the solutions produced in every execution of the algorithm. \n",
    "* We will use the hypervolumne indicator for that.\n",
    "* Larger hypervolume values are better.\n",
    "* We already filtered each population a leave only the non-dominated individuals."
   ]
  },
  {
   "cell_type": "markdown",
   "metadata": {
    "internals": {
     "frag_helper": "fragment_end",
     "frag_number": 131,
     "slide_type": "subslide"
    },
    "slideshow": {
     "slide_type": "slide"
    }
   },
   "source": [
    "Calculating the *reference point*: a point that is **“worst”** than any other individual in every objective."
   ]
  },
  {
   "cell_type": "code",
   "execution_count": 50,
   "metadata": {
    "collapsed": true,
    "internals": {
     "frag_helper": "fragment_end",
     "frag_number": 131
    },
    "slideshow": {
     "slide_type": "-"
    }
   },
   "outputs": [],
   "source": [
    "def calculate_reference(results, epsilon=0.1):\n",
    "    alldata = np.concatenate(np.concatenate(results.values))\n",
    "    obj_vals = [toolbox.evaluate(ind) for ind in alldata]\n",
    "    return np.max(obj_vals, axis=0) + epsilon"
   ]
  },
  {
   "cell_type": "code",
   "execution_count": 51,
   "metadata": {
    "collapsed": true,
    "internals": {
     "frag_helper": "fragment_end",
     "frag_number": 145
    },
    "slideshow": {
     "slide_type": "fragment"
    }
   },
   "outputs": [],
   "source": [
    "reference = calculate_reference(res)"
   ]
  },
  {
   "cell_type": "code",
   "execution_count": 52,
   "metadata": {
    "internals": {
     "frag_helper": "fragment_end",
     "frag_number": 145,
     "slide_helper": "subslide_end"
    },
    "slide_helper": "slide_end",
    "slideshow": {
     "slide_type": "-"
    }
   },
   "outputs": [
    {
     "data": {
      "text/plain": [
       "array([ 3661.20293216,  3648.33869071])"
      ]
     },
     "execution_count": 52,
     "metadata": {},
     "output_type": "execute_result"
    }
   ],
   "source": [
    "reference"
   ]
  },
  {
   "cell_type": "markdown",
   "metadata": {
    "internals": {
     "frag_helper": "fragment_end",
     "frag_number": 145,
     "slide_type": "subslide"
    },
    "slideshow": {
     "slide_type": "slide"
    }
   },
   "source": [
    "We can now compute the hypervolume of the Pareto-optimal fronts yielded by each algorithm run."
   ]
  },
  {
   "cell_type": "code",
   "execution_count": 53,
   "metadata": {
    "collapsed": true,
    "internals": {
     "frag_helper": "fragment_end",
     "frag_number": 145
    },
    "slideshow": {
     "slide_type": "-"
    }
   },
   "outputs": [],
   "source": [
    "import deap.benchmarks.tools as bt"
   ]
  },
  {
   "cell_type": "code",
   "execution_count": 54,
   "metadata": {
    "collapsed": true,
    "internals": {
     "frag_helper": "fragment_end",
     "frag_number": 145
    },
    "slideshow": {
     "slide_type": "-"
    }
   },
   "outputs": [],
   "source": [
    "hypervols = res.applymap(lambda pop: bt.hypervolume(pop, reference))"
   ]
  },
  {
   "cell_type": "code",
   "execution_count": 55,
   "metadata": {
    "internals": {
     "frag_helper": "fragment_end",
     "frag_number": 150,
     "slide_helper": "subslide_end"
    },
    "slide_helper": "slide_end",
    "slideshow": {
     "slide_type": "fragment"
    }
   },
   "outputs": [
    {
     "data": {
      "text/html": [
       "<div>\n",
       "<table border=\"1\" class=\"dataframe\">\n",
       "  <thead>\n",
       "    <tr style=\"text-align: right;\">\n",
       "      <th></th>\n",
       "      <th>$n_\\mathrm{pop}=10;\\ t_\\mathrm{max}=50$</th>\n",
       "      <th>$n_\\mathrm{pop}=50;\\ t_\\mathrm{max}=10$</th>\n",
       "      <th>$n_\\mathrm{pop}=100;\\ t_\\mathrm{max}=5$</th>\n",
       "    </tr>\n",
       "  </thead>\n",
       "  <tbody>\n",
       "    <tr>\n",
       "      <th>0</th>\n",
       "      <td>1.267905e+07</td>\n",
       "      <td>1.106287e+07</td>\n",
       "      <td>9.839064e+06</td>\n",
       "    </tr>\n",
       "    <tr>\n",
       "      <th>1</th>\n",
       "      <td>1.267165e+07</td>\n",
       "      <td>1.102112e+07</td>\n",
       "      <td>1.003175e+07</td>\n",
       "    </tr>\n",
       "    <tr>\n",
       "      <th>2</th>\n",
       "      <td>1.297924e+07</td>\n",
       "      <td>1.065608e+07</td>\n",
       "      <td>9.776992e+06</td>\n",
       "    </tr>\n",
       "    <tr>\n",
       "      <th>3</th>\n",
       "      <td>1.042434e+07</td>\n",
       "      <td>1.081198e+07</td>\n",
       "      <td>9.626835e+06</td>\n",
       "    </tr>\n",
       "    <tr>\n",
       "      <th>4</th>\n",
       "      <td>1.154535e+07</td>\n",
       "      <td>1.090378e+07</td>\n",
       "      <td>9.710604e+06</td>\n",
       "    </tr>\n",
       "  </tbody>\n",
       "</table>\n",
       "</div>"
      ],
      "text/plain": [
       "   $n_\\mathrm{pop}=10;\\ t_\\mathrm{max}=50$  \\\n",
       "0                             1.267905e+07   \n",
       "1                             1.267165e+07   \n",
       "2                             1.297924e+07   \n",
       "3                             1.042434e+07   \n",
       "4                             1.154535e+07   \n",
       "\n",
       "   $n_\\mathrm{pop}=50;\\ t_\\mathrm{max}=10$  \\\n",
       "0                             1.106287e+07   \n",
       "1                             1.102112e+07   \n",
       "2                             1.065608e+07   \n",
       "3                             1.081198e+07   \n",
       "4                             1.090378e+07   \n",
       "\n",
       "   $n_\\mathrm{pop}=100;\\ t_\\mathrm{max}=5$  \n",
       "0                             9.839064e+06  \n",
       "1                             1.003175e+07  \n",
       "2                             9.776992e+06  \n",
       "3                             9.626835e+06  \n",
       "4                             9.710604e+06  "
      ]
     },
     "execution_count": 55,
     "metadata": {},
     "output_type": "execute_result"
    }
   ],
   "source": [
    "hypervols.head()"
   ]
  },
  {
   "cell_type": "markdown",
   "metadata": {
    "internals": {
     "frag_helper": "fragment_end",
     "frag_number": 150,
     "slide_type": "subslide"
    },
    "slideshow": {
     "slide_type": "slide"
    }
   },
   "source": [
    "## How can we interpret the indicators?"
   ]
  },
  {
   "cell_type": "markdown",
   "metadata": {
    "internals": {
     "frag_helper": "fragment_end",
     "frag_number": 152
    },
    "slideshow": {
     "slide_type": "fragment"
    }
   },
   "source": [
    "### Option A: Tabular form"
   ]
  },
  {
   "cell_type": "code",
   "execution_count": 56,
   "metadata": {
    "internals": {
     "frag_helper": "fragment_end",
     "frag_number": 152,
     "slide_helper": "subslide_end"
    },
    "slide_helper": "slide_end",
    "slideshow": {
     "slide_type": "-"
    }
   },
   "outputs": [
    {
     "data": {
      "text/html": [
       "<div>\n",
       "<table border=\"1\" class=\"dataframe\">\n",
       "  <thead>\n",
       "    <tr style=\"text-align: right;\">\n",
       "      <th></th>\n",
       "      <th>$n_\\mathrm{pop}=10;\\ t_\\mathrm{max}=50$</th>\n",
       "      <th>$n_\\mathrm{pop}=50;\\ t_\\mathrm{max}=10$</th>\n",
       "      <th>$n_\\mathrm{pop}=100;\\ t_\\mathrm{max}=5$</th>\n",
       "    </tr>\n",
       "  </thead>\n",
       "  <tbody>\n",
       "    <tr>\n",
       "      <th>count</th>\n",
       "      <td>4.200000e+01</td>\n",
       "      <td>4.200000e+01</td>\n",
       "      <td>4.200000e+01</td>\n",
       "    </tr>\n",
       "    <tr>\n",
       "      <th>mean</th>\n",
       "      <td>1.227793e+07</td>\n",
       "      <td>1.096925e+07</td>\n",
       "      <td>1.002657e+07</td>\n",
       "    </tr>\n",
       "    <tr>\n",
       "      <th>std</th>\n",
       "      <td>5.993860e+05</td>\n",
       "      <td>2.940984e+05</td>\n",
       "      <td>3.129868e+05</td>\n",
       "    </tr>\n",
       "    <tr>\n",
       "      <th>min</th>\n",
       "      <td>1.042434e+07</td>\n",
       "      <td>1.047237e+07</td>\n",
       "      <td>9.418216e+06</td>\n",
       "    </tr>\n",
       "    <tr>\n",
       "      <th>25%</th>\n",
       "      <td>1.203888e+07</td>\n",
       "      <td>1.074823e+07</td>\n",
       "      <td>9.784873e+06</td>\n",
       "    </tr>\n",
       "    <tr>\n",
       "      <th>50%</th>\n",
       "      <td>1.243740e+07</td>\n",
       "      <td>1.092904e+07</td>\n",
       "      <td>1.001738e+07</td>\n",
       "    </tr>\n",
       "    <tr>\n",
       "      <th>75%</th>\n",
       "      <td>1.272919e+07</td>\n",
       "      <td>1.109175e+07</td>\n",
       "      <td>1.024326e+07</td>\n",
       "    </tr>\n",
       "    <tr>\n",
       "      <th>max</th>\n",
       "      <td>1.297924e+07</td>\n",
       "      <td>1.163752e+07</td>\n",
       "      <td>1.063757e+07</td>\n",
       "    </tr>\n",
       "  </tbody>\n",
       "</table>\n",
       "</div>"
      ],
      "text/plain": [
       "       $n_\\mathrm{pop}=10;\\ t_\\mathrm{max}=50$  \\\n",
       "count                             4.200000e+01   \n",
       "mean                              1.227793e+07   \n",
       "std                               5.993860e+05   \n",
       "min                               1.042434e+07   \n",
       "25%                               1.203888e+07   \n",
       "50%                               1.243740e+07   \n",
       "75%                               1.272919e+07   \n",
       "max                               1.297924e+07   \n",
       "\n",
       "       $n_\\mathrm{pop}=50;\\ t_\\mathrm{max}=10$  \\\n",
       "count                             4.200000e+01   \n",
       "mean                              1.096925e+07   \n",
       "std                               2.940984e+05   \n",
       "min                               1.047237e+07   \n",
       "25%                               1.074823e+07   \n",
       "50%                               1.092904e+07   \n",
       "75%                               1.109175e+07   \n",
       "max                               1.163752e+07   \n",
       "\n",
       "       $n_\\mathrm{pop}=100;\\ t_\\mathrm{max}=5$  \n",
       "count                             4.200000e+01  \n",
       "mean                              1.002657e+07  \n",
       "std                               3.129868e+05  \n",
       "min                               9.418216e+06  \n",
       "25%                               9.784873e+06  \n",
       "50%                               1.001738e+07  \n",
       "75%                               1.024326e+07  \n",
       "max                               1.063757e+07  "
      ]
     },
     "execution_count": 56,
     "metadata": {},
     "output_type": "execute_result"
    }
   ],
   "source": [
    "hypervols.describe()"
   ]
  },
  {
   "cell_type": "markdown",
   "metadata": {
    "internals": {
     "frag_helper": "fragment_end",
     "frag_number": 152,
     "slide_type": "subslide"
    },
    "slideshow": {
     "slide_type": "slide"
    }
   },
   "source": [
    "### Option B: Visualization"
   ]
  },
  {
   "cell_type": "code",
   "execution_count": 57,
   "metadata": {
    "internals": {
     "frag_helper": "fragment_end",
     "frag_number": 152,
     "slide_helper": "subslide_end"
    },
    "slide_helper": "slide_end",
    "slideshow": {
     "slide_type": "-"
    }
   },
   "outputs": [
    {
     "data": {
      "image/png": "[encoded data removed]",
      "text/plain": [
       "<matplotlib.figure.Figure at 0x7fc4d8be73d0>"
      ]
     },
     "metadata": {},
     "output_type": "display_data"
    }
   ],
   "source": [
    "fig = plt.figure(figsize=(11,4))\n",
    "plt.subplot(121, title='Violin plots of NSGA-II with $P_{\\mathrm{mut}}$')\n",
    "seaborn.violinplot(data=hypervols, palette='Set2')\n",
    "plt.ylabel('Hypervolume'); plt.xlabel('Configuration')\n",
    "plt.subplot(122, title='Box plots of NSGA-II with $P_{\\mathrm{mut}}$')\n",
    "seaborn.boxplot(data=hypervols, palette='Set2')\n",
    "plt.ylabel('Hypervolume'); plt.xlabel('Configuration');\n",
    "plt.tight_layout()"
   ]
  },
  {
   "cell_type": "markdown",
   "metadata": {
    "internals": {
     "frag_helper": "fragment_end",
     "frag_number": 152,
     "slide_type": "subslide"
    },
    "slideshow": {
     "slide_type": "slide"
    }
   },
   "source": [
    "## Option C: Statistical hypothesis test"
   ]
  },
  {
   "cell_type": "markdown",
   "metadata": {
    "internals": {
     "frag_helper": "fragment_end",
     "frag_number": 152,
     "slide_helper": "subslide_end"
    },
    "slide_helper": "slide_end",
    "slideshow": {
     "slide_type": "-"
    }
   },
   "source": [
    "* Choosing the correct statistical test is essential to properly report the results.\n",
    "* [Nonparametric statistics](http://en.wikipedia.org/wiki/Nonparametric_statistics) can lend a helping hand.\n",
    "* [Parametric statistics](http://en.wikipedia.org/wiki/Parametric_statistics) could be a better choice in some cases. \n",
    "* Parametric statistics require that *all* data follow a known distribution (frequently a normal one).\n",
    "* Some tests -like the [normality test](http://en.wikipedia.org/wiki/Normality_test)- can be apply to verify that data meet the parametric stats requirements.\n",
    "* In my experience that is very unlikely that all your EMO result meet those characteristics."
   ]
  },
  {
   "cell_type": "markdown",
   "metadata": {
    "internals": {
     "frag_helper": "fragment_end",
     "frag_number": 152,
     "slide_type": "subslide"
    },
    "slideshow": {
     "slide_type": "slide"
    }
   },
   "source": [
    "We start by writing a function that helps us tabulate the results of the application of an statistical hypothesis test."
   ]
  },
  {
   "cell_type": "code",
   "execution_count": 58,
   "metadata": {
    "collapsed": true,
    "internals": {
     "frag_helper": "fragment_end",
     "frag_number": 152
    },
    "slideshow": {
     "slide_type": "-"
    }
   },
   "outputs": [],
   "source": [
    "import itertools\n",
    "import scipy.stats as stats"
   ]
  },
  {
   "cell_type": "code",
   "execution_count": 59,
   "metadata": {
    "collapsed": true,
    "internals": {
     "frag_helper": "fragment_end",
     "frag_number": 152,
     "slide_helper": "subslide_end"
    },
    "slide_helper": "slide_end",
    "slideshow": {
     "slide_type": "-"
    }
   },
   "outputs": [],
   "source": [
    "def compute_stat_matrix(data, stat_func, alpha=0.05):\n",
    "    '''A function that applies `stat_func` to all combinations of columns in `data`.\n",
    "    Returns a squared matrix with the p-values'''\n",
    "    p_values = pd.DataFrame(columns=data.columns, index=data.columns)\n",
    "    for a,b in itertools.combinations(data.columns,2):\n",
    "        s,p = stat_func(data[a], data[b]) \n",
    "        p_values[a].ix[b] = p\n",
    "        p_values[b].ix[a] = p\n",
    "    return p_values"
   ]
  },
  {
   "cell_type": "markdown",
   "metadata": {
    "internals": {
     "frag_helper": "fragment_end",
     "frag_number": 152,
     "slide_type": "subslide"
    },
    "slideshow": {
     "slide_type": "slide"
    }
   },
   "source": [
    "The [Kruskal-Wallis H-test](http://docs.scipy.org/doc/scipy-0.14.0/reference/generated/scipy.stats.kruskal.html) tests the null hypothesis that the population median of all of the groups are equal.\n",
    "\n",
    "* It is a non-parametric version of [ANOVA](http://en.wikipedia.org/wiki/Analysis_of_variance). \n",
    "* The test works on 2 or more independent samples, which may have different sizes. \n",
    "* Note that rejecting the null hypothesis does not indicate which of the groups differs. \n",
    "* Post-hoc comparisons between groups are required to determine which groups are different."
   ]
  },
  {
   "cell_type": "code",
   "execution_count": 60,
   "metadata": {
    "internals": {
     "frag_helper": "fragment_end",
     "frag_number": 163
    },
    "slideshow": {
     "slide_type": "fragment"
    }
   },
   "outputs": [
    {
     "data": {
      "text/plain": [
       "KruskalResult(statistic=103.97025371828516, pvalue=2.6493922649620038e-23)"
      ]
     },
     "execution_count": 60,
     "metadata": {},
     "output_type": "execute_result"
    }
   ],
   "source": [
    "stats.kruskal(*[hypervols[col] for col in hypervols.columns])"
   ]
  },
  {
   "cell_type": "markdown",
   "metadata": {
    "internals": {
     "frag_helper": "fragment_end",
     "frag_number": 163,
     "slide_helper": "subslide_end"
    },
    "slide_helper": "slide_end",
    "slideshow": {
     "slide_type": "-"
    }
   },
   "source": [
    "We now can assert that the results are not the same but which ones are different or similar to the others the others?"
   ]
  },
  {
   "cell_type": "markdown",
   "metadata": {
    "internals": {
     "frag_helper": "fragment_end",
     "frag_number": 163,
     "slide_helper": "subslide_end",
     "slide_type": "subslide"
    },
    "slide_helper": "slide_end",
    "slideshow": {
     "slide_type": "slide"
    }
   },
   "source": [
    "In case that the null hypothesis of the Kruskal-Wallis is rejected the Conover–Inman procedure (Conover, 1999, pp. 288-290) can be applied in a pairwise manner in order to determine if the results of one algorithm were significantly better than those of the other.\n",
    "\n",
    "* Conover, W. J. (1999). *Practical Nonparametric Statistics*. John Wiley & Sons, New York, 3rd edition.\n",
    "\n",
    "_Note_: If you want to get an extended summary of this method check out my [PhD thesis](http://lmarti.com/pubs). "
   ]
  },
  {
   "cell_type": "code",
   "execution_count": 61,
   "metadata": {
    "collapsed": true,
    "internals": {
     "frag_helper": "fragment_end",
     "frag_number": 163,
     "slide_helper": "subslide_end",
     "slide_type": "subslide"
    },
    "slide_helper": "slide_end",
    "slideshow": {
     "slide_type": "slide"
    }
   },
   "outputs": [],
   "source": [
    "def conover_inman_procedure(data, alpha=0.05):\n",
    "    num_runs = len(data)\n",
    "    num_algos = len(data.columns)\n",
    "    N = num_runs*num_algos\n",
    "\n",
    "    _,p_value = stats.kruskal(*[data[col] for col in data.columns])\n",
    "    \n",
    "    ranked =  stats.rankdata(np.concatenate([data[col] for col in data.columns]))\n",
    "    \n",
    "    ranksums = []\n",
    "    for i in range(num_algos):\n",
    "        ranksums.append(np.sum(ranked[num_runs*i:num_runs*(i+1)]))\n",
    "\n",
    "    S_sq = (np.sum(ranked**2) - N*((N+1)**2)/4)/(N-1)\n",
    "\n",
    "    right_side = stats.t.cdf(1-(alpha/2), N-num_algos) * \\\n",
    "                 math.sqrt((S_sq*((N-1-p_value)/(N-1)))*2/num_runs)\n",
    "    \n",
    "    res = pd.DataFrame(columns=data.columns, index=data.columns)\n",
    "\n",
    "    for i,j in itertools.combinations(np.arange(num_algos),2):\n",
    "        res[res.columns[i]].ix[j] = abs(ranksums[i] - ranksums[j]/num_runs) > right_side\n",
    "        res[res.columns[j]].ix[i] = abs(ranksums[i] - ranksums[j]/num_runs) > right_side\n",
    "    return res"
   ]
  },
  {
   "cell_type": "code",
   "execution_count": 62,
   "metadata": {
    "internals": {
     "frag_helper": "fragment_end",
     "frag_number": 163,
     "slide_type": "subslide"
    },
    "slideshow": {
     "slide_type": "slide"
    }
   },
   "outputs": [
    {
     "data": {
      "text/html": [
       "<div>\n",
       "<table border=\"1\" class=\"dataframe\">\n",
       "  <thead>\n",
       "    <tr style=\"text-align: right;\">\n",
       "      <th></th>\n",
       "      <th>$n_\\mathrm{pop}=10;\\ t_\\mathrm{max}=50$</th>\n",
       "      <th>$n_\\mathrm{pop}=50;\\ t_\\mathrm{max}=10$</th>\n",
       "      <th>$n_\\mathrm{pop}=100;\\ t_\\mathrm{max}=5$</th>\n",
       "    </tr>\n",
       "  </thead>\n",
       "  <tbody>\n",
       "    <tr>\n",
       "      <th>$n_\\mathrm{pop}=10;\\ t_\\mathrm{max}=50$</th>\n",
       "      <td>NaN</td>\n",
       "      <td>True</td>\n",
       "      <td>True</td>\n",
       "    </tr>\n",
       "    <tr>\n",
       "      <th>$n_\\mathrm{pop}=50;\\ t_\\mathrm{max}=10$</th>\n",
       "      <td>True</td>\n",
       "      <td>NaN</td>\n",
       "      <td>True</td>\n",
       "    </tr>\n",
       "    <tr>\n",
       "      <th>$n_\\mathrm{pop}=100;\\ t_\\mathrm{max}=5$</th>\n",
       "      <td>True</td>\n",
       "      <td>True</td>\n",
       "      <td>NaN</td>\n",
       "    </tr>\n",
       "  </tbody>\n",
       "</table>\n",
       "</div>"
      ],
      "text/plain": [
       "                                        $n_\\mathrm{pop}=10;\\ t_\\mathrm{max}=50$  \\\n",
       "$n_\\mathrm{pop}=10;\\ t_\\mathrm{max}=50$                                     NaN   \n",
       "$n_\\mathrm{pop}=50;\\ t_\\mathrm{max}=10$                                    True   \n",
       "$n_\\mathrm{pop}=100;\\ t_\\mathrm{max}=5$                                    True   \n",
       "\n",
       "                                        $n_\\mathrm{pop}=50;\\ t_\\mathrm{max}=10$  \\\n",
       "$n_\\mathrm{pop}=10;\\ t_\\mathrm{max}=50$                                    True   \n",
       "$n_\\mathrm{pop}=50;\\ t_\\mathrm{max}=10$                                     NaN   \n",
       "$n_\\mathrm{pop}=100;\\ t_\\mathrm{max}=5$                                    True   \n",
       "\n",
       "                                        $n_\\mathrm{pop}=100;\\ t_\\mathrm{max}=5$  \n",
       "$n_\\mathrm{pop}=10;\\ t_\\mathrm{max}=50$                                    True  \n",
       "$n_\\mathrm{pop}=50;\\ t_\\mathrm{max}=10$                                    True  \n",
       "$n_\\mathrm{pop}=100;\\ t_\\mathrm{max}=5$                                     NaN  "
      ]
     },
     "execution_count": 62,
     "metadata": {},
     "output_type": "execute_result"
    }
   ],
   "source": [
    "conover_inman_procedure(hypervols)"
   ]
  },
  {
   "cell_type": "markdown",
   "metadata": {
    "internals": {
     "frag_helper": "fragment_end",
     "frag_number": 163,
     "slide_helper": "subslide_end"
    },
    "slide_helper": "slide_end",
    "slideshow": {
     "slide_type": "-"
    }
   },
   "source": [
    "We now know in what cases the difference is sufficient as to say that one result is better than the other."
   ]
  },
  {
   "cell_type": "markdown",
   "metadata": {
    "internals": {
     "frag_helper": "fragment_end",
     "frag_number": 163,
     "slide_type": "subslide"
    },
    "slideshow": {
     "slide_type": "slide"
    }
   },
   "source": [
    "Another alternative is the [Friedman test](http://en.wikipedia.org/wiki/Friedman_test).\n",
    "\n",
    "* Its null hypothesis that repeated measurements of the same individuals have the same distribution. \n",
    "* It is often used to test for consistency among measurements obtained in different ways. \n",
    "    * For example, if two measurement techniques are used on the same set of individuals, the Friedman test can be used to determine if the two measurement techniques are consistent."
   ]
  },
  {
   "cell_type": "code",
   "execution_count": 63,
   "metadata": {
    "internals": {
     "frag_helper": "fragment_end",
     "frag_number": 163,
     "slide_helper": "subslide_end"
    },
    "slide_helper": "slide_end",
    "slideshow": {
     "slide_type": "-"
    }
   },
   "outputs": [
    {
     "data": {
      "text/plain": [
       "FriedmanchisquareResult(statistic=76.761904761904702, pvalue=2.1446882416879846e-17)"
      ]
     },
     "execution_count": 63,
     "metadata": {},
     "output_type": "execute_result"
    }
   ],
   "source": [
    "measurements = [list(hypervols[col]) for col in hypervols.columns]\n",
    "stats.friedmanchisquare(*measurements)"
   ]
  },
  {
   "cell_type": "markdown",
   "metadata": {
    "internals": {
     "frag_helper": "fragment_end",
     "frag_number": 163,
     "slide_type": "subslide"
    },
    "slideshow": {
     "slide_type": "slide"
    }
   },
   "source": [
    "[Mann–Whitney U test](http://en.wikipedia.org/wiki/Mann%E2%80%93Whitney_U_test) (also called the Mann–Whitney–Wilcoxon (MWW), Wilcoxon rank-sum test (WRS), or Wilcoxon–Mann–Whitney test) is a nonparametric test of the null hypothesis that two populations are the same against an alternative hypothesis, especially that a particular population tends to have larger values than the other.\n",
    "\n",
    "It has greater efficiency than the $t$-test on non-normal distributions, such as a mixture of normal distributions, and it is nearly as efficient as the $t$-test on normal distributions."
   ]
  },
  {
   "cell_type": "code",
   "execution_count": 64,
   "metadata": {
    "internals": {
     "frag_helper": "fragment_end",
     "frag_number": 172,
     "slide_helper": "subslide_end"
    },
    "slide_helper": "slide_end",
    "slideshow": {
     "slide_type": "fragment"
    }
   },
   "outputs": [
    {
     "data": {
      "text/html": [
       "<div>\n",
       "<table border=\"1\" class=\"dataframe\">\n",
       "  <thead>\n",
       "    <tr style=\"text-align: right;\">\n",
       "      <th></th>\n",
       "      <th>$n_\\mathrm{pop}=10;\\ t_\\mathrm{max}=50$</th>\n",
       "      <th>$n_\\mathrm{pop}=50;\\ t_\\mathrm{max}=10$</th>\n",
       "      <th>$n_\\mathrm{pop}=100;\\ t_\\mathrm{max}=5$</th>\n",
       "    </tr>\n",
       "  </thead>\n",
       "  <tbody>\n",
       "    <tr>\n",
       "      <th>$n_\\mathrm{pop}=10;\\ t_\\mathrm{max}=50$</th>\n",
       "      <td>NaN</td>\n",
       "      <td>1.27714e-12</td>\n",
       "      <td>2.39557e-15</td>\n",
       "    </tr>\n",
       "    <tr>\n",
       "      <th>$n_\\mathrm{pop}=50;\\ t_\\mathrm{max}=10$</th>\n",
       "      <td>1.27714e-12</td>\n",
       "      <td>NaN</td>\n",
       "      <td>2.76161e-15</td>\n",
       "    </tr>\n",
       "    <tr>\n",
       "      <th>$n_\\mathrm{pop}=100;\\ t_\\mathrm{max}=5$</th>\n",
       "      <td>2.39557e-15</td>\n",
       "      <td>2.76161e-15</td>\n",
       "      <td>NaN</td>\n",
       "    </tr>\n",
       "  </tbody>\n",
       "</table>\n",
       "</div>"
      ],
      "text/plain": [
       "                                        $n_\\mathrm{pop}=10;\\ t_\\mathrm{max}=50$  \\\n",
       "$n_\\mathrm{pop}=10;\\ t_\\mathrm{max}=50$                                     NaN   \n",
       "$n_\\mathrm{pop}=50;\\ t_\\mathrm{max}=10$                             1.27714e-12   \n",
       "$n_\\mathrm{pop}=100;\\ t_\\mathrm{max}=5$                             2.39557e-15   \n",
       "\n",
       "                                        $n_\\mathrm{pop}=50;\\ t_\\mathrm{max}=10$  \\\n",
       "$n_\\mathrm{pop}=10;\\ t_\\mathrm{max}=50$                             1.27714e-12   \n",
       "$n_\\mathrm{pop}=50;\\ t_\\mathrm{max}=10$                                     NaN   \n",
       "$n_\\mathrm{pop}=100;\\ t_\\mathrm{max}=5$                             2.76161e-15   \n",
       "\n",
       "                                        $n_\\mathrm{pop}=100;\\ t_\\mathrm{max}=5$  \n",
       "$n_\\mathrm{pop}=10;\\ t_\\mathrm{max}=50$                             2.39557e-15  \n",
       "$n_\\mathrm{pop}=50;\\ t_\\mathrm{max}=10$                             2.76161e-15  \n",
       "$n_\\mathrm{pop}=100;\\ t_\\mathrm{max}=5$                                     NaN  "
      ]
     },
     "execution_count": 64,
     "metadata": {},
     "output_type": "execute_result"
    }
   ],
   "source": [
    "raw_p_values=compute_stat_matrix(hypervols, stats.mannwhitneyu)\n",
    "raw_p_values"
   ]
  },
  {
   "cell_type": "markdown",
   "metadata": {
    "internals": {
     "frag_helper": "fragment_end",
     "frag_number": 172,
     "slide_helper": "subslide_end",
     "slide_type": "subslide"
    },
    "slide_helper": "slide_end",
    "slideshow": {
     "slide_type": "slide"
    }
   },
   "source": [
    "The [familywise error rate](http://en.wikipedia.org/wiki/Familywise_error_rate) (FWER) is the probability of making one or more false discoveries, or [type I errors](http://en.wikipedia.org/wiki/Type_I_and_type_II_errors), among all the hypotheses when performing multiple hypotheses tests.\n",
    "\n",
    "_Example_: When performing a test, there is a $\\alpha$ chance of making a type I error. If we make $m$ tests, then the probability of making one type I error is $m\\alpha$. Therefore, if an $\\alpha=0.05$ is used and 5 pairwise comparisons are made, we will have a $5\\times0.05 = 0.25$ chance of making a type I error.\n",
    "\n",
    "* FWER procedures (such as the [Bonferroni correction](http://en.wikipedia.org/wiki/Bonferroni_correction)) exert a more stringent control over false discovery compared to False discovery rate controlling procedures. \n",
    "* FWER controlling seek to reduce the probability of even one false discovery, as opposed to the expected proportion of false discoveries. \n",
    "* Thus, FDR procedures have greater power at the cost of increased rates of type I errors, i.e., rejecting the null hypothesis of no effect when it should be accepted."
   ]
  },
  {
   "cell_type": "markdown",
   "metadata": {
    "internals": {
     "frag_helper": "fragment_end",
     "frag_number": 172,
     "slide_type": "subslide"
    },
    "slideshow": {
     "slide_type": "slide"
    }
   },
   "source": [
    "One of these corrections is the [Šidák correction](http://en.wikipedia.org/wiki/%C5%A0id%C3%A1k_correction) as it is less conservative than the [Bonferroni correction](http://en.wikipedia.org/wiki/Bonferroni_correction):\n",
    "$$\\alpha_{SID} = 1-(1-\\alpha)^\\frac{1}{m},$$\n",
    "where $m$ is the number of tests.\n",
    "\n",
    "* In our case $m$ is the number of combinations of algorithm configurations taken two at a time,\n",
    "$$\n",
    "m = {\\mathtt{number\\_of\\_experiments} \\choose 2}.\n",
    "$$\n",
    "* There are other corrections that can be used."
   ]
  },
  {
   "cell_type": "code",
   "execution_count": 65,
   "metadata": {
    "internals": {
     "frag_helper": "fragment_end",
     "frag_number": 172,
     "slide_helper": "subslide_end"
    },
    "slide_helper": "slide_end",
    "slideshow": {
     "slide_type": "-"
    }
   },
   "outputs": [
    {
     "data": {
      "text/plain": [
       "0.016952427508441503"
      ]
     },
     "execution_count": 65,
     "metadata": {},
     "output_type": "execute_result"
    }
   ],
   "source": [
    "from scipy.misc import comb\n",
    "alpha=0.05\n",
    "alpha_sid = 1 - (1-alpha)**(1/comb(len(hypervols.columns), 2))\n",
    "alpha_sid"
   ]
  },
  {
   "cell_type": "markdown",
   "metadata": {
    "internals": {
     "frag_helper": "fragment_end",
     "frag_number": 172,
     "slide_type": "subslide"
    },
    "slideshow": {
     "slide_type": "slide"
    }
   },
   "source": [
    "Let's apply the corrected alpha to `raw_p_values`. If we have a cell with a `True` value that means that those two results are the same."
   ]
  },
  {
   "cell_type": "code",
   "execution_count": 66,
   "metadata": {
    "internals": {
     "frag_helper": "fragment_end",
     "frag_number": 172,
     "slide_helper": "subslide_end"
    },
    "slide_helper": "slide_end",
    "slideshow": {
     "slide_type": "-"
    }
   },
   "outputs": [
    {
     "data": {
      "text/html": [
       "<div>\n",
       "<table border=\"1\" class=\"dataframe\">\n",
       "  <thead>\n",
       "    <tr style=\"text-align: right;\">\n",
       "      <th></th>\n",
       "      <th>$n_\\mathrm{pop}=10;\\ t_\\mathrm{max}=50$</th>\n",
       "      <th>$n_\\mathrm{pop}=50;\\ t_\\mathrm{max}=10$</th>\n",
       "      <th>$n_\\mathrm{pop}=100;\\ t_\\mathrm{max}=5$</th>\n",
       "    </tr>\n",
       "  </thead>\n",
       "  <tbody>\n",
       "    <tr>\n",
       "      <th>$n_\\mathrm{pop}=10;\\ t_\\mathrm{max}=50$</th>\n",
       "      <td>False</td>\n",
       "      <td>True</td>\n",
       "      <td>True</td>\n",
       "    </tr>\n",
       "    <tr>\n",
       "      <th>$n_\\mathrm{pop}=50;\\ t_\\mathrm{max}=10$</th>\n",
       "      <td>True</td>\n",
       "      <td>False</td>\n",
       "      <td>True</td>\n",
       "    </tr>\n",
       "    <tr>\n",
       "      <th>$n_\\mathrm{pop}=100;\\ t_\\mathrm{max}=5$</th>\n",
       "      <td>True</td>\n",
       "      <td>True</td>\n",
       "      <td>False</td>\n",
       "    </tr>\n",
       "  </tbody>\n",
       "</table>\n",
       "</div>"
      ],
      "text/plain": [
       "                                        $n_\\mathrm{pop}=10;\\ t_\\mathrm{max}=50$  \\\n",
       "$n_\\mathrm{pop}=10;\\ t_\\mathrm{max}=50$                                   False   \n",
       "$n_\\mathrm{pop}=50;\\ t_\\mathrm{max}=10$                                    True   \n",
       "$n_\\mathrm{pop}=100;\\ t_\\mathrm{max}=5$                                    True   \n",
       "\n",
       "                                        $n_\\mathrm{pop}=50;\\ t_\\mathrm{max}=10$  \\\n",
       "$n_\\mathrm{pop}=10;\\ t_\\mathrm{max}=50$                                    True   \n",
       "$n_\\mathrm{pop}=50;\\ t_\\mathrm{max}=10$                                   False   \n",
       "$n_\\mathrm{pop}=100;\\ t_\\mathrm{max}=5$                                    True   \n",
       "\n",
       "                                        $n_\\mathrm{pop}=100;\\ t_\\mathrm{max}=5$  \n",
       "$n_\\mathrm{pop}=10;\\ t_\\mathrm{max}=50$                                    True  \n",
       "$n_\\mathrm{pop}=50;\\ t_\\mathrm{max}=10$                                    True  \n",
       "$n_\\mathrm{pop}=100;\\ t_\\mathrm{max}=5$                                   False  "
      ]
     },
     "execution_count": 66,
     "metadata": {},
     "output_type": "execute_result"
    }
   ],
   "source": [
    "raw_p_values.applymap(lambda value: value <= alpha_sid)"
   ]
  },
  {
   "cell_type": "markdown",
   "metadata": {
    "internals": {
     "frag_helper": "fragment_end",
     "frag_number": 172,
     "slide_helper": "subslide_end",
     "slide_type": "subslide"
    },
    "slide_helper": "slide_end",
    "slideshow": {
     "slide_type": "slide"
    }
   },
   "source": [
    "## Further -and highly recommended- reading\n",
    "\n",
    "* Cohen, P. R. (1995). _Empirical Methods for Artificial Intelligence_ (Vol. 139). Cambridge: MIT press. [link](http://mitpress.mit.edu/books/empirical-methods-artificial-intelligence)\n",
    "* Bartz-Beielstein, Thomas (2006). _Experimental Research in Evolutionary Computation: The New Experimentalism_. Springer [link](http://link.springer.com/book/10.1007%2F3-540-32027-X)\n",
    "* García, S., & Herrera, F. (2008). _An Extension on “Statistical Comparisons of Classifiers over Multiple Data Sets” for all Pairwise Comparisons_. Journal of Machine Learning Research, 9, 2677–2694. [pdf](http://www.jmlr.org/papers/v9/garcia08a.html)"
   ]
  },
  {
   "cell_type": "markdown",
   "metadata": {
    "internals": {
     "frag_helper": "fragment_end",
     "frag_number": 172,
     "slide_type": "subslide"
    },
    "slideshow": {
     "slide_type": "slide"
    }
   },
   "source": [
    "# Final remarks\n",
    "\n"
   ]
  },
  {
   "cell_type": "markdown",
   "metadata": {
    "internals": {
     "frag_helper": "fragment_end",
     "frag_number": 172,
     "slide_helper": "subslide_end"
    },
    "slide_helper": "slide_end",
    "slideshow": {
     "slide_type": "-"
    }
   },
   "source": [
    "In this class/notebook we have seen some key elements:\n",
    "\n",
    "1. The Pareto dominance relation in action.\n",
    "2. The NSGA-II algorithm.\n",
    "3. Some of the existing MOP benchmarks. \n",
    "4. How to perform experiments and draw statistically valid conclusions from them.\n",
    "\n",
    "Bear in mind that:\n",
    "\n",
    "* When working in EMO topics problems like those of the CEC'09 or WFG toolkits are usually involved.\n",
    "* The issue of devising a proper experiment design and interpreting the results is a fundamental one.\n",
    "* The experimental setup presented here can be used with little modifications to single-objective optimization and even to other machine learning or stochastic algorithms."
   ]
  },
  {
   "cell_type": "markdown",
   "metadata": {},
   "source": [
    "<hr/>\n",
    "<div class=\"container-fluid\">\n",
    "  <div class='well'>\n",
    "      <div class=\"row\">\n",
    "          <div class=\"col-md-3\" align='center'>\n",
    "              <img align='center'alt=\"Creative Commons License\" style=\"border-width:0\" src=\"https://i.creativecommons.org/l/by-nc-sa/4.0/88x31.png\"/>\n",
    "          </div>\n",
    "          <div class=\"col-md-9\">\n",
    "              This work is licensed under a [Creative Commons Attribution-NonCommercial-ShareAlike 4.0 International License](http://creativecommons.org/licenses/by-nc-sa/4.0/).\n",
    "          </div>\n",
    "      </div>\n",
    "  </div>\n",
    "</div>"
   ]
  },
  {
   "cell_type": "code",
   "execution_count": 67,
   "metadata": {},
   "outputs": [
    {
     "data": {
      "application/json": {
       "Software versions": [
        {
         "module": "Python",
         "version": "2.7.12 64bit [GCC 4.8.4]"
        },
        {
         "module": "IPython",
         "version": "5.3.0"
        },
        {
         "module": "OS",
         "version": "Linux 4.4.0 72 generic x86_64 with Ubuntu 14.04 trusty"
        },
        {
         "module": "scipy",
         "version": "0.19.0"
        },
        {
         "module": "numpy",
         "version": "1.12.1"
        },
        {
         "module": "matplotlib",
         "version": "1.3.1"
        },
        {
         "module": "seaborn",
         "version": "0.7.1"
        },
        {
         "module": "deap",
         "version": "1.1"
        }
       ]
      },
      "text/html": [
       "<table><tr><th>Software</th><th>Version</th></tr><tr><td>Python</td><td>2.7.12 64bit [GCC 4.8.4]</td></tr><tr><td>IPython</td><td>5.3.0</td></tr><tr><td>OS</td><td>Linux 4.4.0 72 generic x86_64 with Ubuntu 14.04 trusty</td></tr><tr><td>scipy</td><td>0.19.0</td></tr><tr><td>numpy</td><td>1.12.1</td></tr><tr><td>matplotlib</td><td>1.3.1</td></tr><tr><td>seaborn</td><td>0.7.1</td></tr><tr><td>deap</td><td>1.1</td></tr><tr><td colspan='2'>Thu Apr 27 12:18:36 2017 CEST</td></tr></table>"
      ],
      "text/latex": [
       "\\begin{tabular}{|l|l|}\\hline\n",
       "{\\bf Software} & {\\bf Version} \\\\ \\hline\\hline\n",
       "Python & 2.7.12 64bit [GCC 4.8.4] \\\\ \\hline\n",
       "IPython & 5.3.0 \\\\ \\hline\n",
       "OS & Linux 4.4.0 72 generic x86\\_64 with Ubuntu 14.04 trusty \\\\ \\hline\n",
       "scipy & 0.19.0 \\\\ \\hline\n",
       "numpy & 1.12.1 \\\\ \\hline\n",
       "matplotlib & 1.3.1 \\\\ \\hline\n",
       "seaborn & 0.7.1 \\\\ \\hline\n",
       "deap & 1.1 \\\\ \\hline\n",
       "\\hline \\multicolumn{2}{|l|}{Thu Apr 27 12:18:36 2017 CEST} \\\\ \\hline\n",
       "\\end{tabular}\n"
      ],
      "text/plain": [
       "Software versions\n",
       "Python 2.7.12 64bit [GCC 4.8.4]\n",
       "IPython 5.3.0\n",
       "OS Linux 4.4.0 72 generic x86_64 with Ubuntu 14.04 trusty\n",
       "scipy 0.19.0\n",
       "numpy 1.12.1\n",
       "matplotlib 1.3.1\n",
       "seaborn 0.7.1\n",
       "deap 1.1\n",
       "Thu Apr 27 12:18:36 2017 CEST"
      ]
     },
     "execution_count": 67,
     "metadata": {},
     "output_type": "execute_result"
    }
   ],
   "source": [
    "# To install run: pip install version_information\n",
    "%load_ext version_information\n",
    "%version_information scipy, numpy, matplotlib, seaborn, deap"
   ]
  },
  {
   "cell_type": "code",
   "execution_count": 68,
   "metadata": {},
   "outputs": [
    {
     "ename": "ImportError",
     "evalue": "No module named request",
     "output_type": "error",
     "traceback": [
      "\u001b[0;31m---------------------------------------------------------------------------\u001b[0m",
      "\u001b[0;31mImportError\u001b[0m                               Traceback (most recent call last)",
      "\u001b[0;32m<ipython-input-68-f8e2e53fa71c>\u001b[0m in \u001b[0;36m<module>\u001b[0;34m()\u001b[0m\n\u001b[1;32m      1\u001b[0m \u001b[0;31m# this code is here for cosmetic reasons\u001b[0m\u001b[0;34m\u001b[0m\u001b[0;34m\u001b[0m\u001b[0m\n\u001b[1;32m      2\u001b[0m \u001b[0;32mfrom\u001b[0m \u001b[0mIPython\u001b[0m\u001b[0;34m.\u001b[0m\u001b[0mcore\u001b[0m\u001b[0;34m.\u001b[0m\u001b[0mdisplay\u001b[0m \u001b[0;32mimport\u001b[0m \u001b[0mHTML\u001b[0m\u001b[0;34m\u001b[0m\u001b[0m\n\u001b[0;32m----> 3\u001b[0;31m \u001b[0;32mfrom\u001b[0m \u001b[0murllib\u001b[0m\u001b[0;34m.\u001b[0m\u001b[0mrequest\u001b[0m \u001b[0;32mimport\u001b[0m \u001b[0murlopen\u001b[0m\u001b[0;34m\u001b[0m\u001b[0m\n\u001b[0m\u001b[1;32m      4\u001b[0m \u001b[0mHTML\u001b[0m\u001b[0;34m(\u001b[0m\u001b[0murlopen\u001b[0m\u001b[0;34m(\u001b[0m\u001b[0;34m'https://raw.githubusercontent.com/lmarti/jupyter_custom/master/custom.include'\u001b[0m\u001b[0;34m)\u001b[0m\u001b[0;34m.\u001b[0m\u001b[0mread\u001b[0m\u001b[0;34m(\u001b[0m\u001b[0;34m)\u001b[0m\u001b[0;34m.\u001b[0m\u001b[0mdecode\u001b[0m\u001b[0;34m(\u001b[0m\u001b[0;34m'utf-8'\u001b[0m\u001b[0;34m)\u001b[0m\u001b[0;34m)\u001b[0m\u001b[0;34m\u001b[0m\u001b[0m\n",
      "\u001b[0;31mImportError\u001b[0m: No module named request"
     ]
    }
   ],
   "source": [
    "# this code is here for cosmetic reasons\n",
    "from IPython.core.display import HTML\n",
    "from urllib.request import urlopen\n",
    "HTML(urlopen('https://raw.githubusercontent.com/lmarti/jupyter_custom/master/custom.include').read().decode('utf-8'))"
   ]
  },
  {
   "cell_type": "markdown",
   "metadata": {
    "collapsed": true
   },
   "source": [
    " "
   ]
  }
 ],
 "metadata": {
  "kernelspec": {
   "display_name": "Python 2",
   "language": "python",
   "name": "python2"
  },
  "language_info": {
   "codemirror_mode": {
    "name": "ipython",
    "version": 2
   },
   "file_extension": ".py",
   "mimetype": "text/x-python",
   "name": "python",
   "nbconvert_exporter": "python",
   "pygments_lexer": "ipython2",
   "version": "2.7.12"
  },
  "notify_time": "30",
  "widgets": {
   "state": {
    "fd0fbdf2f74c4fcfbc639df8f8988531": {
     "views": [
      {
       "cell_index": 117
      }
     ]
    }
   },
   "version": "1.2.0"
  }
 },
 "nbformat": 4,
 "nbformat_minor": 1
}
