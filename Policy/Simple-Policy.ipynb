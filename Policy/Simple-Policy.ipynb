{
 "cells": [
  {
   "cell_type": "markdown",
   "metadata": {
    "deletable": true,
    "editable": true
   },
   "source": [
    "# Simple Reinforcement Learning in Tensorflow Part 1: \n",
    "## The Multi-armed bandit\n",
    "This tutorial contains a simple example of how to build a policy-gradient based agent that can solve the multi-armed bandit problem. For more information, see this [Medium post](https://medium.com/@awjuliani/super-simple-reinforcement-learning-tutorial-part-1-fd544fab149).\n",
    "\n",
    "For more Reinforcement Learning algorithms, including DQN and Model-based learning in Tensorflow, see my Github repo, [DeepRL-Agents](https://github.com/awjuliani/DeepRL-Agents). "
   ]
  },
  {
   "cell_type": "code",
   "execution_count": 1,
   "metadata": {
    "collapsed": false,
    "deletable": true,
    "editable": true
   },
   "outputs": [
    {
     "name": "stdout",
     "output_type": "stream",
     "text": [
      "2\n"
     ]
    }
   ],
   "source": [
    "import tensorflow as tf\n",
    "import tensorflow.contrib.slim as slim\n",
    "import numpy as np\n",
    "import OpenVSPGame as VSP"
   ]
  },
  {
   "cell_type": "markdown",
   "metadata": {
    "deletable": true,
    "editable": true
   },
   "source": [
    "### The Bandit\n",
    "Here we define our bandit. For this example we are using a four-armed bandit. The pullBandit function generates a random number from a normal distribution with a mean of 0. The lower the bandit number, the more likely a positive reward will be returned. We want our agent to learn to always choose the arm that will give that positive reward."
   ]
  },
  {
   "cell_type": "code",
   "execution_count": 2,
   "metadata": {
    "collapsed": false,
    "deletable": true,
    "editable": true
   },
   "outputs": [],
   "source": [
    "#List out our bandit arms. \n",
    "#Currently arm 4 (index #3) is set to most often provide a positive reward.\n",
    "bandit_arms = VSP.bandit_arms\n",
    "num_arms = VSP.num_arms\n"
   ]
  },
  {
   "cell_type": "markdown",
   "metadata": {
    "deletable": true,
    "editable": true
   },
   "source": [
    "### The Agent\n",
    "The code below established our simple neural agent. It consists of a set of values for each of the bandit arms. Each value is an estimate of the value of the return from choosing the bandit. We use a policy gradient method to update the agent by moving the value for the selected action toward the recieved reward."
   ]
  },
  {
   "cell_type": "code",
   "execution_count": 3,
   "metadata": {
    "collapsed": false,
    "deletable": true,
    "editable": true
   },
   "outputs": [],
   "source": [
    "tf.reset_default_graph()\n",
    "\n",
    "#These two lines established the feed-forward part of the network. \n",
    "weights = tf.Variable(tf.ones([num_arms]))\n",
    "output = tf.nn.softmax(weights)\n",
    "\n",
    "#The next six lines establish the training proceedure. We feed the reward and chosen action into the network\n",
    "#to compute the loss, and use it to update the network.\n",
    "reward_holder = tf.placeholder(shape=[1],dtype=tf.float32)\n",
    "action_holder = tf.placeholder(shape=[1],dtype=tf.int32)\n",
    "\n",
    "responsible_output = tf.slice(output,action_holder,[1])\n",
    "loss = -(tf.log(responsible_output)*reward_holder)\n",
    "optimizer = tf.train.AdamOptimizer(learning_rate=1e-3)\n",
    "update = optimizer.minimize(loss)"
   ]
  },
  {
   "cell_type": "markdown",
   "metadata": {
    "deletable": true,
    "editable": true
   },
   "source": [
    "### Training the Agent"
   ]
  },
  {
   "cell_type": "markdown",
   "metadata": {
    "deletable": true,
    "editable": true
   },
   "source": [
    "We will train our agent by taking actions in our environment, and recieving rewards. Using the rewards and actions, we can know how to properly update our network in order to more often choose actions that will yield the highest rewards over time."
   ]
  },
  {
   "cell_type": "code",
   "execution_count": 4,
   "metadata": {
    "collapsed": false,
    "deletable": true,
    "editable": true
   },
   "outputs": [
    {
     "name": "stdout",
     "output_type": "stream",
     "text": [
      "Running reward for the 8 arms of the bandit: [-1.  0.  0.  0.  0.  0.  0.  0.]\n",
      "Running reward for the 8 arms of the bandit: [-7.  0.  7.  7. -1. -2. -6.  5.]\n",
      "Running reward for the 8 arms of the bandit: [-14.   1.  12.  12.  -8.  -8.  -8.  12.]\n",
      "Running reward for the 8 arms of the bandit: [-19.   2.  12.  15. -11. -14. -11.  15.]\n",
      "Running reward for the 8 arms of the bandit: [-19.  -2.  12.  26. -14. -16. -17.  23.]\n",
      "Running reward for the 8 arms of the bandit: [-20.   2.  13.  37. -20. -20. -18.  27.]\n",
      "Running reward for the 8 arms of the bandit: [-22.   3.  14.  45. -22. -26. -23.  32.]\n",
      "Running reward for the 8 arms of the bandit: [-24.   6.  17.  52. -27. -27. -22.  46.]\n",
      "Running reward for the 8 arms of the bandit: [-27.   3.  20.  60. -28. -34. -28.  55.]\n",
      "Running reward for the 8 arms of the bandit: [-29.   3.  22.  65. -31. -40. -35.  62.]\n",
      "Running reward for the 8 arms of the bandit: [-32.   6.  35.  72. -33. -45. -37.  69.]\n",
      "Running reward for the 8 arms of the bandit: [-40.   4.  39.  79. -36. -47. -41.  73.]\n",
      "Running reward for the 8 arms of the bandit: [-46.   4.  40.  86. -44. -53. -42.  80.]\n",
      "Running reward for the 8 arms of the bandit: [-54.   7.  47.  93. -46. -58. -44.  88.]\n",
      "Running reward for the 8 arms of the bandit: [ -56.    9.   52.  103.  -48.  -60.  -47.   94.]\n",
      "Running reward for the 8 arms of the bandit: [ -62.    9.   58.  109.  -51.  -62.  -48.  102.]\n",
      "Running reward for the 8 arms of the bandit: [ -64.    5.   60.  121.  -56.  -64.  -56.  107.]\n",
      "Running reward for the 8 arms of the bandit: [ -70.    3.   64.  127.  -57.  -74.  -59.  115.]\n",
      "Running reward for the 8 arms of the bandit: [ -72.    6.   71.  139.  -58.  -81.  -62.  120.]\n",
      "Running reward for the 8 arms of the bandit: [ -71.    5.   78.  146.  -62.  -84.  -69.  126.]\n",
      "\n",
      "The agent thinks arm 4 is the most promising....\n",
      "...and it was right!\n"
     ]
    }
   ],
   "source": [
    "total_episodes = 1000 #Set total number of episodes to train agent on.\n",
    "total_reward = np.zeros(num_arms) #Set scoreboard for bandit arms to 0.\n",
    "\n",
    "init = tf.global_variables_initializer()\n",
    "\n",
    "# Launch the tensorflow graph\n",
    "with tf.Session() as sess:\n",
    "    sess.run(init)\n",
    "    i = 0\n",
    "    while i < total_episodes:\n",
    "        \n",
    "        #Choose action according to Boltzmann distribution.\n",
    "        actions = sess.run(output)\n",
    "        a = np.random.choice(actions,p=actions)\n",
    "        action = np.argmax(actions == a)\n",
    "\n",
    "        reward = VSP.start_game(bandit_arms[action]) #Get our reward from picking one of the bandit arms.\n",
    "        \n",
    "        #Update the network.\n",
    "        _,resp,ww = sess.run([update,responsible_output,weights], feed_dict={reward_holder:[reward],action_holder:[action]})\n",
    "        \n",
    "        #Update our running tally of scores.\n",
    "        total_reward[action] += reward\n",
    "        if i % 50 == 0:\n",
    "            print \"Running reward for the \" + str(num_arms) + \" arms of the bandit: \" + str(total_reward)\n",
    "        i+=1\n",
    "print \"\\nThe agent thinks arm \" + str(np.argmax(ww)+1) + \" is the most promising....\"\n",
    "if np.argmax(ww) == np.argmax(-np.array(bandit_arms)):\n",
    "    print \"...and it was right!\"\n",
    "else:\n",
    "    print \"...and it was wrong!\""
   ]
  },
  {
   "cell_type": "code",
   "execution_count": null,
   "metadata": {
    "collapsed": true,
    "deletable": true,
    "editable": true
   },
   "outputs": [],
   "source": []
  },
  {
   "cell_type": "code",
   "execution_count": null,
   "metadata": {
    "collapsed": true,
    "deletable": true,
    "editable": true
   },
   "outputs": [],
   "source": []
  }
 ],
 "metadata": {
  "kernelspec": {
   "display_name": "Python 2",
   "language": "python",
   "name": "python2"
  },
  "language_info": {
   "codemirror_mode": {
    "name": "ipython",
    "version": 2
   },
   "file_extension": ".py",
   "mimetype": "text/x-python",
   "name": "python",
   "nbconvert_exporter": "python",
   "pygments_lexer": "ipython2",
   "version": "2.7.12"
  }
 },
 "nbformat": 4,
 "nbformat_minor": 0
}
