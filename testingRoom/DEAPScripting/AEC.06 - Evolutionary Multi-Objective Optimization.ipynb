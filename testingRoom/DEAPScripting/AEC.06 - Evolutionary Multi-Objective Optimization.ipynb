{
 "cells": [
  {
   "cell_type": "markdown",
   "metadata": {
    "internals": {
     "slide_type": "subslide"
    },
    "slideshow": {
     "slide_type": "slide"
    }
   },
   "source": [
    "<div align='left' style=\"width:400px;height:120px;overflow:hidden;\">\n",
    "<a href='http://www.uff.br'>\n",
    "<img align='left' style='display: block;height: 92%' src='https://github.com/lmarti/jupyter_custom/raw/master/imgs/uff.png' alt='UFF logo' title='UFF logo'/>\n",
    "</a>\n",
    "<a href='http://www.ic.uff.br'>\n",
    "<img align='left' style='display: block;height: 100%' src='https://github.com/lmarti/jupyter_custom/raw/master/imgs/logo-ic.png' alt='IC logo' title='IC logo'/>\n",
    "</a>\n",
    "</div>"
   ]
  },
  {
   "cell_type": "markdown",
   "metadata": {
    "internals": {
     "slide_helper": "subslide_end"
    },
    "slide_helper": "subslide_end",
    "slideshow": {
     "slide_type": "-"
    }
   },
   "source": [
    "# Evolutionary Multi-Objective Optimization\n",
    "\n",
    "## Luis Martí, [IC](http://www.ic.uff.br)/[UFF](http://www.uff.br)\n",
    "\n",
    "[http://lmarti.com](http://lmarti.com); [lmarti@ic.uff.br](mailto:lmarti@ic.uff.br) \n",
    "\n",
    "[Advanced Evolutionary Computation: Theory and Practice](http://lmarti.com/aec-2014) "
   ]
  },
  {
   "cell_type": "markdown",
   "metadata": {
    "internals": {
     "slide_helper": "subslide_end",
     "slide_type": "subslide"
    },
    "slide_helper": "slide_end",
    "slideshow": {
     "slide_type": "subslide"
    }
   },
   "source": [
    "This notebook is better viewed rendered as slides. You can convert it to slides and view them by:\n",
    "- using [nbconvert](http://ipython.org/ipython-doc/1/interactive/nbconvert.html) with a command like:\n",
    "  ```bash\n",
    "  $ ipython nbconvert --to slides --post serve <this-notebook-name.ipynb>\n",
    "  ```\n",
    "- installing [Reveal.js - Jupyter/IPython Slideshow Extension](https://github.com/damianavila/live_reveal)\n",
    "- using the online [IPython notebook slide viewer](https://slideviewer.herokuapp.com/) (some slides of the notebook might not be properly rendered).\n",
    "\n",
    "This and other related IPython notebooks can be found at the course github repository:\n",
    "* [https://github.com/lmarti/evolutionary-computation-course](https://github.com/lmarti/evolutionary-computation-course)"
   ]
  },
  {
   "cell_type": "markdown",
   "metadata": {
    "internals": {
     "slide_helper": "subslide_end",
     "slide_type": "subslide"
    },
    "slide_helper": "slide_end",
    "slideshow": {
     "slide_type": "slide"
    }
   },
   "source": [
    "# In this notebook\n",
    "\n",
    "* Present the basic concepts related to evolutionary multi-objective optimization algorithms.\n",
    "* The Non-dominated Sorting Genetic Algorithm II (NSGA-II).\n",
    "* Benchmark test problems.\n",
    "* Experiment design and results comparison."
   ]
  },
  {
   "cell_type": "markdown",
   "metadata": {
    "internals": {
     "slide_helper": "subslide_end",
     "slide_type": "subslide"
    },
    "slide_helper": "slide_end",
    "slideshow": {
     "slide_type": "slide"
    }
   },
   "source": [
    "## How can we handle multiple conflicting objectives?\n",
    "\n",
    "Even choosing a fruit implies dealing with conflicting objectives.\n",
    "\n",
    "<div align='center'><img src='http://imgs.xkcd.com/comics/fuck_grapefruit.png' width='56%' align='center'/>\n",
    "taken from http://xkcd.com/388/</div>"
   ]
  },
  {
   "cell_type": "markdown",
   "metadata": {
    "internals": {
     "slide_helper": "subslide_end",
     "slide_type": "subslide"
    },
    "slide_helper": "slide_end",
    "slideshow": {
     "slide_type": "slide"
    }
   },
   "source": [
    "# [Multi-objective optimization](http://en.wikipedia.org/wiki/Multi-objective_optimization)\n",
    "\n",
    "* Most -*if not all*- optimization problems involve more than one objective function to be optimized simultaneously.\n",
    "* For example, you must optimize a given feature of an object while keeping under control the resources needed to elaborate that object.\n",
    "* Sometimes those other objectives are converted to constraints or fixed to default values, but that does not means that they are there.\n",
    "* Multi-objective optimization is also known as *multi-objective programming*, *vector optimization*, *multicriteria optimization*, *multiattribute optimization* or *Pareto optimization* (and probably by other names, depending on the field).\n",
    "* Multi-objective optimization has been applied in [many fields of science](http://en.wikipedia.org/wiki/Multi-objective_optimization#Examples_of_multi-objective_optimization_applications), including engineering, economics and logistics (see the section on applications for detailed examples) where optimal decisions need to be taken in the presence of trade-offs between two or more conflicting objectives."
   ]
  },
  {
   "cell_type": "markdown",
   "metadata": {
    "internals": {
     "slide_helper": "subslide_end",
     "slide_type": "subslide"
    },
    "slide_helper": "slide_end",
    "slideshow": {
     "slide_type": "slide"
    }
   },
   "source": [
    "## A Multi-objective Optimization Problem (MOP)\n",
    "\n",
    "$$\n",
    "\\renewcommand{\\vec}[1]{\\mathbf{#1}}\n",
    "\\newcommand{\\set}[1]{\\mathcal{#1}}\n",
    "\\newcommand{\\dom}{\\preccurlyeq}\n",
    "\\left.\n",
    "\\begin{array}{rl}\n",
    "\\mathrm{minimize}             & \\vec{F}(\\vec{x})=\\langle f_1(\\vec{x}),\\ldots,f_M(\\vec{x})\\rangle\\,,\\\\ \n",
    "\\mathrm{subject}\\ \\mathrm{to} & c_1(\\vec{x}),\\ldots,c_C(\\vec{x})\\le 0\\,,\\\\\n",
    "\t\t\t\t\t\t\t  & d_1(\\vec{x}),\\ldots,d_D(\\vec{x})= 0\\,,\\\\\n",
    "& \\text{with}\\ \\vec{x}\\in\\set{D}\\,,\n",
    "\\end{array}\\right\\}\n",
    "$$\n",
    "\n",
    "* $\\mathcal{D}$ is known as the *decision set* or *search set*.\n",
    "* functions $f_1(\\mathbf{x}),\\ldots,f_M(\\mathbf{x})$ are the *objective functions*. If $M=1$ the problem reduces to a single-objective optimization problem. \n",
    "* Image set, $\\set{O}$, result of the projection of $\\set{D}$ via $f_1(\\vec{x}),\\ldots,f_M(\\vec{x})$ is called *objective set* ($\\vec{F}:\\set{D}\\rightarrow\\set{O}$).\n",
    "* $c_1(\\vec{x}),\\ldots,c_C(\\vec{x})\\le 0$ and $d_1(\\vec{x}),\\ldots,d_D(\\vec{x})= 0$  express the constraints imposed on the values of $\\vec{x}$.\n",
    "\n",
    "*Note:* In case you are -still- wondering, a maximization problem can be posed as the minimization one: $\\min\\ -\\vec{F}(\\vec{x})$."
   ]
  },
  {
   "cell_type": "markdown",
   "metadata": {
    "internals": {
     "slide_helper": "subslide_end",
     "slide_type": "subslide"
    },
    "slide_helper": "slide_end",
    "slideshow": {
     "slide_type": "slide"
    }
   },
   "source": [
    "## Example: A two variables and two objectives MOP\n",
    "<img src='static/mop-2d.jpg' height='56%' align='center'/>"
   ]
  },
  {
   "cell_type": "markdown",
   "metadata": {
    "internals": {
     "slide_helper": "subslide_end",
     "slide_type": "subslide"
    },
    "slide_helper": "slide_end",
    "slideshow": {
     "slide_type": "slide"
    }
   },
   "source": [
    "## MOP (optimal) solutions\n",
    "\n",
    "Usually, there is not a unique solution that minimizes all objective functions simultaneously, but, instead, a set of equally good *trade-off* solutions.\n",
    "\n",
    "* *Optimality* can be defined in terms of the [*Pareto dominance*](https://en.wikipedia.org/wiki/Pareto_efficiency) relation. That is, having $\\vec{x},\\vec{y}\\in\\set{D}$, $\\vec{x}$ is said to dominate $\\vec{y}$ (expressed as $\\vec{x}\\dom\\vec{y}$) iff $\\forall f_j$, $f_j(\\vec{x})\\leq f_j(\\vec{y})$ and $\\exists f_i$ such that $f_i(\\vec{x})< f_i(\\vec{y})$.\n",
    "* Having the set $\\set{A}$. $\\set{A}^\\ast$, the *non-dominated subset* of $\\set{A}$, is defined as\n",
    "\n",
    "$$\n",
    "\\set{A}^\\ast=\\left\\{ \\vec{x}\\in\\set{A} \\left|\\not\\exists\\vec{y}\\in\\set{A}:\\vec{y}\\dom\\vec{x}\\right.\\right\\}.\n",
    "$$\n",
    "\n",
    "* The *Pareto-optimal set*, $\\set{D}^{\\ast}$, is the solution of the problem. It is the subset of non-dominated elements of $\\set{D}$. It is also known as the *efficient set*.\n",
    "* It consists of solutions that cannot be improved in any of the objectives without degrading at least one of the other objectives.\n",
    "* Its image in objective set is called the *Pareto-optimal front*, $\\set{O}^\\ast$.\n",
    "* Evolutionary algorithms generally yield a set of non-dominated solutions, $\\set{P}^\\ast$, that approximates $\\set{D}^{\\ast}$.\n"
   ]
  },
  {
   "cell_type": "markdown",
   "metadata": {
    "internals": {
     "slide_type": "subslide"
    },
    "slideshow": {
     "slide_type": "slide"
    }
   },
   "source": [
    "As usual, we need some initialization and configuration."
   ]
  },
  {
   "cell_type": "code",
   "execution_count": 1,
   "metadata": {
    "collapsed": true,
    "internals": {},
    "slideshow": {
     "slide_type": "-"
    }
   },
   "outputs": [],
   "source": [
    "import time, array, random, copy, math\n",
    "import numpy as np\n",
    "import pandas as pd"
   ]
  },
  {
   "cell_type": "code",
   "execution_count": 2,
   "metadata": {
    "collapsed": true
   },
   "outputs": [],
   "source": [
    "import matplotlib.pyplot as plt\n",
    "%matplotlib inline\n",
    "#%config InlineBackend.figure_format = 'retina'\n",
    "#plt.rc('text', usetex=True)\n",
    "#plt.rc('font', family='serif')\n",
    "#plt.rcParams['text.latex.preamble'] ='\\\\usepackage{libertine}\\n\\\\usepackage[utf8]{inputenc}'\n",
    "\n",
    "import seaborn\n",
    "seaborn.set(style='whitegrid')\n",
    "seaborn.set_context('notebook')"
   ]
  },
  {
   "cell_type": "code",
   "execution_count": 3,
   "metadata": {
    "collapsed": true
   },
   "outputs": [],
   "source": [
    "from deap import algorithms, base, benchmarks, tools, creator"
   ]
  },
  {
   "cell_type": "markdown",
   "metadata": {
    "internals": {
     "frag_helper": "fragment_end",
     "frag_number": 11,
     "slide_type": "subslide"
    },
    "slideshow": {
     "slide_type": "subslide"
    }
   },
   "source": [
    "Planting a constant seed to always have the same results (and avoid surprises in class). -*you should not do this in a real-world case!*"
   ]
  },
  {
   "cell_type": "code",
   "execution_count": 4,
   "metadata": {
    "collapsed": true,
    "internals": {
     "frag_helper": "fragment_end",
     "frag_number": 11,
     "slide_helper": "subslide_end"
    },
    "slide_helper": "slide_end",
    "slideshow": {
     "slide_type": "-"
    }
   },
   "outputs": [],
   "source": [
    "random.seed(a=42)"
   ]
  },
  {
   "cell_type": "markdown",
   "metadata": {
    "internals": {
     "frag_helper": "fragment_end",
     "frag_number": 11,
     "slide_type": "subslide"
    },
    "slideshow": {
     "slide_type": "slide"
    }
   },
   "source": [
    "# Visualizing the Pareto dominance relation\n",
    "\n",
    "* To start, lets have a visual example of the Pareto dominance relationship in action.\n",
    "* In this notebook we will deal with two-objective problems in order to simplify visualization. \n",
    "* Therefore, we can create:"
   ]
  },
  {
   "cell_type": "code",
   "execution_count": 5,
   "metadata": {
    "collapsed": true,
    "internals": {
     "frag_helper": "fragment_end",
     "frag_number": 11,
     "slide_helper": "subslide_end"
    },
    "slide_helper": "slide_end",
    "slideshow": {
     "slide_type": "-"
    }
   },
   "outputs": [],
   "source": [
    "creator.create(\"FitnessMin\", base.Fitness, weights=(-1.0,-1.0))\n",
    "creator.create(\"Individual\", array.array, typecode='d', \n",
    "               fitness=creator.FitnessMin)"
   ]
  },
  {
   "cell_type": "markdown",
   "metadata": {
    "internals": {
     "frag_helper": "fragment_end",
     "frag_number": 11,
     "slide_helper": "subslide_end",
     "slide_type": "subslide"
    },
    "slide_helper": "slide_end",
    "slideshow": {
     "slide_type": "slide"
    }
   },
   "source": [
    "## Let's use an illustrative MOP problem: Dent\n",
    "\n",
    "$$\n",
    "\\begin{array}{rl}\n",
    "\\text{minimize} & f_1(\\vec{x}),f_2(\\vec{x}) \\\\\n",
    "\\text{such that} & f_1(\\vec{x}) = \\frac{1}{2}\\left( \\sqrt{1 + (x_1 + x_2)^2} \\sqrt{1 + (x_1 - x_2)^2} + x_1 -x_2\\right) + d,\\\\\n",
    " & f_2(\\vec{x}) = \\frac{1}{2}\\left( \\sqrt{1 + (x_1 + x_2)^2} \\sqrt{1 + (x_1 - x_2)^2} - x_1 -x_2\\right) + d,\\\\\n",
    "\\text{with}& d = \\lambda e^{-\\left(x_1-x_2\\right)^2}\\ (\\text{generally }\\lambda=0.85) \\text{ and } \\vec{x}\\in \\left[-1.5,1.5\\right]^2.\n",
    "\\end{array}\n",
    "$$"
   ]
  },
  {
   "cell_type": "markdown",
   "metadata": {
    "internals": {
     "frag_helper": "fragment_end",
     "frag_number": 11,
     "slide_type": "subslide"
    },
    "slideshow": {
     "slide_type": "slide"
    }
   },
   "source": [
    "Implementing the Dent problem"
   ]
  },
  {
   "cell_type": "code",
   "execution_count": 6,
   "metadata": {
    "collapsed": true,
    "internals": {
     "frag_helper": "fragment_end",
     "frag_number": 11,
     "slide_helper": "subslide_end"
    },
    "slide_helper": "slide_end",
    "slideshow": {
     "slide_type": "-"
    }
   },
   "outputs": [],
   "source": [
    "def dent(individual, lbda = 0.85):\n",
    "    \"\"\" \n",
    "    Implements the test problem Dent\n",
    "    Num. variables = 2; bounds in [-1.5, 1.5]; num. objetives = 2.\n",
    "    @author Cesar Revelo\n",
    "    \"\"\"\n",
    "    d  = lbda * math.exp(-(individual[0] - individual[1]) ** 2)  \n",
    "    f1 = 0.5 * (math.sqrt(1 + (individual[0] + individual[1]) ** 2) + \\\n",
    "                math.sqrt(1 + (individual[0] - individual[1]) ** 2) + \\\n",
    "                individual[0] - individual[1]) + d\n",
    "    f2 = 0.5 * (math.sqrt(1 + (individual[0] + individual[1]) ** 2) + \\\n",
    "                math.sqrt(1 + (individual[0] - individual[1]) ** 2) - \\\n",
    "                individual[0] + individual[1]) + d\n",
    "    return f1, f2"
   ]
  },
  {
   "cell_type": "markdown",
   "metadata": {
    "internals": {
     "frag_helper": "fragment_end",
     "frag_number": 11,
     "slide_type": "subslide"
    },
    "slideshow": {
     "slide_type": "slide"
    }
   },
   "source": [
    "Preparing a DEAP `toolbox` with Dent."
   ]
  },
  {
   "cell_type": "code",
   "execution_count": 7,
   "metadata": {
    "collapsed": true,
    "internals": {
     "frag_helper": "fragment_end",
     "frag_number": 11
    },
    "slideshow": {
     "slide_type": "-"
    }
   },
   "outputs": [],
   "source": [
    "toolbox = base.Toolbox()"
   ]
  },
  {
   "cell_type": "code",
   "execution_count": 8,
   "metadata": {
    "collapsed": true,
    "internals": {
     "frag_helper": "fragment_end",
     "frag_number": 11
    },
    "slideshow": {
     "slide_type": "-"
    }
   },
   "outputs": [],
   "source": [
    "BOUND_LOW, BOUND_UP = -1.5, 1.5\n",
    "NDIM = 2\n",
    "# toolbox.register(\"evaluate\", lambda ind: benchmarks.dtlz2(ind, 2))\n",
    "toolbox.register(\"evaluate\", dent)"
   ]
  },
  {
   "cell_type": "markdown",
   "metadata": {
    "internals": {
     "frag_helper": "fragment_end",
     "frag_number": 11
    },
    "slideshow": {
     "slide_type": "-"
    }
   },
   "source": [
    "Defining attributes, individuals and population."
   ]
  },
  {
   "cell_type": "code",
   "execution_count": 9,
   "metadata": {
    "collapsed": true,
    "internals": {
     "frag_helper": "fragment_end",
     "frag_number": 11,
     "slide_helper": "subslide_end"
    },
    "slide_helper": "slide_end",
    "slideshow": {
     "slide_type": "-"
    }
   },
   "outputs": [],
   "source": [
    "def uniform(low, up, size=None):\n",
    "    try:\n",
    "        return [random.uniform(a, b) for a, b in zip(low, up)]\n",
    "    except TypeError:\n",
    "        return [random.uniform(a, b) for a, b in zip([low] * size, [up] * size)]\n",
    "\n",
    "toolbox.register(\"attr_float\", uniform, BOUND_LOW, BOUND_UP, NDIM)\n",
    "toolbox.register(\"individual\", tools.initIterate, creator.Individual, toolbox.attr_float)\n",
    "toolbox.register(\"population\", tools.initRepeat, list, toolbox.individual)"
   ]
  },
  {
   "cell_type": "markdown",
   "metadata": {
    "internals": {
     "frag_helper": "fragment_end",
     "frag_number": 11,
     "slide_type": "subslide"
    },
    "slideshow": {
     "slide_type": "slide"
    }
   },
   "source": [
    "Creating an example population distributed as a mesh."
   ]
  },
  {
   "cell_type": "code",
   "execution_count": 10,
   "metadata": {
    "collapsed": true,
    "internals": {
     "frag_helper": "fragment_end",
     "frag_number": 11
    },
    "slideshow": {
     "slide_type": "-"
    }
   },
   "outputs": [],
   "source": [
    "num_samples = 50\n",
    "limits = [np.arange(BOUND_LOW, BOUND_UP, (BOUND_UP - BOUND_LOW)/num_samples)] * NDIM\n",
    "sample_x = np.meshgrid(*limits)"
   ]
  },
  {
   "cell_type": "code",
   "execution_count": 11,
   "metadata": {
    "collapsed": true,
    "internals": {
     "frag_helper": "fragment_end",
     "frag_number": 11,
     "slide_helper": "subslide_end"
    },
    "slide_helper": "slide_end",
    "slideshow": {
     "slide_type": "-"
    }
   },
   "outputs": [],
   "source": [
    "flat = []\n",
    "for i in range(len(sample_x)):\n",
    "    x_i = sample_x[i]\n",
    "    flat.append(x_i.reshape(num_samples**NDIM))"
   ]
  },
  {
   "cell_type": "code",
   "execution_count": 12,
   "metadata": {
    "collapsed": true,
    "internals": {
     "frag_helper": "fragment_end",
     "frag_number": 11,
     "slide_type": "subslide"
    },
    "slideshow": {
     "slide_type": "slide"
    }
   },
   "outputs": [],
   "source": [
    "example_pop = toolbox.population(n=num_samples**NDIM)"
   ]
  },
  {
   "cell_type": "code",
   "execution_count": 13,
   "metadata": {
    "collapsed": true,
    "internals": {
     "frag_helper": "fragment_end",
     "frag_number": 11
    },
    "slideshow": {
     "slide_type": "-"
    }
   },
   "outputs": [],
   "source": [
    "for i, ind in enumerate(example_pop):\n",
    "    for j in range(len(flat)):\n",
    "        ind[j] = flat[j][i]"
   ]
  },
  {
   "cell_type": "code",
   "execution_count": 14,
   "metadata": {
    "collapsed": true,
    "internals": {
     "frag_helper": "fragment_end",
     "frag_number": 11,
     "slide_helper": "subslide_end"
    },
    "slide_helper": "slide_end",
    "slideshow": {
     "slide_type": "-"
    }
   },
   "outputs": [],
   "source": [
    "fitnesses = toolbox.map(toolbox.evaluate, example_pop)\n",
    "for ind, fit in zip(example_pop, fitnesses):\n",
    "    ind.fitness.values = fit"
   ]
  },
  {
   "cell_type": "markdown",
   "metadata": {
    "internals": {
     "frag_helper": "fragment_end",
     "frag_number": 11,
     "slide_type": "subslide"
    },
    "slideshow": {
     "slide_type": "slide"
    }
   },
   "source": [
    "We also need `a_given_individual`."
   ]
  },
  {
   "cell_type": "code",
   "execution_count": 15,
   "metadata": {
    "collapsed": true,
    "internals": {
     "frag_helper": "fragment_end",
     "frag_number": 11
    },
    "slideshow": {
     "slide_type": "-"
    }
   },
   "outputs": [],
   "source": [
    "a_given_individual = toolbox.population(n=1)[0]\n",
    "a_given_individual[0] = 0.5\n",
    "a_given_individual[1] = 0.5"
   ]
  },
  {
   "cell_type": "code",
   "execution_count": 16,
   "metadata": {
    "collapsed": true,
    "internals": {
     "frag_helper": "fragment_end",
     "frag_number": 11,
     "slide_helper": "subslide_end"
    },
    "slide_helper": "slide_end",
    "slideshow": {
     "slide_type": "-"
    }
   },
   "outputs": [],
   "source": [
    "a_given_individual.fitness.values = toolbox.evaluate(a_given_individual)"
   ]
  },
  {
   "cell_type": "markdown",
   "metadata": {
    "internals": {
     "frag_helper": "fragment_end",
     "frag_number": 11,
     "slide_type": "subslide"
    },
    "slideshow": {
     "slide_type": "slide"
    }
   },
   "source": [
    "Implementing the Pareto dominance relation between two individulas."
   ]
  },
  {
   "cell_type": "code",
   "execution_count": 17,
   "metadata": {
    "collapsed": true,
    "internals": {
     "frag_helper": "fragment_end",
     "frag_number": 11
    },
    "slideshow": {
     "slide_type": "-"
    }
   },
   "outputs": [],
   "source": [
    "def pareto_dominance(ind1,ind2):\n",
    "    'Returns `True` if `ind1` dominates `ind2`.'\n",
    "    extrictly_better = False\n",
    "    for item1 in ind1.fitness.values:\n",
    "        for item2 in ind2.fitness.values:\n",
    "            if item1 > item2:\n",
    "                return False\n",
    "            if not extrictly_better and item1 < item2:\n",
    "                extrictly_better = True\n",
    "    return extrictly_better"
   ]
  },
  {
   "cell_type": "markdown",
   "metadata": {
    "internals": {
     "frag_helper": "fragment_end",
     "frag_number": 11,
     "slide_helper": "subslide_end"
    },
    "slide_helper": "slide_end",
    "slideshow": {
     "slide_type": "-"
    }
   },
   "source": [
    "*Note:* Bear in mind that DEAP comes with a Pareto dominance relation that probably is more efficient than this implementation.\n",
    "```python\n",
    "def pareto_dominance(x,y):\n",
    "    return tools.emo.isDominated(x.fitness.values, y.fitness.values)\n",
    "```"
   ]
  },
  {
   "cell_type": "markdown",
   "metadata": {
    "internals": {
     "frag_helper": "fragment_end",
     "frag_number": 11,
     "slide_type": "subslide"
    },
    "slideshow": {
     "slide_type": "slide"
    }
   },
   "source": [
    "Lets compute the set of individuals that are `dominated` by `a_given_individual`, the ones that dominate it (its `dominators`) and the remaining ones."
   ]
  },
  {
   "cell_type": "code",
   "execution_count": 18,
   "metadata": {
    "collapsed": true,
    "internals": {
     "frag_helper": "fragment_end",
     "frag_number": 11,
     "slide_helper": "subslide_end"
    },
    "slide_helper": "subslide_end",
    "slideshow": {
     "slide_type": "-"
    }
   },
   "outputs": [],
   "source": [
    "dominated = [ind for ind in example_pop if pareto_dominance(a_given_individual, ind)]\n",
    "dominators = [ind for ind in example_pop if pareto_dominance(ind, a_given_individual)]\n",
    "others = [ind for ind in example_pop if not ind in dominated and not ind in dominators]"
   ]
  },
  {
   "cell_type": "code",
   "execution_count": 19,
   "metadata": {
    "collapsed": true,
    "internals": {
     "frag_helper": "fragment_end",
     "frag_number": 11,
     "slide_helper": "subslide_end",
     "slide_type": "subslide"
    },
    "slide_helper": "slide_end",
    "slideshow": {
     "slide_type": "subslide"
    }
   },
   "outputs": [],
   "source": [
    "def plot_dent():\n",
    "    'Plots the points in decision and objective spaces.'\n",
    "    plt.figure(figsize=(10,5))\n",
    "    plt.subplot(1,2,1)\n",
    "    for ind in dominators: plt.plot(ind[0], ind[1], 'r.')\n",
    "    for ind in dominated: plt.plot(ind[0], ind[1], 'g.')\n",
    "    for ind in others: plt.plot(ind[0], ind[1], 'k.', ms=3)\n",
    "    plt.plot(a_given_individual[0], a_given_individual[1], 'bo', ms=6);\n",
    "    plt.xlabel('$x_1$');plt.ylabel('$x_2$');\n",
    "    plt.title('Decision space');\n",
    "    plt.subplot(1,2,2)\n",
    "    for ind in dominators: plt.plot(ind.fitness.values[0], ind.fitness.values[1], 'r.', alpha=0.7)\n",
    "    for ind in dominated: plt.plot(ind.fitness.values[0], ind.fitness.values[1], 'g.', alpha=0.7)\n",
    "    for ind in others: plt.plot(ind.fitness.values[0], ind.fitness.values[1], 'k.', alpha=0.7, ms=3)\n",
    "    plt.plot(a_given_individual.fitness.values[0], a_given_individual.fitness.values[1], 'bo', ms=6);\n",
    "    plt.xlabel('$f_1(\\mathbf{x})$');plt.ylabel('$f_2(\\mathbf{x})$');\n",
    "    plt.xlim((0.5,3.6));plt.ylim((0.5,3.6));\n",
    "    plt.title('Objective space');\n",
    "    plt.tight_layout()"
   ]
  },
  {
   "cell_type": "markdown",
   "metadata": {
    "internals": {
     "frag_helper": "fragment_end",
     "frag_number": 11,
     "slide_type": "subslide"
    },
    "slideshow": {
     "slide_type": "slide"
    }
   },
   "source": [
    "Having `a_given_individual` (blue dot) we can now plot those that are dominated by it (in green), those that dominate it (in red) and those that are uncomparable."
   ]
  },
  {
   "cell_type": "code",
   "execution_count": 20,
   "metadata": {
    "internals": {
     "frag_helper": "fragment_end",
     "frag_number": 11,
     "slide_helper": "subslide_end"
    },
    "slide_helper": "slide_end",
    "slideshow": {
     "slide_type": "-"
    }
   },
   "outputs": [
    {
     "data": {
      "image/png": "[encoded data removed]",
      "text/plain": [
       "<matplotlib.figure.Figure at 0x7f3b5026bdd0>"
      ]
     },
     "metadata": {},
     "output_type": "display_data"
    }
   ],
   "source": [
    "plot_dent()"
   ]
  },
  {
   "cell_type": "markdown",
   "metadata": {
    "internals": {
     "frag_helper": "fragment_end",
     "frag_number": 11,
     "slide_type": "subslide"
    },
    "slideshow": {
     "slide_type": "slide"
    }
   },
   "source": [
    "Obtaining the nondominated front."
   ]
  },
  {
   "cell_type": "code",
   "execution_count": 21,
   "metadata": {
    "collapsed": true,
    "internals": {
     "frag_helper": "fragment_end",
     "frag_number": 11
    },
    "slideshow": {
     "slide_type": "-"
    }
   },
   "outputs": [],
   "source": [
    "non_dom = tools.sortNondominated(example_pop, k=len(example_pop), first_front_only=True)[0]"
   ]
  },
  {
   "cell_type": "code",
   "execution_count": 22,
   "metadata": {
    "internals": {
     "frag_helper": "fragment_end",
     "frag_number": 11,
     "slide_helper": "subslide_end"
    },
    "slide_helper": "slide_end",
    "slideshow": {
     "slide_type": "-"
    }
   },
   "outputs": [
    {
     "data": {
      "text/plain": [
       "<matplotlib.text.Text at 0x7f3b471ca750>"
      ]
     },
     "execution_count": 22,
     "metadata": {},
     "output_type": "execute_result"
    },
    {
     "data": {
      "image/png": "[encoded data removed]",
      "text/plain": [
       "<matplotlib.figure.Figure at 0x7f3b47b51e90>"
      ]
     },
     "metadata": {},
     "output_type": "display_data"
    }
   ],
   "source": [
    "plt.figure(figsize=(5,5))\n",
    "for ind in example_pop:\n",
    "    plt.plot(ind.fitness.values[0], ind.fitness.values[1], 'k.', ms=3, alpha=0.5)\n",
    "for ind in non_dom:\n",
    "    plt.plot(ind.fitness.values[0], ind.fitness.values[1], 'bo', alpha=0.74, ms=5)\n",
    "plt.title('Pareto-optimal front')"
   ]
  },
  {
   "cell_type": "markdown",
   "metadata": {
    "internals": {
     "frag_helper": "fragment_end",
     "frag_number": 11,
     "slide_helper": "subslide_end",
     "slide_type": "subslide"
    },
    "slide_helper": "slide_end",
    "slideshow": {
     "slide_type": "slide"
    }
   },
   "source": [
    "# The Non-dominated Sorting Genetic Algorithm (NSGA-II)\n",
    "\n",
    "* NSGA-II algorithm is one of the pillars of the EMO field.\n",
    "    * Deb, K., Pratap, A., Agarwal, S., Meyarivan, T., *A fast and elitist multiobjective genetic algorithm: NSGA-II*, IEEE Transactions on Evolutionary Computation, vol.6, no.2, pp.182,197, Apr 2002 doi: [10.1109/4235.996017](http://dx.doi.org/10.1109/4235.996017).\n",
    "* Fitness assignment relies on the Pareto dominance relation:\n",
    "    1. Rank individuals according the dominance relations established between them. \n",
    "    2. Individuals with the same domination rank are then compared using a local crowding distance."
   ]
  },
  {
   "cell_type": "markdown",
   "metadata": {
    "internals": {
     "frag_helper": "fragment_end",
     "frag_number": 11,
     "slide_helper": "subslide_end",
     "slide_type": "subslide"
    },
    "slide_helper": "slide_end",
    "slideshow": {
     "slide_type": "slide"
    }
   },
   "source": [
    "## NSGA-II fitness in detail\n",
    "\n",
    "* The first step consists in classifying the individuals in a series of categories $\\mathcal{F}_1,\\ldots,\\mathcal{F}_L$. \n",
    "* Each of these categories store individuals that are only dominated by the elements of the previous categories,\n",
    "$$\n",
    "\\begin{array}{rl}\n",
    "\t\\forall \\vec{x}\\in\\set{F}_i: &\\exists \\vec{y}\\in\\set{F}_{i-1} \\text{ such that } \\vec{y}\\dom\\vec{x},\\text{ and }\\\\ \n",
    "\t                            &\\not\\exists\\vec{z}\\in \\set{P}_t\\setminus\\left( \\set{F}_1\\cup\\ldots\\cup\\set{F}_{i-1}\n",
    "\t                            \\right)\\text{ that }\\vec{z}\\dom\\vec{x}\\,;\n",
    "\\end{array}\n",
    "$$\n",
    "with $\\mathcal{F}_1$ equal to $\\mathcal{P}_t^\\ast$, the set of non-dominated individuals of $\\mathcal{P}_t$.\n",
    "\n",
    "* After all individuals are ranked a local crowding distance is assigned to them. \n",
    "* The use of this distance primes individuals more isolated with respect to others. "
   ]
  },
  {
   "cell_type": "markdown",
   "metadata": {
    "internals": {
     "frag_helper": "fragment_end",
     "frag_number": 11,
     "slide_helper": "subslide_end",
     "slide_type": "subslide"
    },
    "slide_helper": "slide_end",
    "slideshow": {
     "slide_type": "slide"
    }
   },
   "source": [
    "## Crowding distance\n",
    "\n",
    "The assignment process goes as follows,\n",
    "\n",
    "* for each category set $\\set{F}_l$, having $f_l=|\\set{F}_l|$,\n",
    "    * for each individual $\\vec{x}_i\\in\\set{F}_l$, set $d_{i}=0$.\n",
    "    * for each objective function $m=1,\\ldots,M$,\n",
    "        * $\\vec{I}=\\mathrm{sort}\\left(\\set{F}_l,m\\right)$ (generate index vector).\n",
    "        * $d_{I_1}^{(l)}=d_{I_{f_l}}^{(l)}=\\infty$.\n",
    "        * for $i=2,\\ldots,f_l-1$,\n",
    "            * Update the remaining distances as,\n",
    "                $$\n",
    "                d_i = d_i + \\frac{f_m\\left(\\vec{x}_{I_{i+1}}\\right)-f_m\\left(\\vec{x}_{I_{i+1}}\\right)}\n",
    "\t\t\t                   {f_m\\left(\\vec{x}_{I_{1}}\\right)-f_m\\left(\\vec{x}_{I_{f_l}}\\right)}\\,.\n",
    "                $$\n",
    "\n",
    "Here the $\\mathrm{sort}\\left(\\set{F},m\\right)$ function produces an ordered index vector $\\vec{I}$ with respect to objective function $m$. "
   ]
  },
  {
   "cell_type": "markdown",
   "metadata": {
    "internals": {
     "frag_helper": "fragment_end",
     "frag_number": 11,
     "slide_helper": "subslide_end",
     "slide_type": "subslide"
    },
    "slide_helper": "slide_end",
    "slideshow": {
     "slide_type": "slide"
    }
   },
   "source": [
    "Sorting the population by rank and distance.\n",
    "\n",
    "* Having the individual ranks and their local distances they are sorted using the crowded comparison operator, stated as: \n",
    "    * An individual $\\vec{x}_i$ _is better than_ $\\vec{x}_j$ if:\n",
    "        * $\\vec{x}_i$ has a better rank: $\\vec{x}_i\\in\\set{F}_k$, $\\vec{x}_j\\in\\set{F}_l$ and $k<l$, or;\n",
    "        * if $k=l$ and $d_i>d_j$.\n",
    "        \n",
    "**Now we have key element of the the non-dominated sorting GA.**"
   ]
  },
  {
   "cell_type": "markdown",
   "metadata": {
    "internals": {
     "frag_helper": "fragment_end",
     "frag_number": 11,
     "slide_helper": "subslide_end",
     "slide_type": "subslide"
    },
    "slide_helper": "slide_end",
    "slideshow": {
     "slide_type": "slide"
    }
   },
   "source": [
    "## Implementing NSGA-II\n",
    "\n",
    "We will deal with [DTLZ3](http://www.tik.ee.ethz.ch/sop/download/supplementary/testproblems/dtlz3/), which is a more difficult test problem.\n",
    "\n",
    "* DTLZ problems can be configured to have as many objectives as desired, but as we want to visualize results we will stick to two objectives.\n",
    "* DTLZ3 is a (more complex) version of [DTLZ2](http://www.tik.ee.ethz.ch/sop/download/supplementary/testproblems/dtlz2/).\n",
    "* The Pareto-optimal front of DTLZ3 lies in the first [orthant](http://en.wikipedia.org/wiki/Orthant) of a unit (radius 1) hypersphere located at the coordinate origin ($\\vec{0}$).\n",
    "* It has many local optima that run parallel to the global optima and render the optimization process more complicated.\n",
    "\n",
    "<div align='center'><img src='http://www.cs.cinvestav.mx/~emoobook/apendix-e/galeria4/dtlz3a.jpg' width=\"38%\" align='center'/>\n",
    "from Coello Coello, Lamont and Van Veldhuizen (2007) Evolutionary Algorithms for Solving Multi-Objective Problems, Second Edition. Springer [Appendix E](http://www.cs.cinvestav.mx/~emoobook/apendix-e/apendix-e.html).</div>"
   ]
  },
  {
   "cell_type": "markdown",
   "metadata": {
    "internals": {
     "frag_helper": "fragment_end",
     "frag_number": 11,
     "slide_type": "subslide"
    },
    "slideshow": {
     "slide_type": "slide"
    }
   },
   "source": [
    "New `toolbox` instance with the necessary components."
   ]
  },
  {
   "cell_type": "code",
   "execution_count": 23,
   "metadata": {
    "collapsed": true,
    "internals": {
     "frag_helper": "fragment_end",
     "frag_number": 11
    },
    "slideshow": {
     "slide_type": "-"
    }
   },
   "outputs": [],
   "source": [
    "toolbox = base.Toolbox()"
   ]
  },
  {
   "cell_type": "markdown",
   "metadata": {},
   "source": [
    "Define problem domain as $\\vec{x}\\in\\left[0,1\\right]^{30}$ and a two-objective DTLZ3 instance."
   ]
  },
  {
   "cell_type": "code",
   "execution_count": 24,
   "metadata": {
    "collapsed": true,
    "internals": {
     "frag_helper": "fragment_end",
     "frag_number": 11
    },
    "slideshow": {
     "slide_type": "-"
    }
   },
   "outputs": [],
   "source": [
    "NDIM = 30 \n",
    "BOUND_LOW, BOUND_UP = 0.0, 1.0\n",
    "toolbox.register(\"evaluate\", lambda ind: benchmarks.dtlz3(ind, 2))"
   ]
  },
  {
   "cell_type": "markdown",
   "metadata": {
    "internals": {
     "frag_helper": "fragment_end",
     "frag_number": 11
    },
    "slideshow": {
     "slide_type": "-"
    }
   },
   "source": [
    "Describing attributes, individuals and population and defining the selection, mating and mutation operators."
   ]
  },
  {
   "cell_type": "code",
   "execution_count": 25,
   "metadata": {
    "collapsed": true,
    "internals": {
     "frag_helper": "fragment_end",
     "frag_number": 11
    },
    "slideshow": {
     "slide_type": "-"
    }
   },
   "outputs": [],
   "source": [
    "toolbox.register(\"attr_float\", uniform, BOUND_LOW, BOUND_UP, NDIM)\n",
    "toolbox.register(\"individual\", tools.initIterate, creator.Individual, toolbox.attr_float)\n",
    "toolbox.register(\"population\", tools.initRepeat, list, toolbox.individual)\n",
    "toolbox.register(\"mate\", tools.cxSimulatedBinaryBounded, low=BOUND_LOW, up=BOUND_UP, eta=20.0)\n",
    "toolbox.register(\"mutate\", tools.mutPolynomialBounded, low=BOUND_LOW, up=BOUND_UP, eta=20.0, indpb=1.0/NDIM)\n",
    "toolbox.register(\"select\", tools.selNSGA2)"
   ]
  },
  {
   "cell_type": "markdown",
   "metadata": {
    "internals": {
     "frag_helper": "fragment_end",
     "frag_number": 11
    },
    "slideshow": {
     "slide_type": "-"
    }
   },
   "source": [
    "Let's also use the `toolbox` to store other configuration parameters of the algorithm. This will show itself usefull when performing massive experiments."
   ]
  },
  {
   "cell_type": "code",
   "execution_count": 26,
   "metadata": {
    "collapsed": true,
    "internals": {
     "frag_helper": "fragment_end",
     "frag_number": 11,
     "slide_helper": "subslide_end"
    },
    "slide_helper": "slide_end",
    "slideshow": {
     "slide_type": "-"
    }
   },
   "outputs": [],
   "source": [
    "toolbox.pop_size = 50\n",
    "toolbox.max_gen = 1000\n",
    "toolbox.mut_prob = 0.2\n",
    "pop = toolbox.population(toolbox.pop_size)"
   ]
  },
  {
   "cell_type": "markdown",
   "metadata": {
    "internals": {
     "frag_helper": "fragment_end",
     "frag_number": 11,
     "slide_type": "subslide"
    },
    "slideshow": {
     "slide_type": "slide"
    }
   },
   "source": [
    "## A compact NSGA-II implementation\n",
    "\n",
    "Storing all the required information in the `toolbox` and using DEAP's `algorithms.eaMuPlusLambda` function allows us to create a very compact -albeit not a 100% exact copy of the original- implementation of NSGA-II."
   ]
  },
  {
   "cell_type": "code",
   "execution_count": 27,
   "metadata": {
    "collapsed": true,
    "internals": {
     "frag_helper": "fragment_end",
     "frag_number": 11,
     "slide_helper": "subslide_end"
    },
    "slide_helper": "slide_end",
    "slideshow": {
     "slide_type": "-"
    }
   },
   "outputs": [],
   "source": [
    "def run_ea(toolbox, stats=None, verbose=False):\n",
    "    pop = toolbox.population(toolbox.pop_size)\n",
    "    fitnesses = map(toolbox.evaluate, pop)\n",
    "    for ind, fit in zip(pop, fitnesses):\n",
    "        ind.fitness.values = fit\n",
    "    pop = toolbox.select(pop, toolbox.pop_size)\n",
    "    return algorithms.eaMuPlusLambda(pop, toolbox, mu=toolbox.pop_size, \n",
    "                                     lambda_=toolbox.pop_size, \n",
    "                                     cxpb=1-toolbox.mut_prob,\n",
    "                                     mutpb=toolbox.mut_prob, \n",
    "                                     stats=stats, \n",
    "                                     ngen=toolbox.max_gen, \n",
    "                                     verbose=verbose)"
   ]
  },
  {
   "cell_type": "code",
   "execution_count": 28,
   "metadata": {},
   "outputs": [
    {
     "name": "stdout",
     "output_type": "stream",
     "text": [
      "[array('d', [0.43515873531519855, 0.9199890489003425, 0.4537078650836456, 0.6736100427370446, 0.11851234901311947, 0.7135637119646769, 0.19054416526893014, 0.8619367242858739, 0.7821219434306237, 0.28796197285088165, 0.4941681577419751, 0.13019933127841787, 0.8563377276555146, 0.6000827864972248, 0.9952074499732918, 0.2829672450326983, 0.6771886511844633, 0.4183309911219021, 0.40852410191642885, 0.1459428521154308, 0.290192961514951, 0.261799463894111, 0.6176802400572351, 0.9073282349729386, 0.3696377395309737, 0.6842670861425665, 0.45816411141856517, 0.010320242262494617, 0.13320493602338035, 0.32324597965478274]), array('d', [0.6930235579427683, 0.6868524492697243, 0.7133359490595419, 0.7084531666583638, 0.7361041053920682, 0.2562255939323873, 0.09527942208200668, 0.05875231364453293, 0.33286254056591247, 0.2348414396564097, 0.9082265373639887, 0.9967394367335324, 0.9393219401746358, 0.9672098443079628, 0.598232065957531, 0.7482418403763543, 0.04551187161625159, 0.25365688282655174, 0.6196578769455676, 0.30250735564175146, 0.39469681435273596, 0.37090121308146595, 0.968057810457244, 0.5595603886330499, 0.580486909891458, 0.26029165215690797, 0.5037467218402014, 0.930326941156214, 0.877896751970685, 0.13191953368222697]), array('d', [0.31731738679301413, 0.5304238008926038, 0.14179573402111234, 0.11684205616466403, 0.04416216148820962, 0.12787149473436632, 0.8716795591516158, 0.8348040378168273, 0.7478233677192941, 0.9262370424724073, 0.2829255081921269, 0.8769363855065135, 0.612931570631185, 0.7615639189386135, 0.26375794050822166, 0.3130103158636045, 0.8926718098296509, 0.31554291946343505, 0.9945650658851473, 0.7636754136536322, 0.15126474615689145, 0.8530336612675548, 0.657419477676244, 0.7982201832532108, 0.05322218827098568, 0.14862080704098313, 0.2298605455692211, 0.035862248169239774, 0.2602239635851603, 0.7059628625745538]), array('d', [0.43642986652272964, 0.9952017433581889, 0.9272063411393074, 0.040791708540317995, 0.356520116245885, 0.709029142266918, 0.48519951446175347, 0.4929885500110006, 0.8458383509499129, 0.8668793003861137, 0.123654234033855, 0.0935778782049842, 0.8681731096216772, 0.18065496411140003, 0.16829500161064148, 0.5087377639306467, 0.2727915537599279, 0.8908945222432738, 0.585677401813836, 0.5835473909825425, 0.9716273546526262, 0.5260154065999957, 0.5707878111345235, 0.41641899138996896, 0.07683546279488074, 0.7682534269847778, 0.6769085160963626, 0.8873676980186833, 0.025962168606230906, 0.6813123448292498]), array('d', [0.6806394094377081, 0.39416980276672764, 0.5903384978260728, 0.951219850078746, 0.8369772085811074, 0.15377546868379788, 0.08106323674494897, 0.8306992255725462, 0.6595393231500319, 0.45405551514295284, 0.9552015309730055, 0.5942042593509428, 0.005805360745094079, 0.9697705138016268, 0.6561727570173506, 0.9508959684752076, 0.32491546830101603, 0.7315452173338912, 0.734319559535968, 0.9574027791398276, 0.5691584358313694, 0.21136686103998747, 0.0486822486039844, 0.6436440295201094, 0.32317084668686213, 0.05553502398580301, 0.07072408904996674, 0.951900188641932, 0.3813909299116657, 0.39885849695774833]), array('d', [0.17801080077946274, 0.9650493098115733, 0.8655155107298289, 0.08918830767655395, 0.852345833243599, 0.1629406838752545, 0.779492545145722, 0.2849358889994621, 0.7525585662903819, 0.6540642988244791, 0.12060198410262657, 0.4908450976096125, 0.43235841941750996, 0.80635319591835, 0.31010130721132656, 0.6849619418644428, 0.13128666847232173, 0.6655202962168417, 0.832052874322659, 0.5126532256593649, 0.4896230358290852, 0.8854130386418814, 0.47643968662976766, 0.5630570769335385, 0.423070580439436, 0.7564906434903766, 0.8109943596142234, 0.6138677834447908, 0.4341059225103725, 0.4260170988213081]), array('d', [0.04043808961914075, 0.341744847396551, 0.4635248756143453, 0.22423021232791696, 0.6862365358593723, 0.15506970085701055, 0.49532225375830163, 0.6295595813335879, 0.5246777838764347, 0.29070302447839946, 0.43735551893102464, 0.9072077110524824, 0.4776113651722167, 0.14860653865476126, 0.12778974834318402, 0.9029036186665941, 0.8415379542757087, 0.5230920570174739, 0.29548163390558724, 0.04772827439750971, 0.07653251973764608, 0.0450949036584386, 0.10763217144199888, 0.4249135212080136, 0.09448436248791581, 0.6608552539371698, 0.5684782103659567, 0.2533803310651901, 0.254860204350709, 0.0817695615339783]), array('d', [0.5034445674439422, 0.11393549099949118, 0.6615783234155099, 0.179552195863255, 0.1822081345536546, 0.39295733753784534, 0.08329056513496902, 0.8767553471355032, 0.29764751578827464, 0.587208388180246, 0.454998148660021, 0.6702598664905719, 0.6238103941666637, 0.2650743897358654, 0.9667196267702574, 0.8713448182493896, 0.18719173380038412, 0.18508739082679537, 0.7470293192728324, 0.6040528733977502, 0.8716157948479709, 0.10633065874724767, 0.5343760029816271, 0.0058470695833402475, 0.11667826036590778, 0.17173535120338923, 0.4771198739123569, 0.6918062299869328, 0.868780520988383, 0.9658038075584682]), array('d', [0.6018874401294544, 0.48672249393761136, 0.6184993744874929, 0.973921892171687, 0.36072878309087664, 0.6738031429286421, 0.6902933543555608, 0.394997237657314, 0.3026566586467261, 0.12508948993022695, 0.013875918021813649, 0.11191250246739548, 0.015885246515515705, 0.9705203636603139, 0.8590120302648492, 0.2092294803344994, 0.6486232217040224, 0.6497398260368422, 0.435788473800493, 0.6260591511293452, 0.7900115366174469, 0.19091445271740515, 0.30091786958069455, 0.4634255554390374, 0.4739890875062288, 0.02181682822450115, 0.16610549317609768, 0.15242223992035664, 0.7025981057082559, 0.9638668707389149]), array('d', [0.4714891986521167, 0.8597964454406222, 0.5852262693839494, 0.2013384200247481, 0.5694304617453423, 0.8338385328034564, 0.05092218021936756, 0.0078742809792125, 0.630409880337339, 0.7130928146227296, 0.9794869379377804, 0.8486162610031903, 0.7370783133705054, 0.5958395505776892, 0.5543045252489027, 0.29077453193826386, 0.48749651312589914, 0.48610096062239794, 0.5910392755613787, 0.6114952931946587, 0.6786679171403731, 0.8166892369660302, 0.48790149563480745, 0.7142903287761262, 0.5283088089452658, 0.4220045475393783, 0.3158501502369022, 0.06351056894547391, 0.892877196135374, 0.41713745809451186]), array('d', [0.4733379715453143, 0.4947888003490618, 0.9389644760353849, 0.3467641133690281, 0.6975144403892011, 0.020806924710671804, 0.2880107814536179, 0.19220129750103077, 0.3438473898031613, 0.23210311314192367, 0.21970234504087793, 0.9090701541675186, 0.33915299863916326, 0.6021001328040196, 0.8424671345591482, 0.6569581364726073, 0.1311585670946046, 0.2933940419777855, 0.7113851859448196, 0.9598033682768127, 0.8330807457953466, 0.6731072936393334, 0.7345846322197881, 0.7959726637030008, 0.7997550589661422, 0.8445312839897405, 0.6218423784316226, 0.28245721526963663, 0.7492543018325559, 0.6670564523554575]), array('d', [0.12909655402072595, 0.19948422280187972, 0.6057490072562227, 0.10090372557552496, 0.4159843619395397, 0.993767235381343, 0.3036518933975615, 0.2094329413535484, 0.047049336129883046, 0.018130595675012073, 0.880906106984675, 0.35704387483692057, 0.1586054651045411, 0.8279486884136622, 0.8944574706515588, 0.0319700077683891, 0.06366558624606389, 0.4306204625514841, 0.6175629215440918, 0.12068803282068252, 0.2240956387398041, 0.25782214100407674, 0.3403242139882281, 0.35524097658227305, 0.046676358357778835, 0.8777136471645709, 0.26749123555658527, 0.1511783737943183, 0.6901355823404765, 0.5153874427399745]), array('d', [0.6694858901511282, 0.706404917317793, 0.9266320984532515, 0.4378267064615107, 0.4571356398064427, 0.841596974102887, 0.1109308449526113, 0.10589185939470225, 0.6105725438122142, 0.7821562577663913, 0.9473834939440193, 0.8236102280204957, 0.041969437206579197, 0.10541108375077168, 0.6299261161540399, 0.870869474153118, 0.9109857705357554, 0.15703254735730043, 0.2921229877186071, 0.44151791007790475, 0.5058966167151256, 0.7325518941170924, 0.09929423894208467, 0.6470929709355302, 0.3346075253126083, 0.1377724641783793, 0.8485950917146379, 0.4391084609153618, 0.4157498387189157, 0.7690331638350156]), array('d', [0.24531606461713729, 0.8091452157025287, 0.341320069780635, 0.5050227282290294, 0.08523386169981673, 0.37243635740279957, 0.7548452125117824, 0.3606434064316779, 0.6649952549148446, 0.15161121452753434, 0.7535071710471084, 0.4217222093583326, 0.22818200393016874, 0.8017686786414895, 0.41340941874697845, 0.40930931939233284, 0.4587530639159719, 0.8523904794168121, 0.7946073463722961, 0.36177436965510434, 0.029762927014966967, 0.14558430589848648, 0.009948713463736492, 0.8062468656700007, 0.9436428403078108, 0.08477821453141887, 0.314804571879289, 0.9819449243871319, 0.1643246817147156, 0.061468328485386525]), array('d', [0.7591923850558231, 0.6601761722752366, 0.64146575444156, 0.9025111315738951, 0.05780982954601177, 0.6316075621548821, 0.7133695170214084, 0.6603616317794719, 0.5197783632029678, 0.29572442486364614, 0.4020028180314812, 0.6808706574200868, 0.5536104282255945, 0.3043230229731726, 0.7426975020296516, 0.9092308532011312, 0.007902233503785383, 0.27978074476278214, 0.5277917356073935, 0.9204505916451052, 0.7002950638826048, 0.4461890507033418, 0.2051335713832062, 0.5444252910044765, 0.7883415789767165, 0.6520370873968587, 0.6974709655735687, 0.8876748965071967, 0.7815630931314602, 0.4045057056501532]), array('d', [0.19729575426112622, 0.3015314123353431, 0.03697017235631861, 0.3344929247349019, 0.7250986823356191, 0.74005222231057, 0.1260056459938712, 0.9919239695429073, 0.28392785946827015, 0.09281956785672607, 0.5517858513612479, 0.5213358651154404, 0.7570463242805414, 0.16002734022901755, 0.027891225295657907, 0.7965986992413747, 0.5925036017499132, 0.24133977914027105, 0.7741577871437526, 0.7265092463995954, 0.9869547002410485, 0.11044190624345962, 0.05994573862540298, 0.3729788680356476, 0.6269895323179615, 0.35447334590414925, 0.0477328729373212, 0.6509624193708824, 0.12474980539632496, 0.2979611126514917]), array('d', [0.736858695784311, 0.4531471605522952, 0.9829505625076392, 0.8053875621092175, 0.9890000788986222, 0.5655972265798384, 0.8943388978953616, 0.6277443518155853, 0.5332886565066558, 0.5955489146250329, 0.350337135040772, 0.2845354949453649, 0.7847892628243508, 0.7148544682023356, 0.6724338020382187, 0.7143509788637289, 0.5196666474455023, 0.24763333130796938, 0.3278469630811499, 0.5823690458577517, 0.8228427229713612, 0.3612675328128754, 0.09798783173079229, 0.7116404207474897, 0.8284376294318806, 0.08194716343468877, 0.06219367254441022, 0.8885092968498417, 0.47625307153749763, 0.446164087042754]), array('d', [0.3692942163111451, 0.5262556031551487, 0.5882394578976068, 0.5189449994178468, 0.39478247517358356, 0.2636937095545513, 0.498827305707791, 0.4234221949913485, 0.4400799549297828, 0.9310356076644363, 0.48954106667426933, 0.9732724831769045, 0.8238118303033916, 0.1443461813463709, 0.12712397787544427, 0.7111505676635563, 0.12938518798374976, 0.704524684795629, 0.8632716575945996, 0.11805815767102468, 0.2126425389605192, 0.47335556173777116, 0.7464963060381985, 0.9440695610569916, 0.36933205963445714, 0.9518217527774427, 0.6016002137386635, 0.40861985914659615, 0.12086642808903725, 0.5717647544264091]), array('d', [0.04028214158697052, 0.15330451069580175, 0.3714673541853173, 0.991020101118533, 0.3032600827066696, 0.4859255405364765, 0.791203701070468, 0.14213980573261153, 0.5896242441367877, 0.048651046580230006, 0.8942529283848699, 0.8890572062394194, 0.2155814557006741, 0.8191250692282641, 0.48879365624551285, 0.12232790550244821, 0.34864894351038733, 0.8704265359392946, 0.4175751543132694, 0.5730590917892894, 0.5657639760700942, 0.9002872879641, 0.7813493488528254, 0.4752275484387575, 0.7200334953791161, 0.6057097102165937, 0.7619512314984372, 0.504763861272188, 0.4609361645704416, 0.4499293913485165]), array('d', [0.4490747388376488, 0.8663455525626551, 0.3252162865498287, 0.7998116211948575, 0.66450231241874, 0.40962832709577024, 0.23282228335920285, 0.39539712920038306, 0.5409944507913269, 0.9580794920805382, 0.8900431651107683, 0.7359127944512299, 0.6459165296594045, 0.8659535733283666, 0.7072086261570758, 0.5719947936394006, 0.7961587814360495, 0.7073988490465885, 0.5610443550732708, 0.12378161135251953, 0.5593528232362273, 0.19242673333859683, 0.618704054816323, 0.5768555831731496, 0.05287438599238392, 0.570244383228971, 0.18939587288020976, 0.4758356921571403, 0.8968642802436952, 0.12028317643891573]), array('d', [0.9361818099905508, 0.17974340142590373, 0.018973583541531225, 0.7867570460275187, 0.2452866943902563, 0.7056177022972512, 0.8876558287408407, 0.44422946933394625, 0.8069210241253961, 0.6068548211487469, 0.40179786524841954, 0.04498364397490795, 0.861974335714048, 0.023263248353872834, 0.43701741978904607, 0.41493642348093485, 0.8596484104387593, 0.31738243536659316, 0.2571777931677184, 0.1146446241422453, 0.09933363304867793, 0.1681559926670173, 0.14403425293169114, 0.2555545253180317, 0.08962856348028303, 0.306794218362605, 0.40727643429196303, 0.16919104798818918, 0.6144754287684212, 0.325290696184768]), array('d', [0.027171192417298373, 0.05850178225356584, 0.38993971123355786, 0.32004146384045884, 0.412822811998509, 0.3242177907968632, 0.37551315830333165, 0.8277413986586146, 0.12096626350192807, 0.20255945801454, 0.752133738972281, 0.5860290768481129, 0.4929794409023319, 0.7523899786503706, 0.38504867963013834, 0.11508137188320999, 0.06063197790336938, 0.4648235332453331, 0.40707646359099603, 0.48417150995810654, 0.4074937897439397, 0.23374045575957814, 0.8861558960275563, 0.26915973837729734, 0.9634746878309003, 0.6750974290185378, 0.2463160959108046, 0.5547074500586905, 0.7852141866503011, 0.3046128419655981]), array('d', [0.4067459214179385, 0.0839083555808503, 0.6357989944549827, 0.20345690684677342, 0.9679115127203392, 0.3733052204582076, 0.9853087154640877, 0.7820236626651993, 0.5375356298134671, 0.4237524566155083, 0.9114927318331021, 0.45174200118923247, 0.0010010586130895227, 0.4646520537221017, 0.8293717847818874, 0.28924945483400555, 0.9720818040324872, 0.0005429317070172468, 0.9335068160430394, 0.48218625987546837, 0.5978677515006732, 0.8394877216219737, 0.38015351443917944, 0.3514179203095933, 0.6322069407459656, 0.5851591664603665, 0.5103284216024823, 0.045484730313839705, 0.7391829455948568, 0.5630815779412927]), array('d', [0.30063834853258053, 0.3953049011411466, 0.12297696493937149, 0.1396502682944668, 0.5564790815027151, 0.27945829837232294, 0.4319624320480985, 0.6104453094662744, 0.9574171736989658, 0.31830394181558197, 0.6821009959683453, 0.3426352563140532, 0.2613605333837892, 0.7526940011065758, 0.45271808112422474, 0.24592828498987118, 0.9830219471576679, 0.34162980474996485, 0.45979934155190494, 0.599513667288849, 0.01587461616112462, 0.6918450603911708, 0.6464432919193639, 0.002047513490816555, 0.4765289500674549, 0.9014449939845398, 0.6727064041311742, 0.4131630327983994, 0.8952681772149349, 0.7032996750546746]), array('d', [0.7624652414976886, 0.5381314537014721, 0.7873052349442264, 0.6490972761159127, 0.07752311631030828, 0.03094752052852645, 0.8320838646296903, 0.6716130781559405, 0.6722459131733745, 0.3529947323504017, 0.8127812473205956, 0.827466835091344, 0.35796574046277274, 0.17718663691837921, 0.7679658443620033, 0.69703013437834, 0.008431375956266085, 0.46269253172338476, 0.9362478494121943, 0.444577656756068, 0.22152076470214455, 0.019781669664539314, 0.2811344838183697, 0.9213986896663738, 0.3578210189306116, 0.0899665192982615, 0.6134427087399107, 0.3031785324842817, 0.71780952976009, 0.23425794378011755]), array('d', [0.49380867158842456, 0.3629991787433329, 0.2807563580038984, 0.9045075901154257, 0.7069680065365654, 0.20908632134747052, 0.19608679402070883, 0.8211234706523723, 0.3960861795466134, 0.86991623250654, 0.5691022314155522, 0.4940113214438937, 0.5517851873768139, 0.6598384211869152, 0.5657070478213991, 0.6823836013896207, 0.5651402337516013, 0.06536062500003414, 0.12824639488736866, 0.06504932140880004, 0.2596244807061806, 0.5699032906851095, 0.22796517521890314, 0.5230799595184539, 0.7822527086312172, 0.19185154771556834, 0.6779787169629149, 0.991951353623053, 0.692985815388966, 0.5329415173415583]), array('d', [0.25292107224971316, 0.560115977250799, 0.4539261236932498, 0.937890368902046, 0.6409662863098068, 0.9430742237719152, 0.051862797542361894, 0.9387593293413464, 0.43254817161218484, 0.9951064765965633, 0.27403559626428553, 0.6801734754316155, 0.4665867276160025, 0.3614718431029983, 0.7590217146535565, 0.8838024416656812, 0.22454820608321313, 0.27793303071254105, 0.4200620690912774, 0.44886149701656375, 0.005159284113786189, 0.19460813950528066, 0.08180890142990982, 0.5718196169113584, 0.025371938871328825, 0.7374441789509951, 0.9780956111069691, 0.42382025687229397, 0.07444036690142164, 0.24998416153249747]), array('d', [0.16448157525974982, 0.3108058576497742, 0.6259946869708203, 0.09672609737420634, 0.4799664201732645, 0.8080590741636121, 0.5925307705791362, 0.6262971083451867, 0.3343025359549193, 0.2504094708498833, 0.1078406533120313, 0.23835921256842207, 0.34080196792272854, 0.05443286017800708, 0.3335884550189602, 0.7941111194844817, 0.9435475772091063, 0.7757494717833749, 0.6195665556082836, 0.7640985704635884, 0.6253487575535192, 0.5789344692589817, 0.08553469907138922, 0.06068694529469587, 0.033343675564193154, 0.31327943421962656, 0.8476921446126973, 0.06502821879570364, 0.12753579066695442, 0.9191157877623073]), array('d', [0.4419184033184411, 0.3014710740055042, 0.6261852117764874, 0.0657902591066627, 0.6775644574745741, 0.559258051605546, 0.2949167702341773, 0.3814554840451707, 0.0958302514054028, 0.7519633577101529, 0.2331119840188528, 0.5995758532544583, 0.6597240315676343, 0.010606545607829365, 0.3839200248137793, 0.7951646777101288, 0.8799381674841843, 0.6192305542623842, 0.33961647488863334, 0.937584852246762, 0.7829291375426357, 0.4540767633707291, 0.32819366893033197, 0.19248131743078367, 0.10268965372658201, 0.5951751076675906, 0.06754447216456005, 0.7894164237438102, 0.19361454177178428, 0.5732121327965082]), array('d', [0.6373637356527001, 0.256286102200979, 0.42100700349658204, 0.7246230365399337, 0.4446243136072412, 0.24315247787291328, 0.7970255840127973, 0.0604911828613337, 0.31166685808094063, 0.43584812814836005, 0.9597413513936472, 0.7543736350368234, 0.3111882402275943, 0.885221910038171, 0.7754956643702439, 0.14740906260552822, 0.3086744144806972, 0.3429003156055803, 0.3688299951722551, 0.008081842345599721, 0.5864399124508858, 0.6783003743335633, 0.057317646126354815, 0.5071078674434407, 0.8351749297935509, 0.8587022055283732, 0.4220611404166825, 0.19540712964915308, 0.20037190348323275, 0.9085002184008153]), array('d', [0.785263807091145, 0.34155192367252385, 0.6678601389804859, 0.6947815767812803, 0.9819232558265506, 0.599762303325637, 0.3311454344690492, 0.5784107488848038, 0.9630648891304469, 0.6161031372817724, 0.41869528836473113, 0.16227998662626664, 0.45430209395368004, 0.7891913869272398, 0.04219214987703168, 0.21940588146413553, 0.0036970722583461457, 0.22302508870676574, 0.23027401020032723, 0.6239200175787397, 0.23901903987486806, 0.7345861775305003, 0.95258822899053, 0.3315151095932074, 0.740081387578784, 0.20531636029714762, 0.1842445122158849, 0.9898780435824795, 0.36281714595773884, 0.0737311568698783]), array('d', [0.03001758869507609, 0.11518929259778532, 0.29057621538943135, 0.19440344446401725, 0.5856863924317715, 0.7655327346914205, 0.043904825861076024, 0.02968557327332244, 0.19782499435619172, 0.17414660914946367, 0.8853822295516643, 0.7188366739026049, 0.33981749301801756, 0.5545049551573713, 0.17854143080106044, 0.02149202805815198, 0.8428814207150682, 0.9106489501982198, 0.020993760462445943, 0.677452378997531, 0.3789227579151778, 0.7874140805379415, 0.11096900953638011, 0.9361141041683955, 0.3050723780408775, 0.2401499328735519, 0.8094877702917922, 0.6609087152135357, 0.9411617556730414, 0.9771018460320147]), array('d', [0.9976949142158312, 0.8816637950667594, 0.8783878364484171, 0.06537751941750436, 0.14443224581124714, 0.9241554672330221, 0.7948981165114128, 0.19168129215057716, 0.3781955293890379, 0.3742553019371003, 0.5995491626079392, 0.9769815402935664, 0.24454963893453474, 0.04619519236000158, 0.6160280077705225, 0.18910216431644133, 0.5354683421118761, 0.7895877893907347, 0.3276806045112881, 0.05325897506966537, 0.7956119200592734, 0.8728514919166157, 0.8515026383718064, 0.9683843075043128, 0.8858342877700227, 0.20923757349922167, 0.08140770185489365, 0.47066729360071724, 0.6635021985686306, 0.06487304096991964]), array('d', [0.5086138053843069, 0.7513080379547333, 0.6450715642507096, 0.5091585172285593, 0.49858777611622485, 0.4642672775611171, 0.3218231328762089, 0.37387872133758415, 0.6945096737392027, 0.7156498726885906, 0.4947920253407817, 0.26833545849611373, 0.40094607053775777, 0.9211852236883675, 0.5839826215038989, 0.03660448794960669, 0.21952628265980345, 0.2030004967159037, 0.8631682636915489, 0.3958999754383692, 0.305999036319724, 0.8887089295467955, 0.5713703867585161, 0.9354989069881409, 0.37410735528565375, 0.5505519739147939, 0.13433031552748942, 0.08402814935928593, 0.44450531541422544, 0.35157495163513397]), array('d', [0.5839622247304239, 0.46525311106638667, 0.6211258198050705, 0.42610234358274335, 0.46755098873753587, 0.40895277535551733, 0.80450446529346, 0.31702042574449973, 0.382370926623927, 0.1795657310015596, 0.23379039962310244, 0.6453548526457581, 0.3590929351856995, 0.08241851102201503, 0.8426033891868957, 0.512790989478319, 0.6436543992024586, 0.7858732959361743, 0.9266059192101775, 0.09840910970112593, 0.07134867727932992, 0.03828138519842961, 0.2003065968584853, 0.19664632286956396, 0.32924129255133594, 0.30271558273741106, 0.8155647797024462, 0.6835393298078196, 0.27446455650510215, 0.7056426376404914]), array('d', [0.9979957054396354, 0.99840509783476, 0.7523833566619854, 0.7398210059339227, 0.9123825301314551, 0.00853387840148867, 0.29947415204230887, 0.8223088558512356, 0.783128254092055, 0.4038111414448544, 0.4057584838707843, 0.5799537804559325, 0.6553085074714624, 0.47200399379500024, 0.5126469730531769, 0.7611605372390811, 0.14928114313979535, 0.3975052850513048, 0.22692630233865885, 0.749137075318955, 0.47443825180622323, 0.5158253504857692, 0.7859746482418123, 0.7576212992425138, 0.7225103513479062, 0.4614011372674969, 0.7919148883661319, 0.31307483349592735, 0.1878465520500613, 0.770131066008879]), array('d', [0.6979412691122879, 0.20958475350350736, 0.44997193554747195, 0.5584468173243409, 0.37470016732029776, 0.5775084486138091, 0.12834564079025335, 0.943354001177885, 0.009681154040993789, 0.8104013849709043, 0.8342988815505984, 0.3398222418538528, 0.419147315813, 0.6857628058837815, 0.4033687171551702, 0.7786434046217695, 0.5376040063771397, 0.3260795145254961, 0.023239840325544936, 0.7853578107968642, 0.9221441905136014, 0.15369123948546737, 0.9526375457216603, 0.3302505282177841, 0.629839307063414, 0.6030027859937562, 0.60783727149575, 0.8669447555458983, 0.9801721154251587, 0.2042046185485472]), array('d', [0.39063614654324386, 0.5344905807557243, 0.1883386781422619, 0.10863835609586059, 0.5695150119210641, 0.45153532653304407, 0.894743794982474, 0.09324150660204633, 0.10431317742828672, 0.5529067753079242, 0.03205915411170435, 0.6890245497477345, 0.4886133225771673, 0.18669210522620927, 0.0694910355757572, 0.9629945560238816, 0.283817620619329, 0.2330394259922618, 0.6595698932140744, 0.0699794326325035, 0.05745318061599325, 0.5185316801894239, 0.17182571684399295, 0.8597073473767373, 0.4108612343006228, 0.15703545503016647, 0.11074394828928757, 0.5364530192197352, 0.4782511423762348, 0.06876299075031944]), array('d', [0.9550967656343243, 0.8656994939333177, 0.1299322833899339, 0.20567700497625152, 0.43220067633611037, 0.7096716140567708, 0.4747800242810044, 0.603709448688413, 0.9391542547219525, 0.5874919533951046, 0.5024750211594405, 0.6848359291177722, 0.27544097752647645, 0.00744330876384014, 0.14269198809364125, 0.06397004294829534, 0.39923691455162014, 0.8075658324870476, 0.5258565048045774, 0.910302538940527, 0.879239391468157, 0.46020456003170795, 0.5761327522924898, 0.737290710889568, 0.2879117849938506, 0.8809940734423388, 0.4563066240160304, 0.7003165397244652, 0.7116479336645214, 0.2974487274221358]), array('d', [0.6130275117116392, 0.8099847648281149, 0.17512628745326964, 0.2491348175673045, 0.8999646203051247, 0.7332439529305443, 0.45782815206546323, 0.9108330954542758, 0.1834443189093622, 0.5686152659023863, 0.39355131759229856, 0.9456873613868986, 0.23969525758580723, 0.8705395918930487, 0.27377627702471485, 0.6280832032690759, 0.2918895905215809, 0.9162963335718501, 0.6980439925680887, 0.722409389184674, 0.2172548689599072, 0.49348757722436, 0.9923897218842863, 0.5528238946291105, 0.9953163815195267, 0.07653363611844821, 0.10522456097897015, 0.7665390802883404, 0.3260131359852557, 0.4509359833958678]), array('d', [0.25276661818751756, 0.5060645717727777, 0.4621674867474874, 0.07319549202074571, 0.694485714104936, 0.7497361411296126, 0.3811555679414995, 0.7459574371527271, 0.8557731449187068, 0.39667432783376166, 0.0107373613909314, 0.11468271694406562, 0.9171369756495995, 0.32711036257666026, 0.7486760278362449, 0.48475923732934145, 0.06823717119208439, 0.5484285403566256, 0.2422936090348775, 0.9500184240767632, 0.1402557601838389, 0.8204266896779975, 0.8415625330907592, 0.17058909564089664, 0.018066127650354424, 0.10051512105194182, 0.29414465370887055, 0.5346538330722338, 0.3908495021496219, 0.0775852998449813]), array('d', [0.7635890469790295, 0.6773831417653878, 0.15349647731079152, 0.35808698965564534, 0.2166724332750758, 0.03444484541332493, 0.6750441307745785, 0.2161664995704452, 0.6967423636299075, 0.8365011411517144, 0.8115118259405677, 0.6410121892581875, 0.7164104332032829, 0.8970098801165318, 0.3906183890279137, 0.30832425090660665, 0.05241525618884968, 0.0046657327463082154, 0.7724096952184701, 0.7671142384539399, 0.9288205523021502, 0.3746447034832565, 0.23854032307852568, 0.0913864300849917, 0.421682730525316, 0.989290624965429, 0.3371166424492489, 0.19215181976526619, 0.6689494554934761, 0.22056785195131035]), array('d', [0.8822860575959325, 0.7969241651548823, 0.8304506664284226, 0.16788288745292645, 0.16704725506911056, 0.4156800099648542, 0.10768382858950143, 0.3271414661607114, 0.5620541172235193, 0.18954753596092278, 0.20711931537335637, 0.5417026534308784, 0.9389232279947421, 0.1208039613992582, 0.21377998669360065, 0.3565763259184943, 0.17362155776466848, 0.4021394897549805, 0.3162402213512463, 0.38918665955042786, 0.45877593174648423, 0.06601628406317306, 0.8150848916058064, 0.6499449955218239, 0.3689799610073785, 0.06733126853004134, 0.21856085517329593, 0.3015342486466849, 0.5988690964846016, 0.9831024929171375]), array('d', [0.10181358987488676, 0.5361815302912873, 0.9905312875078909, 0.8504650337189813, 0.17145911046818008, 0.9590347043778342, 0.5998671451535394, 0.9814158948575997, 0.6963153659445452, 0.6779005223851904, 0.9723668528452992, 0.6937207440505283, 0.33204654734828354, 0.6353534516820034, 0.8839670321913443, 0.31796697510794936, 0.8515542124686434, 0.4821303789877406, 0.33510521812475313, 0.6085333221562449, 0.5850369144149986, 0.3823713996337811, 0.6405919547514164, 0.2324254773811999, 0.5874685474084997, 0.9883808643616115, 0.23260590449879592, 0.616348674587466, 0.8967794263665092, 0.30884862867292995]), array('d', [0.737913283918037, 0.7572457435991297, 0.6197662284924808, 0.05992301655974597, 0.37452362849359566, 0.2966147303731127, 0.1516705853920276, 0.204385330096177, 0.03790671555745573, 0.9234091395535202, 0.5980751886110854, 0.9458764973560437, 0.7392556360165171, 0.3286898518671617, 0.27812644330813474, 0.6436020716054057, 0.7604938822955449, 0.5208728595955652, 0.9775675044573351, 0.6480464250796328, 0.28845510445945644, 0.023693332292214153, 0.8469348455434526, 0.3312702726030976, 0.24224898372454517, 0.539311752126172, 0.9066320577090842, 0.6650060190884491, 0.24833804966100903, 0.6873498387357446]), array('d', [0.7195022197249833, 0.6080631976776255, 0.38148592055940567, 0.32163699108023547, 0.4423608901335486, 0.006042659764117553, 0.8698667398962548, 0.069984919977644, 0.19246544727762682, 0.6343669592739087, 0.14153201087023703, 0.20422001276583224, 0.09175939242300257, 0.5926306512120895, 0.8312208786251626, 0.9318126902310053, 0.23631012817788533, 0.0781645136046395, 0.7249891047706771, 0.3114629698109538, 0.7216737657601853, 0.24492495822918992, 0.17643550489732052, 0.24896943049952913, 0.2853528900177913, 0.4482711923698023, 0.6356037721142247, 0.27186078475732744, 0.7812889254180394, 0.0800159718916802]), array('d', [0.9725552004544581, 0.3982444731721094, 0.16776603811020763, 0.44137607084734176, 0.5052925542696879, 0.734928104530502, 0.7603244644096379, 0.8196038078796678, 0.7935586011558825, 0.01981107713229424, 0.3814193116679585, 0.8540422103049818, 0.7588583224002795, 0.9215324990468587, 0.595183361598832, 0.15279870892205927, 0.7266482351399907, 0.25729172215201135, 0.4636512347001379, 0.45360310586710084, 0.3751468849341727, 0.6060253566566433, 0.07193964968051114, 0.13665634926306724, 0.46925848123219416, 0.15472445574501104, 0.18962581458822303, 0.012834272247963519, 0.500699808674817, 0.7253453759421244]), array('d', [0.49145371768292223, 0.9256910712705564, 0.9402849852640158, 0.9704926367267518, 0.3731448976996349, 0.4895511143491478, 0.6410487218761597, 0.5883090054335769, 0.40878758493810574, 0.03882689768427949, 0.9216032484507375, 0.3848260114500638, 0.5656085920509873, 0.1942282003384147, 0.4362979453585809, 0.25525841691546414, 0.9130859952537521, 0.7222452934725484, 0.5096083634281788, 0.4886218431217949, 0.6884893951429466, 0.6964554120429204, 0.650906334708133, 0.9265187563303138, 0.7356642056017504, 0.24235286919568144, 0.03450757206580446, 0.8131264102564326, 0.630952713687412, 0.6764255987722879]), array('d', [0.6974714224463375, 0.6453335370710811, 0.26133069847103674, 0.4554707701822014, 0.6810664843571737, 0.25428803449433146, 0.602149326937957, 0.9517782454386701, 0.8415158999072567, 0.01233738747783475, 0.7709721855245962, 0.6443973907203187, 0.9168828530933538, 0.39766692151181227, 0.5861604286294101, 0.9009956499960148, 0.5185370438542153, 0.18882325199250993, 0.42294485990571673, 0.8297495650266965, 0.2528712353992223, 0.3022195659626038, 0.9676834310084679, 0.6584860599536514, 0.38278861035466016, 0.3079788665021467, 0.41160899216281055, 0.876400470169787, 0.7276520793841627, 0.088873439351276]), array('d', [0.6361802486524857, 0.7766911148841228, 0.34439281235805164, 0.14271348170206943, 0.748730072450083, 0.9300168659410644, 0.3979702196941449, 0.3081003427983843, 0.9870254931479594, 0.8163893780985717, 0.0015785775845547079, 0.06984149496066294, 0.6963167072671622, 0.5249619887533956, 0.6545211917783339, 0.7330422359030663, 0.17063425612748628, 0.37465138872265835, 0.7040471966142361, 0.19802052890115418, 0.18198433147828086, 0.9484833114611971, 0.45066078429737777, 0.8143704549414915, 0.18563804180130994, 0.05898206494685809, 0.1827293992726402, 0.7591646849504473, 0.2593519164841407, 0.9022732889027562])]\n",
      "Freedom!\n",
      "[array('d', [0.25276661818751756, 0.5060645717727777, 0.4621674867474874, 0.07319549202074571, 0.694485714104936, 0.7497361411296126, 0.3811555679414995, 0.7459574371527271, 0.8557731449187068, 0.39667432783376166, 0.0107373613909314, 0.11468271694406562, 0.9171369756495995, 0.32711036257666026, 0.7486760278362449, 0.48475923732934145, 0.06823717119208439, 0.5484285403566256, 0.2422936090348775, 0.9500184240767632, 0.1402557601838389, 0.8204266896779975, 0.8415625330907592, 0.17058909564089664, 0.018066127650354424, 0.10051512105194182, 0.29414465370887055, 0.5346538330722338, 0.3908495021496219, 0.0775852998449813]), array('d', [0.6361802486524857, 0.7766911148841228, 0.34439281235805164, 0.14271348170206943, 0.748730072450083, 0.9300168659410644, 0.3979702196941449, 0.3081003427983843, 0.9870254931479594, 0.8163893780985717, 0.0015785775845547079, 0.06984149496066294, 0.6963167072671622, 0.5249619887533956, 0.6545211917783339, 0.7330422359030663, 0.17063425612748628, 0.37465138872265835, 0.7040471966142361, 0.19802052890115418, 0.18198433147828086, 0.9484833114611971, 0.45066078429737777, 0.8143704549414915, 0.18563804180130994, 0.05898206494685809, 0.1827293992726402, 0.7591646849504473, 0.2593519164841407, 0.9022732889027562]), array('d', [0.49145371768292223, 0.9256910712705564, 0.9402849852640158, 0.9704926367267518, 0.3731448976996349, 0.4895511143491478, 0.6410487218761597, 0.5883090054335769, 0.40878758493810574, 0.03882689768427949, 0.9216032484507375, 0.3848260114500638, 0.5656085920509873, 0.1942282003384147, 0.4362979453585809, 0.25525841691546414, 0.9130859952537521, 0.7222452934725484, 0.5096083634281788, 0.4886218431217949, 0.6884893951429466, 0.6964554120429204, 0.650906334708133, 0.9265187563303138, 0.7356642056017504, 0.24235286919568144, 0.03450757206580446, 0.8131264102564326, 0.630952713687412, 0.6764255987722879]), array('d', [0.4067459214179385, 0.0839083555808503, 0.6357989944549827, 0.20345690684677342, 0.9679115127203392, 0.3733052204582076, 0.9853087154640877, 0.7820236626651993, 0.5375356298134671, 0.4237524566155083, 0.9114927318331021, 0.45174200118923247, 0.0010010586130895227, 0.4646520537221017, 0.8293717847818874, 0.28924945483400555, 0.9720818040324872, 0.0005429317070172468, 0.9335068160430394, 0.48218625987546837, 0.5978677515006732, 0.8394877216219737, 0.38015351443917944, 0.3514179203095933, 0.6322069407459656, 0.5851591664603665, 0.5103284216024823, 0.045484730313839705, 0.7391829455948568, 0.5630815779412927]), array('d', [0.8822860575959325, 0.7969241651548823, 0.8304506664284226, 0.16788288745292645, 0.16704725506911056, 0.4156800099648542, 0.10768382858950143, 0.3271414661607114, 0.5620541172235193, 0.18954753596092278, 0.20711931537335637, 0.5417026534308784, 0.9389232279947421, 0.1208039613992582, 0.21377998669360065, 0.3565763259184943, 0.17362155776466848, 0.4021394897549805, 0.3162402213512463, 0.38918665955042786, 0.45877593174648423, 0.06601628406317306, 0.8150848916058064, 0.6499449955218239, 0.3689799610073785, 0.06733126853004134, 0.21856085517329593, 0.3015342486466849, 0.5988690964846016, 0.9831024929171375]), array('d', [0.027171192417298373, 0.05850178225356584, 0.38993971123355786, 0.32004146384045884, 0.412822811998509, 0.3242177907968632, 0.37551315830333165, 0.8277413986586146, 0.12096626350192807, 0.20255945801454, 0.752133738972281, 0.5860290768481129, 0.4929794409023319, 0.7523899786503706, 0.38504867963013834, 0.11508137188320999, 0.06063197790336938, 0.4648235332453331, 0.40707646359099603, 0.48417150995810654, 0.4074937897439397, 0.23374045575957814, 0.8861558960275563, 0.26915973837729734, 0.9634746878309003, 0.6750974290185378, 0.2463160959108046, 0.5547074500586905, 0.7852141866503011, 0.3046128419655981]), array('d', [0.25292107224971316, 0.560115977250799, 0.4539261236932498, 0.937890368902046, 0.6409662863098068, 0.9430742237719152, 0.051862797542361894, 0.9387593293413464, 0.43254817161218484, 0.9951064765965633, 0.27403559626428553, 0.6801734754316155, 0.4665867276160025, 0.3614718431029983, 0.7590217146535565, 0.8838024416656812, 0.22454820608321313, 0.27793303071254105, 0.4200620690912774, 0.44886149701656375, 0.005159284113786189, 0.19460813950528066, 0.08180890142990982, 0.5718196169113584, 0.025371938871328825, 0.7374441789509951, 0.9780956111069691, 0.42382025687229397, 0.07444036690142164, 0.24998416153249747]), array('d', [0.5839622247304239, 0.46525311106638667, 0.6211258198050705, 0.42610234358274335, 0.46755098873753587, 0.40895277535551733, 0.80450446529346, 0.31702042574449973, 0.382370926623927, 0.1795657310015596, 0.23379039962310244, 0.6453548526457581, 0.3590929351856995, 0.08241851102201503, 0.8426033891868957, 0.512790989478319, 0.6436543992024586, 0.7858732959361743, 0.9266059192101775, 0.09840910970112593, 0.07134867727932992, 0.03828138519842961, 0.2003065968584853, 0.19664632286956396, 0.32924129255133594, 0.30271558273741106, 0.8155647797024462, 0.6835393298078196, 0.27446455650510215, 0.7056426376404914]), array('d', [0.6130275117116392, 0.8099847648281149, 0.17512628745326964, 0.2491348175673045, 0.8999646203051247, 0.7332439529305443, 0.45782815206546323, 0.9108330954542758, 0.1834443189093622, 0.5686152659023863, 0.39355131759229856, 0.9456873613868986, 0.23969525758580723, 0.8705395918930487, 0.27377627702471485, 0.6280832032690759, 0.2918895905215809, 0.9162963335718501, 0.6980439925680887, 0.722409389184674, 0.2172548689599072, 0.49348757722436, 0.9923897218842863, 0.5528238946291105, 0.9953163815195267, 0.07653363611844821, 0.10522456097897015, 0.7665390802883404, 0.3260131359852557, 0.4509359833958678]), array('d', [0.7624652414976886, 0.5381314537014721, 0.7873052349442264, 0.6490972761159127, 0.07752311631030828, 0.03094752052852645, 0.8320838646296903, 0.6716130781559405, 0.6722459131733745, 0.3529947323504017, 0.8127812473205956, 0.827466835091344, 0.35796574046277274, 0.17718663691837921, 0.7679658443620033, 0.69703013437834, 0.008431375956266085, 0.46269253172338476, 0.9362478494121943, 0.444577656756068, 0.22152076470214455, 0.019781669664539314, 0.2811344838183697, 0.9213986896663738, 0.3578210189306116, 0.0899665192982615, 0.6134427087399107, 0.3031785324842817, 0.71780952976009, 0.23425794378011755]), array('d', [0.6979412691122879, 0.20958475350350736, 0.44997193554747195, 0.5584468173243409, 0.37470016732029776, 0.5775084486138091, 0.12834564079025335, 0.943354001177885, 0.009681154040993789, 0.8104013849709043, 0.8342988815505984, 0.3398222418538528, 0.419147315813, 0.6857628058837815, 0.4033687171551702, 0.7786434046217695, 0.5376040063771397, 0.3260795145254961, 0.023239840325544936, 0.7853578107968642, 0.9221441905136014, 0.15369123948546737, 0.9526375457216603, 0.3302505282177841, 0.629839307063414, 0.6030027859937562, 0.60783727149575, 0.8669447555458983, 0.9801721154251587, 0.2042046185485472]), array('d', [0.5086138053843069, 0.7513080379547333, 0.6450715642507096, 0.5091585172285593, 0.49858777611622485, 0.4642672775611171, 0.3218231328762089, 0.37387872133758415, 0.6945096737392027, 0.7156498726885906, 0.4947920253407817, 0.26833545849611373, 0.40094607053775777, 0.9211852236883675, 0.5839826215038989, 0.03660448794960669, 0.21952628265980345, 0.2030004967159037, 0.8631682636915489, 0.3958999754383692, 0.305999036319724, 0.8887089295467955, 0.5713703867585161, 0.9354989069881409, 0.37410735528565375, 0.5505519739147939, 0.13433031552748942, 0.08402814935928593, 0.44450531541422544, 0.35157495163513397]), array('d', [0.785263807091145, 0.34155192367252385, 0.6678601389804859, 0.6947815767812803, 0.9819232558265506, 0.599762303325637, 0.3311454344690492, 0.5784107488848038, 0.9630648891304469, 0.6161031372817724, 0.41869528836473113, 0.16227998662626664, 0.45430209395368004, 0.7891913869272398, 0.04219214987703168, 0.21940588146413553, 0.0036970722583461457, 0.22302508870676574, 0.23027401020032723, 0.6239200175787397, 0.23901903987486806, 0.7345861775305003, 0.95258822899053, 0.3315151095932074, 0.740081387578784, 0.20531636029714762, 0.1842445122158849, 0.9898780435824795, 0.36281714595773884, 0.0737311568698783]), array('d', [0.4419184033184411, 0.3014710740055042, 0.6261852117764874, 0.0657902591066627, 0.6775644574745741, 0.559258051605546, 0.2949167702341773, 0.3814554840451707, 0.0958302514054028, 0.7519633577101529, 0.2331119840188528, 0.5995758532544583, 0.6597240315676343, 0.010606545607829365, 0.3839200248137793, 0.7951646777101288, 0.8799381674841843, 0.6192305542623842, 0.33961647488863334, 0.937584852246762, 0.7829291375426357, 0.4540767633707291, 0.32819366893033197, 0.19248131743078367, 0.10268965372658201, 0.5951751076675906, 0.06754447216456005, 0.7894164237438102, 0.19361454177178428, 0.5732121327965082]), array('d', [0.9979957054396354, 0.99840509783476, 0.7523833566619854, 0.7398210059339227, 0.9123825301314551, 0.00853387840148867, 0.29947415204230887, 0.8223088558512356, 0.783128254092055, 0.4038111414448544, 0.4057584838707843, 0.5799537804559325, 0.6553085074714624, 0.47200399379500024, 0.5126469730531769, 0.7611605372390811, 0.14928114313979535, 0.3975052850513048, 0.22692630233865885, 0.749137075318955, 0.47443825180622323, 0.5158253504857692, 0.7859746482418123, 0.7576212992425138, 0.7225103513479062, 0.4614011372674969, 0.7919148883661319, 0.31307483349592735, 0.1878465520500613, 0.770131066008879]), array('d', [0.16448157525974982, 0.3108058576497742, 0.6259946869708203, 0.09672609737420634, 0.4799664201732645, 0.8080590741636121, 0.5925307705791362, 0.6262971083451867, 0.3343025359549193, 0.2504094708498833, 0.1078406533120313, 0.23835921256842207, 0.34080196792272854, 0.05443286017800708, 0.3335884550189602, 0.7941111194844817, 0.9435475772091063, 0.7757494717833749, 0.6195665556082836, 0.7640985704635884, 0.6253487575535192, 0.5789344692589817, 0.08553469907138922, 0.06068694529469587, 0.033343675564193154, 0.31327943421962656, 0.8476921446126973, 0.06502821879570364, 0.12753579066695442, 0.9191157877623073]), array('d', [0.49380867158842456, 0.3629991787433329, 0.2807563580038984, 0.9045075901154257, 0.7069680065365654, 0.20908632134747052, 0.19608679402070883, 0.8211234706523723, 0.3960861795466134, 0.86991623250654, 0.5691022314155522, 0.4940113214438937, 0.5517851873768139, 0.6598384211869152, 0.5657070478213991, 0.6823836013896207, 0.5651402337516013, 0.06536062500003414, 0.12824639488736866, 0.06504932140880004, 0.2596244807061806, 0.5699032906851095, 0.22796517521890314, 0.5230799595184539, 0.7822527086312172, 0.19185154771556834, 0.6779787169629149, 0.991951353623053, 0.692985815388966, 0.5329415173415583]), array('d', [0.9976949142158312, 0.8816637950667594, 0.8783878364484171, 0.06537751941750436, 0.14443224581124714, 0.9241554672330221, 0.7948981165114128, 0.19168129215057716, 0.3781955293890379, 0.3742553019371003, 0.5995491626079392, 0.9769815402935664, 0.24454963893453474, 0.04619519236000158, 0.6160280077705225, 0.18910216431644133, 0.5354683421118761, 0.7895877893907347, 0.3276806045112881, 0.05325897506966537, 0.7956119200592734, 0.8728514919166157, 0.8515026383718064, 0.9683843075043128, 0.8858342877700227, 0.20923757349922167, 0.08140770185489365, 0.47066729360071724, 0.6635021985686306, 0.06487304096991964]), array('d', [0.9550967656343243, 0.8656994939333177, 0.1299322833899339, 0.20567700497625152, 0.43220067633611037, 0.7096716140567708, 0.4747800242810044, 0.603709448688413, 0.9391542547219525, 0.5874919533951046, 0.5024750211594405, 0.6848359291177722, 0.27544097752647645, 0.00744330876384014, 0.14269198809364125, 0.06397004294829534, 0.39923691455162014, 0.8075658324870476, 0.5258565048045774, 0.910302538940527, 0.879239391468157, 0.46020456003170795, 0.5761327522924898, 0.737290710889568, 0.2879117849938506, 0.8809940734423388, 0.4563066240160304, 0.7003165397244652, 0.7116479336645214, 0.2974487274221358]), array('d', [0.03001758869507609, 0.11518929259778532, 0.29057621538943135, 0.19440344446401725, 0.5856863924317715, 0.7655327346914205, 0.043904825861076024, 0.02968557327332244, 0.19782499435619172, 0.17414660914946367, 0.8853822295516643, 0.7188366739026049, 0.33981749301801756, 0.5545049551573713, 0.17854143080106044, 0.02149202805815198, 0.8428814207150682, 0.9106489501982198, 0.020993760462445943, 0.677452378997531, 0.3789227579151778, 0.7874140805379415, 0.11096900953638011, 0.9361141041683955, 0.3050723780408775, 0.2401499328735519, 0.8094877702917922, 0.6609087152135357, 0.9411617556730414, 0.9771018460320147]), array('d', [0.9725552004544581, 0.3982444731721094, 0.16776603811020763, 0.44137607084734176, 0.5052925542696879, 0.734928104530502, 0.7603244644096379, 0.8196038078796678, 0.7935586011558825, 0.01981107713229424, 0.3814193116679585, 0.8540422103049818, 0.7588583224002795, 0.9215324990468587, 0.595183361598832, 0.15279870892205927, 0.7266482351399907, 0.25729172215201135, 0.4636512347001379, 0.45360310586710084, 0.3751468849341727, 0.6060253566566433, 0.07193964968051114, 0.13665634926306724, 0.46925848123219416, 0.15472445574501104, 0.18962581458822303, 0.012834272247963519, 0.500699808674817, 0.7253453759421244]), array('d', [0.30063834853258053, 0.3953049011411466, 0.12297696493937149, 0.1396502682944668, 0.5564790815027151, 0.27945829837232294, 0.4319624320480985, 0.6104453094662744, 0.9574171736989658, 0.31830394181558197, 0.6821009959683453, 0.3426352563140532, 0.2613605333837892, 0.7526940011065758, 0.45271808112422474, 0.24592828498987118, 0.9830219471576679, 0.34162980474996485, 0.45979934155190494, 0.599513667288849, 0.01587461616112462, 0.6918450603911708, 0.6464432919193639, 0.002047513490816555, 0.4765289500674549, 0.9014449939845398, 0.6727064041311742, 0.4131630327983994, 0.8952681772149349, 0.7032996750546746]), array('d', [0.7635890469790295, 0.6773831417653878, 0.15349647731079152, 0.35808698965564534, 0.2166724332750758, 0.03444484541332493, 0.6750441307745785, 0.2161664995704452, 0.6967423636299075, 0.8365011411517144, 0.8115118259405677, 0.6410121892581875, 0.7164104332032829, 0.8970098801165318, 0.3906183890279137, 0.30832425090660665, 0.05241525618884968, 0.0046657327463082154, 0.7724096952184701, 0.7671142384539399, 0.9288205523021502, 0.3746447034832565, 0.23854032307852568, 0.0913864300849917, 0.421682730525316, 0.989290624965429, 0.3371166424492489, 0.19215181976526619, 0.6689494554934761, 0.22056785195131035]), array('d', [0.39063614654324386, 0.5344905807557243, 0.1883386781422619, 0.10863835609586059, 0.5695150119210641, 0.45153532653304407, 0.894743794982474, 0.09324150660204633, 0.10431317742828672, 0.5529067753079242, 0.03205915411170435, 0.6890245497477345, 0.4886133225771673, 0.18669210522620927, 0.0694910355757572, 0.9629945560238816, 0.283817620619329, 0.2330394259922618, 0.6595698932140744, 0.0699794326325035, 0.05745318061599325, 0.5185316801894239, 0.17182571684399295, 0.8597073473767373, 0.4108612343006228, 0.15703545503016647, 0.11074394828928757, 0.5364530192197352, 0.4782511423762348, 0.06876299075031944]), array('d', [0.6974714224463375, 0.6453335370710811, 0.26133069847103674, 0.4554707701822014, 0.6810664843571737, 0.25428803449433146, 0.602149326937957, 0.9517782454386701, 0.8415158999072567, 0.01233738747783475, 0.7709721855245962, 0.6443973907203187, 0.9168828530933538, 0.39766692151181227, 0.5861604286294101, 0.9009956499960148, 0.5185370438542153, 0.18882325199250993, 0.42294485990571673, 0.8297495650266965, 0.2528712353992223, 0.3022195659626038, 0.9676834310084679, 0.6584860599536514, 0.38278861035466016, 0.3079788665021467, 0.41160899216281055, 0.876400470169787, 0.7276520793841627, 0.088873439351276]), array('d', [0.7195022197249833, 0.6080631976776255, 0.38148592055940567, 0.32163699108023547, 0.4423608901335486, 0.006042659764117553, 0.8698667398962548, 0.069984919977644, 0.19246544727762682, 0.6343669592739087, 0.14153201087023703, 0.20422001276583224, 0.09175939242300257, 0.5926306512120895, 0.8312208786251626, 0.9318126902310053, 0.23631012817788533, 0.0781645136046395, 0.7249891047706771, 0.3114629698109538, 0.7216737657601853, 0.24492495822918992, 0.17643550489732052, 0.24896943049952913, 0.2853528900177913, 0.4482711923698023, 0.6356037721142247, 0.27186078475732744, 0.7812889254180394, 0.0800159718916802]), array('d', [0.6373637356527001, 0.256286102200979, 0.42100700349658204, 0.7246230365399337, 0.4446243136072412, 0.24315247787291328, 0.7970255840127973, 0.0604911828613337, 0.31166685808094063, 0.43584812814836005, 0.9597413513936472, 0.7543736350368234, 0.3111882402275943, 0.885221910038171, 0.7754956643702439, 0.14740906260552822, 0.3086744144806972, 0.3429003156055803, 0.3688299951722551, 0.008081842345599721, 0.5864399124508858, 0.6783003743335633, 0.057317646126354815, 0.5071078674434407, 0.8351749297935509, 0.8587022055283732, 0.4220611404166825, 0.19540712964915308, 0.20037190348323275, 0.9085002184008153]), array('d', [0.10181358987488676, 0.5361815302912873, 0.9905312875078909, 0.8504650337189813, 0.17145911046818008, 0.9590347043778342, 0.5998671451535394, 0.9814158948575997, 0.6963153659445452, 0.6779005223851904, 0.9723668528452992, 0.6937207440505283, 0.33204654734828354, 0.6353534516820034, 0.8839670321913443, 0.31796697510794936, 0.8515542124686434, 0.4821303789877406, 0.33510521812475313, 0.6085333221562449, 0.5850369144149986, 0.3823713996337811, 0.6405919547514164, 0.2324254773811999, 0.5874685474084997, 0.9883808643616115, 0.23260590449879592, 0.616348674587466, 0.8967794263665092, 0.30884862867292995]), array('d', [0.737913283918037, 0.7572457435991297, 0.6197662284924808, 0.05992301655974597, 0.37452362849359566, 0.2966147303731127, 0.1516705853920276, 0.204385330096177, 0.03790671555745573, 0.9234091395535202, 0.5980751886110854, 0.9458764973560437, 0.7392556360165171, 0.3286898518671617, 0.27812644330813474, 0.6436020716054057, 0.7604938822955449, 0.5208728595955652, 0.9775675044573351, 0.6480464250796328, 0.28845510445945644, 0.023693332292214153, 0.8469348455434526, 0.3312702726030976, 0.24224898372454517, 0.539311752126172, 0.9066320577090842, 0.6650060190884491, 0.24833804966100903, 0.6873498387357446]), array('d', [0.9361818099905508, 0.17974340142590373, 0.018973583541531225, 0.7867570460275187, 0.2452866943902563, 0.7056177022972512, 0.8876558287408407, 0.44422946933394625, 0.8069210241253961, 0.6068548211487469, 0.40179786524841954, 0.04498364397490795, 0.861974335714048, 0.023263248353872834, 0.43701741978904607, 0.41493642348093485, 0.8596484104387593, 0.31738243536659316, 0.2571777931677184, 0.1146446241422453, 0.09933363304867793, 0.1681559926670173, 0.14403425293169114, 0.2555545253180317, 0.08962856348028303, 0.306794218362605, 0.40727643429196303, 0.16919104798818918, 0.6144754287684212, 0.325290696184768]), array('d', [0.4490747388376488, 0.8663455525626551, 0.3252162865498287, 0.7998116211948575, 0.66450231241874, 0.40962832709577024, 0.23282228335920285, 0.39539712920038306, 0.5409944507913269, 0.9580794920805382, 0.8900431651107683, 0.7359127944512299, 0.6459165296594045, 0.8659535733283666, 0.7072086261570758, 0.5719947936394006, 0.7961587814360495, 0.7073988490465885, 0.5610443550732708, 0.12378161135251953, 0.5593528232362273, 0.19242673333859683, 0.618704054816323, 0.5768555831731496, 0.05287438599238392, 0.570244383228971, 0.18939587288020976, 0.4758356921571403, 0.8968642802436952, 0.12028317643891573]), array('d', [0.04028214158697052, 0.15330451069580175, 0.3714673541853173, 0.991020101118533, 0.3032600827066696, 0.4859255405364765, 0.791203701070468, 0.14213980573261153, 0.5896242441367877, 0.048651046580230006, 0.8942529283848699, 0.8890572062394194, 0.2155814557006741, 0.8191250692282641, 0.48879365624551285, 0.12232790550244821, 0.34864894351038733, 0.8704265359392946, 0.4175751543132694, 0.5730590917892894, 0.5657639760700942, 0.9002872879641, 0.7813493488528254, 0.4752275484387575, 0.7200334953791161, 0.6057097102165937, 0.7619512314984372, 0.504763861272188, 0.4609361645704416, 0.4499293913485165]), array('d', [0.3692942163111451, 0.5262556031551487, 0.5882394578976068, 0.5189449994178468, 0.39478247517358356, 0.2636937095545513, 0.498827305707791, 0.4234221949913485, 0.4400799549297828, 0.9310356076644363, 0.48954106667426933, 0.9732724831769045, 0.8238118303033916, 0.1443461813463709, 0.12712397787544427, 0.7111505676635563, 0.12938518798374976, 0.704524684795629, 0.8632716575945996, 0.11805815767102468, 0.2126425389605192, 0.47335556173777116, 0.7464963060381985, 0.9440695610569916, 0.36933205963445714, 0.9518217527774427, 0.6016002137386635, 0.40861985914659615, 0.12086642808903725, 0.5717647544264091]), array('d', [0.736858695784311, 0.4531471605522952, 0.9829505625076392, 0.8053875621092175, 0.9890000788986222, 0.5655972265798384, 0.8943388978953616, 0.6277443518155853, 0.5332886565066558, 0.5955489146250329, 0.350337135040772, 0.2845354949453649, 0.7847892628243508, 0.7148544682023356, 0.6724338020382187, 0.7143509788637289, 0.5196666474455023, 0.24763333130796938, 0.3278469630811499, 0.5823690458577517, 0.8228427229713612, 0.3612675328128754, 0.09798783173079229, 0.7116404207474897, 0.8284376294318806, 0.08194716343468877, 0.06219367254441022, 0.8885092968498417, 0.47625307153749763, 0.446164087042754]), array('d', [0.19729575426112622, 0.3015314123353431, 0.03697017235631861, 0.3344929247349019, 0.7250986823356191, 0.74005222231057, 0.1260056459938712, 0.9919239695429073, 0.28392785946827015, 0.09281956785672607, 0.5517858513612479, 0.5213358651154404, 0.7570463242805414, 0.16002734022901755, 0.027891225295657907, 0.7965986992413747, 0.5925036017499132, 0.24133977914027105, 0.7741577871437526, 0.7265092463995954, 0.9869547002410485, 0.11044190624345962, 0.05994573862540298, 0.3729788680356476, 0.6269895323179615, 0.35447334590414925, 0.0477328729373212, 0.6509624193708824, 0.12474980539632496, 0.2979611126514917]), array('d', [0.7591923850558231, 0.6601761722752366, 0.64146575444156, 0.9025111315738951, 0.05780982954601177, 0.6316075621548821, 0.7133695170214084, 0.6603616317794719, 0.5197783632029678, 0.29572442486364614, 0.4020028180314812, 0.6808706574200868, 0.5536104282255945, 0.3043230229731726, 0.7426975020296516, 0.9092308532011312, 0.007902233503785383, 0.27978074476278214, 0.5277917356073935, 0.9204505916451052, 0.7002950638826048, 0.4461890507033418, 0.2051335713832062, 0.5444252910044765, 0.7883415789767165, 0.6520370873968587, 0.6974709655735687, 0.8876748965071967, 0.7815630931314602, 0.4045057056501532]), array('d', [0.24531606461713729, 0.8091452157025287, 0.341320069780635, 0.5050227282290294, 0.08523386169981673, 0.37243635740279957, 0.7548452125117824, 0.3606434064316779, 0.6649952549148446, 0.15161121452753434, 0.7535071710471084, 0.4217222093583326, 0.22818200393016874, 0.8017686786414895, 0.41340941874697845, 0.40930931939233284, 0.4587530639159719, 0.8523904794168121, 0.7946073463722961, 0.36177436965510434, 0.029762927014966967, 0.14558430589848648, 0.009948713463736492, 0.8062468656700007, 0.9436428403078108, 0.08477821453141887, 0.314804571879289, 0.9819449243871319, 0.1643246817147156, 0.061468328485386525]), array('d', [0.6694858901511282, 0.706404917317793, 0.9266320984532515, 0.4378267064615107, 0.4571356398064427, 0.841596974102887, 0.1109308449526113, 0.10589185939470225, 0.6105725438122142, 0.7821562577663913, 0.9473834939440193, 0.8236102280204957, 0.041969437206579197, 0.10541108375077168, 0.6299261161540399, 0.870869474153118, 0.9109857705357554, 0.15703254735730043, 0.2921229877186071, 0.44151791007790475, 0.5058966167151256, 0.7325518941170924, 0.09929423894208467, 0.6470929709355302, 0.3346075253126083, 0.1377724641783793, 0.8485950917146379, 0.4391084609153618, 0.4157498387189157, 0.7690331638350156]), array('d', [0.12909655402072595, 0.19948422280187972, 0.6057490072562227, 0.10090372557552496, 0.4159843619395397, 0.993767235381343, 0.3036518933975615, 0.2094329413535484, 0.047049336129883046, 0.018130595675012073, 0.880906106984675, 0.35704387483692057, 0.1586054651045411, 0.8279486884136622, 0.8944574706515588, 0.0319700077683891, 0.06366558624606389, 0.4306204625514841, 0.6175629215440918, 0.12068803282068252, 0.2240956387398041, 0.25782214100407674, 0.3403242139882281, 0.35524097658227305, 0.046676358357778835, 0.8777136471645709, 0.26749123555658527, 0.1511783737943183, 0.6901355823404765, 0.5153874427399745]), array('d', [0.4733379715453143, 0.4947888003490618, 0.9389644760353849, 0.3467641133690281, 0.6975144403892011, 0.020806924710671804, 0.2880107814536179, 0.19220129750103077, 0.3438473898031613, 0.23210311314192367, 0.21970234504087793, 0.9090701541675186, 0.33915299863916326, 0.6021001328040196, 0.8424671345591482, 0.6569581364726073, 0.1311585670946046, 0.2933940419777855, 0.7113851859448196, 0.9598033682768127, 0.8330807457953466, 0.6731072936393334, 0.7345846322197881, 0.7959726637030008, 0.7997550589661422, 0.8445312839897405, 0.6218423784316226, 0.28245721526963663, 0.7492543018325559, 0.6670564523554575]), array('d', [0.4714891986521167, 0.8597964454406222, 0.5852262693839494, 0.2013384200247481, 0.5694304617453423, 0.8338385328034564, 0.05092218021936756, 0.0078742809792125, 0.630409880337339, 0.7130928146227296, 0.9794869379377804, 0.8486162610031903, 0.7370783133705054, 0.5958395505776892, 0.5543045252489027, 0.29077453193826386, 0.48749651312589914, 0.48610096062239794, 0.5910392755613787, 0.6114952931946587, 0.6786679171403731, 0.8166892369660302, 0.48790149563480745, 0.7142903287761262, 0.5283088089452658, 0.4220045475393783, 0.3158501502369022, 0.06351056894547391, 0.892877196135374, 0.41713745809451186]), array('d', [0.6018874401294544, 0.48672249393761136, 0.6184993744874929, 0.973921892171687, 0.36072878309087664, 0.6738031429286421, 0.6902933543555608, 0.394997237657314, 0.3026566586467261, 0.12508948993022695, 0.013875918021813649, 0.11191250246739548, 0.015885246515515705, 0.9705203636603139, 0.8590120302648492, 0.2092294803344994, 0.6486232217040224, 0.6497398260368422, 0.435788473800493, 0.6260591511293452, 0.7900115366174469, 0.19091445271740515, 0.30091786958069455, 0.4634255554390374, 0.4739890875062288, 0.02181682822450115, 0.16610549317609768, 0.15242223992035664, 0.7025981057082559, 0.9638668707389149]), array('d', [0.5034445674439422, 0.11393549099949118, 0.6615783234155099, 0.179552195863255, 0.1822081345536546, 0.39295733753784534, 0.08329056513496902, 0.8767553471355032, 0.29764751578827464, 0.587208388180246, 0.454998148660021, 0.6702598664905719, 0.6238103941666637, 0.2650743897358654, 0.9667196267702574, 0.8713448182493896, 0.18719173380038412, 0.18508739082679537, 0.7470293192728324, 0.6040528733977502, 0.8716157948479709, 0.10633065874724767, 0.5343760029816271, 0.0058470695833402475, 0.11667826036590778, 0.17173535120338923, 0.4771198739123569, 0.6918062299869328, 0.868780520988383, 0.9658038075584682]), array('d', [0.04043808961914075, 0.341744847396551, 0.4635248756143453, 0.22423021232791696, 0.6862365358593723, 0.15506970085701055, 0.49532225375830163, 0.6295595813335879, 0.5246777838764347, 0.29070302447839946, 0.43735551893102464, 0.9072077110524824, 0.4776113651722167, 0.14860653865476126, 0.12778974834318402, 0.9029036186665941, 0.8415379542757087, 0.5230920570174739, 0.29548163390558724, 0.04772827439750971, 0.07653251973764608, 0.0450949036584386, 0.10763217144199888, 0.4249135212080136, 0.09448436248791581, 0.6608552539371698, 0.5684782103659567, 0.2533803310651901, 0.254860204350709, 0.0817695615339783]), array('d', [0.17801080077946274, 0.9650493098115733, 0.8655155107298289, 0.08918830767655395, 0.852345833243599, 0.1629406838752545, 0.779492545145722, 0.2849358889994621, 0.7525585662903819, 0.6540642988244791, 0.12060198410262657, 0.4908450976096125, 0.43235841941750996, 0.80635319591835, 0.31010130721132656, 0.6849619418644428, 0.13128666847232173, 0.6655202962168417, 0.832052874322659, 0.5126532256593649, 0.4896230358290852, 0.8854130386418814, 0.47643968662976766, 0.5630570769335385, 0.423070580439436, 0.7564906434903766, 0.8109943596142234, 0.6138677834447908, 0.4341059225103725, 0.4260170988213081]), array('d', [0.6806394094377081, 0.39416980276672764, 0.5903384978260728, 0.951219850078746, 0.8369772085811074, 0.15377546868379788, 0.08106323674494897, 0.8306992255725462, 0.6595393231500319, 0.45405551514295284, 0.9552015309730055, 0.5942042593509428, 0.005805360745094079, 0.9697705138016268, 0.6561727570173506, 0.9508959684752076, 0.32491546830101603, 0.7315452173338912, 0.734319559535968, 0.9574027791398276, 0.5691584358313694, 0.21136686103998747, 0.0486822486039844, 0.6436440295201094, 0.32317084668686213, 0.05553502398580301, 0.07072408904996674, 0.951900188641932, 0.3813909299116657, 0.39885849695774833]), array('d', [0.43642986652272964, 0.9952017433581889, 0.9272063411393074, 0.040791708540317995, 0.356520116245885, 0.709029142266918, 0.48519951446175347, 0.4929885500110006, 0.8458383509499129, 0.8668793003861137, 0.123654234033855, 0.0935778782049842, 0.8681731096216772, 0.18065496411140003, 0.16829500161064148, 0.5087377639306467, 0.2727915537599279, 0.8908945222432738, 0.585677401813836, 0.5835473909825425, 0.9716273546526262, 0.5260154065999957, 0.5707878111345235, 0.41641899138996896, 0.07683546279488074, 0.7682534269847778, 0.6769085160963626, 0.8873676980186833, 0.025962168606230906, 0.6813123448292498]), array('d', [0.31731738679301413, 0.5304238008926038, 0.14179573402111234, 0.11684205616466403, 0.04416216148820962, 0.12787149473436632, 0.8716795591516158, 0.8348040378168273, 0.7478233677192941, 0.9262370424724073, 0.2829255081921269, 0.8769363855065135, 0.612931570631185, 0.7615639189386135, 0.26375794050822166, 0.3130103158636045, 0.8926718098296509, 0.31554291946343505, 0.9945650658851473, 0.7636754136536322, 0.15126474615689145, 0.8530336612675548, 0.657419477676244, 0.7982201832532108, 0.05322218827098568, 0.14862080704098313, 0.2298605455692211, 0.035862248169239774, 0.2602239635851603, 0.7059628625745538]), array('d', [0.6930235579427683, 0.6868524492697243, 0.7133359490595419, 0.7084531666583638, 0.7361041053920682, 0.2562255939323873, 0.09527942208200668, 0.05875231364453293, 0.33286254056591247, 0.2348414396564097, 0.9082265373639887, 0.9967394367335324, 0.9393219401746358, 0.9672098443079628, 0.598232065957531, 0.7482418403763543, 0.04551187161625159, 0.25365688282655174, 0.6196578769455676, 0.30250735564175146, 0.39469681435273596, 0.37090121308146595, 0.968057810457244, 0.5595603886330499, 0.580486909891458, 0.26029165215690797, 0.5037467218402014, 0.930326941156214, 0.877896751970685, 0.13191953368222697]), array('d', [0.43515873531519855, 0.9199890489003425, 0.4537078650836456, 0.6736100427370446, 0.11851234901311947, 0.7135637119646769, 0.19054416526893014, 0.8619367242858739, 0.7821219434306237, 0.28796197285088165, 0.4941681577419751, 0.13019933127841787, 0.8563377276555146, 0.6000827864972248, 0.9952074499732918, 0.2829672450326983, 0.6771886511844633, 0.4183309911219021, 0.40852410191642885, 0.1459428521154308, 0.290192961514951, 0.261799463894111, 0.6176802400572351, 0.9073282349729386, 0.3696377395309737, 0.6842670861425665, 0.45816411141856517, 0.010320242262494617, 0.13320493602338035, 0.32324597965478274])]\n"
     ]
    }
   ],
   "source": [
    "from deap import algorithms\n",
    "from deap import base\n",
    "from deap import creator\n",
    "from deap import tools\n",
    "from deap import gp\n",
    "\n",
    "pop = toolbox.population(toolbox.pop_size)\n",
    "print pop\n",
    "print \"Freedom!\"\n",
    "#fitnesses = map(toolbox.evaluate, pop)\n",
    "for ind, fit in zip(pop, fitnesses):\n",
    "    ind.fitness.values = fit\n",
    "\n",
    "pop = toolbox.select(pop, len(pop))\n",
    "print pop"
   ]
  },
  {
   "cell_type": "markdown",
   "metadata": {
    "internals": {
     "frag_helper": "fragment_end",
     "frag_number": 11,
     "slide_type": "subslide"
    },
    "slideshow": {
     "slide_type": "slide"
    }
   },
   "source": [
    "## Running the algorithm"
   ]
  },
  {
   "cell_type": "markdown",
   "metadata": {
    "internals": {
     "frag_helper": "fragment_end",
     "frag_number": 11
    },
    "slideshow": {
     "slide_type": "-"
    }
   },
   "source": [
    "We are now ready to run our NSGA-II."
   ]
  },
  {
   "cell_type": "code",
   "execution_count": 29,
   "metadata": {
    "internals": {
     "frag_helper": "fragment_end",
     "frag_number": 11
    },
    "slideshow": {
     "slide_type": "-"
    }
   },
   "outputs": [
    {
     "name": "stdout",
     "output_type": "stream",
     "text": [
      "CPU times: user 12.7 s, sys: 68 ms, total: 12.8 s\n",
      "Wall time: 12.7 s\n"
     ]
    }
   ],
   "source": [
    "%time res,_ = run_ea(toolbox)"
   ]
  },
  {
   "cell_type": "code",
   "execution_count": 30,
   "metadata": {
    "collapsed": true
   },
   "outputs": [],
   "source": [
    "def nsga_ii(toolbox, stats=None, verbose=False):\n",
    "    pop = toolbox.population(n=toolbox.pop_size)\n",
    "    pop = toolbox.select(pop, len(pop))\n",
    "    return algorithms.eaMuPlusLambda(pop, toolbox, mu=toolbox.pop_size, lambda_=toolbox.pop_size, cxpb=0.5, mutpb=0.5, stats=stats, ngen=10000, verbose=verbose)"
   ]
  },
  {
   "cell_type": "code",
   "execution_count": 31,
   "metadata": {},
   "outputs": [
    {
     "ename": "TypeError",
     "evalue": "unsupported operand type(s) for /: 'NoneType' and 'float'",
     "output_type": "error",
     "traceback": [
      "\u001b[0;31m---------------------------------------------------------------------------\u001b[0m",
      "\u001b[0;31mTypeError\u001b[0m                                 Traceback (most recent call last)",
      "\u001b[0;32m<ipython-input-31-b89ef42babd0>\u001b[0m in \u001b[0;36m<module>\u001b[0;34m()\u001b[0m\n\u001b[0;32m----> 1\u001b[0;31m \u001b[0mnsga_ii\u001b[0m\u001b[0;34m(\u001b[0m\u001b[0mtoolbox\u001b[0m\u001b[0;34m)\u001b[0m\u001b[0;34m\u001b[0m\u001b[0m\n\u001b[0m",
      "\u001b[0;32m<ipython-input-30-501472200da4>\u001b[0m in \u001b[0;36mnsga_ii\u001b[0;34m(toolbox, stats, verbose)\u001b[0m\n\u001b[1;32m      1\u001b[0m \u001b[0;32mdef\u001b[0m \u001b[0mnsga_ii\u001b[0m\u001b[0;34m(\u001b[0m\u001b[0mtoolbox\u001b[0m\u001b[0;34m,\u001b[0m \u001b[0mstats\u001b[0m\u001b[0;34m=\u001b[0m\u001b[0mNone\u001b[0m\u001b[0;34m,\u001b[0m \u001b[0mverbose\u001b[0m\u001b[0;34m=\u001b[0m\u001b[0mFalse\u001b[0m\u001b[0;34m)\u001b[0m\u001b[0;34m:\u001b[0m\u001b[0;34m\u001b[0m\u001b[0m\n\u001b[1;32m      2\u001b[0m     \u001b[0mpop\u001b[0m \u001b[0;34m=\u001b[0m \u001b[0mtoolbox\u001b[0m\u001b[0;34m.\u001b[0m\u001b[0mpopulation\u001b[0m\u001b[0;34m(\u001b[0m\u001b[0mn\u001b[0m\u001b[0;34m=\u001b[0m\u001b[0mtoolbox\u001b[0m\u001b[0;34m.\u001b[0m\u001b[0mpop_size\u001b[0m\u001b[0;34m)\u001b[0m\u001b[0;34m\u001b[0m\u001b[0m\n\u001b[0;32m----> 3\u001b[0;31m     \u001b[0mpop\u001b[0m \u001b[0;34m=\u001b[0m \u001b[0mtoolbox\u001b[0m\u001b[0;34m.\u001b[0m\u001b[0mselect\u001b[0m\u001b[0;34m(\u001b[0m\u001b[0mpop\u001b[0m\u001b[0;34m,\u001b[0m \u001b[0mlen\u001b[0m\u001b[0;34m(\u001b[0m\u001b[0mpop\u001b[0m\u001b[0;34m)\u001b[0m\u001b[0;34m)\u001b[0m\u001b[0;34m\u001b[0m\u001b[0m\n\u001b[0m\u001b[1;32m      4\u001b[0m     \u001b[0;32mreturn\u001b[0m \u001b[0malgorithms\u001b[0m\u001b[0;34m.\u001b[0m\u001b[0meaMuPlusLambda\u001b[0m\u001b[0;34m(\u001b[0m\u001b[0mpop\u001b[0m\u001b[0;34m,\u001b[0m \u001b[0mtoolbox\u001b[0m\u001b[0;34m,\u001b[0m \u001b[0mmu\u001b[0m\u001b[0;34m=\u001b[0m\u001b[0mtoolbox\u001b[0m\u001b[0;34m.\u001b[0m\u001b[0mpop_size\u001b[0m\u001b[0;34m,\u001b[0m \u001b[0mlambda_\u001b[0m\u001b[0;34m=\u001b[0m\u001b[0mtoolbox\u001b[0m\u001b[0;34m.\u001b[0m\u001b[0mpop_size\u001b[0m\u001b[0;34m,\u001b[0m \u001b[0mcxpb\u001b[0m\u001b[0;34m=\u001b[0m\u001b[0;36m0.5\u001b[0m\u001b[0;34m,\u001b[0m \u001b[0mmutpb\u001b[0m\u001b[0;34m=\u001b[0m\u001b[0;36m0.5\u001b[0m\u001b[0;34m,\u001b[0m \u001b[0mstats\u001b[0m\u001b[0;34m=\u001b[0m\u001b[0mstats\u001b[0m\u001b[0;34m,\u001b[0m \u001b[0mngen\u001b[0m\u001b[0;34m=\u001b[0m\u001b[0;36m10000\u001b[0m\u001b[0;34m,\u001b[0m \u001b[0mverbose\u001b[0m\u001b[0;34m=\u001b[0m\u001b[0mverbose\u001b[0m\u001b[0;34m)\u001b[0m\u001b[0;34m\u001b[0m\u001b[0m\n",
      "\u001b[0;32m/usr/local/lib/python2.7/dist-packages/deap-1.1.0-py2.7-linux-x86_64.egg/deap/tools/emo.pyc\u001b[0m in \u001b[0;36mselNSGA2\u001b[0;34m(individuals, k, nd)\u001b[0m\n\u001b[1;32m     39\u001b[0m \u001b[0;34m\u001b[0m\u001b[0m\n\u001b[1;32m     40\u001b[0m     \u001b[0;32mfor\u001b[0m \u001b[0mfront\u001b[0m \u001b[0;32min\u001b[0m \u001b[0mpareto_fronts\u001b[0m\u001b[0;34m:\u001b[0m\u001b[0;34m\u001b[0m\u001b[0m\n\u001b[0;32m---> 41\u001b[0;31m         \u001b[0massignCrowdingDist\u001b[0m\u001b[0;34m(\u001b[0m\u001b[0mfront\u001b[0m\u001b[0;34m)\u001b[0m\u001b[0;34m\u001b[0m\u001b[0m\n\u001b[0m\u001b[1;32m     42\u001b[0m \u001b[0;34m\u001b[0m\u001b[0m\n\u001b[1;32m     43\u001b[0m     \u001b[0mchosen\u001b[0m \u001b[0;34m=\u001b[0m \u001b[0mlist\u001b[0m\u001b[0;34m(\u001b[0m\u001b[0mchain\u001b[0m\u001b[0;34m(\u001b[0m\u001b[0;34m*\u001b[0m\u001b[0mpareto_fronts\u001b[0m\u001b[0;34m[\u001b[0m\u001b[0;34m:\u001b[0m\u001b[0;34m-\u001b[0m\u001b[0;36m1\u001b[0m\u001b[0;34m]\u001b[0m\u001b[0;34m)\u001b[0m\u001b[0;34m)\u001b[0m\u001b[0;34m\u001b[0m\u001b[0m\n",
      "\u001b[0;32m/usr/local/lib/python2.7/dist-packages/deap-1.1.0-py2.7-linux-x86_64.egg/deap/tools/emo.pyc\u001b[0m in \u001b[0;36massignCrowdingDist\u001b[0;34m(individuals)\u001b[0m\n\u001b[1;32m    124\u001b[0m \u001b[0;34m\u001b[0m\u001b[0m\n\u001b[1;32m    125\u001b[0m     \u001b[0mdistances\u001b[0m \u001b[0;34m=\u001b[0m \u001b[0;34m[\u001b[0m\u001b[0;36m0.0\u001b[0m\u001b[0;34m]\u001b[0m \u001b[0;34m*\u001b[0m \u001b[0mlen\u001b[0m\u001b[0;34m(\u001b[0m\u001b[0mindividuals\u001b[0m\u001b[0;34m)\u001b[0m\u001b[0;34m\u001b[0m\u001b[0m\n\u001b[0;32m--> 126\u001b[0;31m     \u001b[0mcrowd\u001b[0m \u001b[0;34m=\u001b[0m \u001b[0;34m[\u001b[0m\u001b[0;34m(\u001b[0m\u001b[0mind\u001b[0m\u001b[0;34m.\u001b[0m\u001b[0mfitness\u001b[0m\u001b[0;34m.\u001b[0m\u001b[0mvalues\u001b[0m\u001b[0;34m,\u001b[0m \u001b[0mi\u001b[0m\u001b[0;34m)\u001b[0m \u001b[0;32mfor\u001b[0m \u001b[0mi\u001b[0m\u001b[0;34m,\u001b[0m \u001b[0mind\u001b[0m \u001b[0;32min\u001b[0m \u001b[0menumerate\u001b[0m\u001b[0;34m(\u001b[0m\u001b[0mindividuals\u001b[0m\u001b[0;34m)\u001b[0m\u001b[0;34m]\u001b[0m\u001b[0;34m\u001b[0m\u001b[0m\n\u001b[0m\u001b[1;32m    127\u001b[0m \u001b[0;34m\u001b[0m\u001b[0m\n\u001b[1;32m    128\u001b[0m     \u001b[0mnobj\u001b[0m \u001b[0;34m=\u001b[0m \u001b[0mlen\u001b[0m\u001b[0;34m(\u001b[0m\u001b[0mindividuals\u001b[0m\u001b[0;34m[\u001b[0m\u001b[0;36m0\u001b[0m\u001b[0;34m]\u001b[0m\u001b[0;34m.\u001b[0m\u001b[0mfitness\u001b[0m\u001b[0;34m.\u001b[0m\u001b[0mvalues\u001b[0m\u001b[0;34m)\u001b[0m\u001b[0;34m\u001b[0m\u001b[0m\n",
      "\u001b[0;32m/usr/local/lib/python2.7/dist-packages/deap-1.1.0-py2.7-linux-x86_64.egg/deap/base.pyc\u001b[0m in \u001b[0;36mgetValues\u001b[0;34m(self)\u001b[0m\n\u001b[1;32m    179\u001b[0m \u001b[0;34m\u001b[0m\u001b[0m\n\u001b[1;32m    180\u001b[0m     \u001b[0;32mdef\u001b[0m \u001b[0mgetValues\u001b[0m\u001b[0;34m(\u001b[0m\u001b[0mself\u001b[0m\u001b[0;34m)\u001b[0m\u001b[0;34m:\u001b[0m\u001b[0;34m\u001b[0m\u001b[0m\n\u001b[0;32m--> 181\u001b[0;31m         \u001b[0;32mreturn\u001b[0m \u001b[0mtuple\u001b[0m\u001b[0;34m(\u001b[0m\u001b[0mmap\u001b[0m\u001b[0;34m(\u001b[0m\u001b[0mtruediv\u001b[0m\u001b[0;34m,\u001b[0m \u001b[0mself\u001b[0m\u001b[0;34m.\u001b[0m\u001b[0mwvalues\u001b[0m\u001b[0;34m,\u001b[0m \u001b[0mself\u001b[0m\u001b[0;34m.\u001b[0m\u001b[0mweights\u001b[0m\u001b[0;34m)\u001b[0m\u001b[0;34m)\u001b[0m\u001b[0;34m\u001b[0m\u001b[0m\n\u001b[0m\u001b[1;32m    182\u001b[0m \u001b[0;34m\u001b[0m\u001b[0m\n\u001b[1;32m    183\u001b[0m     \u001b[0;32mdef\u001b[0m \u001b[0msetValues\u001b[0m\u001b[0;34m(\u001b[0m\u001b[0mself\u001b[0m\u001b[0;34m,\u001b[0m \u001b[0mvalues\u001b[0m\u001b[0;34m)\u001b[0m\u001b[0;34m:\u001b[0m\u001b[0;34m\u001b[0m\u001b[0m\n",
      "\u001b[0;31mTypeError\u001b[0m: unsupported operand type(s) for /: 'NoneType' and 'float'"
     ]
    }
   ],
   "source": [
    "nsga_ii(toolbox)"
   ]
  },
  {
   "cell_type": "markdown",
   "metadata": {
    "internals": {
     "frag_helper": "fragment_end",
     "frag_number": 11
    },
    "slideshow": {
     "slide_type": "-"
    }
   },
   "source": [
    "We can now get the Pareto fronts in the results (`res`)."
   ]
  },
  {
   "cell_type": "code",
   "execution_count": 73,
   "metadata": {
    "internals": {
     "frag_helper": "fragment_end",
     "frag_number": 11,
     "slide_helper": "subslide_end"
    },
    "slide_helper": "slide_end",
    "slideshow": {
     "slide_type": "-"
    }
   },
   "outputs": [
    {
     "ename": "NameError",
     "evalue": "name 'res' is not defined",
     "output_type": "error",
     "traceback": [
      "\u001b[0;31m---------------------------------------------------------------------------\u001b[0m",
      "\u001b[0;31mNameError\u001b[0m                                 Traceback (most recent call last)",
      "\u001b[0;32m<ipython-input-73-ce54acf04deb>\u001b[0m in \u001b[0;36m<module>\u001b[0;34m()\u001b[0m\n\u001b[0;32m----> 1\u001b[0;31m \u001b[0mfronts\u001b[0m \u001b[0;34m=\u001b[0m \u001b[0mtools\u001b[0m\u001b[0;34m.\u001b[0m\u001b[0memo\u001b[0m\u001b[0;34m.\u001b[0m\u001b[0msortLogNondominated\u001b[0m\u001b[0;34m(\u001b[0m\u001b[0mres\u001b[0m\u001b[0;34m,\u001b[0m \u001b[0mlen\u001b[0m\u001b[0;34m(\u001b[0m\u001b[0mres\u001b[0m\u001b[0;34m)\u001b[0m\u001b[0;34m)\u001b[0m\u001b[0;34m\u001b[0m\u001b[0m\n\u001b[0m",
      "\u001b[0;31mNameError\u001b[0m: name 'res' is not defined"
     ]
    }
   ],
   "source": [
    "fronts = tools.emo.sortLogNondominated(res, len(res))"
   ]
  },
  {
   "cell_type": "markdown",
   "metadata": {
    "internals": {
     "frag_helper": "fragment_end",
     "frag_number": 11,
     "slide_type": "subslide"
    },
    "slideshow": {
     "slide_type": "slide"
    }
   },
   "source": [
    "## Resulting Pareto fronts"
   ]
  },
  {
   "cell_type": "code",
   "execution_count": 57,
   "metadata": {
    "internals": {
     "frag_helper": "fragment_end",
     "frag_number": 11
    },
    "slideshow": {
     "slide_type": "-"
    }
   },
   "outputs": [
    {
     "data": {
      "image/png": "[encoded data removed]",
      "text/plain": [
       "<matplotlib.figure.Figure at 0x7f125b2f9610>"
      ]
     },
     "metadata": {},
     "output_type": "display_data"
    }
   ],
   "source": [
    "plot_colors = seaborn.color_palette(\"Set1\", n_colors=10)\n",
    "fig, ax = plt.subplots(1, figsize=(4,4))\n",
    "for i,inds in enumerate(fronts):\n",
    "    par = [toolbox.evaluate(ind) for ind in inds]\n",
    "    df = pd.DataFrame(par)\n",
    "    df.plot(ax=ax, kind='scatter', label='Front ' + str(i+1), \n",
    "                 x=df.columns[0], y=df.columns[1], \n",
    "                 color=plot_colors[i])\n",
    "plt.xlabel('$f_1(\\mathbf{x})$');plt.ylabel('$f_2(\\mathbf{x})$');"
   ]
  },
  {
   "cell_type": "markdown",
   "metadata": {
    "internals": {
     "frag_helper": "fragment_end",
     "frag_number": 11,
     "slide_helper": "subslide_end"
    },
    "slide_helper": "slide_end",
    "slideshow": {
     "slide_type": "-"
    }
   },
   "source": [
    "* It is better to make an animated plot of the evolution as it takes place."
   ]
  },
  {
   "cell_type": "markdown",
   "metadata": {
    "internals": {
     "frag_helper": "fragment_end",
     "frag_number": 11,
     "slide_type": "subslide"
    },
    "slideshow": {
     "slide_type": "slide"
    }
   },
   "source": [
    "## Animating the evolutionary process"
   ]
  },
  {
   "cell_type": "markdown",
   "metadata": {
    "internals": {
     "frag_helper": "fragment_end",
     "frag_number": 11
    },
    "slideshow": {
     "slide_type": "-"
    }
   },
   "source": [
    "We create a `stats` to store the individuals not only their objective function values."
   ]
  },
  {
   "cell_type": "code",
   "execution_count": 58,
   "metadata": {
    "collapsed": true,
    "internals": {
     "frag_helper": "fragment_end",
     "frag_number": 11
    },
    "slideshow": {
     "slide_type": "-"
    }
   },
   "outputs": [],
   "source": [
    "stats = tools.Statistics()\n",
    "stats.register(\"pop\", copy.deepcopy)"
   ]
  },
  {
   "cell_type": "code",
   "execution_count": 59,
   "metadata": {
    "collapsed": true,
    "internals": {
     "frag_helper": "fragment_end",
     "frag_number": 11
    },
    "slideshow": {
     "slide_type": "-"
    }
   },
   "outputs": [],
   "source": [
    "toolbox.max_gen = 1000 # we need more generations!"
   ]
  },
  {
   "cell_type": "markdown",
   "metadata": {
    "internals": {
     "frag_helper": "fragment_end",
     "frag_number": 11
    },
    "slideshow": {
     "slide_type": "-"
    }
   },
   "source": [
    "Re-run the algorithm to get the data necessary for plotting."
   ]
  },
  {
   "cell_type": "code",
   "execution_count": 60,
   "metadata": {
    "internals": {
     "frag_helper": "fragment_end",
     "frag_number": 11,
     "slide_helper": "subslide_end"
    },
    "slide_helper": "subslide_end",
    "slideshow": {
     "slide_type": "-"
    }
   },
   "outputs": [
    {
     "name": "stdout",
     "output_type": "stream",
     "text": [
      "CPU times: user 16.9 s, sys: 108 ms, total: 17 s\n",
      "Wall time: 16.9 s\n"
     ]
    }
   ],
   "source": [
    "%time res, logbook = run_ea(toolbox, stats=stats)"
   ]
  },
  {
   "cell_type": "code",
   "execution_count": 61,
   "metadata": {
    "collapsed": true,
    "internals": {
     "frag_helper": "fragment_end",
     "frag_number": 11,
     "slide_type": "subslide"
    },
    "slideshow": {
     "slide_type": "subslide"
    }
   },
   "outputs": [],
   "source": [
    "from matplotlib import animation\n",
    "from IPython.display import HTML"
   ]
  },
  {
   "cell_type": "code",
   "execution_count": 62,
   "metadata": {
    "collapsed": true,
    "internals": {
     "frag_helper": "fragment_end",
     "frag_number": 11,
     "slide_helper": "subslide_end"
    },
    "slide_helper": "slide_end",
    "slideshow": {
     "slide_type": "-"
    }
   },
   "outputs": [],
   "source": [
    "def animate(frame_index, logbook):\n",
    "    'Updates all plots to match frame _i_ of the animation.'\n",
    "    ax.clear()    \n",
    "    fronts = tools.emo.sortLogNondominated(logbook.select('pop')[frame_index], \n",
    "                                           len(logbook.select('pop')[frame_index]))\n",
    "    for i,inds in enumerate(fronts):\n",
    "        par = [toolbox.evaluate(ind) for ind in inds]\n",
    "        df = pd.DataFrame(par)\n",
    "        df.plot(ax=ax, kind='scatter', label='Front ' + str(i+1), \n",
    "                 x=df.columns[0], y=df.columns[1], alpha=0.47,\n",
    "                 color=plot_colors[i % len(plot_colors)])\n",
    "        \n",
    "    ax.set_title('$t=$' + str(frame_index))\n",
    "    ax.set_xlabel('$f_1(\\mathbf{x})$');ax.set_ylabel('$f_2(\\mathbf{x})$')\n",
    "    return []"
   ]
  },
  {
   "cell_type": "code",
   "execution_count": 63,
   "metadata": {
    "collapsed": true,
    "internals": {
     "frag_helper": "fragment_end",
     "frag_number": 11,
     "slide_helper": "subslide_end",
     "slide_type": "subslide"
    },
    "slide_helper": "slide_end",
    "slideshow": {
     "slide_type": "slide"
    }
   },
   "outputs": [],
   "source": [
    "fig = plt.figure(figsize=(4,4))\n",
    "ax = fig.gca()\n",
    "anim = animation.FuncAnimation(fig, lambda i: animate(i, logbook), \n",
    "                               frames=len(logbook), interval=60, \n",
    "                               blit=True)\n",
    "plt.close()"
   ]
  },
  {
   "cell_type": "code",
   "execution_count": 64,
   "metadata": {},
   "outputs": [
    {
     "data": {
      "text/plain": [
       "<IPython.core.display.HTML object>"
      ]
     },
     "execution_count": 64,
     "metadata": {},
     "output_type": "execute_result"
    }
   ],
   "source": [
    "HTML(anim.save('test.mp4'))"
   ]
  },
  {
   "cell_type": "code",
   "execution_count": 40,
   "metadata": {},
   "outputs": [
    {
     "data": {
      "text/plain": [
       "<IPython.core.display.HTML object>"
      ]
     },
     "execution_count": 40,
     "metadata": {},
     "output_type": "execute_result"
    }
   ],
   "source": [
    "HTML(anim.save('image.mp4', fps=20, writer=\"avconv\", codec=\"libx264\"))"
   ]
  },
  {
   "cell_type": "markdown",
   "metadata": {
    "internals": {
     "frag_helper": "fragment_end",
     "frag_number": 11,
     "slide_helper": "subslide_end"
    },
    "slide_helper": "slide_end",
    "slideshow": {
     "slide_type": "-"
    }
   },
   "source": [
    "Here it is clearly visible how the algorithm \"jumps\" from one local-optimum to a better one as evolution takes place."
   ]
  },
  {
   "cell_type": "markdown",
   "metadata": {
    "internals": {
     "frag_helper": "fragment_end",
     "frag_number": 11,
     "slide_helper": "subslide_end",
     "slide_type": "subslide"
    },
    "slide_helper": "slide_end",
    "slideshow": {
     "slide_type": "slide"
    }
   },
   "source": [
    "# MOP benchmark problem toolkits\n",
    "\n",
    "Each problem instance is meant to test the algorithms with regard with a given feature: local optima, convexity, discontinuity, bias, or a combination of them.\n",
    "\n",
    "* [*ZDT1-6*](http://www.tik.ee.ethz.ch/sop/download/supplementary/testproblems/): Two-objective problems with a fixed number of decision variables.\n",
    "     * E. Zitzler, K. Deb, and L. Thiele. Comparison of Multiobjective Evolutionary Algorithms: Empirical Results. Evolutionary Computation, 8(2):173-195, 2000. ([pdf](http://www.tik.ee.ethz.ch/sop/publicationListFiles/zdt2000a.pdf))\n",
    "* [*DTLZ1-7*](http://www.tik.ee.ethz.ch/sop/download/supplementary/testproblems/): $m$-objective problems with $n$ variables.\n",
    "     * K. Deb, L. Thiele, M. Laumanns and E. Zitzler. Scalable Multi-Objective Optimization Test Problems. CEC 2002, p. 825 - 830, IEEE Press, 2002. ([pdf](http://www.tik.ee.ethz.ch/sop/publicationListFiles/dtlz2002a.pdf))"
   ]
  },
  {
   "cell_type": "markdown",
   "metadata": {
    "internals": {
     "frag_helper": "fragment_end",
     "frag_number": 11,
     "slide_helper": "subslide_end",
     "slide_type": "subslide"
    },
    "slide_helper": "slide_end",
    "slideshow": {
     "slide_type": "slide"
    }
   },
   "source": [
    "* [*CEC'09*](http://dces.essex.ac.uk/staff/zhang/moeacompetition09.htm): Two- and three- objective problems that very complex Pareto sets.\n",
    "    * Zhang, Q., Zhou, A., Zhao, S., & Suganthan, P. N. (2009). Multiobjective optimization test instances for the CEC 2009 special session and competition. In 2009 IEEE Congress on Evolutionary Computation (pp. 1–30). ([pdf](http://dces.essex.ac.uk/staff/zhang/MOEAcompetition/cec09testproblem0904.pdf.pdf))\n",
    "* [*WFG1-9*](http://www.wfg.csse.uwa.edu.au/publications.html#toolkit): $m$-objective problems with $n$ variables, very complex.\n",
    "    * Huband, S., Hingston, P., Barone, L., & While, L. (2006). A review of multiobjective test problems and a scalable test problem toolkit. IEEE Transactions on Evolutionary Computation, 10(5), 477–506. doi:10.1109/TEVC.2005.861417"
   ]
  },
  {
   "cell_type": "markdown",
   "metadata": {
    "internals": {
     "frag_helper": "fragment_end",
     "frag_number": 11,
     "slide_type": "subslide"
    },
    "slideshow": {
     "slide_type": "slide"
    }
   },
   "source": [
    "How does our NSGA-II behaves when faced with different benchmark problems?"
   ]
  },
  {
   "cell_type": "code",
   "execution_count": 116,
   "metadata": {
    "collapsed": true,
    "internals": {
     "frag_helper": "fragment_end",
     "frag_number": 11,
     "slide_helper": "subslide_end"
    },
    "slide_helper": "slide_end",
    "slideshow": {
     "slide_type": "-"
    }
   },
   "outputs": [],
   "source": [
    "problem_instances = {'ZDT1': benchmarks.zdt1, 'ZDT2': benchmarks.zdt2,\n",
    "                     'ZDT3': benchmarks.zdt3, 'ZDT4': benchmarks.zdt4,\n",
    "                     'DTLZ1': lambda ind: benchmarks.dtlz1(ind,2),\n",
    "                     'DTLZ2': lambda ind: benchmarks.dtlz2(ind,2),\n",
    "                     'DTLZ3': lambda ind: benchmarks.dtlz3(ind,2),\n",
    "                     'DTLZ4': lambda ind: benchmarks.dtlz4(ind,2, 100),\n",
    "                     'DTLZ5': lambda ind: benchmarks.dtlz5(ind,2)}\n",
    "                     #'DTLZ5': lambda ind: benchmarks.dtlz5(ind,2),\n",
    "                     #'DTLZ6': lambda ind: benchmarks.dtlz6(ind,2),\n",
    "                     #'DTLZ7': lambda ind: benchmarks.dtlz7(ind,2)"
   ]
  },
  {
   "cell_type": "code",
   "execution_count": 117,
   "metadata": {
    "collapsed": true,
    "internals": {
     "frag_helper": "fragment_end",
     "frag_number": 11,
     "slide_type": "subslide"
    },
    "slideshow": {
     "slide_type": "slide"
    }
   },
   "outputs": [],
   "source": [
    "toolbox.max_gen = 1000\n",
    "\n",
    "stats = tools.Statistics(lambda ind: ind.fitness.values)\n",
    "stats.register(\"obj_vals\", np.copy)\n",
    "\n",
    "def run_problem(toolbox, problem):\n",
    "    toolbox.register('evaluate', problem)\n",
    "    return run_ea(toolbox, stats=stats)"
   ]
  },
  {
   "cell_type": "markdown",
   "metadata": {
    "internals": {
     "frag_helper": "fragment_end",
     "frag_number": 11
    },
    "slideshow": {
     "slide_type": "-"
    }
   },
   "source": [
    "Running NSGA-II solving all problems. Now it takes longer."
   ]
  },
  {
   "cell_type": "code",
   "execution_count": 118,
   "metadata": {
    "internals": {
     "frag_helper": "fragment_end",
     "frag_number": 91,
     "slide_helper": "subslide_end"
    },
    "slide_helper": "slide_end",
    "slideshow": {
     "slide_type": "fragment"
    }
   },
   "outputs": [
    {
     "name": "stdout",
     "output_type": "stream",
     "text": [
      "CPU times: user 6min 34s, sys: 1.62 s, total: 6min 35s\n",
      "Wall time: 6min 33s\n"
     ]
    }
   ],
   "source": [
    "%time results = {problem: run_problem(toolbox, problem_instances[problem]) for problem in problem_instances}"
   ]
  },
  {
   "cell_type": "markdown",
   "metadata": {
    "internals": {
     "frag_helper": "fragment_end",
     "frag_number": 91,
     "slide_type": "subslide"
    },
    "slideshow": {
     "slide_type": "slide"
    }
   },
   "source": [
    "Creating this animation takes more programming effort."
   ]
  },
  {
   "cell_type": "code",
   "execution_count": 119,
   "metadata": {
    "collapsed": true,
    "internals": {
     "frag_helper": "fragment_end",
     "frag_number": 91,
     "slide_helper": "subslide_end"
    },
    "slide_helper": "slide_end",
    "slideshow": {
     "slide_type": "-"
    }
   },
   "outputs": [],
   "source": [
    "class MultiProblemAnimation:\n",
    "    def init(self, fig, results):\n",
    "        self.results = results\n",
    "        self.axs = [fig.add_subplot(3,4,i+1) for i in range(len(results))]\n",
    "        self.plots =[]\n",
    "        for i, problem in enumerate(sorted(results)):\n",
    "            (res, logbook) = self.results[problem]\n",
    "            pop = pd.DataFrame(data=logbook.select('obj_vals')[0])\n",
    "            plot = self.axs[i].plot(pop[0], pop[1], 'b.', alpha=0.47)[0]\n",
    "            self.plots.append(plot)\n",
    "        fig.tight_layout()\n",
    "            \n",
    "    def animate(self, t):\n",
    "        'Updates all plots to match frame _i_ of the animation.'\n",
    "        for i, problem in enumerate(sorted(results)):\n",
    "            #self.axs[i].clear()\n",
    "            (res, logbook) = self.results[problem]\n",
    "            pop = pd.DataFrame(data=logbook.select('obj_vals')[t])\n",
    "            self.plots[i].set_data(pop[0], pop[1])\n",
    "            self.axs[i].set_title(problem + '; $t=' + str(t)+'$') \n",
    "            self.axs[i].set_xlim((0, max(1,pop.max()[0])))\n",
    "            self.axs[i].set_ylim((0, max(1,pop.max()[1])))\n",
    "        return self.axs"
   ]
  },
  {
   "cell_type": "code",
   "execution_count": 120,
   "metadata": {
    "collapsed": true,
    "internals": {
     "frag_helper": "fragment_end",
     "frag_number": 91,
     "slide_type": "subslide"
    },
    "slideshow": {
     "slide_type": "slide"
    }
   },
   "outputs": [],
   "source": [
    "mpa = MultiProblemAnimation()"
   ]
  },
  {
   "cell_type": "code",
   "execution_count": 121,
   "metadata": {
    "collapsed": true,
    "internals": {
     "frag_helper": "fragment_end",
     "frag_number": 91,
     "slide_helper": "subslide_end"
    },
    "slide_helper": "slide_end",
    "slideshow": {
     "slide_type": "-"
    }
   },
   "outputs": [],
   "source": [
    "fig = plt.figure(figsize=(14,6))\n",
    "anim = animation.FuncAnimation(fig, mpa.animate, init_func=mpa.init(fig,results), \n",
    "                               frames=toolbox.max_gen, interval=60, blit=True)\n",
    "plt.close()"
   ]
  },
  {
   "cell_type": "code",
   "execution_count": 122,
   "metadata": {},
   "outputs": [
    {
     "data": {
      "text/plain": [
       "<IPython.core.display.HTML object>"
      ]
     },
     "execution_count": 122,
     "metadata": {},
     "output_type": "execute_result"
    }
   ],
   "source": [
    "HTML(anim.save('image.mp4', fps=20, writer=\"avconv\", codec=\"libx264\"))"
   ]
  },
  {
   "cell_type": "markdown",
   "metadata": {
    "internals": {
     "frag_helper": "fragment_end",
     "frag_number": 91,
     "slide_helper": "subslide_end"
    },
    "slide_helper": "slide_end",
    "slideshow": {
     "slide_type": "-"
    }
   },
   "source": [
    "* It is interesting how the algorithm deals with each problem: clearly some problems are harder than others.\n",
    "* In some cases it \"hits\" the Pareto front and then slowly explores it.\n",
    "\n",
    "**Read more about this in the class materials.**"
   ]
  },
  {
   "cell_type": "markdown",
   "metadata": {
    "internals": {
     "frag_helper": "fragment_end",
     "frag_number": 91,
     "slide_helper": "subslide_end",
     "slide_type": "subslide"
    },
    "slide_helper": "slide_end",
    "slideshow": {
     "slide_type": "slide"
    }
   },
   "source": [
    "# Experiment design and reporting results\n",
    "\n",
    "* Watching an animation of an EMO algorithm solve a problem is certainly fun. \n",
    "* It also allows us to understand many particularities of the problem being solved.\n",
    "* But, as [Carlos Coello](http://delta.cs.cinvestav.mx/~ccoello/) would say, we are *not* in an art appreciation class.\n",
    "* We should follow the key concepts provided by the [scientific method](http://en.wikipedia.org/wiki/Scientific_method).\n",
    "* I urge you to study the [experimental design](http://en.wikipedia.org/wiki/Design_of_experiments) topic in depth as it is an essential knowledge.\n",
    "\n",
    "**Evolutionary algorithms are stochastic algorithms, therefore their results must be assessed by repeating experiments until you reach an statistically valid conclusion.** "
   ]
  },
  {
   "cell_type": "markdown",
   "metadata": {
    "internals": {
     "frag_helper": "fragment_end",
     "frag_number": 91,
     "slide_helper": "subslide_end",
     "slide_type": "subslide"
    },
    "slide_helper": "slide_end",
    "slideshow": {
     "slide_type": "slide"
    }
   },
   "source": [
    "## An illustrative simple/sample experiment\n",
    "\n",
    "Let's make a relatively simple but very important experiment:\n",
    "\n",
    "* **Question**: In our NSGA-II applied to a two-objective DTLZ3 problem: Is it more important to have a big population and let the algorithm run for a few iterations or is better to have a small population and let the algorithm run for larger number of iterations.\n",
    "* **Procedure**: We must perform an experiment testing different population sizes and maximum number of iterations while keeping the other parameters constant."
   ]
  },
  {
   "cell_type": "markdown",
   "metadata": {
    "internals": {
     "frag_helper": "fragment_end",
     "frag_number": 91,
     "slide_helper": "subslide_end",
     "slide_type": "subslide"
    },
    "slide_helper": "slide_end",
    "slideshow": {
     "slide_type": "slide"
    }
   },
   "source": [
    "### Notation\n",
    "\n",
    "As usual we need to establish some notation:\n",
    "\n",
    "* *Multi-objective problem* (or just *problem*): A multi-objective optimization problem, as defined above.\n",
    "* *MOEA*: An evolutionary computation method used to solve multi-objective problems.\n",
    "* *Experiment*: a combination of problem and MOEA and a set of values of their parameters.\n",
    "* *Experiment run*: The result of running an experiment.\n",
    "* We will use `toolbox` instances to define experiments. "
   ]
  },
  {
   "cell_type": "markdown",
   "metadata": {
    "internals": {
     "frag_helper": "fragment_end",
     "frag_number": 91,
     "slide_type": "subslide"
    },
    "slideshow": {
     "slide_type": "slide"
    }
   },
   "source": [
    "We start by creating a `toolbox` that will contain the configuration that will be shared across all experiments."
   ]
  },
  {
   "cell_type": "code",
   "execution_count": 77,
   "metadata": {
    "collapsed": true,
    "internals": {
     "frag_helper": "fragment_end",
     "frag_number": 91
    },
    "slideshow": {
     "slide_type": "-"
    }
   },
   "outputs": [],
   "source": [
    "toolbox = base.Toolbox()"
   ]
  },
  {
   "cell_type": "code",
   "execution_count": 78,
   "metadata": {
    "collapsed": true,
    "internals": {
     "frag_helper": "fragment_end",
     "frag_number": 91,
     "slide_helper": "subslide_end"
    },
    "slide_helper": "slide_end",
    "slideshow": {
     "slide_type": "-"
    }
   },
   "outputs": [],
   "source": [
    "BOUND_LOW, BOUND_UP = 0.0, 1.0\n",
    "NDIM = 30\n",
    "# the explanation of this... a few lines bellow\n",
    "def eval_helper(ind):\n",
    "    return benchmarks.dtlz3(ind, 2)\n",
    "\n",
    "toolbox.register(\"evaluate\", eval_helper)"
   ]
  },
  {
   "cell_type": "code",
   "execution_count": 79,
   "metadata": {
    "collapsed": true,
    "internals": {
     "frag_helper": "fragment_end",
     "frag_number": 91,
     "slide_helper": "subslide_end",
     "slide_type": "subslide"
    },
    "slide_helper": "slide_end",
    "slideshow": {
     "slide_type": "slide"
    }
   },
   "outputs": [],
   "source": [
    "def uniform(low, up, size=None):\n",
    "    try:\n",
    "        return [random.uniform(a, b) for a, b in zip(low, up)]\n",
    "    except TypeError:\n",
    "        return [random.uniform(a, b) for a, b in zip([low] * size, [up] * size)]\n",
    "\n",
    "toolbox.register(\"attr_float\", uniform, BOUND_LOW, BOUND_UP, NDIM)\n",
    "toolbox.register(\"individual\", tools.initIterate, creator.Individual, toolbox.attr_float)\n",
    "toolbox.register(\"population\", tools.initRepeat, list, toolbox.individual)\n",
    "\n",
    "toolbox.register(\"mate\", tools.cxSimulatedBinaryBounded, low=BOUND_LOW, up=BOUND_UP, eta=20.0)\n",
    "toolbox.register(\"mutate\", tools.mutPolynomialBounded, low=BOUND_LOW, up=BOUND_UP, eta=20.0, indpb=1.0/NDIM)\n",
    "\n",
    "toolbox.register(\"select\", tools.selNSGA2)\n",
    "\n",
    "toolbox.mut_prob = 0.15"
   ]
  },
  {
   "cell_type": "markdown",
   "metadata": {
    "internals": {
     "frag_helper": "fragment_end",
     "frag_number": 91,
     "slide_type": "subslide"
    },
    "slideshow": {
     "slide_type": "slide"
    }
   },
   "source": [
    "We add a `experiment_name` to `toolbox` that we will fill up later on. Here $n\\mathrm{pop}$ denotes the population size and $t_\\mathrm{max}$ the max. number of iterations."
   ]
  },
  {
   "cell_type": "code",
   "execution_count": 80,
   "metadata": {
    "collapsed": true,
    "internals": {
     "frag_helper": "fragment_end",
     "frag_number": 91
    },
    "slideshow": {
     "slide_type": "-"
    }
   },
   "outputs": [],
   "source": [
    "experiment_name = \"$n_\\mathrm{{pop}}={0};\\ t_\\mathrm{{max}}={1}$\""
   ]
  },
  {
   "cell_type": "code",
   "execution_count": 81,
   "metadata": {
    "collapsed": true
   },
   "outputs": [],
   "source": [
    "total_evals = 500"
   ]
  },
  {
   "cell_type": "markdown",
   "metadata": {
    "internals": {
     "frag_helper": "fragment_end",
     "frag_number": 91
    },
    "slideshow": {
     "slide_type": "-"
    }
   },
   "source": [
    "We can now replicate this toolbox instance and then modify the mutation probabilities."
   ]
  },
  {
   "cell_type": "code",
   "execution_count": 82,
   "metadata": {
    "collapsed": true,
    "internals": {
     "frag_helper": "fragment_end",
     "frag_number": 91
    },
    "slideshow": {
     "slide_type": "-"
    }
   },
   "outputs": [],
   "source": [
    "pop_sizes = (10,50,100)"
   ]
  },
  {
   "cell_type": "code",
   "execution_count": 83,
   "metadata": {
    "collapsed": true
   },
   "outputs": [],
   "source": [
    "toolboxes=list([copy.deepcopy(toolbox) for _ in range(len(pop_sizes))])"
   ]
  },
  {
   "cell_type": "markdown",
   "metadata": {
    "internals": {
     "frag_helper": "fragment_end",
     "frag_number": 91,
     "slide_helper": "subslide_end"
    },
    "slide_helper": "slide_end",
    "slideshow": {
     "slide_type": "-"
    }
   },
   "source": [
    "Now `toolboxes` is a list of copies of the same toolbox. One for each experiment configuration (population size)."
   ]
  },
  {
   "cell_type": "markdown",
   "metadata": {
    "internals": {
     "frag_helper": "fragment_end",
     "frag_number": 91,
     "slide_type": "subslide"
    },
    "slideshow": {
     "slide_type": "slide"
    }
   },
   "source": [
    "...but we still have to set the population sizes in the elements of `toolboxes`."
   ]
  },
  {
   "cell_type": "code",
   "execution_count": 84,
   "metadata": {
    "collapsed": true,
    "internals": {
     "frag_helper": "fragment_end",
     "frag_number": 91
    },
    "slideshow": {
     "slide_type": "-"
    }
   },
   "outputs": [],
   "source": [
    "for pop_size, toolbox in zip(pop_sizes, toolboxes):\n",
    "    toolbox.pop_size = pop_size\n",
    "    toolbox.max_gen = total_evals // pop_size\n",
    "    toolbox.experiment_name = experiment_name.format(toolbox.pop_size, toolbox.max_gen)"
   ]
  },
  {
   "cell_type": "code",
   "execution_count": 85,
   "metadata": {
    "internals": {
     "frag_helper": "fragment_end",
     "frag_number": 114,
     "slide_helper": "subslide_end"
    },
    "slide_helper": "slide_end",
    "slideshow": {
     "slide_type": "fragment"
    }
   },
   "outputs": [
    {
     "name": "stdout",
     "output_type": "stream",
     "text": [
      "('$n_\\\\mathrm{pop}=10;\\\\ t_\\\\mathrm{max}=50$', 10, 50)\n",
      "('$n_\\\\mathrm{pop}=50;\\\\ t_\\\\mathrm{max}=10$', 50, 10)\n",
      "('$n_\\\\mathrm{pop}=100;\\\\ t_\\\\mathrm{max}=5$', 100, 5)\n"
     ]
    }
   ],
   "source": [
    "for toolbox in toolboxes:\n",
    "    print(toolbox.experiment_name, toolbox.pop_size, toolbox.max_gen)"
   ]
  },
  {
   "cell_type": "markdown",
   "metadata": {
    "internals": {
     "frag_helper": "fragment_end",
     "frag_number": 114,
     "slide_type": "subslide"
    },
    "slideshow": {
     "slide_type": "slide"
    }
   },
   "source": [
    "## Experiment design\n",
    "\n",
    "As we are dealing with stochastic methods their results should be reported relying on an statistical analysis.\n",
    "\n",
    "* A given  experiment (a `toolbox` instance in our case) should be repeated a *sufficient* amount of times. \n",
    "* In theory, the more runs the better, but how much in enough? In practice, we could say that about *30* runs is enough.\n",
    "* The non-dominated fronts produced by each experiment run should be compared to each other. \n",
    "* We have seen in class that a number of *performance indicators*, like the *hypervolume*, *additive* and *multiplicative epsilon indicators*, among others, have been proposed for that task.\n",
    "* We can use statistical visualizations like [box plots](http://en.wikipedia.org/wiki/Box_plot) or [violin plots](http://en.wikipedia.org/wiki/Violin_plot) to make a visual assessment of the indicator values produced in each run.\n",
    "* We must apply a set of [statistical hypothesis tests](http://en.wikipedia.org/wiki/Statistical_hypothesis_testing) in order to reach an statistically valid judgment of the results of an algorithms. \n",
    "\n",
    "\n",
    "_Note_: I personally like the number [42](http://en.wikipedia.org/wiki/42_%28number%29) as it is the [answer to The Ultimate Question of Life, the Universe, and Everything](http://en.wikipedia.org/wiki/Phrases_from_The_Hitchhiker%27s_Guide_to_the_Galaxy#Answer_to_the_Ultimate_Question_of_Life.2C_the_Universe.2C_and_Everything_.2842.29)."
   ]
  },
  {
   "cell_type": "code",
   "execution_count": 86,
   "metadata": {
    "collapsed": true,
    "internals": {
     "frag_helper": "fragment_end",
     "frag_number": 114,
     "slide_helper": "subslide_end"
    },
    "slide_helper": "slide_end",
    "slideshow": {
     "slide_type": "-"
    }
   },
   "outputs": [],
   "source": [
    "number_of_runs = 42"
   ]
  },
  {
   "cell_type": "markdown",
   "metadata": {
    "internals": {
     "frag_helper": "fragment_end",
     "frag_number": 114,
     "slide_helper": "subslide_end",
     "slide_type": "subslide"
    },
    "slide_helper": "slide_end",
    "slideshow": {
     "slide_type": "slide"
    }
   },
   "source": [
    "### Running experiments in parallel \n",
    "As we are now solving more demanding problems it would be nice to make our algorithms to run in parallel and profit from modern multi-core CPUs.\n",
    "\n",
    "* In DEAP it is very simple to parallelize an algorithm (if it has been properly programmed) by providing a parallel `map()` function via the `toolbox`.\n",
    "* Local parallelization can be achieved using Python's [`multiprocessing`](https://docs.python.org/2/library/multiprocessing.html) or [`concurrent.futures`](https://docs.python.org/3/library/concurrent.futures.html) modules.\n",
    "* Cluster parallelization can be achieved using IPython Parallel or [SCOOP](http://en.wikipedia.org/wiki/Python_SCOOP_%28software%29)."
   ]
  },
  {
   "cell_type": "markdown",
   "metadata": {
    "internals": {
     "frag_helper": "fragment_end",
     "frag_number": 114,
     "slide_type": "subslide"
    },
    "slideshow": {
     "slide_type": "slide"
    }
   },
   "source": [
    "### Progress feedback\n",
    "\n",
    "* Another issue with these long experiments has to do being patient.\n",
    "* A little bit of feedback on the experiment execution would be cool.\n",
    "* We can use the integer progress bar from [IPython widgets](http://nbviewer.ipython.org/github/jvns/ipython/blob/master/examples/Interactive%20Widgets/Index.ipynb) and report every time an experiment run is finished."
   ]
  },
  {
   "cell_type": "code",
   "execution_count": 87,
   "metadata": {
    "collapsed": true,
    "internals": {
     "frag_helper": "fragment_end",
     "frag_number": 114
    },
    "slideshow": {
     "slide_type": "-"
    }
   },
   "outputs": [],
   "source": [
    "from ipywidgets import IntProgress\n",
    "from IPython.display import display"
   ]
  },
  {
   "cell_type": "markdown",
   "metadata": {
    "internals": {
     "frag_helper": "fragment_end",
     "frag_number": 114,
     "slide_type": "subslide"
    },
    "slideshow": {
     "slide_type": "slide"
    }
   },
   "source": [
    "### A side-effect of using process-based parallelization\n",
    "\n",
    "Process-based parallelization based on `multiprocessing` requires that the parameters passed to `map()` be [pickleable](https://docs.python.org/3.4/library/pickle.html).\n",
    "\n",
    "* The direct consequence is that `lambda` functions can not be directly used. \n",
    "* This is will certainly ruin the party to all `lambda` fans out there! *-me included*.\n",
    "* Hence we need to write some wrapper functions instead.\n",
    "* But, that wrapper function can take care of filtering out dominated individuals in the results."
   ]
  },
  {
   "cell_type": "code",
   "execution_count": 88,
   "metadata": {
    "collapsed": true,
    "internals": {
     "frag_helper": "fragment_end",
     "frag_number": 114,
     "slide_helper": "subslide_end"
    },
    "slide_helper": "slide_end",
    "slideshow": {
     "slide_type": "-"
    }
   },
   "outputs": [],
   "source": [
    "def run_algo_wrapper(toolbox):\n",
    "    result, _ = run_ea(toolbox)\n",
    "    local_pareto_set = tools.emo.sortLogNondominated(result, len(result), first_front_only=True)\n",
    "    return local_pareto_set"
   ]
  },
  {
   "cell_type": "markdown",
   "metadata": {
    "internals": {
     "frag_helper": "fragment_end",
     "frag_number": 114,
     "slide_type": "subslide"
    },
    "slideshow": {
     "slide_type": "slide"
    }
   },
   "source": [
    "# All set! Run the experiments..."
   ]
  },
  {
   "cell_type": "code",
   "execution_count": 89,
   "metadata": {},
   "outputs": [
    {
     "name": "stderr",
     "output_type": "stream",
     "text": [
      "Widget Javascript not detected.  It may not be installed or enabled properly.\n"
     ]
    },
    {
     "data": {
      "application/vnd.jupyter.widget-view+json": {
       "model_id": "6b170e343e8a4ebead36a3a7be4ca9ef"
      }
     },
     "metadata": {},
     "output_type": "display_data"
    },
    {
     "name": "stdout",
     "output_type": "stream",
     "text": [
      "CPU times: user 364 ms, sys: 172 ms, total: 536 ms\n",
      "Wall time: 5.24 s\n"
     ]
    }
   ],
   "source": [
    "%%time\n",
    "import concurrent.futures\n",
    "progress_bar = IntProgress(description=\"000/000\", max=len(toolboxes)*number_of_runs)\n",
    "display(progress_bar)\n",
    "\n",
    "results = {toolbox.experiment_name:[] for toolbox in toolboxes}\n",
    "with concurrent.futures.ProcessPoolExecutor() as executor:\n",
    "    # Submit all the tasks...\n",
    "    futures = {executor.submit(run_algo_wrapper, toolbox): toolbox\n",
    "               for _ in range(number_of_runs)\n",
    "               for toolbox in toolboxes}\n",
    "    \n",
    "    # ...and wait for them to finish.\n",
    "    for future in concurrent.futures.as_completed(futures):\n",
    "        tb = futures[future]\n",
    "        results[tb.experiment_name].append(future.result())\n",
    "        progress_bar.value +=1\n",
    "        progress_bar.description = \"%03d/%03d:\" % (progress_bar.value, progress_bar.max)"
   ]
  },
  {
   "cell_type": "markdown",
   "metadata": {
    "internals": {
     "frag_helper": "fragment_end",
     "frag_number": 114
    },
    "slideshow": {
     "slide_type": "-"
    }
   },
   "source": [
    "This is not a perfect implementation but... works!"
   ]
  },
  {
   "cell_type": "markdown",
   "metadata": {
    "internals": {
     "frag_helper": "fragment_end",
     "frag_number": 114
    },
    "slideshow": {
     "slide_type": "-"
    }
   },
   "source": [
    "As running the experiments sometimes takes a long time it is a good practice to store the results."
   ]
  },
  {
   "cell_type": "code",
   "execution_count": 90,
   "metadata": {
    "collapsed": true,
    "internals": {
     "frag_helper": "fragment_end",
     "frag_number": 114
    },
    "slideshow": {
     "slide_type": "-"
    }
   },
   "outputs": [],
   "source": [
    "import pickle"
   ]
  },
  {
   "cell_type": "code",
   "execution_count": 91,
   "metadata": {
    "collapsed": true,
    "internals": {
     "frag_helper": "fragment_end",
     "frag_number": 114
    },
    "slideshow": {
     "slide_type": "-"
    }
   },
   "outputs": [],
   "source": [
    "pickle.dump(results, open('nsga_ii_dtlz3-results.pickle', 'wb'))"
   ]
  },
  {
   "cell_type": "markdown",
   "metadata": {
    "internals": {
     "frag_helper": "fragment_end",
     "frag_number": 131
    },
    "slideshow": {
     "slide_type": "fragment"
    }
   },
   "source": [
    "In case you need it, this file is included in the github repository.\n",
    "\n",
    "To load the results we would just have to:"
   ]
  },
  {
   "cell_type": "code",
   "execution_count": 92,
   "metadata": {
    "collapsed": true,
    "internals": {
     "frag_helper": "fragment_end",
     "frag_number": 131,
     "slide_helper": "subslide_end"
    },
    "slide_helper": "slide_end",
    "slideshow": {
     "slide_type": "-"
    }
   },
   "outputs": [],
   "source": [
    "# loaded_results = pickle.load(open('nsga_ii_dtlz3-results.pickle', 'rb'))\n",
    "# results = loaded_results #  <-- uncomment if needed"
   ]
  },
  {
   "cell_type": "markdown",
   "metadata": {
    "internals": {
     "frag_helper": "fragment_end",
     "frag_number": 131,
     "slide_type": "subslide"
    },
    "slideshow": {
     "slide_type": "slide"
    }
   },
   "source": [
    "`results` is a dictionary, but a pandas `DataFrame` is a more handy container for the results."
   ]
  },
  {
   "cell_type": "code",
   "execution_count": 93,
   "metadata": {
    "collapsed": true,
    "internals": {
     "frag_helper": "fragment_end",
     "frag_number": 131,
     "slide_helper": "subslide_end"
    },
    "slide_helper": "slide_end",
    "slideshow": {
     "slide_type": "-"
    }
   },
   "outputs": [],
   "source": [
    "res = pd.DataFrame(results)"
   ]
  },
  {
   "cell_type": "markdown",
   "metadata": {
    "internals": {
     "frag_helper": "fragment_end",
     "frag_number": 131,
     "slide_type": "subslide"
    },
    "slideshow": {
     "slide_type": "slide"
    }
   },
   "source": [
    "Headers may come out unsorted. Let's fix that first. "
   ]
  },
  {
   "cell_type": "code",
   "execution_count": 94,
   "metadata": {
    "internals": {
     "frag_helper": "fragment_end",
     "frag_number": 131,
     "slide_helper": "subslide_end"
    },
    "slide_helper": "subslide_end",
    "slideshow": {
     "slide_type": "-"
    }
   },
   "outputs": [
    {
     "data": {
      "text/html": [
       "<div>\n",
       "<table border=\"1\" class=\"dataframe\">\n",
       "  <thead>\n",
       "    <tr style=\"text-align: right;\">\n",
       "      <th></th>\n",
       "      <th>$n_\\mathrm{pop}=100;\\ t_\\mathrm{max}=5$</th>\n",
       "      <th>$n_\\mathrm{pop}=10;\\ t_\\mathrm{max}=50$</th>\n",
       "      <th>$n_\\mathrm{pop}=50;\\ t_\\mathrm{max}=10$</th>\n",
       "    </tr>\n",
       "  </thead>\n",
       "  <tbody>\n",
       "    <tr>\n",
       "      <th>0</th>\n",
       "      <td>[[0.99706860078, 0.376303223121, 0.41614165565...</td>\n",
       "      <td>[[0.994817388053, 0.480364891068, 0.1904279077...</td>\n",
       "      <td>[[0.997904076367, 0.21342320317, 0.09010790042...</td>\n",
       "    </tr>\n",
       "    <tr>\n",
       "      <th>1</th>\n",
       "      <td>[[0.999165564119, 0.600787351565, 0.8000724117...</td>\n",
       "      <td>[[0.999964743712, 0.108566624125, 0.2044781202...</td>\n",
       "      <td>[[0.999120446945, 0.20481552408, 0.30617620850...</td>\n",
       "    </tr>\n",
       "    <tr>\n",
       "      <th>2</th>\n",
       "      <td>[[0.999506012055, 0.756185558766, 0.5029402967...</td>\n",
       "      <td>[[0.999899245234, 0.498025707907, 0.3021017116...</td>\n",
       "      <td>[[0.999895650295, 0.957596410172, 0.9905124196...</td>\n",
       "    </tr>\n",
       "    <tr>\n",
       "      <th>3</th>\n",
       "      <td>[[0.998876772642, 0.631907845925, 0.9016535091...</td>\n",
       "      <td>[[0.99984792885, 0.710957417328, 0.41318674314...</td>\n",
       "      <td>[[0.998911139111, 0.314036129554, 0.9862156766...</td>\n",
       "    </tr>\n",
       "    <tr>\n",
       "      <th>4</th>\n",
       "      <td>[[0.995099226119, 0.0445065437097, 0.014515428...</td>\n",
       "      <td>[[0.999987448681, 0.801517564814, 0.3110493617...</td>\n",
       "      <td>[[0.997892131232, 0.463930380904, 0.6566684795...</td>\n",
       "    </tr>\n",
       "  </tbody>\n",
       "</table>\n",
       "</div>"
      ],
      "text/plain": [
       "             $n_\\mathrm{pop}=100;\\ t_\\mathrm{max}=5$  \\\n",
       "0  [[0.99706860078, 0.376303223121, 0.41614165565...   \n",
       "1  [[0.999165564119, 0.600787351565, 0.8000724117...   \n",
       "2  [[0.999506012055, 0.756185558766, 0.5029402967...   \n",
       "3  [[0.998876772642, 0.631907845925, 0.9016535091...   \n",
       "4  [[0.995099226119, 0.0445065437097, 0.014515428...   \n",
       "\n",
       "             $n_\\mathrm{pop}=10;\\ t_\\mathrm{max}=50$  \\\n",
       "0  [[0.994817388053, 0.480364891068, 0.1904279077...   \n",
       "1  [[0.999964743712, 0.108566624125, 0.2044781202...   \n",
       "2  [[0.999899245234, 0.498025707907, 0.3021017116...   \n",
       "3  [[0.99984792885, 0.710957417328, 0.41318674314...   \n",
       "4  [[0.999987448681, 0.801517564814, 0.3110493617...   \n",
       "\n",
       "             $n_\\mathrm{pop}=50;\\ t_\\mathrm{max}=10$  \n",
       "0  [[0.997904076367, 0.21342320317, 0.09010790042...  \n",
       "1  [[0.999120446945, 0.20481552408, 0.30617620850...  \n",
       "2  [[0.999895650295, 0.957596410172, 0.9905124196...  \n",
       "3  [[0.998911139111, 0.314036129554, 0.9862156766...  \n",
       "4  [[0.997892131232, 0.463930380904, 0.6566684795...  "
      ]
     },
     "execution_count": 94,
     "metadata": {},
     "output_type": "execute_result"
    }
   ],
   "source": [
    "res.head()"
   ]
  },
  {
   "cell_type": "code",
   "execution_count": 95,
   "metadata": {
    "collapsed": true,
    "internals": {
     "frag_helper": "fragment_end",
     "frag_number": 131,
     "slide_type": "subslide"
    },
    "slideshow": {
     "slide_type": "subslide"
    }
   },
   "outputs": [],
   "source": [
    "res = res.reindex_axis([toolbox.experiment_name for toolbox in toolboxes], axis=1)"
   ]
  },
  {
   "cell_type": "code",
   "execution_count": 96,
   "metadata": {
    "internals": {
     "frag_helper": "fragment_end",
     "frag_number": 131,
     "slide_helper": "subslide_end"
    },
    "slide_helper": "slide_end",
    "slideshow": {
     "slide_type": "-"
    }
   },
   "outputs": [
    {
     "data": {
      "text/html": [
       "<div>\n",
       "<table border=\"1\" class=\"dataframe\">\n",
       "  <thead>\n",
       "    <tr style=\"text-align: right;\">\n",
       "      <th></th>\n",
       "      <th>$n_\\mathrm{pop}=10;\\ t_\\mathrm{max}=50$</th>\n",
       "      <th>$n_\\mathrm{pop}=50;\\ t_\\mathrm{max}=10$</th>\n",
       "      <th>$n_\\mathrm{pop}=100;\\ t_\\mathrm{max}=5$</th>\n",
       "    </tr>\n",
       "  </thead>\n",
       "  <tbody>\n",
       "    <tr>\n",
       "      <th>0</th>\n",
       "      <td>[[0.994817388053, 0.480364891068, 0.1904279077...</td>\n",
       "      <td>[[0.997904076367, 0.21342320317, 0.09010790042...</td>\n",
       "      <td>[[0.99706860078, 0.376303223121, 0.41614165565...</td>\n",
       "    </tr>\n",
       "    <tr>\n",
       "      <th>1</th>\n",
       "      <td>[[0.999964743712, 0.108566624125, 0.2044781202...</td>\n",
       "      <td>[[0.999120446945, 0.20481552408, 0.30617620850...</td>\n",
       "      <td>[[0.999165564119, 0.600787351565, 0.8000724117...</td>\n",
       "    </tr>\n",
       "    <tr>\n",
       "      <th>2</th>\n",
       "      <td>[[0.999899245234, 0.498025707907, 0.3021017116...</td>\n",
       "      <td>[[0.999895650295, 0.957596410172, 0.9905124196...</td>\n",
       "      <td>[[0.999506012055, 0.756185558766, 0.5029402967...</td>\n",
       "    </tr>\n",
       "    <tr>\n",
       "      <th>3</th>\n",
       "      <td>[[0.99984792885, 0.710957417328, 0.41318674314...</td>\n",
       "      <td>[[0.998911139111, 0.314036129554, 0.9862156766...</td>\n",
       "      <td>[[0.998876772642, 0.631907845925, 0.9016535091...</td>\n",
       "    </tr>\n",
       "    <tr>\n",
       "      <th>4</th>\n",
       "      <td>[[0.999987448681, 0.801517564814, 0.3110493617...</td>\n",
       "      <td>[[0.997892131232, 0.463930380904, 0.6566684795...</td>\n",
       "      <td>[[0.995099226119, 0.0445065437097, 0.014515428...</td>\n",
       "    </tr>\n",
       "  </tbody>\n",
       "</table>\n",
       "</div>"
      ],
      "text/plain": [
       "             $n_\\mathrm{pop}=10;\\ t_\\mathrm{max}=50$  \\\n",
       "0  [[0.994817388053, 0.480364891068, 0.1904279077...   \n",
       "1  [[0.999964743712, 0.108566624125, 0.2044781202...   \n",
       "2  [[0.999899245234, 0.498025707907, 0.3021017116...   \n",
       "3  [[0.99984792885, 0.710957417328, 0.41318674314...   \n",
       "4  [[0.999987448681, 0.801517564814, 0.3110493617...   \n",
       "\n",
       "             $n_\\mathrm{pop}=50;\\ t_\\mathrm{max}=10$  \\\n",
       "0  [[0.997904076367, 0.21342320317, 0.09010790042...   \n",
       "1  [[0.999120446945, 0.20481552408, 0.30617620850...   \n",
       "2  [[0.999895650295, 0.957596410172, 0.9905124196...   \n",
       "3  [[0.998911139111, 0.314036129554, 0.9862156766...   \n",
       "4  [[0.997892131232, 0.463930380904, 0.6566684795...   \n",
       "\n",
       "             $n_\\mathrm{pop}=100;\\ t_\\mathrm{max}=5$  \n",
       "0  [[0.99706860078, 0.376303223121, 0.41614165565...  \n",
       "1  [[0.999165564119, 0.600787351565, 0.8000724117...  \n",
       "2  [[0.999506012055, 0.756185558766, 0.5029402967...  \n",
       "3  [[0.998876772642, 0.631907845925, 0.9016535091...  \n",
       "4  [[0.995099226119, 0.0445065437097, 0.014515428...  "
      ]
     },
     "execution_count": 96,
     "metadata": {},
     "output_type": "execute_result"
    }
   ],
   "source": [
    "res.head()"
   ]
  },
  {
   "cell_type": "markdown",
   "metadata": {
    "internals": {
     "frag_helper": "fragment_end",
     "frag_number": 131,
     "slide_type": "subslide"
    },
    "slideshow": {
     "slide_type": "slide"
    }
   },
   "source": [
    "## A first glace at the results"
   ]
  },
  {
   "cell_type": "code",
   "execution_count": 97,
   "metadata": {
    "internals": {
     "frag_helper": "fragment_end",
     "frag_number": 131
    },
    "slideshow": {
     "slide_type": "-"
    }
   },
   "outputs": [
    {
     "data": {
      "image/png": "[encoded data removed]",
      "text/plain": [
       "<matplotlib.figure.Figure at 0x7f121f189b10>"
      ]
     },
     "metadata": {},
     "output_type": "display_data"
    }
   ],
   "source": [
    "a = res.applymap(lambda pop: [toolbox.evaluate(ind) for ind in pop])\n",
    "plt.figure(figsize=(11,3))\n",
    "for i, col in enumerate(a.columns):\n",
    "    plt.subplot(1, len(a.columns), i+1)\n",
    "    for pop in a[col]:\n",
    "        x = pd.DataFrame(data=pop)\n",
    "        plt.scatter(x[0], x[1], marker='.', alpha=0.5)\n",
    "    plt.title(col)   "
   ]
  },
  {
   "cell_type": "markdown",
   "metadata": {
    "internals": {
     "frag_helper": "fragment_end",
     "frag_number": 131,
     "slide_helper": "subslide_end"
    },
    "slide_helper": "slide_end",
    "slideshow": {
     "slide_type": "-"
    }
   },
   "source": [
    "The local Pareto-optimal fronts are clearly visible!"
   ]
  },
  {
   "cell_type": "markdown",
   "metadata": {
    "internals": {
     "frag_helper": "fragment_end",
     "frag_number": 131,
     "slide_helper": "subslide_end",
     "slide_type": "subslide"
    },
    "slide_helper": "slide_end",
    "slideshow": {
     "slide_type": "slide"
    }
   },
   "source": [
    "## Calculating performance indicators\n",
    "\n",
    "* As already mentioned, we need to evaluate the quality of the solutions produced in every execution of the algorithm. \n",
    "* We will use the hypervolumne indicator for that.\n",
    "* Larger hypervolume values are better.\n",
    "* We already filtered each population a leave only the non-dominated individuals."
   ]
  },
  {
   "cell_type": "markdown",
   "metadata": {
    "internals": {
     "frag_helper": "fragment_end",
     "frag_number": 131,
     "slide_type": "subslide"
    },
    "slideshow": {
     "slide_type": "slide"
    }
   },
   "source": [
    "Calculating the *reference point*: a point that is **“worst”** than any other individual in every objective."
   ]
  },
  {
   "cell_type": "code",
   "execution_count": 98,
   "metadata": {
    "collapsed": true,
    "internals": {
     "frag_helper": "fragment_end",
     "frag_number": 131
    },
    "slideshow": {
     "slide_type": "-"
    }
   },
   "outputs": [],
   "source": [
    "def calculate_reference(results, epsilon=0.1):\n",
    "    alldata = np.concatenate(np.concatenate(results.values))\n",
    "    obj_vals = [toolbox.evaluate(ind) for ind in alldata]\n",
    "    return np.max(obj_vals, axis=0) + epsilon"
   ]
  },
  {
   "cell_type": "code",
   "execution_count": 99,
   "metadata": {
    "collapsed": true,
    "internals": {
     "frag_helper": "fragment_end",
     "frag_number": 145
    },
    "slideshow": {
     "slide_type": "fragment"
    }
   },
   "outputs": [],
   "source": [
    "reference = calculate_reference(res)"
   ]
  },
  {
   "cell_type": "code",
   "execution_count": 100,
   "metadata": {
    "internals": {
     "frag_helper": "fragment_end",
     "frag_number": 145,
     "slide_helper": "subslide_end"
    },
    "slide_helper": "slide_end",
    "slideshow": {
     "slide_type": "-"
    }
   },
   "outputs": [
    {
     "data": {
      "text/plain": [
       "array([ 3431.87828861,  3300.21293866])"
      ]
     },
     "execution_count": 100,
     "metadata": {},
     "output_type": "execute_result"
    }
   ],
   "source": [
    "reference"
   ]
  },
  {
   "cell_type": "markdown",
   "metadata": {
    "internals": {
     "frag_helper": "fragment_end",
     "frag_number": 145,
     "slide_type": "subslide"
    },
    "slideshow": {
     "slide_type": "slide"
    }
   },
   "source": [
    "We can now compute the hypervolume of the Pareto-optimal fronts yielded by each algorithm run."
   ]
  },
  {
   "cell_type": "code",
   "execution_count": 101,
   "metadata": {
    "collapsed": true,
    "internals": {
     "frag_helper": "fragment_end",
     "frag_number": 145
    },
    "slideshow": {
     "slide_type": "-"
    }
   },
   "outputs": [],
   "source": [
    "import deap.benchmarks.tools as bt"
   ]
  },
  {
   "cell_type": "code",
   "execution_count": 102,
   "metadata": {
    "collapsed": true,
    "internals": {
     "frag_helper": "fragment_end",
     "frag_number": 145
    },
    "slideshow": {
     "slide_type": "-"
    }
   },
   "outputs": [],
   "source": [
    "hypervols = res.applymap(lambda pop: bt.hypervolume(pop, reference))"
   ]
  },
  {
   "cell_type": "code",
   "execution_count": 103,
   "metadata": {
    "internals": {
     "frag_helper": "fragment_end",
     "frag_number": 150,
     "slide_helper": "subslide_end"
    },
    "slide_helper": "slide_end",
    "slideshow": {
     "slide_type": "fragment"
    }
   },
   "outputs": [
    {
     "data": {
      "text/html": [
       "<div>\n",
       "<table border=\"1\" class=\"dataframe\">\n",
       "  <thead>\n",
       "    <tr style=\"text-align: right;\">\n",
       "      <th></th>\n",
       "      <th>$n_\\mathrm{pop}=10;\\ t_\\mathrm{max}=50$</th>\n",
       "      <th>$n_\\mathrm{pop}=50;\\ t_\\mathrm{max}=10$</th>\n",
       "      <th>$n_\\mathrm{pop}=100;\\ t_\\mathrm{max}=5$</th>\n",
       "    </tr>\n",
       "  </thead>\n",
       "  <tbody>\n",
       "    <tr>\n",
       "      <th>0</th>\n",
       "      <td>1.044276e+07</td>\n",
       "      <td>9.245960e+06</td>\n",
       "      <td>8.131700e+06</td>\n",
       "    </tr>\n",
       "    <tr>\n",
       "      <th>1</th>\n",
       "      <td>1.018302e+07</td>\n",
       "      <td>8.441610e+06</td>\n",
       "      <td>7.904528e+06</td>\n",
       "    </tr>\n",
       "    <tr>\n",
       "      <th>2</th>\n",
       "      <td>1.072249e+07</td>\n",
       "      <td>8.803073e+06</td>\n",
       "      <td>7.956519e+06</td>\n",
       "    </tr>\n",
       "    <tr>\n",
       "      <th>3</th>\n",
       "      <td>1.083909e+07</td>\n",
       "      <td>8.681583e+06</td>\n",
       "      <td>8.024760e+06</td>\n",
       "    </tr>\n",
       "    <tr>\n",
       "      <th>4</th>\n",
       "      <td>1.074827e+07</td>\n",
       "      <td>9.086614e+06</td>\n",
       "      <td>7.583673e+06</td>\n",
       "    </tr>\n",
       "  </tbody>\n",
       "</table>\n",
       "</div>"
      ],
      "text/plain": [
       "   $n_\\mathrm{pop}=10;\\ t_\\mathrm{max}=50$  \\\n",
       "0                             1.044276e+07   \n",
       "1                             1.018302e+07   \n",
       "2                             1.072249e+07   \n",
       "3                             1.083909e+07   \n",
       "4                             1.074827e+07   \n",
       "\n",
       "   $n_\\mathrm{pop}=50;\\ t_\\mathrm{max}=10$  \\\n",
       "0                             9.245960e+06   \n",
       "1                             8.441610e+06   \n",
       "2                             8.803073e+06   \n",
       "3                             8.681583e+06   \n",
       "4                             9.086614e+06   \n",
       "\n",
       "   $n_\\mathrm{pop}=100;\\ t_\\mathrm{max}=5$  \n",
       "0                             8.131700e+06  \n",
       "1                             7.904528e+06  \n",
       "2                             7.956519e+06  \n",
       "3                             8.024760e+06  \n",
       "4                             7.583673e+06  "
      ]
     },
     "execution_count": 103,
     "metadata": {},
     "output_type": "execute_result"
    }
   ],
   "source": [
    "hypervols.head()"
   ]
  },
  {
   "cell_type": "markdown",
   "metadata": {
    "internals": {
     "frag_helper": "fragment_end",
     "frag_number": 150,
     "slide_type": "subslide"
    },
    "slideshow": {
     "slide_type": "slide"
    }
   },
   "source": [
    "## How can we interpret the indicators?"
   ]
  },
  {
   "cell_type": "markdown",
   "metadata": {
    "internals": {
     "frag_helper": "fragment_end",
     "frag_number": 152
    },
    "slideshow": {
     "slide_type": "fragment"
    }
   },
   "source": [
    "### Option A: Tabular form"
   ]
  },
  {
   "cell_type": "code",
   "execution_count": 104,
   "metadata": {
    "internals": {
     "frag_helper": "fragment_end",
     "frag_number": 152,
     "slide_helper": "subslide_end"
    },
    "slide_helper": "slide_end",
    "slideshow": {
     "slide_type": "-"
    }
   },
   "outputs": [
    {
     "data": {
      "text/html": [
       "<div>\n",
       "<table border=\"1\" class=\"dataframe\">\n",
       "  <thead>\n",
       "    <tr style=\"text-align: right;\">\n",
       "      <th></th>\n",
       "      <th>$n_\\mathrm{pop}=10;\\ t_\\mathrm{max}=50$</th>\n",
       "      <th>$n_\\mathrm{pop}=50;\\ t_\\mathrm{max}=10$</th>\n",
       "      <th>$n_\\mathrm{pop}=100;\\ t_\\mathrm{max}=5$</th>\n",
       "    </tr>\n",
       "  </thead>\n",
       "  <tbody>\n",
       "    <tr>\n",
       "      <th>count</th>\n",
       "      <td>4.200000e+01</td>\n",
       "      <td>4.200000e+01</td>\n",
       "      <td>4.200000e+01</td>\n",
       "    </tr>\n",
       "    <tr>\n",
       "      <th>mean</th>\n",
       "      <td>1.044011e+07</td>\n",
       "      <td>8.861205e+06</td>\n",
       "      <td>8.104005e+06</td>\n",
       "    </tr>\n",
       "    <tr>\n",
       "      <th>std</th>\n",
       "      <td>3.792174e+05</td>\n",
       "      <td>3.084970e+05</td>\n",
       "      <td>2.791741e+05</td>\n",
       "    </tr>\n",
       "    <tr>\n",
       "      <th>min</th>\n",
       "      <td>9.175665e+06</td>\n",
       "      <td>8.154079e+06</td>\n",
       "      <td>7.583673e+06</td>\n",
       "    </tr>\n",
       "    <tr>\n",
       "      <th>25%</th>\n",
       "      <td>1.029000e+07</td>\n",
       "      <td>8.658680e+06</td>\n",
       "      <td>7.921452e+06</td>\n",
       "    </tr>\n",
       "    <tr>\n",
       "      <th>50%</th>\n",
       "      <td>1.053307e+07</td>\n",
       "      <td>8.819909e+06</td>\n",
       "      <td>8.017804e+06</td>\n",
       "    </tr>\n",
       "    <tr>\n",
       "      <th>75%</th>\n",
       "      <td>1.071505e+07</td>\n",
       "      <td>9.079575e+06</td>\n",
       "      <td>8.293821e+06</td>\n",
       "    </tr>\n",
       "    <tr>\n",
       "      <th>max</th>\n",
       "      <td>1.094633e+07</td>\n",
       "      <td>9.690607e+06</td>\n",
       "      <td>8.779402e+06</td>\n",
       "    </tr>\n",
       "  </tbody>\n",
       "</table>\n",
       "</div>"
      ],
      "text/plain": [
       "       $n_\\mathrm{pop}=10;\\ t_\\mathrm{max}=50$  \\\n",
       "count                             4.200000e+01   \n",
       "mean                              1.044011e+07   \n",
       "std                               3.792174e+05   \n",
       "min                               9.175665e+06   \n",
       "25%                               1.029000e+07   \n",
       "50%                               1.053307e+07   \n",
       "75%                               1.071505e+07   \n",
       "max                               1.094633e+07   \n",
       "\n",
       "       $n_\\mathrm{pop}=50;\\ t_\\mathrm{max}=10$  \\\n",
       "count                             4.200000e+01   \n",
       "mean                              8.861205e+06   \n",
       "std                               3.084970e+05   \n",
       "min                               8.154079e+06   \n",
       "25%                               8.658680e+06   \n",
       "50%                               8.819909e+06   \n",
       "75%                               9.079575e+06   \n",
       "max                               9.690607e+06   \n",
       "\n",
       "       $n_\\mathrm{pop}=100;\\ t_\\mathrm{max}=5$  \n",
       "count                             4.200000e+01  \n",
       "mean                              8.104005e+06  \n",
       "std                               2.791741e+05  \n",
       "min                               7.583673e+06  \n",
       "25%                               7.921452e+06  \n",
       "50%                               8.017804e+06  \n",
       "75%                               8.293821e+06  \n",
       "max                               8.779402e+06  "
      ]
     },
     "execution_count": 104,
     "metadata": {},
     "output_type": "execute_result"
    }
   ],
   "source": [
    "hypervols.describe()"
   ]
  },
  {
   "cell_type": "markdown",
   "metadata": {
    "internals": {
     "frag_helper": "fragment_end",
     "frag_number": 152,
     "slide_type": "subslide"
    },
    "slideshow": {
     "slide_type": "slide"
    }
   },
   "source": [
    "### Option B: Visualization"
   ]
  },
  {
   "cell_type": "code",
   "execution_count": 105,
   "metadata": {
    "internals": {
     "frag_helper": "fragment_end",
     "frag_number": 152,
     "slide_helper": "subslide_end"
    },
    "slide_helper": "slide_end",
    "slideshow": {
     "slide_type": "-"
    }
   },
   "outputs": [
    {
     "data": {
      "image/png": "[encoded data removed]",
      "text/plain": [
       "<matplotlib.figure.Figure at 0x7f123a72b7d0>"
      ]
     },
     "metadata": {},
     "output_type": "display_data"
    }
   ],
   "source": [
    "fig = plt.figure(figsize=(11,4))\n",
    "plt.subplot(121, title='Violin plots of NSGA-II with $P_{\\mathrm{mut}}$')\n",
    "seaborn.violinplot(data=hypervols, palette='Set2')\n",
    "plt.ylabel('Hypervolume'); plt.xlabel('Configuration')\n",
    "plt.subplot(122, title='Box plots of NSGA-II with $P_{\\mathrm{mut}}$')\n",
    "seaborn.boxplot(data=hypervols, palette='Set2')\n",
    "plt.ylabel('Hypervolume'); plt.xlabel('Configuration');\n",
    "plt.tight_layout()"
   ]
  },
  {
   "cell_type": "markdown",
   "metadata": {
    "internals": {
     "frag_helper": "fragment_end",
     "frag_number": 152,
     "slide_type": "subslide"
    },
    "slideshow": {
     "slide_type": "slide"
    }
   },
   "source": [
    "## Option C: Statistical hypothesis test"
   ]
  },
  {
   "cell_type": "markdown",
   "metadata": {
    "internals": {
     "frag_helper": "fragment_end",
     "frag_number": 152,
     "slide_helper": "subslide_end"
    },
    "slide_helper": "slide_end",
    "slideshow": {
     "slide_type": "-"
    }
   },
   "source": [
    "* Choosing the correct statistical test is essential to properly report the results.\n",
    "* [Nonparametric statistics](http://en.wikipedia.org/wiki/Nonparametric_statistics) can lend a helping hand.\n",
    "* [Parametric statistics](http://en.wikipedia.org/wiki/Parametric_statistics) could be a better choice in some cases. \n",
    "* Parametric statistics require that *all* data follow a known distribution (frequently a normal one).\n",
    "* Some tests -like the [normality test](http://en.wikipedia.org/wiki/Normality_test)- can be apply to verify that data meet the parametric stats requirements.\n",
    "* In my experience that is very unlikely that all your EMO result meet those characteristics."
   ]
  },
  {
   "cell_type": "markdown",
   "metadata": {
    "internals": {
     "frag_helper": "fragment_end",
     "frag_number": 152,
     "slide_type": "subslide"
    },
    "slideshow": {
     "slide_type": "slide"
    }
   },
   "source": [
    "We start by writing a function that helps us tabulate the results of the application of an statistical hypothesis test."
   ]
  },
  {
   "cell_type": "code",
   "execution_count": 106,
   "metadata": {
    "collapsed": true,
    "internals": {
     "frag_helper": "fragment_end",
     "frag_number": 152
    },
    "slideshow": {
     "slide_type": "-"
    }
   },
   "outputs": [],
   "source": [
    "import itertools\n",
    "import scipy.stats as stats"
   ]
  },
  {
   "cell_type": "code",
   "execution_count": 107,
   "metadata": {
    "collapsed": true,
    "internals": {
     "frag_helper": "fragment_end",
     "frag_number": 152,
     "slide_helper": "subslide_end"
    },
    "slide_helper": "slide_end",
    "slideshow": {
     "slide_type": "-"
    }
   },
   "outputs": [],
   "source": [
    "def compute_stat_matrix(data, stat_func, alpha=0.05):\n",
    "    '''A function that applies `stat_func` to all combinations of columns in `data`.\n",
    "    Returns a squared matrix with the p-values'''\n",
    "    p_values = pd.DataFrame(columns=data.columns, index=data.columns)\n",
    "    for a,b in itertools.combinations(data.columns,2):\n",
    "        s,p = stat_func(data[a], data[b]) \n",
    "        p_values[a].ix[b] = p\n",
    "        p_values[b].ix[a] = p\n",
    "    return p_values"
   ]
  },
  {
   "cell_type": "markdown",
   "metadata": {
    "internals": {
     "frag_helper": "fragment_end",
     "frag_number": 152,
     "slide_type": "subslide"
    },
    "slideshow": {
     "slide_type": "slide"
    }
   },
   "source": [
    "The [Kruskal-Wallis H-test](http://docs.scipy.org/doc/scipy-0.14.0/reference/generated/scipy.stats.kruskal.html) tests the null hypothesis that the population median of all of the groups are equal.\n",
    "\n",
    "* It is a non-parametric version of [ANOVA](http://en.wikipedia.org/wiki/Analysis_of_variance). \n",
    "* The test works on 2 or more independent samples, which may have different sizes. \n",
    "* Note that rejecting the null hypothesis does not indicate which of the groups differs. \n",
    "* Post-hoc comparisons between groups are required to determine which groups are different."
   ]
  },
  {
   "cell_type": "code",
   "execution_count": 108,
   "metadata": {
    "internals": {
     "frag_helper": "fragment_end",
     "frag_number": 163
    },
    "slideshow": {
     "slide_type": "fragment"
    }
   },
   "outputs": [
    {
     "data": {
      "text/plain": [
       "KruskalResult(statistic=106.18747656542934, pvalue=8.7434421354536451e-24)"
      ]
     },
     "execution_count": 108,
     "metadata": {},
     "output_type": "execute_result"
    }
   ],
   "source": [
    "stats.kruskal(*[hypervols[col] for col in hypervols.columns])"
   ]
  },
  {
   "cell_type": "markdown",
   "metadata": {
    "internals": {
     "frag_helper": "fragment_end",
     "frag_number": 163,
     "slide_helper": "subslide_end"
    },
    "slide_helper": "slide_end",
    "slideshow": {
     "slide_type": "-"
    }
   },
   "source": [
    "We now can assert that the results are not the same but which ones are different or similar to the others the others?"
   ]
  },
  {
   "cell_type": "markdown",
   "metadata": {
    "internals": {
     "frag_helper": "fragment_end",
     "frag_number": 163,
     "slide_helper": "subslide_end",
     "slide_type": "subslide"
    },
    "slide_helper": "slide_end",
    "slideshow": {
     "slide_type": "slide"
    }
   },
   "source": [
    "In case that the null hypothesis of the Kruskal-Wallis is rejected the Conover–Inman procedure (Conover, 1999, pp. 288-290) can be applied in a pairwise manner in order to determine if the results of one algorithm were significantly better than those of the other.\n",
    "\n",
    "* Conover, W. J. (1999). *Practical Nonparametric Statistics*. John Wiley & Sons, New York, 3rd edition.\n",
    "\n",
    "_Note_: If you want to get an extended summary of this method check out my [PhD thesis](http://lmarti.com/pubs). "
   ]
  },
  {
   "cell_type": "code",
   "execution_count": 109,
   "metadata": {
    "collapsed": true,
    "internals": {
     "frag_helper": "fragment_end",
     "frag_number": 163,
     "slide_helper": "subslide_end",
     "slide_type": "subslide"
    },
    "slide_helper": "slide_end",
    "slideshow": {
     "slide_type": "slide"
    }
   },
   "outputs": [],
   "source": [
    "def conover_inman_procedure(data, alpha=0.05):\n",
    "    num_runs = len(data)\n",
    "    num_algos = len(data.columns)\n",
    "    N = num_runs*num_algos\n",
    "\n",
    "    _,p_value = stats.kruskal(*[data[col] for col in data.columns])\n",
    "    \n",
    "    ranked =  stats.rankdata(np.concatenate([data[col] for col in data.columns]))\n",
    "    \n",
    "    ranksums = []\n",
    "    for i in range(num_algos):\n",
    "        ranksums.append(np.sum(ranked[num_runs*i:num_runs*(i+1)]))\n",
    "\n",
    "    S_sq = (np.sum(ranked**2) - N*((N+1)**2)/4)/(N-1)\n",
    "\n",
    "    right_side = stats.t.cdf(1-(alpha/2), N-num_algos) * \\\n",
    "                 math.sqrt((S_sq*((N-1-p_value)/(N-1)))*2/num_runs)\n",
    "    \n",
    "    res = pd.DataFrame(columns=data.columns, index=data.columns)\n",
    "\n",
    "    for i,j in itertools.combinations(np.arange(num_algos),2):\n",
    "        res[res.columns[i]].ix[j] = abs(ranksums[i] - ranksums[j]/num_runs) > right_side\n",
    "        res[res.columns[j]].ix[i] = abs(ranksums[i] - ranksums[j]/num_runs) > right_side\n",
    "    return res"
   ]
  },
  {
   "cell_type": "code",
   "execution_count": 110,
   "metadata": {
    "internals": {
     "frag_helper": "fragment_end",
     "frag_number": 163,
     "slide_type": "subslide"
    },
    "slideshow": {
     "slide_type": "slide"
    }
   },
   "outputs": [
    {
     "data": {
      "text/html": [
       "<div>\n",
       "<table border=\"1\" class=\"dataframe\">\n",
       "  <thead>\n",
       "    <tr style=\"text-align: right;\">\n",
       "      <th></th>\n",
       "      <th>$n_\\mathrm{pop}=10;\\ t_\\mathrm{max}=50$</th>\n",
       "      <th>$n_\\mathrm{pop}=50;\\ t_\\mathrm{max}=10$</th>\n",
       "      <th>$n_\\mathrm{pop}=100;\\ t_\\mathrm{max}=5$</th>\n",
       "    </tr>\n",
       "  </thead>\n",
       "  <tbody>\n",
       "    <tr>\n",
       "      <th>$n_\\mathrm{pop}=10;\\ t_\\mathrm{max}=50$</th>\n",
       "      <td>NaN</td>\n",
       "      <td>True</td>\n",
       "      <td>True</td>\n",
       "    </tr>\n",
       "    <tr>\n",
       "      <th>$n_\\mathrm{pop}=50;\\ t_\\mathrm{max}=10$</th>\n",
       "      <td>True</td>\n",
       "      <td>NaN</td>\n",
       "      <td>True</td>\n",
       "    </tr>\n",
       "    <tr>\n",
       "      <th>$n_\\mathrm{pop}=100;\\ t_\\mathrm{max}=5$</th>\n",
       "      <td>True</td>\n",
       "      <td>True</td>\n",
       "      <td>NaN</td>\n",
       "    </tr>\n",
       "  </tbody>\n",
       "</table>\n",
       "</div>"
      ],
      "text/plain": [
       "                                        $n_\\mathrm{pop}=10;\\ t_\\mathrm{max}=50$  \\\n",
       "$n_\\mathrm{pop}=10;\\ t_\\mathrm{max}=50$                                     NaN   \n",
       "$n_\\mathrm{pop}=50;\\ t_\\mathrm{max}=10$                                    True   \n",
       "$n_\\mathrm{pop}=100;\\ t_\\mathrm{max}=5$                                    True   \n",
       "\n",
       "                                        $n_\\mathrm{pop}=50;\\ t_\\mathrm{max}=10$  \\\n",
       "$n_\\mathrm{pop}=10;\\ t_\\mathrm{max}=50$                                    True   \n",
       "$n_\\mathrm{pop}=50;\\ t_\\mathrm{max}=10$                                     NaN   \n",
       "$n_\\mathrm{pop}=100;\\ t_\\mathrm{max}=5$                                    True   \n",
       "\n",
       "                                        $n_\\mathrm{pop}=100;\\ t_\\mathrm{max}=5$  \n",
       "$n_\\mathrm{pop}=10;\\ t_\\mathrm{max}=50$                                    True  \n",
       "$n_\\mathrm{pop}=50;\\ t_\\mathrm{max}=10$                                    True  \n",
       "$n_\\mathrm{pop}=100;\\ t_\\mathrm{max}=5$                                     NaN  "
      ]
     },
     "execution_count": 110,
     "metadata": {},
     "output_type": "execute_result"
    }
   ],
   "source": [
    "conover_inman_procedure(hypervols)"
   ]
  },
  {
   "cell_type": "markdown",
   "metadata": {
    "internals": {
     "frag_helper": "fragment_end",
     "frag_number": 163,
     "slide_helper": "subslide_end"
    },
    "slide_helper": "slide_end",
    "slideshow": {
     "slide_type": "-"
    }
   },
   "source": [
    "We now know in what cases the difference is sufficient as to say that one result is better than the other."
   ]
  },
  {
   "cell_type": "markdown",
   "metadata": {
    "internals": {
     "frag_helper": "fragment_end",
     "frag_number": 163,
     "slide_type": "subslide"
    },
    "slideshow": {
     "slide_type": "slide"
    }
   },
   "source": [
    "Another alternative is the [Friedman test](http://en.wikipedia.org/wiki/Friedman_test).\n",
    "\n",
    "* Its null hypothesis that repeated measurements of the same individuals have the same distribution. \n",
    "* It is often used to test for consistency among measurements obtained in different ways. \n",
    "    * For example, if two measurement techniques are used on the same set of individuals, the Friedman test can be used to determine if the two measurement techniques are consistent."
   ]
  },
  {
   "cell_type": "code",
   "execution_count": 111,
   "metadata": {
    "internals": {
     "frag_helper": "fragment_end",
     "frag_number": 163,
     "slide_helper": "subslide_end"
    },
    "slide_helper": "slide_end",
    "slideshow": {
     "slide_type": "-"
    }
   },
   "outputs": [
    {
     "data": {
      "text/plain": [
       "FriedmanchisquareResult(statistic=80.190476190476147, pvalue=3.862418642821122e-18)"
      ]
     },
     "execution_count": 111,
     "metadata": {},
     "output_type": "execute_result"
    }
   ],
   "source": [
    "measurements = [list(hypervols[col]) for col in hypervols.columns]\n",
    "stats.friedmanchisquare(*measurements)"
   ]
  },
  {
   "cell_type": "markdown",
   "metadata": {
    "internals": {
     "frag_helper": "fragment_end",
     "frag_number": 163,
     "slide_type": "subslide"
    },
    "slideshow": {
     "slide_type": "slide"
    }
   },
   "source": [
    "[Mann–Whitney U test](http://en.wikipedia.org/wiki/Mann%E2%80%93Whitney_U_test) (also called the Mann–Whitney–Wilcoxon (MWW), Wilcoxon rank-sum test (WRS), or Wilcoxon–Mann–Whitney test) is a nonparametric test of the null hypothesis that two populations are the same against an alternative hypothesis, especially that a particular population tends to have larger values than the other.\n",
    "\n",
    "It has greater efficiency than the $t$-test on non-normal distributions, such as a mixture of normal distributions, and it is nearly as efficient as the $t$-test on normal distributions."
   ]
  },
  {
   "cell_type": "code",
   "execution_count": 112,
   "metadata": {
    "internals": {
     "frag_helper": "fragment_end",
     "frag_number": 172,
     "slide_helper": "subslide_end"
    },
    "slide_helper": "slide_end",
    "slideshow": {
     "slide_type": "fragment"
    }
   },
   "outputs": [
    {
     "data": {
      "text/html": [
       "<div>\n",
       "<table border=\"1\" class=\"dataframe\">\n",
       "  <thead>\n",
       "    <tr style=\"text-align: right;\">\n",
       "      <th></th>\n",
       "      <th>$n_\\mathrm{pop}=10;\\ t_\\mathrm{max}=50$</th>\n",
       "      <th>$n_\\mathrm{pop}=50;\\ t_\\mathrm{max}=10$</th>\n",
       "      <th>$n_\\mathrm{pop}=100;\\ t_\\mathrm{max}=5$</th>\n",
       "    </tr>\n",
       "  </thead>\n",
       "  <tbody>\n",
       "    <tr>\n",
       "      <th>$n_\\mathrm{pop}=10;\\ t_\\mathrm{max}=50$</th>\n",
       "      <td>NaN</td>\n",
       "      <td>2.76161e-15</td>\n",
       "      <td>1.56072e-15</td>\n",
       "    </tr>\n",
       "    <tr>\n",
       "      <th>$n_\\mathrm{pop}=50;\\ t_\\mathrm{max}=10$</th>\n",
       "      <td>2.76161e-15</td>\n",
       "      <td>NaN</td>\n",
       "      <td>2.3641e-13</td>\n",
       "    </tr>\n",
       "    <tr>\n",
       "      <th>$n_\\mathrm{pop}=100;\\ t_\\mathrm{max}=5$</th>\n",
       "      <td>1.56072e-15</td>\n",
       "      <td>2.3641e-13</td>\n",
       "      <td>NaN</td>\n",
       "    </tr>\n",
       "  </tbody>\n",
       "</table>\n",
       "</div>"
      ],
      "text/plain": [
       "                                        $n_\\mathrm{pop}=10;\\ t_\\mathrm{max}=50$  \\\n",
       "$n_\\mathrm{pop}=10;\\ t_\\mathrm{max}=50$                                     NaN   \n",
       "$n_\\mathrm{pop}=50;\\ t_\\mathrm{max}=10$                             2.76161e-15   \n",
       "$n_\\mathrm{pop}=100;\\ t_\\mathrm{max}=5$                             1.56072e-15   \n",
       "\n",
       "                                        $n_\\mathrm{pop}=50;\\ t_\\mathrm{max}=10$  \\\n",
       "$n_\\mathrm{pop}=10;\\ t_\\mathrm{max}=50$                             2.76161e-15   \n",
       "$n_\\mathrm{pop}=50;\\ t_\\mathrm{max}=10$                                     NaN   \n",
       "$n_\\mathrm{pop}=100;\\ t_\\mathrm{max}=5$                              2.3641e-13   \n",
       "\n",
       "                                        $n_\\mathrm{pop}=100;\\ t_\\mathrm{max}=5$  \n",
       "$n_\\mathrm{pop}=10;\\ t_\\mathrm{max}=50$                             1.56072e-15  \n",
       "$n_\\mathrm{pop}=50;\\ t_\\mathrm{max}=10$                              2.3641e-13  \n",
       "$n_\\mathrm{pop}=100;\\ t_\\mathrm{max}=5$                                     NaN  "
      ]
     },
     "execution_count": 112,
     "metadata": {},
     "output_type": "execute_result"
    }
   ],
   "source": [
    "raw_p_values=compute_stat_matrix(hypervols, stats.mannwhitneyu)\n",
    "raw_p_values"
   ]
  },
  {
   "cell_type": "markdown",
   "metadata": {
    "internals": {
     "frag_helper": "fragment_end",
     "frag_number": 172,
     "slide_helper": "subslide_end",
     "slide_type": "subslide"
    },
    "slide_helper": "slide_end",
    "slideshow": {
     "slide_type": "slide"
    }
   },
   "source": [
    "The [familywise error rate](http://en.wikipedia.org/wiki/Familywise_error_rate) (FWER) is the probability of making one or more false discoveries, or [type I errors](http://en.wikipedia.org/wiki/Type_I_and_type_II_errors), among all the hypotheses when performing multiple hypotheses tests.\n",
    "\n",
    "_Example_: When performing a test, there is a $\\alpha$ chance of making a type I error. If we make $m$ tests, then the probability of making one type I error is $m\\alpha$. Therefore, if an $\\alpha=0.05$ is used and 5 pairwise comparisons are made, we will have a $5\\times0.05 = 0.25$ chance of making a type I error.\n",
    "\n",
    "* FWER procedures (such as the [Bonferroni correction](http://en.wikipedia.org/wiki/Bonferroni_correction)) exert a more stringent control over false discovery compared to False discovery rate controlling procedures. \n",
    "* FWER controlling seek to reduce the probability of even one false discovery, as opposed to the expected proportion of false discoveries. \n",
    "* Thus, FDR procedures have greater power at the cost of increased rates of type I errors, i.e., rejecting the null hypothesis of no effect when it should be accepted."
   ]
  },
  {
   "cell_type": "markdown",
   "metadata": {
    "internals": {
     "frag_helper": "fragment_end",
     "frag_number": 172,
     "slide_type": "subslide"
    },
    "slideshow": {
     "slide_type": "slide"
    }
   },
   "source": [
    "One of these corrections is the [Šidák correction](http://en.wikipedia.org/wiki/%C5%A0id%C3%A1k_correction) as it is less conservative than the [Bonferroni correction](http://en.wikipedia.org/wiki/Bonferroni_correction):\n",
    "$$\\alpha_{SID} = 1-(1-\\alpha)^\\frac{1}{m},$$\n",
    "where $m$ is the number of tests.\n",
    "\n",
    "* In our case $m$ is the number of combinations of algorithm configurations taken two at a time,\n",
    "$$\n",
    "m = {\\mathtt{number\\_of\\_experiments} \\choose 2}.\n",
    "$$\n",
    "* There are other corrections that can be used."
   ]
  },
  {
   "cell_type": "code",
   "execution_count": 113,
   "metadata": {
    "internals": {
     "frag_helper": "fragment_end",
     "frag_number": 172,
     "slide_helper": "subslide_end"
    },
    "slide_helper": "slide_end",
    "slideshow": {
     "slide_type": "-"
    }
   },
   "outputs": [
    {
     "data": {
      "text/plain": [
       "0.016952427508441503"
      ]
     },
     "execution_count": 113,
     "metadata": {},
     "output_type": "execute_result"
    }
   ],
   "source": [
    "from scipy.misc import comb\n",
    "alpha=0.05\n",
    "alpha_sid = 1 - (1-alpha)**(1/comb(len(hypervols.columns), 2))\n",
    "alpha_sid"
   ]
  },
  {
   "cell_type": "markdown",
   "metadata": {
    "internals": {
     "frag_helper": "fragment_end",
     "frag_number": 172,
     "slide_type": "subslide"
    },
    "slideshow": {
     "slide_type": "slide"
    }
   },
   "source": [
    "Let's apply the corrected alpha to `raw_p_values`. If we have a cell with a `True` value that means that those two results are the same."
   ]
  },
  {
   "cell_type": "code",
   "execution_count": 114,
   "metadata": {
    "internals": {
     "frag_helper": "fragment_end",
     "frag_number": 172,
     "slide_helper": "subslide_end"
    },
    "slide_helper": "slide_end",
    "slideshow": {
     "slide_type": "-"
    }
   },
   "outputs": [
    {
     "data": {
      "text/html": [
       "<div>\n",
       "<table border=\"1\" class=\"dataframe\">\n",
       "  <thead>\n",
       "    <tr style=\"text-align: right;\">\n",
       "      <th></th>\n",
       "      <th>$n_\\mathrm{pop}=10;\\ t_\\mathrm{max}=50$</th>\n",
       "      <th>$n_\\mathrm{pop}=50;\\ t_\\mathrm{max}=10$</th>\n",
       "      <th>$n_\\mathrm{pop}=100;\\ t_\\mathrm{max}=5$</th>\n",
       "    </tr>\n",
       "  </thead>\n",
       "  <tbody>\n",
       "    <tr>\n",
       "      <th>$n_\\mathrm{pop}=10;\\ t_\\mathrm{max}=50$</th>\n",
       "      <td>False</td>\n",
       "      <td>True</td>\n",
       "      <td>True</td>\n",
       "    </tr>\n",
       "    <tr>\n",
       "      <th>$n_\\mathrm{pop}=50;\\ t_\\mathrm{max}=10$</th>\n",
       "      <td>True</td>\n",
       "      <td>False</td>\n",
       "      <td>True</td>\n",
       "    </tr>\n",
       "    <tr>\n",
       "      <th>$n_\\mathrm{pop}=100;\\ t_\\mathrm{max}=5$</th>\n",
       "      <td>True</td>\n",
       "      <td>True</td>\n",
       "      <td>False</td>\n",
       "    </tr>\n",
       "  </tbody>\n",
       "</table>\n",
       "</div>"
      ],
      "text/plain": [
       "                                        $n_\\mathrm{pop}=10;\\ t_\\mathrm{max}=50$  \\\n",
       "$n_\\mathrm{pop}=10;\\ t_\\mathrm{max}=50$                                   False   \n",
       "$n_\\mathrm{pop}=50;\\ t_\\mathrm{max}=10$                                    True   \n",
       "$n_\\mathrm{pop}=100;\\ t_\\mathrm{max}=5$                                    True   \n",
       "\n",
       "                                        $n_\\mathrm{pop}=50;\\ t_\\mathrm{max}=10$  \\\n",
       "$n_\\mathrm{pop}=10;\\ t_\\mathrm{max}=50$                                    True   \n",
       "$n_\\mathrm{pop}=50;\\ t_\\mathrm{max}=10$                                   False   \n",
       "$n_\\mathrm{pop}=100;\\ t_\\mathrm{max}=5$                                    True   \n",
       "\n",
       "                                        $n_\\mathrm{pop}=100;\\ t_\\mathrm{max}=5$  \n",
       "$n_\\mathrm{pop}=10;\\ t_\\mathrm{max}=50$                                    True  \n",
       "$n_\\mathrm{pop}=50;\\ t_\\mathrm{max}=10$                                    True  \n",
       "$n_\\mathrm{pop}=100;\\ t_\\mathrm{max}=5$                                   False  "
      ]
     },
     "execution_count": 114,
     "metadata": {},
     "output_type": "execute_result"
    }
   ],
   "source": [
    "raw_p_values.applymap(lambda value: value <= alpha_sid)"
   ]
  },
  {
   "cell_type": "markdown",
   "metadata": {
    "internals": {
     "frag_helper": "fragment_end",
     "frag_number": 172,
     "slide_helper": "subslide_end",
     "slide_type": "subslide"
    },
    "slide_helper": "slide_end",
    "slideshow": {
     "slide_type": "slide"
    }
   },
   "source": [
    "## Further -and highly recommended- reading\n",
    "\n",
    "* Cohen, P. R. (1995). _Empirical Methods for Artificial Intelligence_ (Vol. 139). Cambridge: MIT press. [link](http://mitpress.mit.edu/books/empirical-methods-artificial-intelligence)\n",
    "* Bartz-Beielstein, Thomas (2006). _Experimental Research in Evolutionary Computation: The New Experimentalism_. Springer [link](http://link.springer.com/book/10.1007%2F3-540-32027-X)\n",
    "* García, S., & Herrera, F. (2008). _An Extension on “Statistical Comparisons of Classifiers over Multiple Data Sets” for all Pairwise Comparisons_. Journal of Machine Learning Research, 9, 2677–2694. [pdf](http://www.jmlr.org/papers/v9/garcia08a.html)"
   ]
  },
  {
   "cell_type": "markdown",
   "metadata": {
    "internals": {
     "frag_helper": "fragment_end",
     "frag_number": 172,
     "slide_type": "subslide"
    },
    "slideshow": {
     "slide_type": "slide"
    }
   },
   "source": [
    "# Final remarks\n",
    "\n"
   ]
  },
  {
   "cell_type": "markdown",
   "metadata": {
    "internals": {
     "frag_helper": "fragment_end",
     "frag_number": 172,
     "slide_helper": "subslide_end"
    },
    "slide_helper": "slide_end",
    "slideshow": {
     "slide_type": "-"
    }
   },
   "source": [
    "In this class/notebook we have seen some key elements:\n",
    "\n",
    "1. The Pareto dominance relation in action.\n",
    "2. The NSGA-II algorithm.\n",
    "3. Some of the existing MOP benchmarks. \n",
    "4. How to perform experiments and draw statistically valid conclusions from them.\n",
    "\n",
    "Bear in mind that:\n",
    "\n",
    "* When working in EMO topics problems like those of the CEC'09 or WFG toolkits are usually involved.\n",
    "* The issue of devising a proper experiment design and interpreting the results is a fundamental one.\n",
    "* The experimental setup presented here can be used with little modifications to single-objective optimization and even to other machine learning or stochastic algorithms."
   ]
  },
  {
   "cell_type": "markdown",
   "metadata": {},
   "source": [
    "<hr/>\n",
    "<div class=\"container-fluid\">\n",
    "  <div class='well'>\n",
    "      <div class=\"row\">\n",
    "          <div class=\"col-md-3\" align='center'>\n",
    "              <img align='center'alt=\"Creative Commons License\" style=\"border-width:0\" src=\"https://i.creativecommons.org/l/by-nc-sa/4.0/88x31.png\"/>\n",
    "          </div>\n",
    "          <div class=\"col-md-9\">\n",
    "              This work is licensed under a [Creative Commons Attribution-NonCommercial-ShareAlike 4.0 International License](http://creativecommons.org/licenses/by-nc-sa/4.0/).\n",
    "          </div>\n",
    "      </div>\n",
    "  </div>\n",
    "</div>"
   ]
  },
  {
   "cell_type": "code",
   "execution_count": 115,
   "metadata": {},
   "outputs": [
    {
     "data": {
      "application/json": {
       "Software versions": [
        {
         "module": "Python",
         "version": "2.7.12 64bit [GCC 4.8.4]"
        },
        {
         "module": "IPython",
         "version": "5.3.0"
        },
        {
         "module": "OS",
         "version": "Linux 4.4.0 72 generic x86_64 with Ubuntu 14.04 trusty"
        },
        {
         "module": "scipy",
         "version": "0.19.0"
        },
        {
         "module": "numpy",
         "version": "1.12.1"
        },
        {
         "module": "matplotlib",
         "version": "1.3.1"
        },
        {
         "module": "seaborn",
         "version": "0.7.1"
        },
        {
         "module": "deap",
         "version": "1.1"
        }
       ]
      },
      "text/html": [
       "<table><tr><th>Software</th><th>Version</th></tr><tr><td>Python</td><td>2.7.12 64bit [GCC 4.8.4]</td></tr><tr><td>IPython</td><td>5.3.0</td></tr><tr><td>OS</td><td>Linux 4.4.0 72 generic x86_64 with Ubuntu 14.04 trusty</td></tr><tr><td>scipy</td><td>0.19.0</td></tr><tr><td>numpy</td><td>1.12.1</td></tr><tr><td>matplotlib</td><td>1.3.1</td></tr><tr><td>seaborn</td><td>0.7.1</td></tr><tr><td>deap</td><td>1.1</td></tr><tr><td colspan='2'>Sat Apr 22 00:01:10 2017 CEST</td></tr></table>"
      ],
      "text/latex": [
       "\\begin{tabular}{|l|l|}\\hline\n",
       "{\\bf Software} & {\\bf Version} \\\\ \\hline\\hline\n",
       "Python & 2.7.12 64bit [GCC 4.8.4] \\\\ \\hline\n",
       "IPython & 5.3.0 \\\\ \\hline\n",
       "OS & Linux 4.4.0 72 generic x86\\_64 with Ubuntu 14.04 trusty \\\\ \\hline\n",
       "scipy & 0.19.0 \\\\ \\hline\n",
       "numpy & 1.12.1 \\\\ \\hline\n",
       "matplotlib & 1.3.1 \\\\ \\hline\n",
       "seaborn & 0.7.1 \\\\ \\hline\n",
       "deap & 1.1 \\\\ \\hline\n",
       "\\hline \\multicolumn{2}{|l|}{Sat Apr 22 00:01:10 2017 CEST} \\\\ \\hline\n",
       "\\end{tabular}\n"
      ],
      "text/plain": [
       "Software versions\n",
       "Python 2.7.12 64bit [GCC 4.8.4]\n",
       "IPython 5.3.0\n",
       "OS Linux 4.4.0 72 generic x86_64 with Ubuntu 14.04 trusty\n",
       "scipy 0.19.0\n",
       "numpy 1.12.1\n",
       "matplotlib 1.3.1\n",
       "seaborn 0.7.1\n",
       "deap 1.1\n",
       "Sat Apr 22 00:01:10 2017 CEST"
      ]
     },
     "execution_count": 115,
     "metadata": {},
     "output_type": "execute_result"
    }
   ],
   "source": [
    "# To install run: pip install version_information\n",
    "%load_ext version_information\n",
    "%version_information scipy, numpy, matplotlib, seaborn, deap"
   ]
  },
  {
   "cell_type": "code",
   "execution_count": 88,
   "metadata": {},
   "outputs": [
    {
     "ename": "ImportError",
     "evalue": "No module named request",
     "output_type": "error",
     "traceback": [
      "\u001b[0;31m---------------------------------------------------------------------------\u001b[0m",
      "\u001b[0;31mImportError\u001b[0m                               Traceback (most recent call last)",
      "\u001b[0;32m<ipython-input-88-f8e2e53fa71c>\u001b[0m in \u001b[0;36m<module>\u001b[0;34m()\u001b[0m\n\u001b[1;32m      1\u001b[0m \u001b[0;31m# this code is here for cosmetic reasons\u001b[0m\u001b[0;34m\u001b[0m\u001b[0;34m\u001b[0m\u001b[0m\n\u001b[1;32m      2\u001b[0m \u001b[0;32mfrom\u001b[0m \u001b[0mIPython\u001b[0m\u001b[0;34m.\u001b[0m\u001b[0mcore\u001b[0m\u001b[0;34m.\u001b[0m\u001b[0mdisplay\u001b[0m \u001b[0;32mimport\u001b[0m \u001b[0mHTML\u001b[0m\u001b[0;34m\u001b[0m\u001b[0m\n\u001b[0;32m----> 3\u001b[0;31m \u001b[0;32mfrom\u001b[0m \u001b[0murllib\u001b[0m\u001b[0;34m.\u001b[0m\u001b[0mrequest\u001b[0m \u001b[0;32mimport\u001b[0m \u001b[0murlopen\u001b[0m\u001b[0;34m\u001b[0m\u001b[0m\n\u001b[0m\u001b[1;32m      4\u001b[0m \u001b[0mHTML\u001b[0m\u001b[0;34m(\u001b[0m\u001b[0murlopen\u001b[0m\u001b[0;34m(\u001b[0m\u001b[0;34m'https://raw.githubusercontent.com/lmarti/jupyter_custom/master/custom.include'\u001b[0m\u001b[0;34m)\u001b[0m\u001b[0;34m.\u001b[0m\u001b[0mread\u001b[0m\u001b[0;34m(\u001b[0m\u001b[0;34m)\u001b[0m\u001b[0;34m.\u001b[0m\u001b[0mdecode\u001b[0m\u001b[0;34m(\u001b[0m\u001b[0;34m'utf-8'\u001b[0m\u001b[0;34m)\u001b[0m\u001b[0;34m)\u001b[0m\u001b[0;34m\u001b[0m\u001b[0m\n",
      "\u001b[0;31mImportError\u001b[0m: No module named request"
     ]
    }
   ],
   "source": [
    "# this code is here for cosmetic reasons\n",
    "from IPython.core.display import HTML\n",
    "from urllib.request import urlopen\n",
    "HTML(urlopen('https://raw.githubusercontent.com/lmarti/jupyter_custom/master/custom.include').read().decode('utf-8'))"
   ]
  },
  {
   "cell_type": "markdown",
   "metadata": {
    "collapsed": true
   },
   "source": [
    " "
   ]
  }
 ],
 "metadata": {
  "kernelspec": {
   "display_name": "Python 2",
   "language": "python",
   "name": "python2"
  },
  "language_info": {
   "codemirror_mode": {
    "name": "ipython",
    "version": 2
   },
   "file_extension": ".py",
   "mimetype": "text/x-python",
   "name": "python",
   "nbconvert_exporter": "python",
   "pygments_lexer": "ipython2",
   "version": "2.7.12"
  },
  "notify_time": "30",
  "widgets": {
   "state": {
    "fd0fbdf2f74c4fcfbc639df8f8988531": {
     "views": [
      {
       "cell_index": 117
      }
     ]
    }
   },
   "version": "1.2.0"
  }
 },
 "nbformat": 4,
 "nbformat_minor": 1
}
