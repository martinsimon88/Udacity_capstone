{
 "cells": [
  {
   "cell_type": "markdown",
   "metadata": {
    "internals": {
     "slide_type": "subslide"
    },
    "slideshow": {
     "slide_type": "slide"
    }
   },
   "source": [
    "<div align='left' style=\"width:400px;height:120px;overflow:hidden;\">\n",
    "<a href='http://www.uff.br'>\n",
    "<img align='left' style='display: block;height: 92%' src='https://github.com/lmarti/jupyter_custom/raw/master/imgs/uff.png' alt='UFF logo' title='UFF logo'/>\n",
    "</a>\n",
    "<a href='http://www.ic.uff.br'>\n",
    "<img align='left' style='display: block;height: 100%' src='https://github.com/lmarti/jupyter_custom/raw/master/imgs/logo-ic.png' alt='IC logo' title='IC logo'/>\n",
    "</a>\n",
    "</div>"
   ]
  },
  {
   "cell_type": "markdown",
   "metadata": {
    "internals": {
     "slide_helper": "subslide_end"
    },
    "slide_helper": "subslide_end",
    "slideshow": {
     "slide_type": "-"
    }
   },
   "source": [
    "# Evolutionary Multi-Objective Optimization\n",
    "\n",
    "## Luis Martí, [IC](http://www.ic.uff.br)/[UFF](http://www.uff.br)\n",
    "\n",
    "[http://lmarti.com](http://lmarti.com); [lmarti@ic.uff.br](mailto:lmarti@ic.uff.br) \n",
    "\n",
    "[Advanced Evolutionary Computation: Theory and Practice](http://lmarti.com/aec-2014) "
   ]
  },
  {
   "cell_type": "markdown",
   "metadata": {
    "internals": {
     "slide_helper": "subslide_end",
     "slide_type": "subslide"
    },
    "slide_helper": "slide_end",
    "slideshow": {
     "slide_type": "subslide"
    }
   },
   "source": [
    "This notebook is better viewed rendered as slides. You can convert it to slides and view them by:\n",
    "- using [nbconvert](http://ipython.org/ipython-doc/1/interactive/nbconvert.html) with a command like:\n",
    "  ```bash\n",
    "  $ ipython nbconvert --to slides --post serve <this-notebook-name.ipynb>\n",
    "  ```\n",
    "- installing [Reveal.js - Jupyter/IPython Slideshow Extension](https://github.com/damianavila/live_reveal)\n",
    "- using the online [IPython notebook slide viewer](https://slideviewer.herokuapp.com/) (some slides of the notebook might not be properly rendered).\n",
    "\n",
    "This and other related IPython notebooks can be found at the course github repository:\n",
    "* [https://github.com/lmarti/evolutionary-computation-course](https://github.com/lmarti/evolutionary-computation-course)"
   ]
  },
  {
   "cell_type": "markdown",
   "metadata": {
    "internals": {
     "slide_helper": "subslide_end",
     "slide_type": "subslide"
    },
    "slide_helper": "slide_end",
    "slideshow": {
     "slide_type": "slide"
    }
   },
   "source": [
    "# In this notebook\n",
    "\n",
    "* Present the basic concepts related to evolutionary multi-objective optimization algorithms.\n",
    "* The Non-dominated Sorting Genetic Algorithm II (NSGA-II).\n",
    "* Benchmark test problems.\n",
    "* Experiment design and results comparison."
   ]
  },
  {
   "cell_type": "markdown",
   "metadata": {
    "internals": {
     "slide_helper": "subslide_end",
     "slide_type": "subslide"
    },
    "slide_helper": "slide_end",
    "slideshow": {
     "slide_type": "slide"
    }
   },
   "source": [
    "## How can we handle multiple conflicting objectives?\n",
    "\n",
    "Even choosing a fruit implies dealing with conflicting objectives.\n",
    "\n",
    "<div align='center'><img src='http://imgs.xkcd.com/comics/fuck_grapefruit.png' width='56%' align='center'/>\n",
    "taken from http://xkcd.com/388/</div>"
   ]
  },
  {
   "cell_type": "markdown",
   "metadata": {
    "internals": {
     "slide_helper": "subslide_end",
     "slide_type": "subslide"
    },
    "slide_helper": "slide_end",
    "slideshow": {
     "slide_type": "slide"
    }
   },
   "source": [
    "# [Multi-objective optimization](http://en.wikipedia.org/wiki/Multi-objective_optimization)\n",
    "\n",
    "* Most -*if not all*- optimization problems involve more than one objective function to be optimized simultaneously.\n",
    "* For example, you must optimize a given feature of an object while keeping under control the resources needed to elaborate that object.\n",
    "* Sometimes those other objectives are converted to constraints or fixed to default values, but that does not means that they are there.\n",
    "* Multi-objective optimization is also known as *multi-objective programming*, *vector optimization*, *multicriteria optimization*, *multiattribute optimization* or *Pareto optimization* (and probably by other names, depending on the field).\n",
    "* Multi-objective optimization has been applied in [many fields of science](http://en.wikipedia.org/wiki/Multi-objective_optimization#Examples_of_multi-objective_optimization_applications), including engineering, economics and logistics (see the section on applications for detailed examples) where optimal decisions need to be taken in the presence of trade-offs between two or more conflicting objectives."
   ]
  },
  {
   "cell_type": "markdown",
   "metadata": {
    "internals": {
     "slide_helper": "subslide_end",
     "slide_type": "subslide"
    },
    "slide_helper": "slide_end",
    "slideshow": {
     "slide_type": "slide"
    }
   },
   "source": [
    "## A Multi-objective Optimization Problem (MOP)\n",
    "\n",
    "$$\n",
    "\\renewcommand{\\vec}[1]{\\mathbf{#1}}\n",
    "\\newcommand{\\set}[1]{\\mathcal{#1}}\n",
    "\\newcommand{\\dom}{\\preccurlyeq}\n",
    "\\left.\n",
    "\\begin{array}{rl}\n",
    "\\mathrm{minimize}             & \\vec{F}(\\vec{x})=\\langle f_1(\\vec{x}),\\ldots,f_M(\\vec{x})\\rangle\\,,\\\\ \n",
    "\\mathrm{subject}\\ \\mathrm{to} & c_1(\\vec{x}),\\ldots,c_C(\\vec{x})\\le 0\\,,\\\\\n",
    "\t\t\t\t\t\t\t  & d_1(\\vec{x}),\\ldots,d_D(\\vec{x})= 0\\,,\\\\\n",
    "& \\text{with}\\ \\vec{x}\\in\\set{D}\\,,\n",
    "\\end{array}\\right\\}\n",
    "$$\n",
    "\n",
    "* $\\mathcal{D}$ is known as the *decision set* or *search set*.\n",
    "* functions $f_1(\\mathbf{x}),\\ldots,f_M(\\mathbf{x})$ are the *objective functions*. If $M=1$ the problem reduces to a single-objective optimization problem. \n",
    "* Image set, $\\set{O}$, result of the projection of $\\set{D}$ via $f_1(\\vec{x}),\\ldots,f_M(\\vec{x})$ is called *objective set* ($\\vec{F}:\\set{D}\\rightarrow\\set{O}$).\n",
    "* $c_1(\\vec{x}),\\ldots,c_C(\\vec{x})\\le 0$ and $d_1(\\vec{x}),\\ldots,d_D(\\vec{x})= 0$  express the constraints imposed on the values of $\\vec{x}$.\n",
    "\n",
    "*Note:* In case you are -still- wondering, a maximization problem can be posed as the minimization one: $\\min\\ -\\vec{F}(\\vec{x})$."
   ]
  },
  {
   "cell_type": "markdown",
   "metadata": {
    "internals": {
     "slide_helper": "subslide_end",
     "slide_type": "subslide"
    },
    "slide_helper": "slide_end",
    "slideshow": {
     "slide_type": "slide"
    }
   },
   "source": [
    "## Example: A two variables and two objectives MOP\n",
    "<img src='static/mop-2d.jpg' height='56%' align='center'/>"
   ]
  },
  {
   "cell_type": "markdown",
   "metadata": {
    "internals": {
     "slide_helper": "subslide_end",
     "slide_type": "subslide"
    },
    "slide_helper": "slide_end",
    "slideshow": {
     "slide_type": "slide"
    }
   },
   "source": [
    "## MOP (optimal) solutions\n",
    "\n",
    "Usually, there is not a unique solution that minimizes all objective functions simultaneously, but, instead, a set of equally good *trade-off* solutions.\n",
    "\n",
    "* *Optimality* can be defined in terms of the [*Pareto dominance*](https://en.wikipedia.org/wiki/Pareto_efficiency) relation. That is, having $\\vec{x},\\vec{y}\\in\\set{D}$, $\\vec{x}$ is said to dominate $\\vec{y}$ (expressed as $\\vec{x}\\dom\\vec{y}$) iff $\\forall f_j$, $f_j(\\vec{x})\\leq f_j(\\vec{y})$ and $\\exists f_i$ such that $f_i(\\vec{x})< f_i(\\vec{y})$.\n",
    "* Having the set $\\set{A}$. $\\set{A}^\\ast$, the *non-dominated subset* of $\\set{A}$, is defined as\n",
    "\n",
    "$$\n",
    "\\set{A}^\\ast=\\left\\{ \\vec{x}\\in\\set{A} \\left|\\not\\exists\\vec{y}\\in\\set{A}:\\vec{y}\\dom\\vec{x}\\right.\\right\\}.\n",
    "$$\n",
    "\n",
    "* The *Pareto-optimal set*, $\\set{D}^{\\ast}$, is the solution of the problem. It is the subset of non-dominated elements of $\\set{D}$. It is also known as the *efficient set*.\n",
    "* It consists of solutions that cannot be improved in any of the objectives without degrading at least one of the other objectives.\n",
    "* Its image in objective set is called the *Pareto-optimal front*, $\\set{O}^\\ast$.\n",
    "* Evolutionary algorithms generally yield a set of non-dominated solutions, $\\set{P}^\\ast$, that approximates $\\set{D}^{\\ast}$.\n"
   ]
  },
  {
   "cell_type": "markdown",
   "metadata": {
    "internals": {
     "slide_type": "subslide"
    },
    "slideshow": {
     "slide_type": "slide"
    }
   },
   "source": [
    "As usual, we need some initialization and configuration."
   ]
  },
  {
   "cell_type": "code",
   "execution_count": 1,
   "metadata": {
    "collapsed": true,
    "internals": {},
    "slideshow": {
     "slide_type": "-"
    }
   },
   "outputs": [],
   "source": [
    "import time, array, random, copy, math\n",
    "import numpy as np\n",
    "import pandas as pd"
   ]
  },
  {
   "cell_type": "code",
   "execution_count": 2,
   "metadata": {
    "collapsed": true
   },
   "outputs": [],
   "source": [
    "import matplotlib.pyplot as plt\n",
    "%matplotlib inline\n",
    "#%config InlineBackend.figure_format = 'retina'\n",
    "#plt.rc('text', usetex=True)\n",
    "#plt.rc('font', family='serif')\n",
    "#plt.rcParams['text.latex.preamble'] ='\\\\usepackage{libertine}\\n\\\\usepackage[utf8]{inputenc}'\n",
    "\n",
    "import seaborn\n",
    "seaborn.set(style='whitegrid')\n",
    "seaborn.set_context('notebook')"
   ]
  },
  {
   "cell_type": "code",
   "execution_count": 3,
   "metadata": {
    "collapsed": true
   },
   "outputs": [],
   "source": [
    "from deap import algorithms, base, benchmarks, tools, creator"
   ]
  },
  {
   "cell_type": "markdown",
   "metadata": {
    "internals": {
     "frag_helper": "fragment_end",
     "frag_number": 11,
     "slide_type": "subslide"
    },
    "slideshow": {
     "slide_type": "subslide"
    }
   },
   "source": [
    "Planting a constant seed to always have the same results (and avoid surprises in class). -*you should not do this in a real-world case!*"
   ]
  },
  {
   "cell_type": "code",
   "execution_count": 4,
   "metadata": {
    "collapsed": true,
    "internals": {
     "frag_helper": "fragment_end",
     "frag_number": 11,
     "slide_helper": "subslide_end"
    },
    "slide_helper": "slide_end",
    "slideshow": {
     "slide_type": "-"
    }
   },
   "outputs": [],
   "source": [
    "random.seed(a=42)"
   ]
  },
  {
   "cell_type": "markdown",
   "metadata": {
    "internals": {
     "frag_helper": "fragment_end",
     "frag_number": 11,
     "slide_type": "subslide"
    },
    "slideshow": {
     "slide_type": "slide"
    }
   },
   "source": [
    "# Visualizing the Pareto dominance relation\n",
    "\n",
    "* To start, lets have a visual example of the Pareto dominance relationship in action.\n",
    "* In this notebook we will deal with two-objective problems in order to simplify visualization. \n",
    "* Therefore, we can create:"
   ]
  },
  {
   "cell_type": "code",
   "execution_count": 5,
   "metadata": {
    "collapsed": true,
    "internals": {
     "frag_helper": "fragment_end",
     "frag_number": 11,
     "slide_helper": "subslide_end"
    },
    "slide_helper": "slide_end",
    "slideshow": {
     "slide_type": "-"
    }
   },
   "outputs": [],
   "source": [
    "creator.create(\"FitnessMin\", base.Fitness, weights=(-1.0,-1.0))\n",
    "creator.create(\"Individual\", array.array, typecode='d', \n",
    "               fitness=creator.FitnessMin)"
   ]
  },
  {
   "cell_type": "markdown",
   "metadata": {
    "internals": {
     "frag_helper": "fragment_end",
     "frag_number": 11,
     "slide_helper": "subslide_end",
     "slide_type": "subslide"
    },
    "slide_helper": "slide_end",
    "slideshow": {
     "slide_type": "slide"
    }
   },
   "source": [
    "## Let's use an illustrative MOP problem: Dent\n",
    "\n",
    "$$\n",
    "\\begin{array}{rl}\n",
    "\\text{minimize} & f_1(\\vec{x}),f_2(\\vec{x}) \\\\\n",
    "\\text{such that} & f_1(\\vec{x}) = \\frac{1}{2}\\left( \\sqrt{1 + (x_1 + x_2)^2} \\sqrt{1 + (x_1 - x_2)^2} + x_1 -x_2\\right) + d,\\\\\n",
    " & f_2(\\vec{x}) = \\frac{1}{2}\\left( \\sqrt{1 + (x_1 + x_2)^2} \\sqrt{1 + (x_1 - x_2)^2} - x_1 -x_2\\right) + d,\\\\\n",
    "\\text{with}& d = \\lambda e^{-\\left(x_1-x_2\\right)^2}\\ (\\text{generally }\\lambda=0.85) \\text{ and } \\vec{x}\\in \\left[-1.5,1.5\\right]^2.\n",
    "\\end{array}\n",
    "$$"
   ]
  },
  {
   "cell_type": "markdown",
   "metadata": {
    "internals": {
     "frag_helper": "fragment_end",
     "frag_number": 11,
     "slide_type": "subslide"
    },
    "slideshow": {
     "slide_type": "slide"
    }
   },
   "source": [
    "Implementing the Dent problem"
   ]
  },
  {
   "cell_type": "code",
   "execution_count": 6,
   "metadata": {
    "collapsed": true,
    "internals": {
     "frag_helper": "fragment_end",
     "frag_number": 11,
     "slide_helper": "subslide_end"
    },
    "slide_helper": "slide_end",
    "slideshow": {
     "slide_type": "-"
    }
   },
   "outputs": [],
   "source": [
    "def dent(individual, lbda = 0.85):\n",
    "    \"\"\" \n",
    "    Implements the test problem Dent\n",
    "    Num. variables = 2; bounds in [-1.5, 1.5]; num. objetives = 2.\n",
    "    @author Cesar Revelo\n",
    "    \"\"\"\n",
    "    d  = lbda * math.exp(-(individual[0] - individual[1]) ** 2)  \n",
    "    f1 = 0.5 * (math.sqrt(1 + (individual[0] + individual[1]) ** 2) + \\\n",
    "                math.sqrt(1 + (individual[0] - individual[1]) ** 2) + \\\n",
    "                individual[0] - individual[1]) + d\n",
    "    f2 = 0.5 * (math.sqrt(1 + (individual[0] + individual[1]) ** 2) + \\\n",
    "                math.sqrt(1 + (individual[0] - individual[1]) ** 2) - \\\n",
    "                individual[0] + individual[1]) + d\n",
    "    return f1, f2"
   ]
  },
  {
   "cell_type": "markdown",
   "metadata": {
    "internals": {
     "frag_helper": "fragment_end",
     "frag_number": 11,
     "slide_type": "subslide"
    },
    "slideshow": {
     "slide_type": "slide"
    }
   },
   "source": [
    "Preparing a DEAP `toolbox` with Dent."
   ]
  },
  {
   "cell_type": "code",
   "execution_count": 7,
   "metadata": {
    "collapsed": true,
    "internals": {
     "frag_helper": "fragment_end",
     "frag_number": 11
    },
    "slideshow": {
     "slide_type": "-"
    }
   },
   "outputs": [],
   "source": [
    "toolbox = base.Toolbox()"
   ]
  },
  {
   "cell_type": "code",
   "execution_count": 8,
   "metadata": {
    "collapsed": true,
    "internals": {
     "frag_helper": "fragment_end",
     "frag_number": 11
    },
    "slideshow": {
     "slide_type": "-"
    }
   },
   "outputs": [],
   "source": [
    "BOUND_LOW, BOUND_UP = -1.5, 1.5\n",
    "NDIM = 2\n",
    "# toolbox.register(\"evaluate\", lambda ind: benchmarks.dtlz2(ind, 2))\n",
    "toolbox.register(\"evaluate\", dent)"
   ]
  },
  {
   "cell_type": "markdown",
   "metadata": {
    "internals": {
     "frag_helper": "fragment_end",
     "frag_number": 11
    },
    "slideshow": {
     "slide_type": "-"
    }
   },
   "source": [
    "Defining attributes, individuals and population."
   ]
  },
  {
   "cell_type": "code",
   "execution_count": 9,
   "metadata": {
    "collapsed": true,
    "internals": {
     "frag_helper": "fragment_end",
     "frag_number": 11,
     "slide_helper": "subslide_end"
    },
    "slide_helper": "slide_end",
    "slideshow": {
     "slide_type": "-"
    }
   },
   "outputs": [],
   "source": [
    "def uniform(low, up, size=None):\n",
    "    try:\n",
    "        return [random.uniform(a, b) for a, b in zip(low, up)]\n",
    "    except TypeError:\n",
    "        return [random.uniform(a, b) for a, b in zip([low] * size, [up] * size)]\n",
    "\n",
    "toolbox.register(\"attr_float\", uniform, BOUND_LOW, BOUND_UP, NDIM)\n",
    "toolbox.register(\"individual\", tools.initIterate, creator.Individual, toolbox.attr_float)\n",
    "toolbox.register(\"population\", tools.initRepeat, list, toolbox.individual)"
   ]
  },
  {
   "cell_type": "markdown",
   "metadata": {
    "internals": {
     "frag_helper": "fragment_end",
     "frag_number": 11,
     "slide_type": "subslide"
    },
    "slideshow": {
     "slide_type": "slide"
    }
   },
   "source": [
    "Creating an example population distributed as a mesh."
   ]
  },
  {
   "cell_type": "code",
   "execution_count": 10,
   "metadata": {
    "collapsed": true,
    "internals": {
     "frag_helper": "fragment_end",
     "frag_number": 11
    },
    "slideshow": {
     "slide_type": "-"
    }
   },
   "outputs": [],
   "source": [
    "num_samples = 50\n",
    "limits = [np.arange(BOUND_LOW, BOUND_UP, (BOUND_UP - BOUND_LOW)/num_samples)] * NDIM\n",
    "sample_x = np.meshgrid(*limits)"
   ]
  },
  {
   "cell_type": "code",
   "execution_count": 11,
   "metadata": {
    "collapsed": true,
    "internals": {
     "frag_helper": "fragment_end",
     "frag_number": 11,
     "slide_helper": "subslide_end"
    },
    "slide_helper": "slide_end",
    "slideshow": {
     "slide_type": "-"
    }
   },
   "outputs": [],
   "source": [
    "flat = []\n",
    "for i in range(len(sample_x)):\n",
    "    x_i = sample_x[i]\n",
    "    flat.append(x_i.reshape(num_samples**NDIM))"
   ]
  },
  {
   "cell_type": "code",
   "execution_count": 12,
   "metadata": {
    "collapsed": true,
    "internals": {
     "frag_helper": "fragment_end",
     "frag_number": 11,
     "slide_type": "subslide"
    },
    "slideshow": {
     "slide_type": "slide"
    }
   },
   "outputs": [],
   "source": [
    "example_pop = toolbox.population(n=num_samples**NDIM)"
   ]
  },
  {
   "cell_type": "code",
   "execution_count": 13,
   "metadata": {
    "collapsed": true,
    "internals": {
     "frag_helper": "fragment_end",
     "frag_number": 11
    },
    "slideshow": {
     "slide_type": "-"
    }
   },
   "outputs": [],
   "source": [
    "for i, ind in enumerate(example_pop):\n",
    "    for j in range(len(flat)):\n",
    "        ind[j] = flat[j][i]"
   ]
  },
  {
   "cell_type": "code",
   "execution_count": 14,
   "metadata": {
    "collapsed": true,
    "internals": {
     "frag_helper": "fragment_end",
     "frag_number": 11,
     "slide_helper": "subslide_end"
    },
    "slide_helper": "slide_end",
    "slideshow": {
     "slide_type": "-"
    }
   },
   "outputs": [],
   "source": [
    "fitnesses = toolbox.map(toolbox.evaluate, example_pop)\n",
    "for ind, fit in zip(example_pop, fitnesses):\n",
    "    ind.fitness.values = fit"
   ]
  },
  {
   "cell_type": "markdown",
   "metadata": {
    "internals": {
     "frag_helper": "fragment_end",
     "frag_number": 11,
     "slide_type": "subslide"
    },
    "slideshow": {
     "slide_type": "slide"
    }
   },
   "source": [
    "We also need `a_given_individual`."
   ]
  },
  {
   "cell_type": "code",
   "execution_count": 15,
   "metadata": {
    "collapsed": true,
    "internals": {
     "frag_helper": "fragment_end",
     "frag_number": 11
    },
    "slideshow": {
     "slide_type": "-"
    }
   },
   "outputs": [],
   "source": [
    "a_given_individual = toolbox.population(n=1)[0]\n",
    "a_given_individual[0] = 0.5\n",
    "a_given_individual[1] = 0.5"
   ]
  },
  {
   "cell_type": "code",
   "execution_count": 16,
   "metadata": {
    "collapsed": true,
    "internals": {
     "frag_helper": "fragment_end",
     "frag_number": 11,
     "slide_helper": "subslide_end"
    },
    "slide_helper": "slide_end",
    "slideshow": {
     "slide_type": "-"
    }
   },
   "outputs": [],
   "source": [
    "a_given_individual.fitness.values = toolbox.evaluate(a_given_individual)"
   ]
  },
  {
   "cell_type": "markdown",
   "metadata": {
    "internals": {
     "frag_helper": "fragment_end",
     "frag_number": 11,
     "slide_type": "subslide"
    },
    "slideshow": {
     "slide_type": "slide"
    }
   },
   "source": [
    "Implementing the Pareto dominance relation between two individulas."
   ]
  },
  {
   "cell_type": "code",
   "execution_count": 17,
   "metadata": {
    "collapsed": true,
    "internals": {
     "frag_helper": "fragment_end",
     "frag_number": 11
    },
    "slideshow": {
     "slide_type": "-"
    }
   },
   "outputs": [],
   "source": [
    "def pareto_dominance(ind1,ind2):\n",
    "    'Returns `True` if `ind1` dominates `ind2`.'\n",
    "    extrictly_better = False\n",
    "    for item1 in ind1.fitness.values:\n",
    "        for item2 in ind2.fitness.values:\n",
    "            if item1 > item2:\n",
    "                return False\n",
    "            if not extrictly_better and item1 < item2:\n",
    "                extrictly_better = True\n",
    "    return extrictly_better"
   ]
  },
  {
   "cell_type": "markdown",
   "metadata": {
    "internals": {
     "frag_helper": "fragment_end",
     "frag_number": 11,
     "slide_helper": "subslide_end"
    },
    "slide_helper": "slide_end",
    "slideshow": {
     "slide_type": "-"
    }
   },
   "source": [
    "*Note:* Bear in mind that DEAP comes with a Pareto dominance relation that probably is more efficient than this implementation.\n",
    "```python\n",
    "def pareto_dominance(x,y):\n",
    "    return tools.emo.isDominated(x.fitness.values, y.fitness.values)\n",
    "```"
   ]
  },
  {
   "cell_type": "markdown",
   "metadata": {
    "internals": {
     "frag_helper": "fragment_end",
     "frag_number": 11,
     "slide_type": "subslide"
    },
    "slideshow": {
     "slide_type": "slide"
    }
   },
   "source": [
    "Lets compute the set of individuals that are `dominated` by `a_given_individual`, the ones that dominate it (its `dominators`) and the remaining ones."
   ]
  },
  {
   "cell_type": "code",
   "execution_count": 18,
   "metadata": {
    "collapsed": true,
    "internals": {
     "frag_helper": "fragment_end",
     "frag_number": 11,
     "slide_helper": "subslide_end"
    },
    "slide_helper": "subslide_end",
    "slideshow": {
     "slide_type": "-"
    }
   },
   "outputs": [],
   "source": [
    "dominated = [ind for ind in example_pop if pareto_dominance(a_given_individual, ind)]\n",
    "dominators = [ind for ind in example_pop if pareto_dominance(ind, a_given_individual)]\n",
    "others = [ind for ind in example_pop if not ind in dominated and not ind in dominators]"
   ]
  },
  {
   "cell_type": "code",
   "execution_count": 19,
   "metadata": {
    "collapsed": true,
    "internals": {
     "frag_helper": "fragment_end",
     "frag_number": 11,
     "slide_helper": "subslide_end",
     "slide_type": "subslide"
    },
    "slide_helper": "slide_end",
    "slideshow": {
     "slide_type": "subslide"
    }
   },
   "outputs": [],
   "source": [
    "def plot_dent():\n",
    "    'Plots the points in decision and objective spaces.'\n",
    "    plt.figure(figsize=(10,5))\n",
    "    plt.subplot(1,2,1)\n",
    "    for ind in dominators: plt.plot(ind[0], ind[1], 'r.')\n",
    "    for ind in dominated: plt.plot(ind[0], ind[1], 'g.')\n",
    "    for ind in others: plt.plot(ind[0], ind[1], 'k.', ms=3)\n",
    "    plt.plot(a_given_individual[0], a_given_individual[1], 'bo', ms=6);\n",
    "    plt.xlabel('$x_1$');plt.ylabel('$x_2$');\n",
    "    plt.title('Decision space');\n",
    "    plt.subplot(1,2,2)\n",
    "    for ind in dominators: plt.plot(ind.fitness.values[0], ind.fitness.values[1], 'r.', alpha=0.7)\n",
    "    for ind in dominated: plt.plot(ind.fitness.values[0], ind.fitness.values[1], 'g.', alpha=0.7)\n",
    "    for ind in others: plt.plot(ind.fitness.values[0], ind.fitness.values[1], 'k.', alpha=0.7, ms=3)\n",
    "    plt.plot(a_given_individual.fitness.values[0], a_given_individual.fitness.values[1], 'bo', ms=6);\n",
    "    plt.xlabel('$f_1(\\mathbf{x})$');plt.ylabel('$f_2(\\mathbf{x})$');\n",
    "    plt.xlim((0.5,3.6));plt.ylim((0.5,3.6));\n",
    "    plt.title('Objective space');\n",
    "    plt.tight_layout()"
   ]
  },
  {
   "cell_type": "markdown",
   "metadata": {
    "internals": {
     "frag_helper": "fragment_end",
     "frag_number": 11,
     "slide_type": "subslide"
    },
    "slideshow": {
     "slide_type": "slide"
    }
   },
   "source": [
    "Having `a_given_individual` (blue dot) we can now plot those that are dominated by it (in green), those that dominate it (in red) and those that are uncomparable."
   ]
  },
  {
   "cell_type": "code",
   "execution_count": 20,
   "metadata": {
    "internals": {
     "frag_helper": "fragment_end",
     "frag_number": 11,
     "slide_helper": "subslide_end"
    },
    "slide_helper": "slide_end",
    "slideshow": {
     "slide_type": "-"
    }
   },
   "outputs": [
    {
     "data": {
      "image/png": "[encoded data removed]",
      "text/plain": [
       "<matplotlib.figure.Figure at 0x7f677979ea10>"
      ]
     },
     "metadata": {},
     "output_type": "display_data"
    }
   ],
   "source": [
    "plot_dent()"
   ]
  },
  {
   "cell_type": "markdown",
   "metadata": {
    "internals": {
     "frag_helper": "fragment_end",
     "frag_number": 11,
     "slide_type": "subslide"
    },
    "slideshow": {
     "slide_type": "slide"
    }
   },
   "source": [
    "Obtaining the nondominated front."
   ]
  },
  {
   "cell_type": "code",
   "execution_count": 21,
   "metadata": {
    "collapsed": true,
    "internals": {
     "frag_helper": "fragment_end",
     "frag_number": 11
    },
    "slideshow": {
     "slide_type": "-"
    }
   },
   "outputs": [],
   "source": [
    "non_dom = tools.sortNondominated(example_pop, k=len(example_pop), first_front_only=True)[0]"
   ]
  },
  {
   "cell_type": "code",
   "execution_count": 22,
   "metadata": {
    "internals": {
     "frag_helper": "fragment_end",
     "frag_number": 11,
     "slide_helper": "subslide_end"
    },
    "slide_helper": "slide_end",
    "slideshow": {
     "slide_type": "-"
    }
   },
   "outputs": [
    {
     "data": {
      "text/plain": [
       "<matplotlib.text.Text at 0x7f6770712590>"
      ]
     },
     "execution_count": 22,
     "metadata": {},
     "output_type": "execute_result"
    },
    {
     "data": {
      "image/png": "[encoded data removed]",
      "text/plain": [
       "<matplotlib.figure.Figure at 0x7f677106bd50>"
      ]
     },
     "metadata": {},
     "output_type": "display_data"
    }
   ],
   "source": [
    "plt.figure(figsize=(5,5))\n",
    "for ind in example_pop:\n",
    "    plt.plot(ind.fitness.values[0], ind.fitness.values[1], 'k.', ms=3, alpha=0.5)\n",
    "for ind in non_dom:\n",
    "    plt.plot(ind.fitness.values[0], ind.fitness.values[1], 'bo', alpha=0.74, ms=5)\n",
    "plt.title('Pareto-optimal front')"
   ]
  },
  {
   "cell_type": "markdown",
   "metadata": {
    "internals": {
     "frag_helper": "fragment_end",
     "frag_number": 11,
     "slide_helper": "subslide_end",
     "slide_type": "subslide"
    },
    "slide_helper": "slide_end",
    "slideshow": {
     "slide_type": "slide"
    }
   },
   "source": [
    "# The Non-dominated Sorting Genetic Algorithm (NSGA-II)\n",
    "\n",
    "* NSGA-II algorithm is one of the pillars of the EMO field.\n",
    "    * Deb, K., Pratap, A., Agarwal, S., Meyarivan, T., *A fast and elitist multiobjective genetic algorithm: NSGA-II*, IEEE Transactions on Evolutionary Computation, vol.6, no.2, pp.182,197, Apr 2002 doi: [10.1109/4235.996017](http://dx.doi.org/10.1109/4235.996017).\n",
    "* Fitness assignment relies on the Pareto dominance relation:\n",
    "    1. Rank individuals according the dominance relations established between them. \n",
    "    2. Individuals with the same domination rank are then compared using a local crowding distance."
   ]
  },
  {
   "cell_type": "markdown",
   "metadata": {
    "internals": {
     "frag_helper": "fragment_end",
     "frag_number": 11,
     "slide_helper": "subslide_end",
     "slide_type": "subslide"
    },
    "slide_helper": "slide_end",
    "slideshow": {
     "slide_type": "slide"
    }
   },
   "source": [
    "## NSGA-II fitness in detail\n",
    "\n",
    "* The first step consists in classifying the individuals in a series of categories $\\mathcal{F}_1,\\ldots,\\mathcal{F}_L$. \n",
    "* Each of these categories store individuals that are only dominated by the elements of the previous categories,\n",
    "$$\n",
    "\\begin{array}{rl}\n",
    "\t\\forall \\vec{x}\\in\\set{F}_i: &\\exists \\vec{y}\\in\\set{F}_{i-1} \\text{ such that } \\vec{y}\\dom\\vec{x},\\text{ and }\\\\ \n",
    "\t                            &\\not\\exists\\vec{z}\\in \\set{P}_t\\setminus\\left( \\set{F}_1\\cup\\ldots\\cup\\set{F}_{i-1}\n",
    "\t                            \\right)\\text{ that }\\vec{z}\\dom\\vec{x}\\,;\n",
    "\\end{array}\n",
    "$$\n",
    "with $\\mathcal{F}_1$ equal to $\\mathcal{P}_t^\\ast$, the set of non-dominated individuals of $\\mathcal{P}_t$.\n",
    "\n",
    "* After all individuals are ranked a local crowding distance is assigned to them. \n",
    "* The use of this distance primes individuals more isolated with respect to others. "
   ]
  },
  {
   "cell_type": "markdown",
   "metadata": {
    "internals": {
     "frag_helper": "fragment_end",
     "frag_number": 11,
     "slide_helper": "subslide_end",
     "slide_type": "subslide"
    },
    "slide_helper": "slide_end",
    "slideshow": {
     "slide_type": "slide"
    }
   },
   "source": [
    "## Crowding distance\n",
    "\n",
    "The assignment process goes as follows,\n",
    "\n",
    "* for each category set $\\set{F}_l$, having $f_l=|\\set{F}_l|$,\n",
    "    * for each individual $\\vec{x}_i\\in\\set{F}_l$, set $d_{i}=0$.\n",
    "    * for each objective function $m=1,\\ldots,M$,\n",
    "        * $\\vec{I}=\\mathrm{sort}\\left(\\set{F}_l,m\\right)$ (generate index vector).\n",
    "        * $d_{I_1}^{(l)}=d_{I_{f_l}}^{(l)}=\\infty$.\n",
    "        * for $i=2,\\ldots,f_l-1$,\n",
    "            * Update the remaining distances as,\n",
    "                $$\n",
    "                d_i = d_i + \\frac{f_m\\left(\\vec{x}_{I_{i+1}}\\right)-f_m\\left(\\vec{x}_{I_{i+1}}\\right)}\n",
    "\t\t\t                   {f_m\\left(\\vec{x}_{I_{1}}\\right)-f_m\\left(\\vec{x}_{I_{f_l}}\\right)}\\,.\n",
    "                $$\n",
    "\n",
    "Here the $\\mathrm{sort}\\left(\\set{F},m\\right)$ function produces an ordered index vector $\\vec{I}$ with respect to objective function $m$. "
   ]
  },
  {
   "cell_type": "markdown",
   "metadata": {
    "internals": {
     "frag_helper": "fragment_end",
     "frag_number": 11,
     "slide_helper": "subslide_end",
     "slide_type": "subslide"
    },
    "slide_helper": "slide_end",
    "slideshow": {
     "slide_type": "slide"
    }
   },
   "source": [
    "Sorting the population by rank and distance.\n",
    "\n",
    "* Having the individual ranks and their local distances they are sorted using the crowded comparison operator, stated as: \n",
    "    * An individual $\\vec{x}_i$ _is better than_ $\\vec{x}_j$ if:\n",
    "        * $\\vec{x}_i$ has a better rank: $\\vec{x}_i\\in\\set{F}_k$, $\\vec{x}_j\\in\\set{F}_l$ and $k<l$, or;\n",
    "        * if $k=l$ and $d_i>d_j$.\n",
    "        \n",
    "**Now we have key element of the the non-dominated sorting GA.**"
   ]
  },
  {
   "cell_type": "markdown",
   "metadata": {
    "internals": {
     "frag_helper": "fragment_end",
     "frag_number": 11,
     "slide_helper": "subslide_end",
     "slide_type": "subslide"
    },
    "slide_helper": "slide_end",
    "slideshow": {
     "slide_type": "slide"
    }
   },
   "source": [
    "## Implementing NSGA-II\n",
    "\n",
    "We will deal with [DTLZ3](http://www.tik.ee.ethz.ch/sop/download/supplementary/testproblems/dtlz3/), which is a more difficult test problem.\n",
    "\n",
    "* DTLZ problems can be configured to have as many objectives as desired, but as we want to visualize results we will stick to two objectives.\n",
    "* DTLZ3 is a (more complex) version of [DTLZ2](http://www.tik.ee.ethz.ch/sop/download/supplementary/testproblems/dtlz2/).\n",
    "* The Pareto-optimal front of DTLZ3 lies in the first [orthant](http://en.wikipedia.org/wiki/Orthant) of a unit (radius 1) hypersphere located at the coordinate origin ($\\vec{0}$).\n",
    "* It has many local optima that run parallel to the global optima and render the optimization process more complicated.\n",
    "\n",
    "<div align='center'><img src='http://www.cs.cinvestav.mx/~emoobook/apendix-e/galeria4/dtlz3a.jpg' width=\"38%\" align='center'/>\n",
    "from Coello Coello, Lamont and Van Veldhuizen (2007) Evolutionary Algorithms for Solving Multi-Objective Problems, Second Edition. Springer [Appendix E](http://www.cs.cinvestav.mx/~emoobook/apendix-e/apendix-e.html).</div>"
   ]
  },
  {
   "cell_type": "markdown",
   "metadata": {
    "internals": {
     "frag_helper": "fragment_end",
     "frag_number": 11,
     "slide_type": "subslide"
    },
    "slideshow": {
     "slide_type": "slide"
    }
   },
   "source": [
    "New `toolbox` instance with the necessary components."
   ]
  },
  {
   "cell_type": "code",
   "execution_count": 23,
   "metadata": {
    "collapsed": true,
    "internals": {
     "frag_helper": "fragment_end",
     "frag_number": 11
    },
    "slideshow": {
     "slide_type": "-"
    }
   },
   "outputs": [],
   "source": [
    "toolbox = base.Toolbox()"
   ]
  },
  {
   "cell_type": "markdown",
   "metadata": {},
   "source": [
    "Define problem domain as $\\vec{x}\\in\\left[0,1\\right]^{30}$ and a two-objective DTLZ3 instance."
   ]
  },
  {
   "cell_type": "code",
   "execution_count": 24,
   "metadata": {
    "collapsed": true,
    "internals": {
     "frag_helper": "fragment_end",
     "frag_number": 11
    },
    "slideshow": {
     "slide_type": "-"
    }
   },
   "outputs": [],
   "source": [
    "NDIM = 30 \n",
    "BOUND_LOW, BOUND_UP = 0.0, 1.0\n",
    "toolbox.register(\"evaluate\", lambda ind: benchmarks.dtlz3(ind, 2))"
   ]
  },
  {
   "cell_type": "markdown",
   "metadata": {
    "internals": {
     "frag_helper": "fragment_end",
     "frag_number": 11
    },
    "slideshow": {
     "slide_type": "-"
    }
   },
   "source": [
    "Describing attributes, individuals and population and defining the selection, mating and mutation operators."
   ]
  },
  {
   "cell_type": "code",
   "execution_count": 25,
   "metadata": {
    "collapsed": true,
    "internals": {
     "frag_helper": "fragment_end",
     "frag_number": 11
    },
    "slideshow": {
     "slide_type": "-"
    }
   },
   "outputs": [],
   "source": [
    "toolbox.register(\"attr_float\", uniform, BOUND_LOW, BOUND_UP, NDIM)\n",
    "toolbox.register(\"individual\", tools.initIterate, creator.Individual, toolbox.attr_float)\n",
    "toolbox.register(\"population\", tools.initRepeat, list, toolbox.individual)\n",
    "toolbox.register(\"mate\", tools.cxSimulatedBinaryBounded, low=BOUND_LOW, up=BOUND_UP, eta=20.0)\n",
    "toolbox.register(\"mutate\", tools.mutPolynomialBounded, low=BOUND_LOW, up=BOUND_UP, eta=20.0, indpb=1.0/NDIM)\n",
    "toolbox.register(\"select\", tools.selNSGA2)"
   ]
  },
  {
   "cell_type": "markdown",
   "metadata": {
    "internals": {
     "frag_helper": "fragment_end",
     "frag_number": 11
    },
    "slideshow": {
     "slide_type": "-"
    }
   },
   "source": [
    "Let's also use the `toolbox` to store other configuration parameters of the algorithm. This will show itself usefull when performing massive experiments."
   ]
  },
  {
   "cell_type": "code",
   "execution_count": 26,
   "metadata": {
    "collapsed": true,
    "internals": {
     "frag_helper": "fragment_end",
     "frag_number": 11,
     "slide_helper": "subslide_end"
    },
    "slide_helper": "slide_end",
    "slideshow": {
     "slide_type": "-"
    }
   },
   "outputs": [],
   "source": [
    "toolbox.pop_size = 50\n",
    "toolbox.max_gen = 1000\n",
    "toolbox.mut_prob = 0.2\n",
    "pop = toolbox.population(toolbox.pop_size)"
   ]
  },
  {
   "cell_type": "markdown",
   "metadata": {
    "internals": {
     "frag_helper": "fragment_end",
     "frag_number": 11,
     "slide_type": "subslide"
    },
    "slideshow": {
     "slide_type": "slide"
    }
   },
   "source": [
    "## A compact NSGA-II implementation\n",
    "\n",
    "Storing all the required information in the `toolbox` and using DEAP's `algorithms.eaMuPlusLambda` function allows us to create a very compact -albeit not a 100% exact copy of the original- implementation of NSGA-II."
   ]
  },
  {
   "cell_type": "code",
   "execution_count": 27,
   "metadata": {
    "collapsed": true,
    "internals": {
     "frag_helper": "fragment_end",
     "frag_number": 11,
     "slide_helper": "subslide_end"
    },
    "slide_helper": "slide_end",
    "slideshow": {
     "slide_type": "-"
    }
   },
   "outputs": [],
   "source": [
    "def run_ea(toolbox, stats=None, verbose=False):\n",
    "    pop = toolbox.population(toolbox.pop_size)\n",
    "    fitnesses = map(toolbox.evaluate, pop)\n",
    "    for ind, fit in zip(pop, fitnesses):\n",
    "        ind.fitness.values = fit\n",
    "    pop = toolbox.select(pop, toolbox.pop_size)\n",
    "    return algorithms.eaMuPlusLambda(pop, toolbox, mu=toolbox.pop_size, \n",
    "                                     lambda_=toolbox.pop_size, \n",
    "                                     cxpb=1-toolbox.mut_prob,\n",
    "                                     mutpb=toolbox.mut_prob, \n",
    "                                     stats=stats, \n",
    "                                     ngen=toolbox.max_gen, \n",
    "                                     verbose=verbose)"
   ]
  },
  {
   "cell_type": "code",
   "execution_count": 29,
   "metadata": {},
   "outputs": [
    {
     "name": "stdout",
     "output_type": "stream",
     "text": [
      "[array('d', [0.9658362634143015, 0.41329391775208446, 0.44677974036511214, 0.12237330914857758, 0.5275889280477423, 0.5778847223365814, 0.6612689755119668, 0.9763494527380288, 0.32191136309984303, 0.730864580591815, 0.22583051839321377, 0.2638120335802583, 0.29623418831364345, 0.08279427403963868, 0.5585152345563626, 0.8728723320541997, 0.6594807777340282, 0.7352682788361867, 0.2058912343901773, 0.07801672872263488, 0.9717652089491915, 0.06026692846771675, 0.013128106821320595, 0.2161354680966614, 0.8185114442189054, 0.18791742986176585, 0.10453471795059843, 0.2086614580005065, 0.5905230996132085, 0.527644638075883]), array('d', [0.8584588342410253, 0.7604879583744806, 0.3118254297115829, 0.4540219653791885, 0.15399892514800262, 0.5045114092950558, 0.9141252646599748, 0.21878483084363665, 0.36364378322344826, 0.9750646833511583, 0.8678587870335434, 0.5134640425668711, 0.7800210595146186, 0.18795347264885387, 0.2778384344510285, 0.16419632499118142, 0.30714677983145855, 0.8698313800785115, 0.6483829625104691, 0.14728973404283907, 0.8761962362168236, 0.7450259932145414, 0.24056246144017523, 0.8940980543259294, 0.1870297660436978, 0.02858624962151357, 0.6618855039096281, 0.4526409160491587, 0.2655787253255113, 0.9269277196400185]), array('d', [0.08406676616092645, 0.43147363671709615, 0.15062004623508451, 0.5021903919491799, 0.5079268241952323, 0.05315707207724896, 0.2725888667239299, 0.09781269765745393, 0.6486217482575962, 0.7320016095639762, 0.42258837218531686, 0.2940058945823433, 0.40269210321191773, 0.5940491652185149, 0.5295627534944425, 0.49361622719927467, 0.4335653417496722, 0.6811605248590666, 0.6463448572825211, 0.9589717172911971, 0.21957976456871553, 0.053137771003383794, 0.03568795751952003, 0.26617824464117834, 0.06584738591411499, 0.1010319909115096, 0.22646501572877376, 0.6202207408809086, 0.7158233180981829, 0.3919080897635625]), array('d', [0.1013042719653866, 0.7339243726735462, 0.8795276708281322, 0.2682669497666631, 0.20570537575355996, 0.7857276514438948, 0.3476331132419348, 0.2879925497312348, 0.5963133967517213, 0.7338822707765316, 0.09424256671278786, 0.5032401525063994, 0.7004712270358081, 0.4767583291164841, 0.3053241882664258, 0.9066677666301721, 0.23861948527569, 0.3151124990093893, 0.06945463394109497, 0.1873444120001443, 0.899869221860292, 0.14183365525486336, 0.01273482789122593, 0.4746006908112954, 0.3340541498424623, 0.17751505206801632, 0.2638321882580036, 0.07697706796769133, 0.6792029422541018, 0.8530896679292163]), array('d', [0.5940051552067968, 0.9695415308611851, 0.5831588581279402, 0.4883073409886549, 0.24751042926734867, 0.10938599739355226, 0.8189264388188036, 0.5672667300704587, 0.9904131016929341, 0.8353590311727499, 0.5252691842850035, 0.1673047375305926, 0.14658295940798927, 0.09391009882086854, 0.3046022713474379, 0.7361864621615212, 0.45261635251836363, 0.7348150041012543, 0.9897931184300413, 0.2573395122841635, 0.486493313711411, 0.36428933187388446, 0.013561053780834942, 0.35262637809763864, 0.7101571510265683, 0.8913724163013029, 0.7745262955422477, 0.8569561605537513, 0.9021668273485982, 0.5957435405578825]), array('d', [0.11276106737507463, 0.685784157509423, 0.7282155427321815, 0.020727277904006636, 0.9786374375992934, 0.8562655241806477, 0.6593669130957652, 0.1416331258207142, 0.4978322314538409, 0.24436780495631838, 0.7410124294147348, 0.9732905881905594, 0.3594199285381102, 0.7443651191091089, 0.19384211242681182, 0.9548144070638586, 0.6387337528760109, 0.9654530605221083, 0.8771440358973421, 0.678801525718841, 0.8992213823824409, 0.4492693467984472, 0.9583061253733399, 0.5269068790596145, 0.2653093331331561, 0.6790663625958938, 0.8879949028134023, 0.3910262256052184, 0.417294285783667, 0.9939437082130248]), array('d', [0.3093232973707666, 0.04109997734067461, 0.5200777329641255, 0.3432744431061414, 0.6123674297553394, 0.4334596231232054, 0.45502767389016163, 0.9681530355850276, 0.792340512178822, 0.28840853355966933, 0.9694698900605356, 0.498927018994339, 0.6855266999239555, 0.46631747246476307, 0.15022775175561132, 0.966671468986435, 0.6237951335172418, 0.6643203211024912, 0.30364559953529235, 0.2882599537418521, 0.799785064866593, 0.015592399640814825, 0.04095309389624968, 0.28301729876898674, 0.5930716181057376, 0.05319328224931985, 0.3058215007565188, 0.43032282853316894, 0.6602533149280403, 0.0006417114280315994]), array('d', [0.25143346293061064, 0.35021823554278975, 0.28326553691374723, 0.8590105436890813, 0.6653259989509306, 0.7688853782471203, 0.15503701533142666, 0.08600346530375702, 0.2706688951152879, 0.9959142560739304, 0.19672741317786857, 0.5852248364557313, 0.0807179383248241, 0.21885776543719082, 0.4731777677903679, 0.3546322379166521, 0.8117090886719545, 0.6370446487236084, 0.42256328760917183, 0.9669068150532456, 0.09813869664843111, 0.2612609112277189, 0.3020226552861839, 0.31073580066339646, 0.5639076116369386, 0.6789232110674113, 0.3224799022404867, 0.5781674171922829, 0.6833211836789574, 0.1995066646488044]), array('d', [0.13569075179332712, 0.5542837694251773, 0.3010622658207721, 0.08559792710344594, 0.5666650900775093, 0.6283188273098645, 0.5458306758357001, 0.37596594380144566, 0.8759214791197504, 0.4368928156498245, 0.138609875191535, 0.44190133135120113, 0.3132604621635017, 0.9348798147228604, 0.7125985052999778, 0.46837887431825576, 0.42766917099470314, 0.42050566495542907, 0.4102586244142352, 0.027672938351022358, 0.5589091034712055, 0.9574917537478335, 0.42091862178168427, 0.7558564554198502, 0.6152085505936203, 0.3023899852233535, 0.24264565542580496, 0.5122067956113155, 0.1272748605973254, 0.5432695515447289]), array('d', [0.5655746003821882, 0.2933431867773534, 0.7553351733469019, 0.3926593223656404, 0.40294212602137947, 0.005952845981775257, 0.8074810263737702, 0.8749108725637814, 0.46022075294850795, 0.054346234237097835, 0.054692754672280186, 0.8298942892713361, 0.6498799406517216, 0.33348345454290274, 0.09739906208172533, 0.29057692412617353, 0.48146790035510734, 0.331307596447424, 0.06086476982714739, 0.7404729394958726, 0.6744129993827706, 0.7393634223710848, 0.05302026645520819, 0.20506444958049075, 0.1441519004259202, 0.7404241186922673, 0.4953046525746788, 0.22354358356485016, 0.6756807613348076, 0.8522556957213244]), array('d', [0.30089220872699807, 0.3108908289607021, 0.9891586298982143, 0.006450800639516419, 0.48495514410483775, 0.6877746969513585, 0.11470886369900446, 3.5711772904400974e-05, 0.6037906622879137, 0.12103441744910592, 0.09686363672618625, 0.2042936541408823, 0.4737424032737044, 0.8327264525428749, 0.4438158749842188, 0.0556531617495748, 0.12181141450944355, 0.4045573360004985, 0.9826962663534576, 0.8202709573129404, 0.8417208034375927, 0.5467192475517952, 0.8216864586827163, 0.6813204470212001, 0.8593138877910325, 0.6171585181593636, 0.43235369880681007, 0.6361971648160955, 0.18480785296623536, 0.818550100509811]), array('d', [0.6574653628519318, 0.17077549183007323, 0.7416647203238953, 0.5466810256268906, 0.4761583989893381, 0.29003618873245285, 0.6675355292858159, 0.9590914144274875, 0.49296413635715397, 0.6676996594308416, 0.39118922044203264, 0.6976527035225569, 0.10733583915206557, 0.4168964685014903, 0.42483295610671135, 0.027970658864246434, 0.4570822799215204, 0.5642090841340228, 0.011019643996194484, 0.30276156987312086, 0.6451089877666706, 0.893220973440941, 0.6198764625525428, 0.04263179680785778, 0.9070584353411709, 0.962796525204953, 0.46790710749048126, 0.7230652679380042, 0.276904039152861, 0.9817536857598612]), array('d', [0.3577476628172276, 0.8558395718114239, 0.5032056213228414, 0.3488340817581901, 0.7062246168036435, 0.3906243258196499, 0.0627657709605759, 0.6559192475035989, 0.3518670026655002, 0.7192091089721602, 0.33929107680530646, 0.7151823331316105, 0.7866968671980448, 0.27834014434338306, 0.7626075868192609, 0.3029298851153026, 0.3939287295059122, 0.9161600235054306, 0.6451340055744696, 0.37652273448225115, 0.47175231282295127, 0.6589718101946602, 0.576038954470308, 0.9274122454746083, 0.7753979985334358, 0.5254339073540718, 0.12942196948653983, 0.32407661221066186, 0.9551945968026274, 0.3480952202118428]), array('d', [0.6174750240883697, 0.40377385219611206, 0.044929132085456236, 0.8520311842328123, 0.15917967432517044, 0.09654044110522397, 0.1062204353469155, 0.934233908946233, 0.476413006511773, 0.7599092813695562, 0.9813283962886282, 0.8085554832016547, 0.7326470523745189, 0.23661718596094694, 0.8997943094429032, 0.17399795895936454, 0.8924728511578102, 0.755813874105511, 0.420056156235753, 0.06436990247612173, 0.6119036246127176, 0.1144737827585508, 0.8468018528069179, 0.07288169444746107, 0.7633519498580851, 0.6065333011097762, 0.8406793551851768, 0.9235508454894068, 0.3211592145834937, 0.6987257260792674]), array('d', [0.37762894580674644, 0.9888708638950867, 0.5737796616291122, 0.19973442849306722, 0.25249494233059144, 0.43751485406494894, 0.2860893325917164, 0.20119274215514882, 0.16208958204137536, 0.8138377407828676, 0.8086722179502562, 0.19229581271125595, 0.5821079464572895, 0.6291156631695652, 0.6686582497969725, 0.20353961015670885, 0.8100088472706272, 0.8932910114916882, 0.3595610020636444, 0.4080273700378464, 0.5465808426178332, 0.07196511582070075, 0.18530435623497665, 0.7299771156738967, 0.9109885001799726, 0.6422323772918768, 0.4961754693846173, 0.8324029088577238, 0.5703700693516115, 0.47373287007846143]), array('d', [0.3521060523128896, 0.6184788636845033, 0.558697311978203, 0.13787353636023314, 0.06715467899201855, 0.42751174886130316, 0.37611822690052465, 0.07086761719847035, 0.0781438062130837, 0.7823873573336516, 0.29822698310697826, 0.11792749538058223, 0.23057350554674116, 0.6014895851950199, 0.33091979490624723, 0.22402122483646714, 0.9406175187967455, 0.9222733291100599, 0.2513818471910536, 0.7032733139239639, 0.06795281821819044, 0.8714733359058425, 0.9681148177986517, 0.07477712284344284, 0.5753558743104219, 0.85319521663904, 0.9318090499285411, 0.5000470080393502, 0.3992196591097482, 0.05664819885746841]), array('d', [0.697517908303502, 0.11087447094002745, 0.4709787066051876, 0.917391337342068, 0.2630530718954801, 0.029978029670377992, 0.3380452425882644, 0.26088110506915485, 0.33454124546071906, 0.7647359152092931, 0.13928862813288945, 0.5470873476323662, 0.7338726694107738, 0.9241742622654494, 0.6633361273431743, 0.878270179497663, 0.23561720172729428, 0.07291190181420792, 0.9479975965906395, 0.9043238655477889, 0.7030908304080624, 0.765574222858902, 0.03536207486574028, 0.9810560425427786, 0.9499077827948345, 0.5981476287490829, 0.6124326506954698, 0.0805934882724183, 0.5514252519516012, 0.9466006765474719]), array('d', [0.2705084064850939, 0.04174097704933, 0.035600084786092556, 0.5076042654011028, 0.650336968528164, 0.4315155631124421, 0.30341835157231856, 0.8498335024449959, 0.9714656489175195, 0.021443262184012934, 0.055356547432793723, 0.7736132426695715, 0.8113631695223918, 0.5341858611117221, 0.8602944715275495, 0.6819412163167824, 0.7379235701121006, 0.5524959600133698, 0.05214041759911758, 0.7656815154643938, 0.6954405317100688, 0.42971864865226883, 0.4268335815485188, 0.1377704301147401, 0.43795285461837463, 0.8971467287514596, 0.9825345568623489, 0.36770867073378777, 0.19364562886301895, 0.43652483014813503]), array('d', [0.05792250661678766, 0.23203342476480304, 0.5886174739155892, 0.22712588617999463, 0.7474756892961938, 0.8883353382925319, 0.7931808422224043, 0.5680486116243877, 0.9909387365115218, 0.014898559996901484, 0.7198268491769015, 0.8126218919223819, 0.07661167574416539, 0.1267158943307093, 0.18059347780492885, 0.043719428137882654, 0.34966746421468264, 0.655208951908534, 0.24424434451825028, 0.2924127215870934, 0.6061238452629644, 0.4787013654230745, 0.12237635744057807, 0.07680383381529055, 0.25019885553695365, 0.543646195574559, 0.49492925185900316, 0.7352186278508963, 0.3569583140137804, 0.9151008640137326]), array('d', [0.220287289049788, 0.7131338589095988, 0.9414269876996698, 0.780208405490263, 0.29268341413863697, 0.6536438706830575, 0.5268441877736038, 0.2675352492843489, 0.6977716873691914, 0.5034454025654358, 0.0539975341158766, 0.9004253775688548, 0.7055016752374429, 0.6218717805013634, 0.27978384553228375, 0.203554935098061, 0.13713148863185454, 0.9759384059980135, 0.23053592670663592, 0.7419086586904947, 0.21076963188311493, 0.372389985061517, 0.816379709451944, 0.1419612320949708, 0.977909700834045, 0.6983419391533539, 0.6499080863907335, 0.4537629854160917, 0.11423863486416375, 0.49890749034527837]), array('d', [0.03375618361159094, 0.27796733072579016, 0.3841766588420632, 0.8271788505099451, 0.08449329480320245, 0.2790924821389782, 0.6097477256054897, 0.4953574986670052, 0.8627728103294088, 0.3846632498802225, 0.04441555011606546, 0.20573012068366237, 0.18442679688279096, 0.4310849646664555, 0.05225965127648746, 0.30514807277400857, 0.5415491667613112, 0.34780453843790204, 0.025992102250859128, 0.6087392922824477, 0.8931693608777097, 0.9226986827564058, 0.907449582685029, 0.8102436866858479, 0.5909586266915808, 0.7572522165428485, 0.34094438497562907, 0.8292394550258705, 0.43407601018057973, 0.4275491891996016]), array('d', [0.7292261341852432, 0.7354144882589632, 0.05711859321144741, 0.10921020473013932, 0.38811056280488954, 0.7212970251774243, 0.677969524915654, 0.8585140927947398, 0.9379760737326843, 0.46350253689166165, 0.5726025530637815, 0.5683030543402757, 0.5189128611989372, 0.16254886955250059, 0.3812910353193616, 0.7456338703081985, 0.9246611389385678, 0.13187271287823166, 0.01518341362997977, 0.7995889237716699, 0.9509672319471301, 0.08553686737124688, 0.24993261524542565, 0.5428045563088724, 0.3375323531857328, 0.3946012037888631, 0.6155472492744765, 0.36169486693104613, 0.6592299435325956, 0.782426287628942]), array('d', [0.8102594969538146, 0.6079991758789056, 0.12430641283761823, 0.5684410755394136, 0.3209893914759143, 0.2645175445645501, 0.17878439608073737, 0.46272426856507864, 0.43990927941255786, 0.4664395007267874, 0.9658854928517613, 0.48020790992485796, 0.8443253305301697, 0.21784249997594118, 0.058584835973160776, 0.9388342580165482, 0.27644567114892804, 0.6103285219628205, 0.31402653420935034, 0.06404348790973058, 0.17980390979354788, 0.7659768297280051, 0.27614434256807563, 0.8690553716937373, 0.12722248008414294, 0.6303381783850142, 0.14690178536801912, 0.6179493044017117, 0.04957967424893717, 0.1144465629354181]), array('d', [0.03850177812766642, 0.6844413839781223, 0.8605702775739794, 0.5798907154599907, 0.04195558692073609, 0.7173576968010695, 0.06081286781805595, 0.7145495637653108, 0.2590547500199253, 0.2574450747379524, 0.6783878195653177, 0.8574903074607798, 0.3533350418540936, 0.7183192971701403, 0.6005788388453189, 0.34972965053590743, 0.07747914274735701, 0.4438126840679538, 0.51103551743515, 0.2369787112179541, 0.3257890460667453, 0.3713593619252581, 0.8226929432229418, 0.4159696703507987, 0.6418870272224793, 0.8758531382909744, 0.14307948220293665, 0.32654054170077096, 0.7881644618532578, 0.3349857850007625]), array('d', [0.4081375516756789, 0.6519782124066025, 0.4706850345617498, 0.9735012001846957, 0.6219163688358471, 0.16031281924472685, 0.04461057700866922, 0.9303085144613925, 0.9118726595582621, 0.025535286264360635, 0.6090381459256979, 0.8080342137299907, 0.5107961424869892, 0.7808737512085095, 0.5081822707017298, 0.5814864986601489, 0.34405274644449224, 0.2148687197181559, 0.8307267694375384, 0.032599528558994284, 0.7262597616767487, 0.38108966322699056, 0.997820851573438, 0.07844497230037561, 0.07731144099403287, 0.9355178698325114, 0.22458100740166287, 0.5034958869055879, 0.5744392471784678, 0.5482330302443448]), array('d', [0.41808011784380206, 0.7330456608626422, 0.8475950798279017, 0.5277563989028747, 0.05143150394485896, 0.4723291595220398, 0.5244480708266496, 0.44101741401060934, 0.2691827207432954, 0.836008940452663, 0.29306530886195237, 0.2440289953998066, 0.24307334273312942, 0.7676434142699446, 0.36196495764621117, 0.45582117374849596, 0.7481882793634895, 0.1154169193884218, 0.24104647669946755, 0.7327983301699798, 0.8802267790580228, 0.36188115983970515, 0.3519846093688691, 0.5056434428426904, 0.9146355119518711, 0.6533299273562022, 0.605218583571537, 0.448968021469594, 0.41885022990229204, 0.5693422543095134]), array('d', [0.8267839177455378, 0.12528125886408192, 0.5376158970962757, 0.7764482714926133, 0.40761743988175037, 0.5847553362392086, 0.13814015392620604, 0.2602789535809751, 0.28688518957474674, 0.31384433893832575, 0.08150595730917742, 0.4210225902872229, 0.9832477506130827, 0.5760117508038896, 0.6326297661769482, 0.772644975767316, 0.8998724682622827, 0.8764056969737197, 0.015512251606367045, 0.12078884555865521, 0.2633761224561151, 0.554578778977557, 0.9301251655061562, 0.7428539924397719, 0.12639795146479305, 0.03407566870643608, 0.4314198644752164, 0.6900465649883123, 0.9899334838465952, 0.13237775500787108]), array('d', [0.866879988680107, 0.9186230032750526, 0.9042603926536342, 0.3543677712042107, 0.40231750679708045, 0.5569407808887579, 0.7119835115476838, 0.11902964366084545, 0.8974263207965759, 0.8983538920927083, 0.5914780021366286, 0.6166295938772841, 0.9941341036720542, 0.04523769821042223, 0.7387484231645145, 0.35495763234733824, 0.44889534198250036, 0.4088747250350713, 0.44975371465606595, 0.8348046722687046, 0.28929114161178515, 0.4771060474225408, 0.13460553983929102, 0.18345077875038573, 0.765955713313506, 0.916341847331122, 0.9366214462323038, 0.08378949129772473, 0.8955991715772729, 0.5935532867390534]), array('d', [0.3698739087127677, 0.649404760103875, 0.3793745809826021, 0.4385870410257746, 0.5086671912858872, 0.5880808776564864, 0.9447680992857093, 0.096898602189597, 0.2973485327757408, 0.34111721104598003, 0.5641313382810178, 0.8973016256480935, 0.5798282065110496, 0.8440654272440341, 0.4266895300541609, 0.3228000729089062, 0.3185783010520057, 0.17841581220562508, 0.1431965607548834, 0.8139871801812399, 0.7346257484136831, 0.98920537330944, 0.21068068914516003, 0.5191349705923812, 0.575137822922943, 0.6154774972376778, 0.0994665350567222, 0.28479095671767396, 0.11855107760312522, 0.2738485000031867]), array('d', [0.43891674446786455, 0.8853491631844697, 0.288478821063078, 0.9176930655496494, 0.9888055742246671, 0.7534688048520642, 0.9245158525681092, 0.6664336120980137, 0.14100312513095148, 0.20684311205270467, 0.838789995824532, 0.7548647386495204, 0.027350124704774714, 0.902541302440651, 0.9598567030626866, 0.5398297498964959, 0.7989920019740809, 0.006665106776102547, 0.8325044946551189, 0.025777305435691455, 0.2031409388917499, 0.9418059583595377, 0.5711651625223648, 0.7320894185068061, 0.5208938950760565, 0.8310378153163893, 0.2949415811746954, 0.109614876778803, 0.7063221999942039, 0.8447441244120939]), array('d', [0.44440506315886785, 0.4322659484539594, 0.2630565321956859, 0.8645027513564976, 0.9930772504095225, 0.7316337426656154, 0.1164626402291623, 0.3537211627039394, 0.0790670793077165, 0.793320255148722, 0.7273615902241344, 0.3271157157177268, 0.5070601726721016, 0.276108029883087, 0.6306239421332012, 0.5128441130524983, 0.7770455708659328, 0.706809801518452, 0.3148099250515737, 0.9247299808141354, 0.4333776243063717, 0.9323680006347871, 0.7941973993278801, 0.3175271987199684, 0.8414310407502225, 0.6611304271044957, 0.8775735320603907, 0.035636186221111865, 0.6344971554524083, 0.007970588251305588]), array('d', [0.1368746726687503, 0.3762090569147081, 0.9431623683885451, 0.6733476310646407, 0.2652860467889563, 0.15143310639640062, 0.813868851863629, 0.7335606850439786, 0.28259967365705907, 0.19857296820560633, 0.8758639476352311, 0.9508327582203315, 0.8571567961818247, 0.7494459764226457, 0.0031977104717402227, 0.06726126738407567, 0.5577371613026946, 0.20854697160415725, 0.1781150254518742, 0.41815934842811264, 0.26307381401492813, 0.38029022984971383, 0.5838989558422251, 0.6377146270029528, 0.4842330629412914, 0.6569409665043295, 0.1800643345556382, 0.3001005712203074, 0.23189333733200335, 0.29211591681820004]), array('d', [0.48505995042787464, 0.7967461767049692, 0.3922100558716215, 0.35712787168780946, 0.48095905255837157, 0.09653323306836581, 0.11236742111235065, 0.8808951891721665, 0.7549611014421032, 0.2872713537483962, 0.9693621430335411, 0.325397046263488, 0.6624181898300743, 0.11581917983438395, 0.46473593232270716, 0.3189059545145396, 0.11353629341407545, 0.6969685807681777, 0.7048188010458488, 0.7736817813081401, 0.4837387341269912, 0.8047213097215385, 0.48917437792613194, 0.41200291877405293, 0.23486004046322806, 0.290930235891967, 0.5074874029688996, 0.8898106131776299, 0.782827894456728, 0.06080326111806411]), array('d', [0.7717986577987076, 0.26160525288424674, 0.3176183582188865, 0.39137839383654693, 0.4419515462607091, 0.398679511701311, 0.9123687301176292, 0.26831723366309246, 0.72818684741071, 0.3398415568192764, 0.8185245845141152, 0.3085106495591725, 0.40981154308699097, 0.5725056966813056, 0.16653514307747108, 0.20620082154536246, 0.6252865054481894, 0.9478777942676524, 0.6133039713706925, 0.3296841765136669, 0.6049612055701562, 0.01991991661696546, 0.7222287209415263, 0.8024128778218338, 0.0902527107330674, 0.7047305206454402, 0.9122285645656334, 0.766842050597168, 0.5528941904266534, 0.6549315828771531]), array('d', [0.5186489985172703, 0.36209775161350266, 0.19843981404019362, 0.15699291108659685, 0.535698811676549, 0.8597228357033468, 0.2293344683214089, 0.8012853947386456, 0.9106537802061434, 0.33150211284604125, 0.2156150978278455, 0.7333343494586925, 0.9400137961927122, 0.036074972491576984, 0.020028373264683763, 0.9403551930677546, 0.102520730357612, 0.39793740802514144, 0.48489994587216645, 0.15694550635732496, 0.30146643537465, 0.2300052391853593, 0.7724116346841308, 0.24730873878134796, 0.272458245977129, 0.12364283064749715, 0.7840536115903909, 0.6552759587820689, 0.1311931894592634, 0.7405257364855828]), array('d', [0.26999866114544635, 0.08491662946736123, 0.0738902427592103, 0.7221128694973084, 0.7623859922039421, 0.41538002357001735, 0.014741783906906614, 0.8302515189476158, 0.6048718610329521, 0.15184755694535867, 0.7358733980968281, 0.7926200061375193, 0.1942840802034118, 0.6056915809162189, 0.31218970406630453, 0.32372673172617483, 0.5123556311688077, 0.023431951568677833, 0.27404973997850446, 0.20266669317840946, 0.2642699552272437, 0.6560507087126461, 0.4714003531380051, 0.29123865387987025, 0.09306239502320401, 0.9668863296980463, 0.5609962588441215, 0.4833495191069169, 0.9076657571113069, 0.5332039036347977]), array('d', [0.24461403774029267, 0.017212532409682457, 0.49703489040998705, 0.39364518189025954, 0.3727376666866271, 0.5465814151956047, 0.10830429533325392, 0.22406086011141146, 0.9751905949778249, 0.3973486182928516, 0.23211554770980236, 0.3698216265202039, 0.5631532677184674, 0.6428185650006668, 0.33243547487088476, 0.8096807869517343, 0.9758174276622723, 0.09538903505269747, 0.16925571268559847, 0.8648277144290005, 0.4898114621148223, 0.249969058363801, 0.14133056553598544, 0.6164884704207658, 0.4735146576419894, 0.7230324137184769, 0.5666392055197179, 0.2324297581533562, 0.7674084789560567, 0.2520238489796115]), array('d', [0.31145495728039085, 0.33786848064007924, 0.15061197457097253, 0.3214429817274034, 0.5653123602176464, 0.4065342833953195, 0.005571769685632666, 0.6903973386378897, 0.7550379303277246, 0.7946957907730854, 0.5455887354896625, 0.3130161759218222, 0.6520086246411453, 0.3218379576606454, 0.7088681718930329, 0.5144311156482043, 0.8586529101407899, 0.9927553589125672, 0.08143430889569514, 0.10504387636260704, 0.6992555638961825, 0.37568605040969305, 0.756886705857698, 0.16209311425640438, 0.7481487625947422, 0.1661969736022324, 0.4376012598704484, 0.9719162740831419, 0.039061947803965436, 0.4241822249828616]), array('d', [0.17072208692256285, 0.8031536305292628, 0.48719337686796027, 0.7489934330747652, 0.5470850498836289, 0.39940565831406805, 0.29675102321493085, 0.43547940251040684, 0.29422365665393313, 0.9219702175276442, 0.6766831597023281, 0.5224801027952591, 0.61510048724372, 0.3716318127796827, 0.6502207157458787, 0.14151759661880714, 0.5232512405889025, 0.2044618413061926, 0.6139998208880079, 0.7144748000148929, 0.5193797842004729, 0.25123936289630855, 0.4628801659540618, 0.9362024987502184, 0.927079593738647, 0.7201302572800705, 0.8523961747276906, 0.1353392464238271, 0.5243784540525185, 0.8294080158611418]), array('d', [0.009821186346471444, 0.41630294307489524, 0.15034907661746022, 0.0670480131604545, 0.9769761339247407, 0.3118405096342014, 0.1876744270270141, 0.6940451718408454, 0.537731494446051, 0.3310351304316116, 0.06110778916606874, 0.4686941027228121, 0.15645302136817574, 0.3504527929152811, 0.5591560891519723, 0.22602951038597108, 0.6288217530707231, 0.9278794988441517, 0.27458061489602603, 0.8207544305288099, 0.8680931584996405, 0.5844683850506179, 0.305750320607981, 0.6245009360238077, 0.4032683591120535, 0.254749384232702, 0.5410169932365368, 0.6593675703003117, 0.07747612590073882, 0.15242180304956643]), array('d', [0.730658078316163, 0.2799855334932003, 0.262937617031185, 0.10232212488877834, 0.7968844810300901, 0.5873170617582658, 0.7660543425600715, 0.3301601899836637, 0.7719786826774494, 0.592169974779898, 0.27723750447227713, 0.8072995821927899, 0.871336583911532, 0.6684969135316442, 0.47340683794995175, 0.16809938850008532, 0.783364916084938, 0.9890872256192822, 0.09133826888760255, 0.8033538283029473, 0.14649165528515973, 0.16481838729578246, 0.874614089729241, 0.3233378758861677, 0.8959533420938407, 0.052189187235943346, 0.5117052630129038, 0.43968902100179885, 0.6648422291255673, 0.3270893641006821]), array('d', [0.5003751051426487, 0.1172964963374502, 0.5601451351735491, 0.3773095516407461, 0.3855298586655005, 0.4744780015572282, 0.3117618325252043, 0.52198570457825, 0.5306855073437069, 0.8832856089277639, 0.8421912209235084, 0.9553601232626758, 0.9454899328482886, 0.8336049339006599, 0.7113476778781711, 0.8398761036786678, 0.560485865486017, 0.49009350460097, 0.7889650557230341, 0.6853675851243719, 0.5579050846380154, 0.4354133729047486, 0.3481804890782565, 0.025295554594236824, 0.3656871755076372, 0.4660758806075511, 0.6700390975623693, 0.7284915031796539, 0.21377996069918714, 0.5597940227113278]), array('d', [0.9979001128718717, 0.9394071488900781, 0.3824574155673821, 0.17900560001427257, 0.7476284950631739, 0.010672421722382919, 0.4420805674865199, 0.5260025947905228, 0.005614538387867851, 0.310390698376682, 0.09410848402262295, 0.368867426483386, 0.25376032667453097, 0.9215639532580562, 0.6067744141297625, 0.03352819120301387, 0.2749514180546556, 0.47873486875216664, 0.04391738769216713, 0.6954990752359068, 0.2530379539294081, 0.625270411798559, 0.9711406944109567, 0.8233257087351865, 0.8631853216739707, 0.9275748392254806, 0.9972315773930122, 0.6322400827294641, 0.4903004852963311, 0.47344841621768463]), array('d', [0.8749368313517308, 0.7505863498567591, 0.8074306853405183, 0.0381935936922867, 0.028836970127526507, 0.8942651354768161, 0.15319175053864398, 0.7361961690851127, 0.8709132213215761, 0.1316482058377908, 0.41957258309471923, 0.8458031350331512, 0.05604799422158302, 0.637478155721656, 0.06232547249076181, 0.09747546060301582, 0.5440834855845433, 0.9834034282906046, 0.19418237846423103, 0.6140037904490055, 0.016674454008526962, 0.8372735282182017, 0.8482300259148067, 0.3164802856574689, 0.7093089533538635, 0.9057247488667836, 0.5868474894921148, 0.9443009746540827, 0.5163404495579839, 0.9405451615489672]), array('d', [0.4031730846790874, 0.8377166738191429, 0.6696411748340979, 0.06495490068897547, 0.825047543356516, 0.5015256937407996, 0.7289570664363796, 0.08396870026428416, 0.4433988708593579, 0.2755254552403764, 0.19868340111312788, 0.5054658309314513, 0.17296821352317704, 0.7468284282246531, 0.8378596972010279, 0.003224382632706413, 0.27376313925206197, 0.3506847777792407, 0.3414524902869185, 0.5681732657261611, 0.6962921849347296, 0.5661892885735098, 0.4630053720486309, 0.11626169024416122, 0.09056171910838007, 0.7295503771783236, 0.185658889394263, 0.5911485301451752, 0.9657655955859077, 0.7667225686411249]), array('d', [0.7887366787376903, 0.2175258520092488, 0.3745295588698171, 0.08127493319808232, 0.7242767657580772, 0.24673211803870132, 0.837308322495897, 0.6423173915047751, 0.9014791985197805, 0.19108605941689327, 0.7558325435080414, 0.13273481510942475, 0.053335304404127926, 0.7059139630725723, 0.17800403594198366, 0.1404260737079378, 0.3155409799067882, 0.22596038010176467, 0.18824529106020493, 0.8835685789527344, 0.17711208745299434, 0.2949323449980772, 0.6975581604212397, 0.2645451433391277, 0.48988566067183836, 0.5786961642176895, 0.34885919669546583, 0.6418259108293259, 0.4496731447391217, 0.6310264072346677]), array('d', [0.8317304415291148, 0.03673109374690886, 0.8347241922112031, 0.3856806915678398, 0.5379487839990206, 0.2106627970468672, 0.7021874668736263, 0.34692153070873, 0.8109083226473461, 0.7962714008144215, 0.20744695769385368, 0.6996538264191929, 0.5037652518720269, 0.8298576827580614, 0.7942950298558928, 0.09075750047916509, 0.7734089956486373, 0.2582138495017209, 0.4676881973508441, 0.031448050751681444, 0.1152981856244043, 0.6583321812086825, 0.18642551060922308, 0.1398152818325673, 0.5868207612856549, 0.37228274765438896, 0.3779101569824278, 0.5883907817399121, 0.03384978564360763, 0.7012882836506736]), array('d', [0.629472079566748, 0.8693291015999322, 0.00789830206893749, 0.4214077627323264, 0.3347124780466544, 0.6478813134355833, 0.10020768781834477, 0.9131488230675796, 0.3062756297196868, 0.4668412323801078, 0.1861607264879731, 0.02174996911740823, 0.8092213318989598, 0.45644567604046127, 0.5759652010686579, 0.4349684769731377, 0.3993334805486505, 0.8340964111953133, 0.25257476958164904, 0.3732147783111178, 0.33787826063154325, 0.6785558417525374, 0.30017329782343627, 0.9707656720950419, 0.8774327131681371, 0.7631729910876932, 0.9008655244625092, 0.5069607578803249, 0.42098598499517303, 0.7740724479359461]), array('d', [0.9539819402805566, 0.4007501273831431, 0.028555170923664885, 0.5122043502806479, 0.92235359773474, 0.8865952461723323, 0.9652356110336743, 0.9428463319248367, 0.19846214317898359, 0.9724277523755153, 0.7518500919606477, 0.12989082681690467, 0.33314711443014, 0.9599132988885052, 0.970325127917518, 0.3092735394303756, 0.7658231119920383, 0.8014896239794973, 0.4587135195433636, 0.16534208104452286, 0.0008432094649121202, 0.14749100953643413, 0.8829547403161856, 0.30128233363871837, 0.08037527043069637, 0.2361835826766654, 0.20332198170236404, 0.09016689452629079, 0.24473252262277845, 0.6847135764013843]), array('d', [0.8456683961719909, 0.37425781045067885, 0.47734408944345863, 0.3447118632488956, 0.4708006944494625, 0.6867864384803719, 0.6987797484732559, 0.9128330459617521, 0.6684368504307536, 0.8313469921312032, 0.7062241006101817, 0.7630561733018587, 0.09582486292402381, 0.12850239365068594, 0.7630442972128272, 0.13352626860054995, 0.7732604393892871, 0.8980212903260781, 0.8197910761442005, 0.7303721075704976, 0.42459243980749595, 0.3938503603198764, 0.07165679594030361, 0.4883093287786593, 0.7404291180538063, 0.5864289553977271, 0.22169404391637537, 0.6085223345321419, 0.7678439262148558, 0.36913256617099366])]\n",
      "Freedom!\n"
     ]
    },
    {
     "ename": "AttributeError",
     "evalue": "'Individual' object has no attribute 'fitnesseses'",
     "output_type": "error",
     "traceback": [
      "\u001b[0;31m---------------------------------------------------------------------------\u001b[0m",
      "\u001b[0;31mAttributeError\u001b[0m                            Traceback (most recent call last)",
      "\u001b[0;32m<ipython-input-29-b621305f30f0>\u001b[0m in \u001b[0;36m<module>\u001b[0;34m()\u001b[0m\n\u001b[1;32m     10\u001b[0m \u001b[0mfitnesseses\u001b[0m \u001b[0;34m=\u001b[0m \u001b[0mmap\u001b[0m\u001b[0;34m(\u001b[0m\u001b[0mtoolbox\u001b[0m\u001b[0;34m.\u001b[0m\u001b[0mevaluate\u001b[0m\u001b[0;34m,\u001b[0m \u001b[0mpop\u001b[0m\u001b[0;34m)\u001b[0m\u001b[0;34m\u001b[0m\u001b[0m\n\u001b[1;32m     11\u001b[0m \u001b[0;32mfor\u001b[0m \u001b[0mind\u001b[0m\u001b[0;34m,\u001b[0m \u001b[0mfit\u001b[0m \u001b[0;32min\u001b[0m \u001b[0mzip\u001b[0m\u001b[0;34m(\u001b[0m\u001b[0mpop\u001b[0m\u001b[0;34m,\u001b[0m \u001b[0mfitnesseses\u001b[0m\u001b[0;34m)\u001b[0m\u001b[0;34m:\u001b[0m\u001b[0;34m\u001b[0m\u001b[0m\n\u001b[0;32m---> 12\u001b[0;31m     \u001b[0mind\u001b[0m\u001b[0;34m.\u001b[0m\u001b[0mfitnesseses\u001b[0m\u001b[0;34m.\u001b[0m\u001b[0mvalues\u001b[0m \u001b[0;34m=\u001b[0m \u001b[0mfit\u001b[0m\u001b[0;34m\u001b[0m\u001b[0m\n\u001b[0m\u001b[1;32m     13\u001b[0m \u001b[0;34m\u001b[0m\u001b[0m\n\u001b[1;32m     14\u001b[0m \u001b[0mpop\u001b[0m \u001b[0;34m=\u001b[0m \u001b[0mtoolbox\u001b[0m\u001b[0;34m.\u001b[0m\u001b[0mselect\u001b[0m\u001b[0;34m(\u001b[0m\u001b[0mpop\u001b[0m\u001b[0;34m,\u001b[0m \u001b[0mlen\u001b[0m\u001b[0;34m(\u001b[0m\u001b[0mpop\u001b[0m\u001b[0;34m)\u001b[0m\u001b[0;34m)\u001b[0m\u001b[0;34m\u001b[0m\u001b[0m\n",
      "\u001b[0;31mAttributeError\u001b[0m: 'Individual' object has no attribute 'fitnesseses'"
     ]
    }
   ],
   "source": [
    "from deap import algorithms\n",
    "from deap import base\n",
    "from deap import creator\n",
    "from deap import tools\n",
    "from deap import gp\n",
    "\n",
    "pop = toolbox.population(toolbox.pop_size)\n",
    "print pop\n",
    "print \"Freedom!\"\n",
    "#fitnesses = map(toolbox.evaluate, pop)\n",
    "for ind, fit in zip(pop, fitnesses):\n",
    "    ind.fitness.values = fit\n",
    "\n",
    "pop = toolbox.select(pop, len(pop))\n",
    "print pop"
   ]
  },
  {
   "cell_type": "markdown",
   "metadata": {
    "internals": {
     "frag_helper": "fragment_end",
     "frag_number": 11,
     "slide_type": "subslide"
    },
    "slideshow": {
     "slide_type": "slide"
    }
   },
   "source": [
    "## Running the algorithm"
   ]
  },
  {
   "cell_type": "markdown",
   "metadata": {
    "internals": {
     "frag_helper": "fragment_end",
     "frag_number": 11
    },
    "slideshow": {
     "slide_type": "-"
    }
   },
   "source": [
    "We are now ready to run our NSGA-II."
   ]
  },
  {
   "cell_type": "code",
   "execution_count": 28,
   "metadata": {
    "internals": {
     "frag_helper": "fragment_end",
     "frag_number": 11
    },
    "slideshow": {
     "slide_type": "-"
    }
   },
   "outputs": [
    {
     "name": "stdout",
     "output_type": "stream",
     "text": [
      "CPU times: user 12.6 s, sys: 24 ms, total: 12.6 s\n",
      "Wall time: 12.5 s\n"
     ]
    }
   ],
   "source": [
    "%time res,_ = run_ea(toolbox)"
   ]
  },
  {
   "cell_type": "code",
   "execution_count": 71,
   "metadata": {
    "collapsed": true
   },
   "outputs": [],
   "source": [
    "def nsga_ii(toolbox, stats=None, verbose=False):\n",
    "    pop = toolbox.population(n=toolbox.pop_size)\n",
    "    pop = toolbox.select(pop, len(pop))\n",
    "    return algorithms.eaMuPlusLambda(pop, toolbox, mu=toolbox.pop_size, lambda_=toolbox.pop_size, cxpb=0.5, mutpb=0.5, stats=stats, ngen=10000, verbose=verbose)"
   ]
  },
  {
   "cell_type": "code",
   "execution_count": 72,
   "metadata": {},
   "outputs": [
    {
     "ename": "TypeError",
     "evalue": "unsupported operand type(s) for /: 'NoneType' and 'float'",
     "output_type": "error",
     "traceback": [
      "\u001b[0;31m---------------------------------------------------------------------------\u001b[0m",
      "\u001b[0;31mTypeError\u001b[0m                                 Traceback (most recent call last)",
      "\u001b[0;32m<ipython-input-72-b89ef42babd0>\u001b[0m in \u001b[0;36m<module>\u001b[0;34m()\u001b[0m\n\u001b[0;32m----> 1\u001b[0;31m \u001b[0mnsga_ii\u001b[0m\u001b[0;34m(\u001b[0m\u001b[0mtoolbox\u001b[0m\u001b[0;34m)\u001b[0m\u001b[0;34m\u001b[0m\u001b[0m\n\u001b[0m",
      "\u001b[0;32m<ipython-input-71-501472200da4>\u001b[0m in \u001b[0;36mnsga_ii\u001b[0;34m(toolbox, stats, verbose)\u001b[0m\n\u001b[1;32m      1\u001b[0m \u001b[0;32mdef\u001b[0m \u001b[0mnsga_ii\u001b[0m\u001b[0;34m(\u001b[0m\u001b[0mtoolbox\u001b[0m\u001b[0;34m,\u001b[0m \u001b[0mstats\u001b[0m\u001b[0;34m=\u001b[0m\u001b[0mNone\u001b[0m\u001b[0;34m,\u001b[0m \u001b[0mverbose\u001b[0m\u001b[0;34m=\u001b[0m\u001b[0mFalse\u001b[0m\u001b[0;34m)\u001b[0m\u001b[0;34m:\u001b[0m\u001b[0;34m\u001b[0m\u001b[0m\n\u001b[1;32m      2\u001b[0m     \u001b[0mpop\u001b[0m \u001b[0;34m=\u001b[0m \u001b[0mtoolbox\u001b[0m\u001b[0;34m.\u001b[0m\u001b[0mpopulation\u001b[0m\u001b[0;34m(\u001b[0m\u001b[0mn\u001b[0m\u001b[0;34m=\u001b[0m\u001b[0mtoolbox\u001b[0m\u001b[0;34m.\u001b[0m\u001b[0mpop_size\u001b[0m\u001b[0;34m)\u001b[0m\u001b[0;34m\u001b[0m\u001b[0m\n\u001b[0;32m----> 3\u001b[0;31m     \u001b[0mpop\u001b[0m \u001b[0;34m=\u001b[0m \u001b[0mtoolbox\u001b[0m\u001b[0;34m.\u001b[0m\u001b[0mselect\u001b[0m\u001b[0;34m(\u001b[0m\u001b[0mpop\u001b[0m\u001b[0;34m,\u001b[0m \u001b[0mlen\u001b[0m\u001b[0;34m(\u001b[0m\u001b[0mpop\u001b[0m\u001b[0;34m)\u001b[0m\u001b[0;34m)\u001b[0m\u001b[0;34m\u001b[0m\u001b[0m\n\u001b[0m\u001b[1;32m      4\u001b[0m     \u001b[0;32mreturn\u001b[0m \u001b[0malgorithms\u001b[0m\u001b[0;34m.\u001b[0m\u001b[0meaMuPlusLambda\u001b[0m\u001b[0;34m(\u001b[0m\u001b[0mpop\u001b[0m\u001b[0;34m,\u001b[0m \u001b[0mtoolbox\u001b[0m\u001b[0;34m,\u001b[0m \u001b[0mmu\u001b[0m\u001b[0;34m=\u001b[0m\u001b[0mtoolbox\u001b[0m\u001b[0;34m.\u001b[0m\u001b[0mpop_size\u001b[0m\u001b[0;34m,\u001b[0m \u001b[0mlambda_\u001b[0m\u001b[0;34m=\u001b[0m\u001b[0mtoolbox\u001b[0m\u001b[0;34m.\u001b[0m\u001b[0mpop_size\u001b[0m\u001b[0;34m,\u001b[0m \u001b[0mcxpb\u001b[0m\u001b[0;34m=\u001b[0m\u001b[0;36m0.5\u001b[0m\u001b[0;34m,\u001b[0m \u001b[0mmutpb\u001b[0m\u001b[0;34m=\u001b[0m\u001b[0;36m0.5\u001b[0m\u001b[0;34m,\u001b[0m \u001b[0mstats\u001b[0m\u001b[0;34m=\u001b[0m\u001b[0mstats\u001b[0m\u001b[0;34m,\u001b[0m \u001b[0mngen\u001b[0m\u001b[0;34m=\u001b[0m\u001b[0;36m10000\u001b[0m\u001b[0;34m,\u001b[0m \u001b[0mverbose\u001b[0m\u001b[0;34m=\u001b[0m\u001b[0mverbose\u001b[0m\u001b[0;34m)\u001b[0m\u001b[0;34m\u001b[0m\u001b[0m\n",
      "\u001b[0;32m/usr/local/lib/python2.7/dist-packages/deap-1.1.0-py2.7-linux-x86_64.egg/deap/tools/emo.pyc\u001b[0m in \u001b[0;36mselNSGA2\u001b[0;34m(individuals, k, nd)\u001b[0m\n\u001b[1;32m     39\u001b[0m \u001b[0;34m\u001b[0m\u001b[0m\n\u001b[1;32m     40\u001b[0m     \u001b[0;32mfor\u001b[0m \u001b[0mfront\u001b[0m \u001b[0;32min\u001b[0m \u001b[0mpareto_fronts\u001b[0m\u001b[0;34m:\u001b[0m\u001b[0;34m\u001b[0m\u001b[0m\n\u001b[0;32m---> 41\u001b[0;31m         \u001b[0massignCrowdingDist\u001b[0m\u001b[0;34m(\u001b[0m\u001b[0mfront\u001b[0m\u001b[0;34m)\u001b[0m\u001b[0;34m\u001b[0m\u001b[0m\n\u001b[0m\u001b[1;32m     42\u001b[0m \u001b[0;34m\u001b[0m\u001b[0m\n\u001b[1;32m     43\u001b[0m     \u001b[0mchosen\u001b[0m \u001b[0;34m=\u001b[0m \u001b[0mlist\u001b[0m\u001b[0;34m(\u001b[0m\u001b[0mchain\u001b[0m\u001b[0;34m(\u001b[0m\u001b[0;34m*\u001b[0m\u001b[0mpareto_fronts\u001b[0m\u001b[0;34m[\u001b[0m\u001b[0;34m:\u001b[0m\u001b[0;34m-\u001b[0m\u001b[0;36m1\u001b[0m\u001b[0;34m]\u001b[0m\u001b[0;34m)\u001b[0m\u001b[0;34m)\u001b[0m\u001b[0;34m\u001b[0m\u001b[0m\n",
      "\u001b[0;32m/usr/local/lib/python2.7/dist-packages/deap-1.1.0-py2.7-linux-x86_64.egg/deap/tools/emo.pyc\u001b[0m in \u001b[0;36massignCrowdingDist\u001b[0;34m(individuals)\u001b[0m\n\u001b[1;32m    124\u001b[0m \u001b[0;34m\u001b[0m\u001b[0m\n\u001b[1;32m    125\u001b[0m     \u001b[0mdistances\u001b[0m \u001b[0;34m=\u001b[0m \u001b[0;34m[\u001b[0m\u001b[0;36m0.0\u001b[0m\u001b[0;34m]\u001b[0m \u001b[0;34m*\u001b[0m \u001b[0mlen\u001b[0m\u001b[0;34m(\u001b[0m\u001b[0mindividuals\u001b[0m\u001b[0;34m)\u001b[0m\u001b[0;34m\u001b[0m\u001b[0m\n\u001b[0;32m--> 126\u001b[0;31m     \u001b[0mcrowd\u001b[0m \u001b[0;34m=\u001b[0m \u001b[0;34m[\u001b[0m\u001b[0;34m(\u001b[0m\u001b[0mind\u001b[0m\u001b[0;34m.\u001b[0m\u001b[0mfitness\u001b[0m\u001b[0;34m.\u001b[0m\u001b[0mvalues\u001b[0m\u001b[0;34m,\u001b[0m \u001b[0mi\u001b[0m\u001b[0;34m)\u001b[0m \u001b[0;32mfor\u001b[0m \u001b[0mi\u001b[0m\u001b[0;34m,\u001b[0m \u001b[0mind\u001b[0m \u001b[0;32min\u001b[0m \u001b[0menumerate\u001b[0m\u001b[0;34m(\u001b[0m\u001b[0mindividuals\u001b[0m\u001b[0;34m)\u001b[0m\u001b[0;34m]\u001b[0m\u001b[0;34m\u001b[0m\u001b[0m\n\u001b[0m\u001b[1;32m    127\u001b[0m \u001b[0;34m\u001b[0m\u001b[0m\n\u001b[1;32m    128\u001b[0m     \u001b[0mnobj\u001b[0m \u001b[0;34m=\u001b[0m \u001b[0mlen\u001b[0m\u001b[0;34m(\u001b[0m\u001b[0mindividuals\u001b[0m\u001b[0;34m[\u001b[0m\u001b[0;36m0\u001b[0m\u001b[0;34m]\u001b[0m\u001b[0;34m.\u001b[0m\u001b[0mfitness\u001b[0m\u001b[0;34m.\u001b[0m\u001b[0mvalues\u001b[0m\u001b[0;34m)\u001b[0m\u001b[0;34m\u001b[0m\u001b[0m\n",
      "\u001b[0;32m/usr/local/lib/python2.7/dist-packages/deap-1.1.0-py2.7-linux-x86_64.egg/deap/base.pyc\u001b[0m in \u001b[0;36mgetValues\u001b[0;34m(self)\u001b[0m\n\u001b[1;32m    179\u001b[0m \u001b[0;34m\u001b[0m\u001b[0m\n\u001b[1;32m    180\u001b[0m     \u001b[0;32mdef\u001b[0m \u001b[0mgetValues\u001b[0m\u001b[0;34m(\u001b[0m\u001b[0mself\u001b[0m\u001b[0;34m)\u001b[0m\u001b[0;34m:\u001b[0m\u001b[0;34m\u001b[0m\u001b[0m\n\u001b[0;32m--> 181\u001b[0;31m         \u001b[0;32mreturn\u001b[0m \u001b[0mtuple\u001b[0m\u001b[0;34m(\u001b[0m\u001b[0mmap\u001b[0m\u001b[0;34m(\u001b[0m\u001b[0mtruediv\u001b[0m\u001b[0;34m,\u001b[0m \u001b[0mself\u001b[0m\u001b[0;34m.\u001b[0m\u001b[0mwvalues\u001b[0m\u001b[0;34m,\u001b[0m \u001b[0mself\u001b[0m\u001b[0;34m.\u001b[0m\u001b[0mweights\u001b[0m\u001b[0;34m)\u001b[0m\u001b[0;34m)\u001b[0m\u001b[0;34m\u001b[0m\u001b[0m\n\u001b[0m\u001b[1;32m    182\u001b[0m \u001b[0;34m\u001b[0m\u001b[0m\n\u001b[1;32m    183\u001b[0m     \u001b[0;32mdef\u001b[0m \u001b[0msetValues\u001b[0m\u001b[0;34m(\u001b[0m\u001b[0mself\u001b[0m\u001b[0;34m,\u001b[0m \u001b[0mvalues\u001b[0m\u001b[0;34m)\u001b[0m\u001b[0;34m:\u001b[0m\u001b[0;34m\u001b[0m\u001b[0m\n",
      "\u001b[0;31mTypeError\u001b[0m: unsupported operand type(s) for /: 'NoneType' and 'float'"
     ]
    }
   ],
   "source": [
    "nsga_ii(toolbox)"
   ]
  },
  {
   "cell_type": "markdown",
   "metadata": {
    "internals": {
     "frag_helper": "fragment_end",
     "frag_number": 11
    },
    "slideshow": {
     "slide_type": "-"
    }
   },
   "source": [
    "We can now get the Pareto fronts in the results (`res`)."
   ]
  },
  {
   "cell_type": "code",
   "execution_count": 73,
   "metadata": {
    "internals": {
     "frag_helper": "fragment_end",
     "frag_number": 11,
     "slide_helper": "subslide_end"
    },
    "slide_helper": "slide_end",
    "slideshow": {
     "slide_type": "-"
    }
   },
   "outputs": [
    {
     "ename": "NameError",
     "evalue": "name 'res' is not defined",
     "output_type": "error",
     "traceback": [
      "\u001b[0;31m---------------------------------------------------------------------------\u001b[0m",
      "\u001b[0;31mNameError\u001b[0m                                 Traceback (most recent call last)",
      "\u001b[0;32m<ipython-input-73-ce54acf04deb>\u001b[0m in \u001b[0;36m<module>\u001b[0;34m()\u001b[0m\n\u001b[0;32m----> 1\u001b[0;31m \u001b[0mfronts\u001b[0m \u001b[0;34m=\u001b[0m \u001b[0mtools\u001b[0m\u001b[0;34m.\u001b[0m\u001b[0memo\u001b[0m\u001b[0;34m.\u001b[0m\u001b[0msortLogNondominated\u001b[0m\u001b[0;34m(\u001b[0m\u001b[0mres\u001b[0m\u001b[0;34m,\u001b[0m \u001b[0mlen\u001b[0m\u001b[0;34m(\u001b[0m\u001b[0mres\u001b[0m\u001b[0;34m)\u001b[0m\u001b[0;34m)\u001b[0m\u001b[0;34m\u001b[0m\u001b[0m\n\u001b[0m",
      "\u001b[0;31mNameError\u001b[0m: name 'res' is not defined"
     ]
    }
   ],
   "source": [
    "fronts = tools.emo.sortLogNondominated(res, len(res))"
   ]
  },
  {
   "cell_type": "markdown",
   "metadata": {
    "internals": {
     "frag_helper": "fragment_end",
     "frag_number": 11,
     "slide_type": "subslide"
    },
    "slideshow": {
     "slide_type": "slide"
    }
   },
   "source": [
    "## Resulting Pareto fronts"
   ]
  },
  {
   "cell_type": "code",
   "execution_count": 57,
   "metadata": {
    "internals": {
     "frag_helper": "fragment_end",
     "frag_number": 11
    },
    "slideshow": {
     "slide_type": "-"
    }
   },
   "outputs": [
    {
     "data": {
      "image/png": "[encoded data removed]",
      "text/plain": [
       "<matplotlib.figure.Figure at 0x7f125b2f9610>"
      ]
     },
     "metadata": {},
     "output_type": "display_data"
    }
   ],
   "source": [
    "plot_colors = seaborn.color_palette(\"Set1\", n_colors=10)\n",
    "fig, ax = plt.subplots(1, figsize=(4,4))\n",
    "for i,inds in enumerate(fronts):\n",
    "    par = [toolbox.evaluate(ind) for ind in inds]\n",
    "    df = pd.DataFrame(par)\n",
    "    df.plot(ax=ax, kind='scatter', label='Front ' + str(i+1), \n",
    "                 x=df.columns[0], y=df.columns[1], \n",
    "                 color=plot_colors[i])\n",
    "plt.xlabel('$f_1(\\mathbf{x})$');plt.ylabel('$f_2(\\mathbf{x})$');"
   ]
  },
  {
   "cell_type": "markdown",
   "metadata": {
    "internals": {
     "frag_helper": "fragment_end",
     "frag_number": 11,
     "slide_helper": "subslide_end"
    },
    "slide_helper": "slide_end",
    "slideshow": {
     "slide_type": "-"
    }
   },
   "source": [
    "* It is better to make an animated plot of the evolution as it takes place."
   ]
  },
  {
   "cell_type": "markdown",
   "metadata": {
    "internals": {
     "frag_helper": "fragment_end",
     "frag_number": 11,
     "slide_type": "subslide"
    },
    "slideshow": {
     "slide_type": "slide"
    }
   },
   "source": [
    "## Animating the evolutionary process"
   ]
  },
  {
   "cell_type": "markdown",
   "metadata": {
    "internals": {
     "frag_helper": "fragment_end",
     "frag_number": 11
    },
    "slideshow": {
     "slide_type": "-"
    }
   },
   "source": [
    "We create a `stats` to store the individuals not only their objective function values."
   ]
  },
  {
   "cell_type": "code",
   "execution_count": 58,
   "metadata": {
    "collapsed": true,
    "internals": {
     "frag_helper": "fragment_end",
     "frag_number": 11
    },
    "slideshow": {
     "slide_type": "-"
    }
   },
   "outputs": [],
   "source": [
    "stats = tools.Statistics()\n",
    "stats.register(\"pop\", copy.deepcopy)"
   ]
  },
  {
   "cell_type": "code",
   "execution_count": 59,
   "metadata": {
    "collapsed": true,
    "internals": {
     "frag_helper": "fragment_end",
     "frag_number": 11
    },
    "slideshow": {
     "slide_type": "-"
    }
   },
   "outputs": [],
   "source": [
    "toolbox.max_gen = 1000 # we need more generations!"
   ]
  },
  {
   "cell_type": "markdown",
   "metadata": {
    "internals": {
     "frag_helper": "fragment_end",
     "frag_number": 11
    },
    "slideshow": {
     "slide_type": "-"
    }
   },
   "source": [
    "Re-run the algorithm to get the data necessary for plotting."
   ]
  },
  {
   "cell_type": "code",
   "execution_count": 60,
   "metadata": {
    "internals": {
     "frag_helper": "fragment_end",
     "frag_number": 11,
     "slide_helper": "subslide_end"
    },
    "slide_helper": "subslide_end",
    "slideshow": {
     "slide_type": "-"
    }
   },
   "outputs": [
    {
     "name": "stdout",
     "output_type": "stream",
     "text": [
      "CPU times: user 16.9 s, sys: 108 ms, total: 17 s\n",
      "Wall time: 16.9 s\n"
     ]
    }
   ],
   "source": [
    "%time res, logbook = run_ea(toolbox, stats=stats)"
   ]
  },
  {
   "cell_type": "code",
   "execution_count": 61,
   "metadata": {
    "collapsed": true,
    "internals": {
     "frag_helper": "fragment_end",
     "frag_number": 11,
     "slide_type": "subslide"
    },
    "slideshow": {
     "slide_type": "subslide"
    }
   },
   "outputs": [],
   "source": [
    "from matplotlib import animation\n",
    "from IPython.display import HTML"
   ]
  },
  {
   "cell_type": "code",
   "execution_count": 62,
   "metadata": {
    "collapsed": true,
    "internals": {
     "frag_helper": "fragment_end",
     "frag_number": 11,
     "slide_helper": "subslide_end"
    },
    "slide_helper": "slide_end",
    "slideshow": {
     "slide_type": "-"
    }
   },
   "outputs": [],
   "source": [
    "def animate(frame_index, logbook):\n",
    "    'Updates all plots to match frame _i_ of the animation.'\n",
    "    ax.clear()    \n",
    "    fronts = tools.emo.sortLogNondominated(logbook.select('pop')[frame_index], \n",
    "                                           len(logbook.select('pop')[frame_index]))\n",
    "    for i,inds in enumerate(fronts):\n",
    "        par = [toolbox.evaluate(ind) for ind in inds]\n",
    "        df = pd.DataFrame(par)\n",
    "        df.plot(ax=ax, kind='scatter', label='Front ' + str(i+1), \n",
    "                 x=df.columns[0], y=df.columns[1], alpha=0.47,\n",
    "                 color=plot_colors[i % len(plot_colors)])\n",
    "        \n",
    "    ax.set_title('$t=$' + str(frame_index))\n",
    "    ax.set_xlabel('$f_1(\\mathbf{x})$');ax.set_ylabel('$f_2(\\mathbf{x})$')\n",
    "    return []"
   ]
  },
  {
   "cell_type": "code",
   "execution_count": 63,
   "metadata": {
    "collapsed": true,
    "internals": {
     "frag_helper": "fragment_end",
     "frag_number": 11,
     "slide_helper": "subslide_end",
     "slide_type": "subslide"
    },
    "slide_helper": "slide_end",
    "slideshow": {
     "slide_type": "slide"
    }
   },
   "outputs": [],
   "source": [
    "fig = plt.figure(figsize=(4,4))\n",
    "ax = fig.gca()\n",
    "anim = animation.FuncAnimation(fig, lambda i: animate(i, logbook), \n",
    "                               frames=len(logbook), interval=60, \n",
    "                               blit=True)\n",
    "plt.close()"
   ]
  },
  {
   "cell_type": "code",
   "execution_count": 64,
   "metadata": {},
   "outputs": [
    {
     "data": {
      "text/plain": [
       "<IPython.core.display.HTML object>"
      ]
     },
     "execution_count": 64,
     "metadata": {},
     "output_type": "execute_result"
    }
   ],
   "source": [
    "HTML(anim.save('test.mp4'))"
   ]
  },
  {
   "cell_type": "code",
   "execution_count": 40,
   "metadata": {},
   "outputs": [
    {
     "data": {
      "text/plain": [
       "<IPython.core.display.HTML object>"
      ]
     },
     "execution_count": 40,
     "metadata": {},
     "output_type": "execute_result"
    }
   ],
   "source": [
    "HTML(anim.save('image.mp4', fps=20, writer=\"avconv\", codec=\"libx264\"))"
   ]
  },
  {
   "cell_type": "markdown",
   "metadata": {
    "internals": {
     "frag_helper": "fragment_end",
     "frag_number": 11,
     "slide_helper": "subslide_end"
    },
    "slide_helper": "slide_end",
    "slideshow": {
     "slide_type": "-"
    }
   },
   "source": [
    "Here it is clearly visible how the algorithm \"jumps\" from one local-optimum to a better one as evolution takes place."
   ]
  },
  {
   "cell_type": "markdown",
   "metadata": {
    "internals": {
     "frag_helper": "fragment_end",
     "frag_number": 11,
     "slide_helper": "subslide_end",
     "slide_type": "subslide"
    },
    "slide_helper": "slide_end",
    "slideshow": {
     "slide_type": "slide"
    }
   },
   "source": [
    "# MOP benchmark problem toolkits\n",
    "\n",
    "Each problem instance is meant to test the algorithms with regard with a given feature: local optima, convexity, discontinuity, bias, or a combination of them.\n",
    "\n",
    "* [*ZDT1-6*](http://www.tik.ee.ethz.ch/sop/download/supplementary/testproblems/): Two-objective problems with a fixed number of decision variables.\n",
    "     * E. Zitzler, K. Deb, and L. Thiele. Comparison of Multiobjective Evolutionary Algorithms: Empirical Results. Evolutionary Computation, 8(2):173-195, 2000. ([pdf](http://www.tik.ee.ethz.ch/sop/publicationListFiles/zdt2000a.pdf))\n",
    "* [*DTLZ1-7*](http://www.tik.ee.ethz.ch/sop/download/supplementary/testproblems/): $m$-objective problems with $n$ variables.\n",
    "     * K. Deb, L. Thiele, M. Laumanns and E. Zitzler. Scalable Multi-Objective Optimization Test Problems. CEC 2002, p. 825 - 830, IEEE Press, 2002. ([pdf](http://www.tik.ee.ethz.ch/sop/publicationListFiles/dtlz2002a.pdf))"
   ]
  },
  {
   "cell_type": "markdown",
   "metadata": {
    "internals": {
     "frag_helper": "fragment_end",
     "frag_number": 11,
     "slide_helper": "subslide_end",
     "slide_type": "subslide"
    },
    "slide_helper": "slide_end",
    "slideshow": {
     "slide_type": "slide"
    }
   },
   "source": [
    "* [*CEC'09*](http://dces.essex.ac.uk/staff/zhang/moeacompetition09.htm): Two- and three- objective problems that very complex Pareto sets.\n",
    "    * Zhang, Q., Zhou, A., Zhao, S., & Suganthan, P. N. (2009). Multiobjective optimization test instances for the CEC 2009 special session and competition. In 2009 IEEE Congress on Evolutionary Computation (pp. 1–30). ([pdf](http://dces.essex.ac.uk/staff/zhang/MOEAcompetition/cec09testproblem0904.pdf.pdf))\n",
    "* [*WFG1-9*](http://www.wfg.csse.uwa.edu.au/publications.html#toolkit): $m$-objective problems with $n$ variables, very complex.\n",
    "    * Huband, S., Hingston, P., Barone, L., & While, L. (2006). A review of multiobjective test problems and a scalable test problem toolkit. IEEE Transactions on Evolutionary Computation, 10(5), 477–506. doi:10.1109/TEVC.2005.861417"
   ]
  },
  {
   "cell_type": "markdown",
   "metadata": {
    "internals": {
     "frag_helper": "fragment_end",
     "frag_number": 11,
     "slide_type": "subslide"
    },
    "slideshow": {
     "slide_type": "slide"
    }
   },
   "source": [
    "How does our NSGA-II behaves when faced with different benchmark problems?"
   ]
  },
  {
   "cell_type": "code",
   "execution_count": 116,
   "metadata": {
    "collapsed": true,
    "internals": {
     "frag_helper": "fragment_end",
     "frag_number": 11,
     "slide_helper": "subslide_end"
    },
    "slide_helper": "slide_end",
    "slideshow": {
     "slide_type": "-"
    }
   },
   "outputs": [],
   "source": [
    "problem_instances = {'ZDT1': benchmarks.zdt1, 'ZDT2': benchmarks.zdt2,\n",
    "                     'ZDT3': benchmarks.zdt3, 'ZDT4': benchmarks.zdt4,\n",
    "                     'DTLZ1': lambda ind: benchmarks.dtlz1(ind,2),\n",
    "                     'DTLZ2': lambda ind: benchmarks.dtlz2(ind,2),\n",
    "                     'DTLZ3': lambda ind: benchmarks.dtlz3(ind,2),\n",
    "                     'DTLZ4': lambda ind: benchmarks.dtlz4(ind,2, 100),\n",
    "                     'DTLZ5': lambda ind: benchmarks.dtlz5(ind,2)}\n",
    "                     #'DTLZ5': lambda ind: benchmarks.dtlz5(ind,2),\n",
    "                     #'DTLZ6': lambda ind: benchmarks.dtlz6(ind,2),\n",
    "                     #'DTLZ7': lambda ind: benchmarks.dtlz7(ind,2)"
   ]
  },
  {
   "cell_type": "code",
   "execution_count": 117,
   "metadata": {
    "collapsed": true,
    "internals": {
     "frag_helper": "fragment_end",
     "frag_number": 11,
     "slide_type": "subslide"
    },
    "slideshow": {
     "slide_type": "slide"
    }
   },
   "outputs": [],
   "source": [
    "toolbox.max_gen = 1000\n",
    "\n",
    "stats = tools.Statistics(lambda ind: ind.fitness.values)\n",
    "stats.register(\"obj_vals\", np.copy)\n",
    "\n",
    "def run_problem(toolbox, problem):\n",
    "    toolbox.register('evaluate', problem)\n",
    "    return run_ea(toolbox, stats=stats)"
   ]
  },
  {
   "cell_type": "markdown",
   "metadata": {
    "internals": {
     "frag_helper": "fragment_end",
     "frag_number": 11
    },
    "slideshow": {
     "slide_type": "-"
    }
   },
   "source": [
    "Running NSGA-II solving all problems. Now it takes longer."
   ]
  },
  {
   "cell_type": "code",
   "execution_count": 118,
   "metadata": {
    "internals": {
     "frag_helper": "fragment_end",
     "frag_number": 91,
     "slide_helper": "subslide_end"
    },
    "slide_helper": "slide_end",
    "slideshow": {
     "slide_type": "fragment"
    }
   },
   "outputs": [
    {
     "name": "stdout",
     "output_type": "stream",
     "text": [
      "CPU times: user 6min 34s, sys: 1.62 s, total: 6min 35s\n",
      "Wall time: 6min 33s\n"
     ]
    }
   ],
   "source": [
    "%time results = {problem: run_problem(toolbox, problem_instances[problem]) for problem in problem_instances}"
   ]
  },
  {
   "cell_type": "markdown",
   "metadata": {
    "internals": {
     "frag_helper": "fragment_end",
     "frag_number": 91,
     "slide_type": "subslide"
    },
    "slideshow": {
     "slide_type": "slide"
    }
   },
   "source": [
    "Creating this animation takes more programming effort."
   ]
  },
  {
   "cell_type": "code",
   "execution_count": 119,
   "metadata": {
    "collapsed": true,
    "internals": {
     "frag_helper": "fragment_end",
     "frag_number": 91,
     "slide_helper": "subslide_end"
    },
    "slide_helper": "slide_end",
    "slideshow": {
     "slide_type": "-"
    }
   },
   "outputs": [],
   "source": [
    "class MultiProblemAnimation:\n",
    "    def init(self, fig, results):\n",
    "        self.results = results\n",
    "        self.axs = [fig.add_subplot(3,4,i+1) for i in range(len(results))]\n",
    "        self.plots =[]\n",
    "        for i, problem in enumerate(sorted(results)):\n",
    "            (res, logbook) = self.results[problem]\n",
    "            pop = pd.DataFrame(data=logbook.select('obj_vals')[0])\n",
    "            plot = self.axs[i].plot(pop[0], pop[1], 'b.', alpha=0.47)[0]\n",
    "            self.plots.append(plot)\n",
    "        fig.tight_layout()\n",
    "            \n",
    "    def animate(self, t):\n",
    "        'Updates all plots to match frame _i_ of the animation.'\n",
    "        for i, problem in enumerate(sorted(results)):\n",
    "            #self.axs[i].clear()\n",
    "            (res, logbook) = self.results[problem]\n",
    "            pop = pd.DataFrame(data=logbook.select('obj_vals')[t])\n",
    "            self.plots[i].set_data(pop[0], pop[1])\n",
    "            self.axs[i].set_title(problem + '; $t=' + str(t)+'$') \n",
    "            self.axs[i].set_xlim((0, max(1,pop.max()[0])))\n",
    "            self.axs[i].set_ylim((0, max(1,pop.max()[1])))\n",
    "        return self.axs"
   ]
  },
  {
   "cell_type": "code",
   "execution_count": 120,
   "metadata": {
    "collapsed": true,
    "internals": {
     "frag_helper": "fragment_end",
     "frag_number": 91,
     "slide_type": "subslide"
    },
    "slideshow": {
     "slide_type": "slide"
    }
   },
   "outputs": [],
   "source": [
    "mpa = MultiProblemAnimation()"
   ]
  },
  {
   "cell_type": "code",
   "execution_count": 121,
   "metadata": {
    "collapsed": true,
    "internals": {
     "frag_helper": "fragment_end",
     "frag_number": 91,
     "slide_helper": "subslide_end"
    },
    "slide_helper": "slide_end",
    "slideshow": {
     "slide_type": "-"
    }
   },
   "outputs": [],
   "source": [
    "fig = plt.figure(figsize=(14,6))\n",
    "anim = animation.FuncAnimation(fig, mpa.animate, init_func=mpa.init(fig,results), \n",
    "                               frames=toolbox.max_gen, interval=60, blit=True)\n",
    "plt.close()"
   ]
  },
  {
   "cell_type": "code",
   "execution_count": 122,
   "metadata": {},
   "outputs": [
    {
     "data": {
      "text/plain": [
       "<IPython.core.display.HTML object>"
      ]
     },
     "execution_count": 122,
     "metadata": {},
     "output_type": "execute_result"
    }
   ],
   "source": [
    "HTML(anim.save('image.mp4', fps=20, writer=\"avconv\", codec=\"libx264\"))"
   ]
  },
  {
   "cell_type": "markdown",
   "metadata": {
    "internals": {
     "frag_helper": "fragment_end",
     "frag_number": 91,
     "slide_helper": "subslide_end"
    },
    "slide_helper": "slide_end",
    "slideshow": {
     "slide_type": "-"
    }
   },
   "source": [
    "* It is interesting how the algorithm deals with each problem: clearly some problems are harder than others.\n",
    "* In some cases it \"hits\" the Pareto front and then slowly explores it.\n",
    "\n",
    "**Read more about this in the class materials.**"
   ]
  },
  {
   "cell_type": "markdown",
   "metadata": {
    "internals": {
     "frag_helper": "fragment_end",
     "frag_number": 91,
     "slide_helper": "subslide_end",
     "slide_type": "subslide"
    },
    "slide_helper": "slide_end",
    "slideshow": {
     "slide_type": "slide"
    }
   },
   "source": [
    "# Experiment design and reporting results\n",
    "\n",
    "* Watching an animation of an EMO algorithm solve a problem is certainly fun. \n",
    "* It also allows us to understand many particularities of the problem being solved.\n",
    "* But, as [Carlos Coello](http://delta.cs.cinvestav.mx/~ccoello/) would say, we are *not* in an art appreciation class.\n",
    "* We should follow the key concepts provided by the [scientific method](http://en.wikipedia.org/wiki/Scientific_method).\n",
    "* I urge you to study the [experimental design](http://en.wikipedia.org/wiki/Design_of_experiments) topic in depth as it is an essential knowledge.\n",
    "\n",
    "**Evolutionary algorithms are stochastic algorithms, therefore their results must be assessed by repeating experiments until you reach an statistically valid conclusion.** "
   ]
  },
  {
   "cell_type": "markdown",
   "metadata": {
    "internals": {
     "frag_helper": "fragment_end",
     "frag_number": 91,
     "slide_helper": "subslide_end",
     "slide_type": "subslide"
    },
    "slide_helper": "slide_end",
    "slideshow": {
     "slide_type": "slide"
    }
   },
   "source": [
    "## An illustrative simple/sample experiment\n",
    "\n",
    "Let's make a relatively simple but very important experiment:\n",
    "\n",
    "* **Question**: In our NSGA-II applied to a two-objective DTLZ3 problem: Is it more important to have a big population and let the algorithm run for a few iterations or is better to have a small population and let the algorithm run for larger number of iterations.\n",
    "* **Procedure**: We must perform an experiment testing different population sizes and maximum number of iterations while keeping the other parameters constant."
   ]
  },
  {
   "cell_type": "markdown",
   "metadata": {
    "internals": {
     "frag_helper": "fragment_end",
     "frag_number": 91,
     "slide_helper": "subslide_end",
     "slide_type": "subslide"
    },
    "slide_helper": "slide_end",
    "slideshow": {
     "slide_type": "slide"
    }
   },
   "source": [
    "### Notation\n",
    "\n",
    "As usual we need to establish some notation:\n",
    "\n",
    "* *Multi-objective problem* (or just *problem*): A multi-objective optimization problem, as defined above.\n",
    "* *MOEA*: An evolutionary computation method used to solve multi-objective problems.\n",
    "* *Experiment*: a combination of problem and MOEA and a set of values of their parameters.\n",
    "* *Experiment run*: The result of running an experiment.\n",
    "* We will use `toolbox` instances to define experiments. "
   ]
  },
  {
   "cell_type": "markdown",
   "metadata": {
    "internals": {
     "frag_helper": "fragment_end",
     "frag_number": 91,
     "slide_type": "subslide"
    },
    "slideshow": {
     "slide_type": "slide"
    }
   },
   "source": [
    "We start by creating a `toolbox` that will contain the configuration that will be shared across all experiments."
   ]
  },
  {
   "cell_type": "code",
   "execution_count": 77,
   "metadata": {
    "collapsed": true,
    "internals": {
     "frag_helper": "fragment_end",
     "frag_number": 91
    },
    "slideshow": {
     "slide_type": "-"
    }
   },
   "outputs": [],
   "source": [
    "toolbox = base.Toolbox()"
   ]
  },
  {
   "cell_type": "code",
   "execution_count": 78,
   "metadata": {
    "collapsed": true,
    "internals": {
     "frag_helper": "fragment_end",
     "frag_number": 91,
     "slide_helper": "subslide_end"
    },
    "slide_helper": "slide_end",
    "slideshow": {
     "slide_type": "-"
    }
   },
   "outputs": [],
   "source": [
    "BOUND_LOW, BOUND_UP = 0.0, 1.0\n",
    "NDIM = 30\n",
    "# the explanation of this... a few lines bellow\n",
    "def eval_helper(ind):\n",
    "    return benchmarks.dtlz3(ind, 2)\n",
    "\n",
    "toolbox.register(\"evaluate\", eval_helper)"
   ]
  },
  {
   "cell_type": "code",
   "execution_count": 79,
   "metadata": {
    "collapsed": true,
    "internals": {
     "frag_helper": "fragment_end",
     "frag_number": 91,
     "slide_helper": "subslide_end",
     "slide_type": "subslide"
    },
    "slide_helper": "slide_end",
    "slideshow": {
     "slide_type": "slide"
    }
   },
   "outputs": [],
   "source": [
    "def uniform(low, up, size=None):\n",
    "    try:\n",
    "        return [random.uniform(a, b) for a, b in zip(low, up)]\n",
    "    except TypeError:\n",
    "        return [random.uniform(a, b) for a, b in zip([low] * size, [up] * size)]\n",
    "\n",
    "toolbox.register(\"attr_float\", uniform, BOUND_LOW, BOUND_UP, NDIM)\n",
    "toolbox.register(\"individual\", tools.initIterate, creator.Individual, toolbox.attr_float)\n",
    "toolbox.register(\"population\", tools.initRepeat, list, toolbox.individual)\n",
    "\n",
    "toolbox.register(\"mate\", tools.cxSimulatedBinaryBounded, low=BOUND_LOW, up=BOUND_UP, eta=20.0)\n",
    "toolbox.register(\"mutate\", tools.mutPolynomialBounded, low=BOUND_LOW, up=BOUND_UP, eta=20.0, indpb=1.0/NDIM)\n",
    "\n",
    "toolbox.register(\"select\", tools.selNSGA2)\n",
    "\n",
    "toolbox.mut_prob = 0.15"
   ]
  },
  {
   "cell_type": "markdown",
   "metadata": {
    "internals": {
     "frag_helper": "fragment_end",
     "frag_number": 91,
     "slide_type": "subslide"
    },
    "slideshow": {
     "slide_type": "slide"
    }
   },
   "source": [
    "We add a `experiment_name` to `toolbox` that we will fill up later on. Here $n\\mathrm{pop}$ denotes the population size and $t_\\mathrm{max}$ the max. number of iterations."
   ]
  },
  {
   "cell_type": "code",
   "execution_count": 80,
   "metadata": {
    "collapsed": true,
    "internals": {
     "frag_helper": "fragment_end",
     "frag_number": 91
    },
    "slideshow": {
     "slide_type": "-"
    }
   },
   "outputs": [],
   "source": [
    "experiment_name = \"$n_\\mathrm{{pop}}={0};\\ t_\\mathrm{{max}}={1}$\""
   ]
  },
  {
   "cell_type": "code",
   "execution_count": 81,
   "metadata": {
    "collapsed": true
   },
   "outputs": [],
   "source": [
    "total_evals = 500"
   ]
  },
  {
   "cell_type": "markdown",
   "metadata": {
    "internals": {
     "frag_helper": "fragment_end",
     "frag_number": 91
    },
    "slideshow": {
     "slide_type": "-"
    }
   },
   "source": [
    "We can now replicate this toolbox instance and then modify the mutation probabilities."
   ]
  },
  {
   "cell_type": "code",
   "execution_count": 82,
   "metadata": {
    "collapsed": true,
    "internals": {
     "frag_helper": "fragment_end",
     "frag_number": 91
    },
    "slideshow": {
     "slide_type": "-"
    }
   },
   "outputs": [],
   "source": [
    "pop_sizes = (10,50,100)"
   ]
  },
  {
   "cell_type": "code",
   "execution_count": 83,
   "metadata": {
    "collapsed": true
   },
   "outputs": [],
   "source": [
    "toolboxes=list([copy.deepcopy(toolbox) for _ in range(len(pop_sizes))])"
   ]
  },
  {
   "cell_type": "markdown",
   "metadata": {
    "internals": {
     "frag_helper": "fragment_end",
     "frag_number": 91,
     "slide_helper": "subslide_end"
    },
    "slide_helper": "slide_end",
    "slideshow": {
     "slide_type": "-"
    }
   },
   "source": [
    "Now `toolboxes` is a list of copies of the same toolbox. One for each experiment configuration (population size)."
   ]
  },
  {
   "cell_type": "markdown",
   "metadata": {
    "internals": {
     "frag_helper": "fragment_end",
     "frag_number": 91,
     "slide_type": "subslide"
    },
    "slideshow": {
     "slide_type": "slide"
    }
   },
   "source": [
    "...but we still have to set the population sizes in the elements of `toolboxes`."
   ]
  },
  {
   "cell_type": "code",
   "execution_count": 84,
   "metadata": {
    "collapsed": true,
    "internals": {
     "frag_helper": "fragment_end",
     "frag_number": 91
    },
    "slideshow": {
     "slide_type": "-"
    }
   },
   "outputs": [],
   "source": [
    "for pop_size, toolbox in zip(pop_sizes, toolboxes):\n",
    "    toolbox.pop_size = pop_size\n",
    "    toolbox.max_gen = total_evals // pop_size\n",
    "    toolbox.experiment_name = experiment_name.format(toolbox.pop_size, toolbox.max_gen)"
   ]
  },
  {
   "cell_type": "code",
   "execution_count": 85,
   "metadata": {
    "internals": {
     "frag_helper": "fragment_end",
     "frag_number": 114,
     "slide_helper": "subslide_end"
    },
    "slide_helper": "slide_end",
    "slideshow": {
     "slide_type": "fragment"
    }
   },
   "outputs": [
    {
     "name": "stdout",
     "output_type": "stream",
     "text": [
      "('$n_\\\\mathrm{pop}=10;\\\\ t_\\\\mathrm{max}=50$', 10, 50)\n",
      "('$n_\\\\mathrm{pop}=50;\\\\ t_\\\\mathrm{max}=10$', 50, 10)\n",
      "('$n_\\\\mathrm{pop}=100;\\\\ t_\\\\mathrm{max}=5$', 100, 5)\n"
     ]
    }
   ],
   "source": [
    "for toolbox in toolboxes:\n",
    "    print(toolbox.experiment_name, toolbox.pop_size, toolbox.max_gen)"
   ]
  },
  {
   "cell_type": "markdown",
   "metadata": {
    "internals": {
     "frag_helper": "fragment_end",
     "frag_number": 114,
     "slide_type": "subslide"
    },
    "slideshow": {
     "slide_type": "slide"
    }
   },
   "source": [
    "## Experiment design\n",
    "\n",
    "As we are dealing with stochastic methods their results should be reported relying on an statistical analysis.\n",
    "\n",
    "* A given  experiment (a `toolbox` instance in our case) should be repeated a *sufficient* amount of times. \n",
    "* In theory, the more runs the better, but how much in enough? In practice, we could say that about *30* runs is enough.\n",
    "* The non-dominated fronts produced by each experiment run should be compared to each other. \n",
    "* We have seen in class that a number of *performance indicators*, like the *hypervolume*, *additive* and *multiplicative epsilon indicators*, among others, have been proposed for that task.\n",
    "* We can use statistical visualizations like [box plots](http://en.wikipedia.org/wiki/Box_plot) or [violin plots](http://en.wikipedia.org/wiki/Violin_plot) to make a visual assessment of the indicator values produced in each run.\n",
    "* We must apply a set of [statistical hypothesis tests](http://en.wikipedia.org/wiki/Statistical_hypothesis_testing) in order to reach an statistically valid judgment of the results of an algorithms. \n",
    "\n",
    "\n",
    "_Note_: I personally like the number [42](http://en.wikipedia.org/wiki/42_%28number%29) as it is the [answer to The Ultimate Question of Life, the Universe, and Everything](http://en.wikipedia.org/wiki/Phrases_from_The_Hitchhiker%27s_Guide_to_the_Galaxy#Answer_to_the_Ultimate_Question_of_Life.2C_the_Universe.2C_and_Everything_.2842.29)."
   ]
  },
  {
   "cell_type": "code",
   "execution_count": 86,
   "metadata": {
    "collapsed": true,
    "internals": {
     "frag_helper": "fragment_end",
     "frag_number": 114,
     "slide_helper": "subslide_end"
    },
    "slide_helper": "slide_end",
    "slideshow": {
     "slide_type": "-"
    }
   },
   "outputs": [],
   "source": [
    "number_of_runs = 42"
   ]
  },
  {
   "cell_type": "markdown",
   "metadata": {
    "internals": {
     "frag_helper": "fragment_end",
     "frag_number": 114,
     "slide_helper": "subslide_end",
     "slide_type": "subslide"
    },
    "slide_helper": "slide_end",
    "slideshow": {
     "slide_type": "slide"
    }
   },
   "source": [
    "### Running experiments in parallel \n",
    "As we are now solving more demanding problems it would be nice to make our algorithms to run in parallel and profit from modern multi-core CPUs.\n",
    "\n",
    "* In DEAP it is very simple to parallelize an algorithm (if it has been properly programmed) by providing a parallel `map()` function via the `toolbox`.\n",
    "* Local parallelization can be achieved using Python's [`multiprocessing`](https://docs.python.org/2/library/multiprocessing.html) or [`concurrent.futures`](https://docs.python.org/3/library/concurrent.futures.html) modules.\n",
    "* Cluster parallelization can be achieved using IPython Parallel or [SCOOP](http://en.wikipedia.org/wiki/Python_SCOOP_%28software%29)."
   ]
  },
  {
   "cell_type": "markdown",
   "metadata": {
    "internals": {
     "frag_helper": "fragment_end",
     "frag_number": 114,
     "slide_type": "subslide"
    },
    "slideshow": {
     "slide_type": "slide"
    }
   },
   "source": [
    "### Progress feedback\n",
    "\n",
    "* Another issue with these long experiments has to do being patient.\n",
    "* A little bit of feedback on the experiment execution would be cool.\n",
    "* We can use the integer progress bar from [IPython widgets](http://nbviewer.ipython.org/github/jvns/ipython/blob/master/examples/Interactive%20Widgets/Index.ipynb) and report every time an experiment run is finished."
   ]
  },
  {
   "cell_type": "code",
   "execution_count": 87,
   "metadata": {
    "collapsed": true,
    "internals": {
     "frag_helper": "fragment_end",
     "frag_number": 114
    },
    "slideshow": {
     "slide_type": "-"
    }
   },
   "outputs": [],
   "source": [
    "from ipywidgets import IntProgress\n",
    "from IPython.display import display"
   ]
  },
  {
   "cell_type": "markdown",
   "metadata": {
    "internals": {
     "frag_helper": "fragment_end",
     "frag_number": 114,
     "slide_type": "subslide"
    },
    "slideshow": {
     "slide_type": "slide"
    }
   },
   "source": [
    "### A side-effect of using process-based parallelization\n",
    "\n",
    "Process-based parallelization based on `multiprocessing` requires that the parameters passed to `map()` be [pickleable](https://docs.python.org/3.4/library/pickle.html).\n",
    "\n",
    "* The direct consequence is that `lambda` functions can not be directly used. \n",
    "* This is will certainly ruin the party to all `lambda` fans out there! *-me included*.\n",
    "* Hence we need to write some wrapper functions instead.\n",
    "* But, that wrapper function can take care of filtering out dominated individuals in the results."
   ]
  },
  {
   "cell_type": "code",
   "execution_count": 88,
   "metadata": {
    "collapsed": true,
    "internals": {
     "frag_helper": "fragment_end",
     "frag_number": 114,
     "slide_helper": "subslide_end"
    },
    "slide_helper": "slide_end",
    "slideshow": {
     "slide_type": "-"
    }
   },
   "outputs": [],
   "source": [
    "def run_algo_wrapper(toolbox):\n",
    "    result, _ = run_ea(toolbox)\n",
    "    local_pareto_set = tools.emo.sortLogNondominated(result, len(result), first_front_only=True)\n",
    "    return local_pareto_set"
   ]
  },
  {
   "cell_type": "markdown",
   "metadata": {
    "internals": {
     "frag_helper": "fragment_end",
     "frag_number": 114,
     "slide_type": "subslide"
    },
    "slideshow": {
     "slide_type": "slide"
    }
   },
   "source": [
    "# All set! Run the experiments..."
   ]
  },
  {
   "cell_type": "code",
   "execution_count": 89,
   "metadata": {},
   "outputs": [
    {
     "name": "stderr",
     "output_type": "stream",
     "text": [
      "Widget Javascript not detected.  It may not be installed or enabled properly.\n"
     ]
    },
    {
     "data": {
      "application/vnd.jupyter.widget-view+json": {
       "model_id": "6b170e343e8a4ebead36a3a7be4ca9ef"
      }
     },
     "metadata": {},
     "output_type": "display_data"
    },
    {
     "name": "stdout",
     "output_type": "stream",
     "text": [
      "CPU times: user 364 ms, sys: 172 ms, total: 536 ms\n",
      "Wall time: 5.24 s\n"
     ]
    }
   ],
   "source": [
    "%%time\n",
    "import concurrent.futures\n",
    "progress_bar = IntProgress(description=\"000/000\", max=len(toolboxes)*number_of_runs)\n",
    "display(progress_bar)\n",
    "\n",
    "results = {toolbox.experiment_name:[] for toolbox in toolboxes}\n",
    "with concurrent.futures.ProcessPoolExecutor() as executor:\n",
    "    # Submit all the tasks...\n",
    "    futures = {executor.submit(run_algo_wrapper, toolbox): toolbox\n",
    "               for _ in range(number_of_runs)\n",
    "               for toolbox in toolboxes}\n",
    "    \n",
    "    # ...and wait for them to finish.\n",
    "    for future in concurrent.futures.as_completed(futures):\n",
    "        tb = futures[future]\n",
    "        results[tb.experiment_name].append(future.result())\n",
    "        progress_bar.value +=1\n",
    "        progress_bar.description = \"%03d/%03d:\" % (progress_bar.value, progress_bar.max)"
   ]
  },
  {
   "cell_type": "markdown",
   "metadata": {
    "internals": {
     "frag_helper": "fragment_end",
     "frag_number": 114
    },
    "slideshow": {
     "slide_type": "-"
    }
   },
   "source": [
    "This is not a perfect implementation but... works!"
   ]
  },
  {
   "cell_type": "markdown",
   "metadata": {
    "internals": {
     "frag_helper": "fragment_end",
     "frag_number": 114
    },
    "slideshow": {
     "slide_type": "-"
    }
   },
   "source": [
    "As running the experiments sometimes takes a long time it is a good practice to store the results."
   ]
  },
  {
   "cell_type": "code",
   "execution_count": 90,
   "metadata": {
    "collapsed": true,
    "internals": {
     "frag_helper": "fragment_end",
     "frag_number": 114
    },
    "slideshow": {
     "slide_type": "-"
    }
   },
   "outputs": [],
   "source": [
    "import pickle"
   ]
  },
  {
   "cell_type": "code",
   "execution_count": 91,
   "metadata": {
    "collapsed": true,
    "internals": {
     "frag_helper": "fragment_end",
     "frag_number": 114
    },
    "slideshow": {
     "slide_type": "-"
    }
   },
   "outputs": [],
   "source": [
    "pickle.dump(results, open('nsga_ii_dtlz3-results.pickle', 'wb'))"
   ]
  },
  {
   "cell_type": "markdown",
   "metadata": {
    "internals": {
     "frag_helper": "fragment_end",
     "frag_number": 131
    },
    "slideshow": {
     "slide_type": "fragment"
    }
   },
   "source": [
    "In case you need it, this file is included in the github repository.\n",
    "\n",
    "To load the results we would just have to:"
   ]
  },
  {
   "cell_type": "code",
   "execution_count": 92,
   "metadata": {
    "collapsed": true,
    "internals": {
     "frag_helper": "fragment_end",
     "frag_number": 131,
     "slide_helper": "subslide_end"
    },
    "slide_helper": "slide_end",
    "slideshow": {
     "slide_type": "-"
    }
   },
   "outputs": [],
   "source": [
    "# loaded_results = pickle.load(open('nsga_ii_dtlz3-results.pickle', 'rb'))\n",
    "# results = loaded_results #  <-- uncomment if needed"
   ]
  },
  {
   "cell_type": "markdown",
   "metadata": {
    "internals": {
     "frag_helper": "fragment_end",
     "frag_number": 131,
     "slide_type": "subslide"
    },
    "slideshow": {
     "slide_type": "slide"
    }
   },
   "source": [
    "`results` is a dictionary, but a pandas `DataFrame` is a more handy container for the results."
   ]
  },
  {
   "cell_type": "code",
   "execution_count": 93,
   "metadata": {
    "collapsed": true,
    "internals": {
     "frag_helper": "fragment_end",
     "frag_number": 131,
     "slide_helper": "subslide_end"
    },
    "slide_helper": "slide_end",
    "slideshow": {
     "slide_type": "-"
    }
   },
   "outputs": [],
   "source": [
    "res = pd.DataFrame(results)"
   ]
  },
  {
   "cell_type": "markdown",
   "metadata": {
    "internals": {
     "frag_helper": "fragment_end",
     "frag_number": 131,
     "slide_type": "subslide"
    },
    "slideshow": {
     "slide_type": "slide"
    }
   },
   "source": [
    "Headers may come out unsorted. Let's fix that first. "
   ]
  },
  {
   "cell_type": "code",
   "execution_count": 94,
   "metadata": {
    "internals": {
     "frag_helper": "fragment_end",
     "frag_number": 131,
     "slide_helper": "subslide_end"
    },
    "slide_helper": "subslide_end",
    "slideshow": {
     "slide_type": "-"
    }
   },
   "outputs": [
    {
     "data": {
      "text/html": [
       "<div>\n",
       "<table border=\"1\" class=\"dataframe\">\n",
       "  <thead>\n",
       "    <tr style=\"text-align: right;\">\n",
       "      <th></th>\n",
       "      <th>$n_\\mathrm{pop}=100;\\ t_\\mathrm{max}=5$</th>\n",
       "      <th>$n_\\mathrm{pop}=10;\\ t_\\mathrm{max}=50$</th>\n",
       "      <th>$n_\\mathrm{pop}=50;\\ t_\\mathrm{max}=10$</th>\n",
       "    </tr>\n",
       "  </thead>\n",
       "  <tbody>\n",
       "    <tr>\n",
       "      <th>0</th>\n",
       "      <td>[[0.99706860078, 0.376303223121, 0.41614165565...</td>\n",
       "      <td>[[0.994817388053, 0.480364891068, 0.1904279077...</td>\n",
       "      <td>[[0.997904076367, 0.21342320317, 0.09010790042...</td>\n",
       "    </tr>\n",
       "    <tr>\n",
       "      <th>1</th>\n",
       "      <td>[[0.999165564119, 0.600787351565, 0.8000724117...</td>\n",
       "      <td>[[0.999964743712, 0.108566624125, 0.2044781202...</td>\n",
       "      <td>[[0.999120446945, 0.20481552408, 0.30617620850...</td>\n",
       "    </tr>\n",
       "    <tr>\n",
       "      <th>2</th>\n",
       "      <td>[[0.999506012055, 0.756185558766, 0.5029402967...</td>\n",
       "      <td>[[0.999899245234, 0.498025707907, 0.3021017116...</td>\n",
       "      <td>[[0.999895650295, 0.957596410172, 0.9905124196...</td>\n",
       "    </tr>\n",
       "    <tr>\n",
       "      <th>3</th>\n",
       "      <td>[[0.998876772642, 0.631907845925, 0.9016535091...</td>\n",
       "      <td>[[0.99984792885, 0.710957417328, 0.41318674314...</td>\n",
       "      <td>[[0.998911139111, 0.314036129554, 0.9862156766...</td>\n",
       "    </tr>\n",
       "    <tr>\n",
       "      <th>4</th>\n",
       "      <td>[[0.995099226119, 0.0445065437097, 0.014515428...</td>\n",
       "      <td>[[0.999987448681, 0.801517564814, 0.3110493617...</td>\n",
       "      <td>[[0.997892131232, 0.463930380904, 0.6566684795...</td>\n",
       "    </tr>\n",
       "  </tbody>\n",
       "</table>\n",
       "</div>"
      ],
      "text/plain": [
       "             $n_\\mathrm{pop}=100;\\ t_\\mathrm{max}=5$  \\\n",
       "0  [[0.99706860078, 0.376303223121, 0.41614165565...   \n",
       "1  [[0.999165564119, 0.600787351565, 0.8000724117...   \n",
       "2  [[0.999506012055, 0.756185558766, 0.5029402967...   \n",
       "3  [[0.998876772642, 0.631907845925, 0.9016535091...   \n",
       "4  [[0.995099226119, 0.0445065437097, 0.014515428...   \n",
       "\n",
       "             $n_\\mathrm{pop}=10;\\ t_\\mathrm{max}=50$  \\\n",
       "0  [[0.994817388053, 0.480364891068, 0.1904279077...   \n",
       "1  [[0.999964743712, 0.108566624125, 0.2044781202...   \n",
       "2  [[0.999899245234, 0.498025707907, 0.3021017116...   \n",
       "3  [[0.99984792885, 0.710957417328, 0.41318674314...   \n",
       "4  [[0.999987448681, 0.801517564814, 0.3110493617...   \n",
       "\n",
       "             $n_\\mathrm{pop}=50;\\ t_\\mathrm{max}=10$  \n",
       "0  [[0.997904076367, 0.21342320317, 0.09010790042...  \n",
       "1  [[0.999120446945, 0.20481552408, 0.30617620850...  \n",
       "2  [[0.999895650295, 0.957596410172, 0.9905124196...  \n",
       "3  [[0.998911139111, 0.314036129554, 0.9862156766...  \n",
       "4  [[0.997892131232, 0.463930380904, 0.6566684795...  "
      ]
     },
     "execution_count": 94,
     "metadata": {},
     "output_type": "execute_result"
    }
   ],
   "source": [
    "res.head()"
   ]
  },
  {
   "cell_type": "code",
   "execution_count": 95,
   "metadata": {
    "collapsed": true,
    "internals": {
     "frag_helper": "fragment_end",
     "frag_number": 131,
     "slide_type": "subslide"
    },
    "slideshow": {
     "slide_type": "subslide"
    }
   },
   "outputs": [],
   "source": [
    "res = res.reindex_axis([toolbox.experiment_name for toolbox in toolboxes], axis=1)"
   ]
  },
  {
   "cell_type": "code",
   "execution_count": 96,
   "metadata": {
    "internals": {
     "frag_helper": "fragment_end",
     "frag_number": 131,
     "slide_helper": "subslide_end"
    },
    "slide_helper": "slide_end",
    "slideshow": {
     "slide_type": "-"
    }
   },
   "outputs": [
    {
     "data": {
      "text/html": [
       "<div>\n",
       "<table border=\"1\" class=\"dataframe\">\n",
       "  <thead>\n",
       "    <tr style=\"text-align: right;\">\n",
       "      <th></th>\n",
       "      <th>$n_\\mathrm{pop}=10;\\ t_\\mathrm{max}=50$</th>\n",
       "      <th>$n_\\mathrm{pop}=50;\\ t_\\mathrm{max}=10$</th>\n",
       "      <th>$n_\\mathrm{pop}=100;\\ t_\\mathrm{max}=5$</th>\n",
       "    </tr>\n",
       "  </thead>\n",
       "  <tbody>\n",
       "    <tr>\n",
       "      <th>0</th>\n",
       "      <td>[[0.994817388053, 0.480364891068, 0.1904279077...</td>\n",
       "      <td>[[0.997904076367, 0.21342320317, 0.09010790042...</td>\n",
       "      <td>[[0.99706860078, 0.376303223121, 0.41614165565...</td>\n",
       "    </tr>\n",
       "    <tr>\n",
       "      <th>1</th>\n",
       "      <td>[[0.999964743712, 0.108566624125, 0.2044781202...</td>\n",
       "      <td>[[0.999120446945, 0.20481552408, 0.30617620850...</td>\n",
       "      <td>[[0.999165564119, 0.600787351565, 0.8000724117...</td>\n",
       "    </tr>\n",
       "    <tr>\n",
       "      <th>2</th>\n",
       "      <td>[[0.999899245234, 0.498025707907, 0.3021017116...</td>\n",
       "      <td>[[0.999895650295, 0.957596410172, 0.9905124196...</td>\n",
       "      <td>[[0.999506012055, 0.756185558766, 0.5029402967...</td>\n",
       "    </tr>\n",
       "    <tr>\n",
       "      <th>3</th>\n",
       "      <td>[[0.99984792885, 0.710957417328, 0.41318674314...</td>\n",
       "      <td>[[0.998911139111, 0.314036129554, 0.9862156766...</td>\n",
       "      <td>[[0.998876772642, 0.631907845925, 0.9016535091...</td>\n",
       "    </tr>\n",
       "    <tr>\n",
       "      <th>4</th>\n",
       "      <td>[[0.999987448681, 0.801517564814, 0.3110493617...</td>\n",
       "      <td>[[0.997892131232, 0.463930380904, 0.6566684795...</td>\n",
       "      <td>[[0.995099226119, 0.0445065437097, 0.014515428...</td>\n",
       "    </tr>\n",
       "  </tbody>\n",
       "</table>\n",
       "</div>"
      ],
      "text/plain": [
       "             $n_\\mathrm{pop}=10;\\ t_\\mathrm{max}=50$  \\\n",
       "0  [[0.994817388053, 0.480364891068, 0.1904279077...   \n",
       "1  [[0.999964743712, 0.108566624125, 0.2044781202...   \n",
       "2  [[0.999899245234, 0.498025707907, 0.3021017116...   \n",
       "3  [[0.99984792885, 0.710957417328, 0.41318674314...   \n",
       "4  [[0.999987448681, 0.801517564814, 0.3110493617...   \n",
       "\n",
       "             $n_\\mathrm{pop}=50;\\ t_\\mathrm{max}=10$  \\\n",
       "0  [[0.997904076367, 0.21342320317, 0.09010790042...   \n",
       "1  [[0.999120446945, 0.20481552408, 0.30617620850...   \n",
       "2  [[0.999895650295, 0.957596410172, 0.9905124196...   \n",
       "3  [[0.998911139111, 0.314036129554, 0.9862156766...   \n",
       "4  [[0.997892131232, 0.463930380904, 0.6566684795...   \n",
       "\n",
       "             $n_\\mathrm{pop}=100;\\ t_\\mathrm{max}=5$  \n",
       "0  [[0.99706860078, 0.376303223121, 0.41614165565...  \n",
       "1  [[0.999165564119, 0.600787351565, 0.8000724117...  \n",
       "2  [[0.999506012055, 0.756185558766, 0.5029402967...  \n",
       "3  [[0.998876772642, 0.631907845925, 0.9016535091...  \n",
       "4  [[0.995099226119, 0.0445065437097, 0.014515428...  "
      ]
     },
     "execution_count": 96,
     "metadata": {},
     "output_type": "execute_result"
    }
   ],
   "source": [
    "res.head()"
   ]
  },
  {
   "cell_type": "markdown",
   "metadata": {
    "internals": {
     "frag_helper": "fragment_end",
     "frag_number": 131,
     "slide_type": "subslide"
    },
    "slideshow": {
     "slide_type": "slide"
    }
   },
   "source": [
    "## A first glace at the results"
   ]
  },
  {
   "cell_type": "code",
   "execution_count": 97,
   "metadata": {
    "internals": {
     "frag_helper": "fragment_end",
     "frag_number": 131
    },
    "slideshow": {
     "slide_type": "-"
    }
   },
   "outputs": [
    {
     "data": {
      "image/png": "[encoded data removed]",
      "text/plain": [
       "<matplotlib.figure.Figure at 0x7f121f189b10>"
      ]
     },
     "metadata": {},
     "output_type": "display_data"
    }
   ],
   "source": [
    "a = res.applymap(lambda pop: [toolbox.evaluate(ind) for ind in pop])\n",
    "plt.figure(figsize=(11,3))\n",
    "for i, col in enumerate(a.columns):\n",
    "    plt.subplot(1, len(a.columns), i+1)\n",
    "    for pop in a[col]:\n",
    "        x = pd.DataFrame(data=pop)\n",
    "        plt.scatter(x[0], x[1], marker='.', alpha=0.5)\n",
    "    plt.title(col)   "
   ]
  },
  {
   "cell_type": "markdown",
   "metadata": {
    "internals": {
     "frag_helper": "fragment_end",
     "frag_number": 131,
     "slide_helper": "subslide_end"
    },
    "slide_helper": "slide_end",
    "slideshow": {
     "slide_type": "-"
    }
   },
   "source": [
    "The local Pareto-optimal fronts are clearly visible!"
   ]
  },
  {
   "cell_type": "markdown",
   "metadata": {
    "internals": {
     "frag_helper": "fragment_end",
     "frag_number": 131,
     "slide_helper": "subslide_end",
     "slide_type": "subslide"
    },
    "slide_helper": "slide_end",
    "slideshow": {
     "slide_type": "slide"
    }
   },
   "source": [
    "## Calculating performance indicators\n",
    "\n",
    "* As already mentioned, we need to evaluate the quality of the solutions produced in every execution of the algorithm. \n",
    "* We will use the hypervolumne indicator for that.\n",
    "* Larger hypervolume values are better.\n",
    "* We already filtered each population a leave only the non-dominated individuals."
   ]
  },
  {
   "cell_type": "markdown",
   "metadata": {
    "internals": {
     "frag_helper": "fragment_end",
     "frag_number": 131,
     "slide_type": "subslide"
    },
    "slideshow": {
     "slide_type": "slide"
    }
   },
   "source": [
    "Calculating the *reference point*: a point that is **“worst”** than any other individual in every objective."
   ]
  },
  {
   "cell_type": "code",
   "execution_count": 98,
   "metadata": {
    "collapsed": true,
    "internals": {
     "frag_helper": "fragment_end",
     "frag_number": 131
    },
    "slideshow": {
     "slide_type": "-"
    }
   },
   "outputs": [],
   "source": [
    "def calculate_reference(results, epsilon=0.1):\n",
    "    alldata = np.concatenate(np.concatenate(results.values))\n",
    "    obj_vals = [toolbox.evaluate(ind) for ind in alldata]\n",
    "    return np.max(obj_vals, axis=0) + epsilon"
   ]
  },
  {
   "cell_type": "code",
   "execution_count": 99,
   "metadata": {
    "collapsed": true,
    "internals": {
     "frag_helper": "fragment_end",
     "frag_number": 145
    },
    "slideshow": {
     "slide_type": "fragment"
    }
   },
   "outputs": [],
   "source": [
    "reference = calculate_reference(res)"
   ]
  },
  {
   "cell_type": "code",
   "execution_count": 100,
   "metadata": {
    "internals": {
     "frag_helper": "fragment_end",
     "frag_number": 145,
     "slide_helper": "subslide_end"
    },
    "slide_helper": "slide_end",
    "slideshow": {
     "slide_type": "-"
    }
   },
   "outputs": [
    {
     "data": {
      "text/plain": [
       "array([ 3431.87828861,  3300.21293866])"
      ]
     },
     "execution_count": 100,
     "metadata": {},
     "output_type": "execute_result"
    }
   ],
   "source": [
    "reference"
   ]
  },
  {
   "cell_type": "markdown",
   "metadata": {
    "internals": {
     "frag_helper": "fragment_end",
     "frag_number": 145,
     "slide_type": "subslide"
    },
    "slideshow": {
     "slide_type": "slide"
    }
   },
   "source": [
    "We can now compute the hypervolume of the Pareto-optimal fronts yielded by each algorithm run."
   ]
  },
  {
   "cell_type": "code",
   "execution_count": 101,
   "metadata": {
    "collapsed": true,
    "internals": {
     "frag_helper": "fragment_end",
     "frag_number": 145
    },
    "slideshow": {
     "slide_type": "-"
    }
   },
   "outputs": [],
   "source": [
    "import deap.benchmarks.tools as bt"
   ]
  },
  {
   "cell_type": "code",
   "execution_count": 102,
   "metadata": {
    "collapsed": true,
    "internals": {
     "frag_helper": "fragment_end",
     "frag_number": 145
    },
    "slideshow": {
     "slide_type": "-"
    }
   },
   "outputs": [],
   "source": [
    "hypervols = res.applymap(lambda pop: bt.hypervolume(pop, reference))"
   ]
  },
  {
   "cell_type": "code",
   "execution_count": 103,
   "metadata": {
    "internals": {
     "frag_helper": "fragment_end",
     "frag_number": 150,
     "slide_helper": "subslide_end"
    },
    "slide_helper": "slide_end",
    "slideshow": {
     "slide_type": "fragment"
    }
   },
   "outputs": [
    {
     "data": {
      "text/html": [
       "<div>\n",
       "<table border=\"1\" class=\"dataframe\">\n",
       "  <thead>\n",
       "    <tr style=\"text-align: right;\">\n",
       "      <th></th>\n",
       "      <th>$n_\\mathrm{pop}=10;\\ t_\\mathrm{max}=50$</th>\n",
       "      <th>$n_\\mathrm{pop}=50;\\ t_\\mathrm{max}=10$</th>\n",
       "      <th>$n_\\mathrm{pop}=100;\\ t_\\mathrm{max}=5$</th>\n",
       "    </tr>\n",
       "  </thead>\n",
       "  <tbody>\n",
       "    <tr>\n",
       "      <th>0</th>\n",
       "      <td>1.044276e+07</td>\n",
       "      <td>9.245960e+06</td>\n",
       "      <td>8.131700e+06</td>\n",
       "    </tr>\n",
       "    <tr>\n",
       "      <th>1</th>\n",
       "      <td>1.018302e+07</td>\n",
       "      <td>8.441610e+06</td>\n",
       "      <td>7.904528e+06</td>\n",
       "    </tr>\n",
       "    <tr>\n",
       "      <th>2</th>\n",
       "      <td>1.072249e+07</td>\n",
       "      <td>8.803073e+06</td>\n",
       "      <td>7.956519e+06</td>\n",
       "    </tr>\n",
       "    <tr>\n",
       "      <th>3</th>\n",
       "      <td>1.083909e+07</td>\n",
       "      <td>8.681583e+06</td>\n",
       "      <td>8.024760e+06</td>\n",
       "    </tr>\n",
       "    <tr>\n",
       "      <th>4</th>\n",
       "      <td>1.074827e+07</td>\n",
       "      <td>9.086614e+06</td>\n",
       "      <td>7.583673e+06</td>\n",
       "    </tr>\n",
       "  </tbody>\n",
       "</table>\n",
       "</div>"
      ],
      "text/plain": [
       "   $n_\\mathrm{pop}=10;\\ t_\\mathrm{max}=50$  \\\n",
       "0                             1.044276e+07   \n",
       "1                             1.018302e+07   \n",
       "2                             1.072249e+07   \n",
       "3                             1.083909e+07   \n",
       "4                             1.074827e+07   \n",
       "\n",
       "   $n_\\mathrm{pop}=50;\\ t_\\mathrm{max}=10$  \\\n",
       "0                             9.245960e+06   \n",
       "1                             8.441610e+06   \n",
       "2                             8.803073e+06   \n",
       "3                             8.681583e+06   \n",
       "4                             9.086614e+06   \n",
       "\n",
       "   $n_\\mathrm{pop}=100;\\ t_\\mathrm{max}=5$  \n",
       "0                             8.131700e+06  \n",
       "1                             7.904528e+06  \n",
       "2                             7.956519e+06  \n",
       "3                             8.024760e+06  \n",
       "4                             7.583673e+06  "
      ]
     },
     "execution_count": 103,
     "metadata": {},
     "output_type": "execute_result"
    }
   ],
   "source": [
    "hypervols.head()"
   ]
  },
  {
   "cell_type": "markdown",
   "metadata": {
    "internals": {
     "frag_helper": "fragment_end",
     "frag_number": 150,
     "slide_type": "subslide"
    },
    "slideshow": {
     "slide_type": "slide"
    }
   },
   "source": [
    "## How can we interpret the indicators?"
   ]
  },
  {
   "cell_type": "markdown",
   "metadata": {
    "internals": {
     "frag_helper": "fragment_end",
     "frag_number": 152
    },
    "slideshow": {
     "slide_type": "fragment"
    }
   },
   "source": [
    "### Option A: Tabular form"
   ]
  },
  {
   "cell_type": "code",
   "execution_count": 104,
   "metadata": {
    "internals": {
     "frag_helper": "fragment_end",
     "frag_number": 152,
     "slide_helper": "subslide_end"
    },
    "slide_helper": "slide_end",
    "slideshow": {
     "slide_type": "-"
    }
   },
   "outputs": [
    {
     "data": {
      "text/html": [
       "<div>\n",
       "<table border=\"1\" class=\"dataframe\">\n",
       "  <thead>\n",
       "    <tr style=\"text-align: right;\">\n",
       "      <th></th>\n",
       "      <th>$n_\\mathrm{pop}=10;\\ t_\\mathrm{max}=50$</th>\n",
       "      <th>$n_\\mathrm{pop}=50;\\ t_\\mathrm{max}=10$</th>\n",
       "      <th>$n_\\mathrm{pop}=100;\\ t_\\mathrm{max}=5$</th>\n",
       "    </tr>\n",
       "  </thead>\n",
       "  <tbody>\n",
       "    <tr>\n",
       "      <th>count</th>\n",
       "      <td>4.200000e+01</td>\n",
       "      <td>4.200000e+01</td>\n",
       "      <td>4.200000e+01</td>\n",
       "    </tr>\n",
       "    <tr>\n",
       "      <th>mean</th>\n",
       "      <td>1.044011e+07</td>\n",
       "      <td>8.861205e+06</td>\n",
       "      <td>8.104005e+06</td>\n",
       "    </tr>\n",
       "    <tr>\n",
       "      <th>std</th>\n",
       "      <td>3.792174e+05</td>\n",
       "      <td>3.084970e+05</td>\n",
       "      <td>2.791741e+05</td>\n",
       "    </tr>\n",
       "    <tr>\n",
       "      <th>min</th>\n",
       "      <td>9.175665e+06</td>\n",
       "      <td>8.154079e+06</td>\n",
       "      <td>7.583673e+06</td>\n",
       "    </tr>\n",
       "    <tr>\n",
       "      <th>25%</th>\n",
       "      <td>1.029000e+07</td>\n",
       "      <td>8.658680e+06</td>\n",
       "      <td>7.921452e+06</td>\n",
       "    </tr>\n",
       "    <tr>\n",
       "      <th>50%</th>\n",
       "      <td>1.053307e+07</td>\n",
       "      <td>8.819909e+06</td>\n",
       "      <td>8.017804e+06</td>\n",
       "    </tr>\n",
       "    <tr>\n",
       "      <th>75%</th>\n",
       "      <td>1.071505e+07</td>\n",
       "      <td>9.079575e+06</td>\n",
       "      <td>8.293821e+06</td>\n",
       "    </tr>\n",
       "    <tr>\n",
       "      <th>max</th>\n",
       "      <td>1.094633e+07</td>\n",
       "      <td>9.690607e+06</td>\n",
       "      <td>8.779402e+06</td>\n",
       "    </tr>\n",
       "  </tbody>\n",
       "</table>\n",
       "</div>"
      ],
      "text/plain": [
       "       $n_\\mathrm{pop}=10;\\ t_\\mathrm{max}=50$  \\\n",
       "count                             4.200000e+01   \n",
       "mean                              1.044011e+07   \n",
       "std                               3.792174e+05   \n",
       "min                               9.175665e+06   \n",
       "25%                               1.029000e+07   \n",
       "50%                               1.053307e+07   \n",
       "75%                               1.071505e+07   \n",
       "max                               1.094633e+07   \n",
       "\n",
       "       $n_\\mathrm{pop}=50;\\ t_\\mathrm{max}=10$  \\\n",
       "count                             4.200000e+01   \n",
       "mean                              8.861205e+06   \n",
       "std                               3.084970e+05   \n",
       "min                               8.154079e+06   \n",
       "25%                               8.658680e+06   \n",
       "50%                               8.819909e+06   \n",
       "75%                               9.079575e+06   \n",
       "max                               9.690607e+06   \n",
       "\n",
       "       $n_\\mathrm{pop}=100;\\ t_\\mathrm{max}=5$  \n",
       "count                             4.200000e+01  \n",
       "mean                              8.104005e+06  \n",
       "std                               2.791741e+05  \n",
       "min                               7.583673e+06  \n",
       "25%                               7.921452e+06  \n",
       "50%                               8.017804e+06  \n",
       "75%                               8.293821e+06  \n",
       "max                               8.779402e+06  "
      ]
     },
     "execution_count": 104,
     "metadata": {},
     "output_type": "execute_result"
    }
   ],
   "source": [
    "hypervols.describe()"
   ]
  },
  {
   "cell_type": "markdown",
   "metadata": {
    "internals": {
     "frag_helper": "fragment_end",
     "frag_number": 152,
     "slide_type": "subslide"
    },
    "slideshow": {
     "slide_type": "slide"
    }
   },
   "source": [
    "### Option B: Visualization"
   ]
  },
  {
   "cell_type": "code",
   "execution_count": 105,
   "metadata": {
    "internals": {
     "frag_helper": "fragment_end",
     "frag_number": 152,
     "slide_helper": "subslide_end"
    },
    "slide_helper": "slide_end",
    "slideshow": {
     "slide_type": "-"
    }
   },
   "outputs": [
    {
     "data": {
      "image/png": "[encoded data removed]",
      "text/plain": [
       "<matplotlib.figure.Figure at 0x7f123a72b7d0>"
      ]
     },
     "metadata": {},
     "output_type": "display_data"
    }
   ],
   "source": [
    "fig = plt.figure(figsize=(11,4))\n",
    "plt.subplot(121, title='Violin plots of NSGA-II with $P_{\\mathrm{mut}}$')\n",
    "seaborn.violinplot(data=hypervols, palette='Set2')\n",
    "plt.ylabel('Hypervolume'); plt.xlabel('Configuration')\n",
    "plt.subplot(122, title='Box plots of NSGA-II with $P_{\\mathrm{mut}}$')\n",
    "seaborn.boxplot(data=hypervols, palette='Set2')\n",
    "plt.ylabel('Hypervolume'); plt.xlabel('Configuration');\n",
    "plt.tight_layout()"
   ]
  },
  {
   "cell_type": "markdown",
   "metadata": {
    "internals": {
     "frag_helper": "fragment_end",
     "frag_number": 152,
     "slide_type": "subslide"
    },
    "slideshow": {
     "slide_type": "slide"
    }
   },
   "source": [
    "## Option C: Statistical hypothesis test"
   ]
  },
  {
   "cell_type": "markdown",
   "metadata": {
    "internals": {
     "frag_helper": "fragment_end",
     "frag_number": 152,
     "slide_helper": "subslide_end"
    },
    "slide_helper": "slide_end",
    "slideshow": {
     "slide_type": "-"
    }
   },
   "source": [
    "* Choosing the correct statistical test is essential to properly report the results.\n",
    "* [Nonparametric statistics](http://en.wikipedia.org/wiki/Nonparametric_statistics) can lend a helping hand.\n",
    "* [Parametric statistics](http://en.wikipedia.org/wiki/Parametric_statistics) could be a better choice in some cases. \n",
    "* Parametric statistics require that *all* data follow a known distribution (frequently a normal one).\n",
    "* Some tests -like the [normality test](http://en.wikipedia.org/wiki/Normality_test)- can be apply to verify that data meet the parametric stats requirements.\n",
    "* In my experience that is very unlikely that all your EMO result meet those characteristics."
   ]
  },
  {
   "cell_type": "markdown",
   "metadata": {
    "internals": {
     "frag_helper": "fragment_end",
     "frag_number": 152,
     "slide_type": "subslide"
    },
    "slideshow": {
     "slide_type": "slide"
    }
   },
   "source": [
    "We start by writing a function that helps us tabulate the results of the application of an statistical hypothesis test."
   ]
  },
  {
   "cell_type": "code",
   "execution_count": 106,
   "metadata": {
    "collapsed": true,
    "internals": {
     "frag_helper": "fragment_end",
     "frag_number": 152
    },
    "slideshow": {
     "slide_type": "-"
    }
   },
   "outputs": [],
   "source": [
    "import itertools\n",
    "import scipy.stats as stats"
   ]
  },
  {
   "cell_type": "code",
   "execution_count": 107,
   "metadata": {
    "collapsed": true,
    "internals": {
     "frag_helper": "fragment_end",
     "frag_number": 152,
     "slide_helper": "subslide_end"
    },
    "slide_helper": "slide_end",
    "slideshow": {
     "slide_type": "-"
    }
   },
   "outputs": [],
   "source": [
    "def compute_stat_matrix(data, stat_func, alpha=0.05):\n",
    "    '''A function that applies `stat_func` to all combinations of columns in `data`.\n",
    "    Returns a squared matrix with the p-values'''\n",
    "    p_values = pd.DataFrame(columns=data.columns, index=data.columns)\n",
    "    for a,b in itertools.combinations(data.columns,2):\n",
    "        s,p = stat_func(data[a], data[b]) \n",
    "        p_values[a].ix[b] = p\n",
    "        p_values[b].ix[a] = p\n",
    "    return p_values"
   ]
  },
  {
   "cell_type": "markdown",
   "metadata": {
    "internals": {
     "frag_helper": "fragment_end",
     "frag_number": 152,
     "slide_type": "subslide"
    },
    "slideshow": {
     "slide_type": "slide"
    }
   },
   "source": [
    "The [Kruskal-Wallis H-test](http://docs.scipy.org/doc/scipy-0.14.0/reference/generated/scipy.stats.kruskal.html) tests the null hypothesis that the population median of all of the groups are equal.\n",
    "\n",
    "* It is a non-parametric version of [ANOVA](http://en.wikipedia.org/wiki/Analysis_of_variance). \n",
    "* The test works on 2 or more independent samples, which may have different sizes. \n",
    "* Note that rejecting the null hypothesis does not indicate which of the groups differs. \n",
    "* Post-hoc comparisons between groups are required to determine which groups are different."
   ]
  },
  {
   "cell_type": "code",
   "execution_count": 108,
   "metadata": {
    "internals": {
     "frag_helper": "fragment_end",
     "frag_number": 163
    },
    "slideshow": {
     "slide_type": "fragment"
    }
   },
   "outputs": [
    {
     "data": {
      "text/plain": [
       "KruskalResult(statistic=106.18747656542934, pvalue=8.7434421354536451e-24)"
      ]
     },
     "execution_count": 108,
     "metadata": {},
     "output_type": "execute_result"
    }
   ],
   "source": [
    "stats.kruskal(*[hypervols[col] for col in hypervols.columns])"
   ]
  },
  {
   "cell_type": "markdown",
   "metadata": {
    "internals": {
     "frag_helper": "fragment_end",
     "frag_number": 163,
     "slide_helper": "subslide_end"
    },
    "slide_helper": "slide_end",
    "slideshow": {
     "slide_type": "-"
    }
   },
   "source": [
    "We now can assert that the results are not the same but which ones are different or similar to the others the others?"
   ]
  },
  {
   "cell_type": "markdown",
   "metadata": {
    "internals": {
     "frag_helper": "fragment_end",
     "frag_number": 163,
     "slide_helper": "subslide_end",
     "slide_type": "subslide"
    },
    "slide_helper": "slide_end",
    "slideshow": {
     "slide_type": "slide"
    }
   },
   "source": [
    "In case that the null hypothesis of the Kruskal-Wallis is rejected the Conover–Inman procedure (Conover, 1999, pp. 288-290) can be applied in a pairwise manner in order to determine if the results of one algorithm were significantly better than those of the other.\n",
    "\n",
    "* Conover, W. J. (1999). *Practical Nonparametric Statistics*. John Wiley & Sons, New York, 3rd edition.\n",
    "\n",
    "_Note_: If you want to get an extended summary of this method check out my [PhD thesis](http://lmarti.com/pubs). "
   ]
  },
  {
   "cell_type": "code",
   "execution_count": 109,
   "metadata": {
    "collapsed": true,
    "internals": {
     "frag_helper": "fragment_end",
     "frag_number": 163,
     "slide_helper": "subslide_end",
     "slide_type": "subslide"
    },
    "slide_helper": "slide_end",
    "slideshow": {
     "slide_type": "slide"
    }
   },
   "outputs": [],
   "source": [
    "def conover_inman_procedure(data, alpha=0.05):\n",
    "    num_runs = len(data)\n",
    "    num_algos = len(data.columns)\n",
    "    N = num_runs*num_algos\n",
    "\n",
    "    _,p_value = stats.kruskal(*[data[col] for col in data.columns])\n",
    "    \n",
    "    ranked =  stats.rankdata(np.concatenate([data[col] for col in data.columns]))\n",
    "    \n",
    "    ranksums = []\n",
    "    for i in range(num_algos):\n",
    "        ranksums.append(np.sum(ranked[num_runs*i:num_runs*(i+1)]))\n",
    "\n",
    "    S_sq = (np.sum(ranked**2) - N*((N+1)**2)/4)/(N-1)\n",
    "\n",
    "    right_side = stats.t.cdf(1-(alpha/2), N-num_algos) * \\\n",
    "                 math.sqrt((S_sq*((N-1-p_value)/(N-1)))*2/num_runs)\n",
    "    \n",
    "    res = pd.DataFrame(columns=data.columns, index=data.columns)\n",
    "\n",
    "    for i,j in itertools.combinations(np.arange(num_algos),2):\n",
    "        res[res.columns[i]].ix[j] = abs(ranksums[i] - ranksums[j]/num_runs) > right_side\n",
    "        res[res.columns[j]].ix[i] = abs(ranksums[i] - ranksums[j]/num_runs) > right_side\n",
    "    return res"
   ]
  },
  {
   "cell_type": "code",
   "execution_count": 110,
   "metadata": {
    "internals": {
     "frag_helper": "fragment_end",
     "frag_number": 163,
     "slide_type": "subslide"
    },
    "slideshow": {
     "slide_type": "slide"
    }
   },
   "outputs": [
    {
     "data": {
      "text/html": [
       "<div>\n",
       "<table border=\"1\" class=\"dataframe\">\n",
       "  <thead>\n",
       "    <tr style=\"text-align: right;\">\n",
       "      <th></th>\n",
       "      <th>$n_\\mathrm{pop}=10;\\ t_\\mathrm{max}=50$</th>\n",
       "      <th>$n_\\mathrm{pop}=50;\\ t_\\mathrm{max}=10$</th>\n",
       "      <th>$n_\\mathrm{pop}=100;\\ t_\\mathrm{max}=5$</th>\n",
       "    </tr>\n",
       "  </thead>\n",
       "  <tbody>\n",
       "    <tr>\n",
       "      <th>$n_\\mathrm{pop}=10;\\ t_\\mathrm{max}=50$</th>\n",
       "      <td>NaN</td>\n",
       "      <td>True</td>\n",
       "      <td>True</td>\n",
       "    </tr>\n",
       "    <tr>\n",
       "      <th>$n_\\mathrm{pop}=50;\\ t_\\mathrm{max}=10$</th>\n",
       "      <td>True</td>\n",
       "      <td>NaN</td>\n",
       "      <td>True</td>\n",
       "    </tr>\n",
       "    <tr>\n",
       "      <th>$n_\\mathrm{pop}=100;\\ t_\\mathrm{max}=5$</th>\n",
       "      <td>True</td>\n",
       "      <td>True</td>\n",
       "      <td>NaN</td>\n",
       "    </tr>\n",
       "  </tbody>\n",
       "</table>\n",
       "</div>"
      ],
      "text/plain": [
       "                                        $n_\\mathrm{pop}=10;\\ t_\\mathrm{max}=50$  \\\n",
       "$n_\\mathrm{pop}=10;\\ t_\\mathrm{max}=50$                                     NaN   \n",
       "$n_\\mathrm{pop}=50;\\ t_\\mathrm{max}=10$                                    True   \n",
       "$n_\\mathrm{pop}=100;\\ t_\\mathrm{max}=5$                                    True   \n",
       "\n",
       "                                        $n_\\mathrm{pop}=50;\\ t_\\mathrm{max}=10$  \\\n",
       "$n_\\mathrm{pop}=10;\\ t_\\mathrm{max}=50$                                    True   \n",
       "$n_\\mathrm{pop}=50;\\ t_\\mathrm{max}=10$                                     NaN   \n",
       "$n_\\mathrm{pop}=100;\\ t_\\mathrm{max}=5$                                    True   \n",
       "\n",
       "                                        $n_\\mathrm{pop}=100;\\ t_\\mathrm{max}=5$  \n",
       "$n_\\mathrm{pop}=10;\\ t_\\mathrm{max}=50$                                    True  \n",
       "$n_\\mathrm{pop}=50;\\ t_\\mathrm{max}=10$                                    True  \n",
       "$n_\\mathrm{pop}=100;\\ t_\\mathrm{max}=5$                                     NaN  "
      ]
     },
     "execution_count": 110,
     "metadata": {},
     "output_type": "execute_result"
    }
   ],
   "source": [
    "conover_inman_procedure(hypervols)"
   ]
  },
  {
   "cell_type": "markdown",
   "metadata": {
    "internals": {
     "frag_helper": "fragment_end",
     "frag_number": 163,
     "slide_helper": "subslide_end"
    },
    "slide_helper": "slide_end",
    "slideshow": {
     "slide_type": "-"
    }
   },
   "source": [
    "We now know in what cases the difference is sufficient as to say that one result is better than the other."
   ]
  },
  {
   "cell_type": "markdown",
   "metadata": {
    "internals": {
     "frag_helper": "fragment_end",
     "frag_number": 163,
     "slide_type": "subslide"
    },
    "slideshow": {
     "slide_type": "slide"
    }
   },
   "source": [
    "Another alternative is the [Friedman test](http://en.wikipedia.org/wiki/Friedman_test).\n",
    "\n",
    "* Its null hypothesis that repeated measurements of the same individuals have the same distribution. \n",
    "* It is often used to test for consistency among measurements obtained in different ways. \n",
    "    * For example, if two measurement techniques are used on the same set of individuals, the Friedman test can be used to determine if the two measurement techniques are consistent."
   ]
  },
  {
   "cell_type": "code",
   "execution_count": 111,
   "metadata": {
    "internals": {
     "frag_helper": "fragment_end",
     "frag_number": 163,
     "slide_helper": "subslide_end"
    },
    "slide_helper": "slide_end",
    "slideshow": {
     "slide_type": "-"
    }
   },
   "outputs": [
    {
     "data": {
      "text/plain": [
       "FriedmanchisquareResult(statistic=80.190476190476147, pvalue=3.862418642821122e-18)"
      ]
     },
     "execution_count": 111,
     "metadata": {},
     "output_type": "execute_result"
    }
   ],
   "source": [
    "measurements = [list(hypervols[col]) for col in hypervols.columns]\n",
    "stats.friedmanchisquare(*measurements)"
   ]
  },
  {
   "cell_type": "markdown",
   "metadata": {
    "internals": {
     "frag_helper": "fragment_end",
     "frag_number": 163,
     "slide_type": "subslide"
    },
    "slideshow": {
     "slide_type": "slide"
    }
   },
   "source": [
    "[Mann–Whitney U test](http://en.wikipedia.org/wiki/Mann%E2%80%93Whitney_U_test) (also called the Mann–Whitney–Wilcoxon (MWW), Wilcoxon rank-sum test (WRS), or Wilcoxon–Mann–Whitney test) is a nonparametric test of the null hypothesis that two populations are the same against an alternative hypothesis, especially that a particular population tends to have larger values than the other.\n",
    "\n",
    "It has greater efficiency than the $t$-test on non-normal distributions, such as a mixture of normal distributions, and it is nearly as efficient as the $t$-test on normal distributions."
   ]
  },
  {
   "cell_type": "code",
   "execution_count": 112,
   "metadata": {
    "internals": {
     "frag_helper": "fragment_end",
     "frag_number": 172,
     "slide_helper": "subslide_end"
    },
    "slide_helper": "slide_end",
    "slideshow": {
     "slide_type": "fragment"
    }
   },
   "outputs": [
    {
     "data": {
      "text/html": [
       "<div>\n",
       "<table border=\"1\" class=\"dataframe\">\n",
       "  <thead>\n",
       "    <tr style=\"text-align: right;\">\n",
       "      <th></th>\n",
       "      <th>$n_\\mathrm{pop}=10;\\ t_\\mathrm{max}=50$</th>\n",
       "      <th>$n_\\mathrm{pop}=50;\\ t_\\mathrm{max}=10$</th>\n",
       "      <th>$n_\\mathrm{pop}=100;\\ t_\\mathrm{max}=5$</th>\n",
       "    </tr>\n",
       "  </thead>\n",
       "  <tbody>\n",
       "    <tr>\n",
       "      <th>$n_\\mathrm{pop}=10;\\ t_\\mathrm{max}=50$</th>\n",
       "      <td>NaN</td>\n",
       "      <td>2.76161e-15</td>\n",
       "      <td>1.56072e-15</td>\n",
       "    </tr>\n",
       "    <tr>\n",
       "      <th>$n_\\mathrm{pop}=50;\\ t_\\mathrm{max}=10$</th>\n",
       "      <td>2.76161e-15</td>\n",
       "      <td>NaN</td>\n",
       "      <td>2.3641e-13</td>\n",
       "    </tr>\n",
       "    <tr>\n",
       "      <th>$n_\\mathrm{pop}=100;\\ t_\\mathrm{max}=5$</th>\n",
       "      <td>1.56072e-15</td>\n",
       "      <td>2.3641e-13</td>\n",
       "      <td>NaN</td>\n",
       "    </tr>\n",
       "  </tbody>\n",
       "</table>\n",
       "</div>"
      ],
      "text/plain": [
       "                                        $n_\\mathrm{pop}=10;\\ t_\\mathrm{max}=50$  \\\n",
       "$n_\\mathrm{pop}=10;\\ t_\\mathrm{max}=50$                                     NaN   \n",
       "$n_\\mathrm{pop}=50;\\ t_\\mathrm{max}=10$                             2.76161e-15   \n",
       "$n_\\mathrm{pop}=100;\\ t_\\mathrm{max}=5$                             1.56072e-15   \n",
       "\n",
       "                                        $n_\\mathrm{pop}=50;\\ t_\\mathrm{max}=10$  \\\n",
       "$n_\\mathrm{pop}=10;\\ t_\\mathrm{max}=50$                             2.76161e-15   \n",
       "$n_\\mathrm{pop}=50;\\ t_\\mathrm{max}=10$                                     NaN   \n",
       "$n_\\mathrm{pop}=100;\\ t_\\mathrm{max}=5$                              2.3641e-13   \n",
       "\n",
       "                                        $n_\\mathrm{pop}=100;\\ t_\\mathrm{max}=5$  \n",
       "$n_\\mathrm{pop}=10;\\ t_\\mathrm{max}=50$                             1.56072e-15  \n",
       "$n_\\mathrm{pop}=50;\\ t_\\mathrm{max}=10$                              2.3641e-13  \n",
       "$n_\\mathrm{pop}=100;\\ t_\\mathrm{max}=5$                                     NaN  "
      ]
     },
     "execution_count": 112,
     "metadata": {},
     "output_type": "execute_result"
    }
   ],
   "source": [
    "raw_p_values=compute_stat_matrix(hypervols, stats.mannwhitneyu)\n",
    "raw_p_values"
   ]
  },
  {
   "cell_type": "markdown",
   "metadata": {
    "internals": {
     "frag_helper": "fragment_end",
     "frag_number": 172,
     "slide_helper": "subslide_end",
     "slide_type": "subslide"
    },
    "slide_helper": "slide_end",
    "slideshow": {
     "slide_type": "slide"
    }
   },
   "source": [
    "The [familywise error rate](http://en.wikipedia.org/wiki/Familywise_error_rate) (FWER) is the probability of making one or more false discoveries, or [type I errors](http://en.wikipedia.org/wiki/Type_I_and_type_II_errors), among all the hypotheses when performing multiple hypotheses tests.\n",
    "\n",
    "_Example_: When performing a test, there is a $\\alpha$ chance of making a type I error. If we make $m$ tests, then the probability of making one type I error is $m\\alpha$. Therefore, if an $\\alpha=0.05$ is used and 5 pairwise comparisons are made, we will have a $5\\times0.05 = 0.25$ chance of making a type I error.\n",
    "\n",
    "* FWER procedures (such as the [Bonferroni correction](http://en.wikipedia.org/wiki/Bonferroni_correction)) exert a more stringent control over false discovery compared to False discovery rate controlling procedures. \n",
    "* FWER controlling seek to reduce the probability of even one false discovery, as opposed to the expected proportion of false discoveries. \n",
    "* Thus, FDR procedures have greater power at the cost of increased rates of type I errors, i.e., rejecting the null hypothesis of no effect when it should be accepted."
   ]
  },
  {
   "cell_type": "markdown",
   "metadata": {
    "internals": {
     "frag_helper": "fragment_end",
     "frag_number": 172,
     "slide_type": "subslide"
    },
    "slideshow": {
     "slide_type": "slide"
    }
   },
   "source": [
    "One of these corrections is the [Šidák correction](http://en.wikipedia.org/wiki/%C5%A0id%C3%A1k_correction) as it is less conservative than the [Bonferroni correction](http://en.wikipedia.org/wiki/Bonferroni_correction):\n",
    "$$\\alpha_{SID} = 1-(1-\\alpha)^\\frac{1}{m},$$\n",
    "where $m$ is the number of tests.\n",
    "\n",
    "* In our case $m$ is the number of combinations of algorithm configurations taken two at a time,\n",
    "$$\n",
    "m = {\\mathtt{number\\_of\\_experiments} \\choose 2}.\n",
    "$$\n",
    "* There are other corrections that can be used."
   ]
  },
  {
   "cell_type": "code",
   "execution_count": 113,
   "metadata": {
    "internals": {
     "frag_helper": "fragment_end",
     "frag_number": 172,
     "slide_helper": "subslide_end"
    },
    "slide_helper": "slide_end",
    "slideshow": {
     "slide_type": "-"
    }
   },
   "outputs": [
    {
     "data": {
      "text/plain": [
       "0.016952427508441503"
      ]
     },
     "execution_count": 113,
     "metadata": {},
     "output_type": "execute_result"
    }
   ],
   "source": [
    "from scipy.misc import comb\n",
    "alpha=0.05\n",
    "alpha_sid = 1 - (1-alpha)**(1/comb(len(hypervols.columns), 2))\n",
    "alpha_sid"
   ]
  },
  {
   "cell_type": "markdown",
   "metadata": {
    "internals": {
     "frag_helper": "fragment_end",
     "frag_number": 172,
     "slide_type": "subslide"
    },
    "slideshow": {
     "slide_type": "slide"
    }
   },
   "source": [
    "Let's apply the corrected alpha to `raw_p_values`. If we have a cell with a `True` value that means that those two results are the same."
   ]
  },
  {
   "cell_type": "code",
   "execution_count": 114,
   "metadata": {
    "internals": {
     "frag_helper": "fragment_end",
     "frag_number": 172,
     "slide_helper": "subslide_end"
    },
    "slide_helper": "slide_end",
    "slideshow": {
     "slide_type": "-"
    }
   },
   "outputs": [
    {
     "data": {
      "text/html": [
       "<div>\n",
       "<table border=\"1\" class=\"dataframe\">\n",
       "  <thead>\n",
       "    <tr style=\"text-align: right;\">\n",
       "      <th></th>\n",
       "      <th>$n_\\mathrm{pop}=10;\\ t_\\mathrm{max}=50$</th>\n",
       "      <th>$n_\\mathrm{pop}=50;\\ t_\\mathrm{max}=10$</th>\n",
       "      <th>$n_\\mathrm{pop}=100;\\ t_\\mathrm{max}=5$</th>\n",
       "    </tr>\n",
       "  </thead>\n",
       "  <tbody>\n",
       "    <tr>\n",
       "      <th>$n_\\mathrm{pop}=10;\\ t_\\mathrm{max}=50$</th>\n",
       "      <td>False</td>\n",
       "      <td>True</td>\n",
       "      <td>True</td>\n",
       "    </tr>\n",
       "    <tr>\n",
       "      <th>$n_\\mathrm{pop}=50;\\ t_\\mathrm{max}=10$</th>\n",
       "      <td>True</td>\n",
       "      <td>False</td>\n",
       "      <td>True</td>\n",
       "    </tr>\n",
       "    <tr>\n",
       "      <th>$n_\\mathrm{pop}=100;\\ t_\\mathrm{max}=5$</th>\n",
       "      <td>True</td>\n",
       "      <td>True</td>\n",
       "      <td>False</td>\n",
       "    </tr>\n",
       "  </tbody>\n",
       "</table>\n",
       "</div>"
      ],
      "text/plain": [
       "                                        $n_\\mathrm{pop}=10;\\ t_\\mathrm{max}=50$  \\\n",
       "$n_\\mathrm{pop}=10;\\ t_\\mathrm{max}=50$                                   False   \n",
       "$n_\\mathrm{pop}=50;\\ t_\\mathrm{max}=10$                                    True   \n",
       "$n_\\mathrm{pop}=100;\\ t_\\mathrm{max}=5$                                    True   \n",
       "\n",
       "                                        $n_\\mathrm{pop}=50;\\ t_\\mathrm{max}=10$  \\\n",
       "$n_\\mathrm{pop}=10;\\ t_\\mathrm{max}=50$                                    True   \n",
       "$n_\\mathrm{pop}=50;\\ t_\\mathrm{max}=10$                                   False   \n",
       "$n_\\mathrm{pop}=100;\\ t_\\mathrm{max}=5$                                    True   \n",
       "\n",
       "                                        $n_\\mathrm{pop}=100;\\ t_\\mathrm{max}=5$  \n",
       "$n_\\mathrm{pop}=10;\\ t_\\mathrm{max}=50$                                    True  \n",
       "$n_\\mathrm{pop}=50;\\ t_\\mathrm{max}=10$                                    True  \n",
       "$n_\\mathrm{pop}=100;\\ t_\\mathrm{max}=5$                                   False  "
      ]
     },
     "execution_count": 114,
     "metadata": {},
     "output_type": "execute_result"
    }
   ],
   "source": [
    "raw_p_values.applymap(lambda value: value <= alpha_sid)"
   ]
  },
  {
   "cell_type": "markdown",
   "metadata": {
    "internals": {
     "frag_helper": "fragment_end",
     "frag_number": 172,
     "slide_helper": "subslide_end",
     "slide_type": "subslide"
    },
    "slide_helper": "slide_end",
    "slideshow": {
     "slide_type": "slide"
    }
   },
   "source": [
    "## Further -and highly recommended- reading\n",
    "\n",
    "* Cohen, P. R. (1995). _Empirical Methods for Artificial Intelligence_ (Vol. 139). Cambridge: MIT press. [link](http://mitpress.mit.edu/books/empirical-methods-artificial-intelligence)\n",
    "* Bartz-Beielstein, Thomas (2006). _Experimental Research in Evolutionary Computation: The New Experimentalism_. Springer [link](http://link.springer.com/book/10.1007%2F3-540-32027-X)\n",
    "* García, S., & Herrera, F. (2008). _An Extension on “Statistical Comparisons of Classifiers over Multiple Data Sets” for all Pairwise Comparisons_. Journal of Machine Learning Research, 9, 2677–2694. [pdf](http://www.jmlr.org/papers/v9/garcia08a.html)"
   ]
  },
  {
   "cell_type": "markdown",
   "metadata": {
    "internals": {
     "frag_helper": "fragment_end",
     "frag_number": 172,
     "slide_type": "subslide"
    },
    "slideshow": {
     "slide_type": "slide"
    }
   },
   "source": [
    "# Final remarks\n",
    "\n"
   ]
  },
  {
   "cell_type": "markdown",
   "metadata": {
    "internals": {
     "frag_helper": "fragment_end",
     "frag_number": 172,
     "slide_helper": "subslide_end"
    },
    "slide_helper": "slide_end",
    "slideshow": {
     "slide_type": "-"
    }
   },
   "source": [
    "In this class/notebook we have seen some key elements:\n",
    "\n",
    "1. The Pareto dominance relation in action.\n",
    "2. The NSGA-II algorithm.\n",
    "3. Some of the existing MOP benchmarks. \n",
    "4. How to perform experiments and draw statistically valid conclusions from them.\n",
    "\n",
    "Bear in mind that:\n",
    "\n",
    "* When working in EMO topics problems like those of the CEC'09 or WFG toolkits are usually involved.\n",
    "* The issue of devising a proper experiment design and interpreting the results is a fundamental one.\n",
    "* The experimental setup presented here can be used with little modifications to single-objective optimization and even to other machine learning or stochastic algorithms."
   ]
  },
  {
   "cell_type": "markdown",
   "metadata": {},
   "source": [
    "<hr/>\n",
    "<div class=\"container-fluid\">\n",
    "  <div class='well'>\n",
    "      <div class=\"row\">\n",
    "          <div class=\"col-md-3\" align='center'>\n",
    "              <img align='center'alt=\"Creative Commons License\" style=\"border-width:0\" src=\"https://i.creativecommons.org/l/by-nc-sa/4.0/88x31.png\"/>\n",
    "          </div>\n",
    "          <div class=\"col-md-9\">\n",
    "              This work is licensed under a [Creative Commons Attribution-NonCommercial-ShareAlike 4.0 International License](http://creativecommons.org/licenses/by-nc-sa/4.0/).\n",
    "          </div>\n",
    "      </div>\n",
    "  </div>\n",
    "</div>"
   ]
  },
  {
   "cell_type": "code",
   "execution_count": 115,
   "metadata": {},
   "outputs": [
    {
     "data": {
      "application/json": {
       "Software versions": [
        {
         "module": "Python",
         "version": "2.7.12 64bit [GCC 4.8.4]"
        },
        {
         "module": "IPython",
         "version": "5.3.0"
        },
        {
         "module": "OS",
         "version": "Linux 4.4.0 72 generic x86_64 with Ubuntu 14.04 trusty"
        },
        {
         "module": "scipy",
         "version": "0.19.0"
        },
        {
         "module": "numpy",
         "version": "1.12.1"
        },
        {
         "module": "matplotlib",
         "version": "1.3.1"
        },
        {
         "module": "seaborn",
         "version": "0.7.1"
        },
        {
         "module": "deap",
         "version": "1.1"
        }
       ]
      },
      "text/html": [
       "<table><tr><th>Software</th><th>Version</th></tr><tr><td>Python</td><td>2.7.12 64bit [GCC 4.8.4]</td></tr><tr><td>IPython</td><td>5.3.0</td></tr><tr><td>OS</td><td>Linux 4.4.0 72 generic x86_64 with Ubuntu 14.04 trusty</td></tr><tr><td>scipy</td><td>0.19.0</td></tr><tr><td>numpy</td><td>1.12.1</td></tr><tr><td>matplotlib</td><td>1.3.1</td></tr><tr><td>seaborn</td><td>0.7.1</td></tr><tr><td>deap</td><td>1.1</td></tr><tr><td colspan='2'>Sat Apr 22 00:01:10 2017 CEST</td></tr></table>"
      ],
      "text/latex": [
       "\\begin{tabular}{|l|l|}\\hline\n",
       "{\\bf Software} & {\\bf Version} \\\\ \\hline\\hline\n",
       "Python & 2.7.12 64bit [GCC 4.8.4] \\\\ \\hline\n",
       "IPython & 5.3.0 \\\\ \\hline\n",
       "OS & Linux 4.4.0 72 generic x86\\_64 with Ubuntu 14.04 trusty \\\\ \\hline\n",
       "scipy & 0.19.0 \\\\ \\hline\n",
       "numpy & 1.12.1 \\\\ \\hline\n",
       "matplotlib & 1.3.1 \\\\ \\hline\n",
       "seaborn & 0.7.1 \\\\ \\hline\n",
       "deap & 1.1 \\\\ \\hline\n",
       "\\hline \\multicolumn{2}{|l|}{Sat Apr 22 00:01:10 2017 CEST} \\\\ \\hline\n",
       "\\end{tabular}\n"
      ],
      "text/plain": [
       "Software versions\n",
       "Python 2.7.12 64bit [GCC 4.8.4]\n",
       "IPython 5.3.0\n",
       "OS Linux 4.4.0 72 generic x86_64 with Ubuntu 14.04 trusty\n",
       "scipy 0.19.0\n",
       "numpy 1.12.1\n",
       "matplotlib 1.3.1\n",
       "seaborn 0.7.1\n",
       "deap 1.1\n",
       "Sat Apr 22 00:01:10 2017 CEST"
      ]
     },
     "execution_count": 115,
     "metadata": {},
     "output_type": "execute_result"
    }
   ],
   "source": [
    "# To install run: pip install version_information\n",
    "%load_ext version_information\n",
    "%version_information scipy, numpy, matplotlib, seaborn, deap"
   ]
  },
  {
   "cell_type": "code",
   "execution_count": 88,
   "metadata": {},
   "outputs": [
    {
     "ename": "ImportError",
     "evalue": "No module named request",
     "output_type": "error",
     "traceback": [
      "\u001b[0;31m---------------------------------------------------------------------------\u001b[0m",
      "\u001b[0;31mImportError\u001b[0m                               Traceback (most recent call last)",
      "\u001b[0;32m<ipython-input-88-f8e2e53fa71c>\u001b[0m in \u001b[0;36m<module>\u001b[0;34m()\u001b[0m\n\u001b[1;32m      1\u001b[0m \u001b[0;31m# this code is here for cosmetic reasons\u001b[0m\u001b[0;34m\u001b[0m\u001b[0;34m\u001b[0m\u001b[0m\n\u001b[1;32m      2\u001b[0m \u001b[0;32mfrom\u001b[0m \u001b[0mIPython\u001b[0m\u001b[0;34m.\u001b[0m\u001b[0mcore\u001b[0m\u001b[0;34m.\u001b[0m\u001b[0mdisplay\u001b[0m \u001b[0;32mimport\u001b[0m \u001b[0mHTML\u001b[0m\u001b[0;34m\u001b[0m\u001b[0m\n\u001b[0;32m----> 3\u001b[0;31m \u001b[0;32mfrom\u001b[0m \u001b[0murllib\u001b[0m\u001b[0;34m.\u001b[0m\u001b[0mrequest\u001b[0m \u001b[0;32mimport\u001b[0m \u001b[0murlopen\u001b[0m\u001b[0;34m\u001b[0m\u001b[0m\n\u001b[0m\u001b[1;32m      4\u001b[0m \u001b[0mHTML\u001b[0m\u001b[0;34m(\u001b[0m\u001b[0murlopen\u001b[0m\u001b[0;34m(\u001b[0m\u001b[0;34m'https://raw.githubusercontent.com/lmarti/jupyter_custom/master/custom.include'\u001b[0m\u001b[0;34m)\u001b[0m\u001b[0;34m.\u001b[0m\u001b[0mread\u001b[0m\u001b[0;34m(\u001b[0m\u001b[0;34m)\u001b[0m\u001b[0;34m.\u001b[0m\u001b[0mdecode\u001b[0m\u001b[0;34m(\u001b[0m\u001b[0;34m'utf-8'\u001b[0m\u001b[0;34m)\u001b[0m\u001b[0;34m)\u001b[0m\u001b[0;34m\u001b[0m\u001b[0m\n",
      "\u001b[0;31mImportError\u001b[0m: No module named request"
     ]
    }
   ],
   "source": [
    "# this code is here for cosmetic reasons\n",
    "from IPython.core.display import HTML\n",
    "from urllib.request import urlopen\n",
    "HTML(urlopen('https://raw.githubusercontent.com/lmarti/jupyter_custom/master/custom.include').read().decode('utf-8'))"
   ]
  },
  {
   "cell_type": "markdown",
   "metadata": {
    "collapsed": true
   },
   "source": [
    " "
   ]
  }
 ],
 "metadata": {
  "kernelspec": {
   "display_name": "Python 2",
   "language": "python",
   "name": "python2"
  },
  "language_info": {
   "codemirror_mode": {
    "name": "ipython",
    "version": 2
   },
   "file_extension": ".py",
   "mimetype": "text/x-python",
   "name": "python",
   "nbconvert_exporter": "python",
   "pygments_lexer": "ipython2",
   "version": "2.7.12"
  },
  "notify_time": "30",
  "widgets": {
   "state": {
    "fd0fbdf2f74c4fcfbc639df8f8988531": {
     "views": [
      {
       "cell_index": 117
      }
     ]
    }
   },
   "version": "1.2.0"
  }
 },
 "nbformat": 4,
 "nbformat_minor": 1
}
