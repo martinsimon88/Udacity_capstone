{
 "cells": [
  {
   "cell_type": "markdown",
   "metadata": {},
   "source": [
    "### Experiment: Single Objective Variance of True Probablity\n",
    "\n",
    "#### Aim\n",
    "\n",
    "Each row is provided as marks which will be allotted to the **individual** if it solves that row. Each row has marks = **pop_size**.\n",
    "\n",
    "If one individual solves a problem then the marks allotted to that row will decrease so that other inidividuals can focus on other rows for gaining marks. But the marks will not decresase beyond **40% of pop_size**\n",
    "\n",
    "My only concern is that in last when it becomes an ensemble will there be enough votes for the ensemble to predict?\n",
    "\n",
    "#### How does it make sure the accuracy is also increasing?\n",
    "\n",
    "\n",
    "#### Critism"
   ]
  },
  {
   "cell_type": "code",
   "execution_count": 1,
   "metadata": {},
   "outputs": [
    {
     "name": "stderr",
     "output_type": "stream",
     "text": [
      "/usr/local/lib/python2.7/dist-packages/sklearn/cross_validation.py:44: DeprecationWarning: This module was deprecated in version 0.18 in favor of the model_selection module into which all the refactored classes and functions are moved. Also note that the interface of the new CV iterators are different from that of this module. This module will be removed in 0.20.\n",
      "  \"This module will be removed in 0.20.\", DeprecationWarning)\n"
     ]
    }
   ],
   "source": [
    "import operator\n",
    "import itertools\n",
    "import numpy as np\n",
    "import seaborn as sb\n",
    "\n",
    "from deap import algorithms\n",
    "from deap import base\n",
    "from deap import creator\n",
    "from deap import tools\n",
    "from deap import gp\n",
    "\n",
    "from sklearn.tree import DecisionTreeClassifier\n",
    "from sklearn.ensemble import RandomForestClassifier, GradientBoostingClassifier\n",
    "from sklearn.datasets import load_digits\n",
    "from sklearn.cross_validation import train_test_split\n",
    "\n",
    "import matplotlib.pyplot as plt\n",
    "\n",
    "np.seterr(all='raise')\n",
    "\n",
    "digits = load_digits()\n",
    "digit_features, digit_labels = digits.data, digits.target\n",
    "X_train, X_test, y_train, y_test = train_test_split(digit_features, digit_labels, stratify=digit_labels,train_size=0.75, test_size=0.25)"
   ]
  },
  {
   "cell_type": "code",
   "execution_count": 2,
   "metadata": {},
   "outputs": [
    {
     "name": "stdout",
     "output_type": "stream",
     "text": [
      "Base DecisionTreeClassifier accuracy: 0.833333333333\n",
      "Base RandomForestClassifier accuracy: 0.946666666667\n",
      "Base GradientBoostingClassifier accuracy: 0.971111111111\n",
      "\n"
     ]
    }
   ],
   "source": [
    "# The exploration of the dataset by benchmark algorithms\n",
    "clf = DecisionTreeClassifier(random_state=34092)\n",
    "clf.fit(X_train, y_train)\n",
    "pred_DTC = clf.predict(X_test)\n",
    "print('Base DecisionTreeClassifier accuracy: {}'.format(clf.score(X_test, y_test)))\n",
    "\n",
    "clf = RandomForestClassifier(random_state=34092)\n",
    "clf.fit(X_train, y_train)\n",
    "pred_RFC = clf.predict(X_test)\n",
    "print('Base RandomForestClassifier accuracy: {}'.format(clf.score(X_test, y_test)))\n",
    "\n",
    "clf = GradientBoostingClassifier(random_state=34092)\n",
    "clf.fit(X_train, y_train)\n",
    "pred_GBC = clf.predict(X_test)\n",
    "print('Base GradientBoostingClassifier accuracy: {}'.format(clf.score(X_test, y_test)))\n",
    "\n",
    "print('')"
   ]
  },
  {
   "cell_type": "code",
   "execution_count": 3,
   "metadata": {
    "collapsed": true
   },
   "outputs": [],
   "source": [
    "max_marks = 100\n",
    "min_marks = 0.33*max_marks\n",
    "diff_global_marks = np.ones(y_test.shape[0])\n",
    "diff_global_marks = diff_global_marks*max_marks"
   ]
  },
  {
   "cell_type": "code",
   "execution_count": 4,
   "metadata": {
    "collapsed": true
   },
   "outputs": [],
   "source": [
    "def predict_unseen(population):\n",
    "    forest_predictions = []\n",
    "    for ind_num, individual in enumerate(population):\n",
    "        func = toolbox.compile(expr=individual)\n",
    "        \n",
    "        \n",
    "        sample_counts = [int(func(*record)) for record in X_train]\n",
    "        sample_counts = [max(min(sample_count, 10), 0) for sample_count in sample_counts]\n",
    "        sample = []\n",
    "        for sample_index, sample_count in enumerate(sample_counts):\n",
    "            sample.extend([sample_index] * sample_count)\n",
    "        sample = np.array(sample)\n",
    "\n",
    "        if len(sample) == 0:\n",
    "            return 1e-20, 1e-20\n",
    "\n",
    "        clf = DecisionTreeClassifier(random_state=34092)\n",
    "        clf.fit(X_train[sample], y_train[sample])\n",
    "        predictions = clf.predict(X_test)\n",
    "        forest_predictions.append(predictions)\n",
    "        \n",
    "    from collections import Counter\n",
    "    from sklearn.metrics import accuracy_score\n",
    "    \n",
    "    y_pred = np.array([Counter(instance_forest_predictions).most_common(1)[0][0] for instance_forest_predictions in zip(*forest_predictions)])\n",
    "    #np.sum(y_test == y_pred) / len(y_test)\n",
    "    print \"Accuracy->\"+str(np.sum(y_test == y_pred)*100/ len(y_test))"
   ]
  },
  {
   "cell_type": "code",
   "execution_count": 5,
   "metadata": {
    "collapsed": true
   },
   "outputs": [],
   "source": [
    "# defined a new primitive set for strongly typed GP\n",
    "pset = gp.PrimitiveSetTyped('MAIN', itertools.repeat(float, digit_features.shape[1]), bool, 'Feature')\n",
    "\n",
    "# boolean operators\n",
    "pset.addPrimitive(operator.and_, [bool, bool], bool)\n",
    "pset.addPrimitive(operator.or_, [bool, bool], bool)\n",
    "pset.addPrimitive(operator.not_, [bool], bool)\n",
    "\n",
    "# floating point operators\n",
    "# Define a protected division function\n",
    "def protectedDiv(left, right):\n",
    "    try: return left / right\n",
    "    except (ZeroDivisionError, FloatingPointError): return 1.\n",
    "\n",
    "pset.addPrimitive(operator.add, [float, float], float)\n",
    "pset.addPrimitive(operator.sub, [float, float], float)\n",
    "pset.addPrimitive(operator.mul, [float, float], float)\n",
    "pset.addPrimitive(protectedDiv, [float, float], float)\n",
    "\n",
    "# logic operators\n",
    "# Define a new if-then-else function\n",
    "def if_then_else(in1, output1, output2):\n",
    "    if in1: return output1\n",
    "    else: return output2\n",
    "\n",
    "pset.addPrimitive(operator.lt, [float, float], bool)\n",
    "pset.addPrimitive(operator.eq, [float, float], bool)\n",
    "pset.addPrimitive(if_then_else, [bool, float, float], float)\n",
    "\n",
    "# terminals\n",
    "pset.addTerminal(False, bool)\n",
    "pset.addTerminal(True, bool)\n",
    "for val in np.arange(-10., 11.):\n",
    "    pset.addTerminal(val, float)\n",
    "\n",
    "creator.create('FitnessMax', base.Fitness, weights=(1.0, 1.0))\n",
    "creator.create('Individual', gp.PrimitiveTree, fitness=creator.FitnessMax)\n",
    "\n",
    "toolbox = base.Toolbox()\n",
    "toolbox.register('expr', gp.genHalfAndHalf, pset=pset, min_=1, max_=3)\n",
    "toolbox.register('individual', tools.initIterate, creator.Individual, toolbox.expr)\n",
    "toolbox.register('population', tools.initRepeat, list, toolbox.individual)\n",
    "toolbox.register('compile', gp.compile, pset=pset)"
   ]
  },
  {
   "cell_type": "code",
   "execution_count": 6,
   "metadata": {
    "collapsed": true
   },
   "outputs": [],
   "source": [
    "def evaluate_individual(individual):\n",
    "    global diff_global_marks\n",
    "    # Transform the tree expression into a callable function\n",
    "    func = toolbox.compile(expr=individual)\n",
    "    \n",
    "    sample_counts = [int(func(*record)) for record in X_train]\n",
    "    sample_counts = [max(min(sample_count, 10), 0) for sample_count in sample_counts]\n",
    "    sample = []\n",
    "    for sample_index, sample_count in enumerate(sample_counts):\n",
    "        sample.extend([sample_index] * sample_count)\n",
    "    sample = np.array(sample)\n",
    "    \n",
    "    if len(sample) == 0:\n",
    "        return 1e-20, 1e-20\n",
    "    \n",
    "    clf = DecisionTreeClassifier(random_state=34092)\n",
    "    clf.fit(X_train[sample], y_train[sample])\n",
    "    #score = clf.score(X_test, y_test)\n",
    "    t_pred = clf.predict(X_test)\n",
    "    total_marks = np.sum((t_pred==y_test)*diff_global_marks)\n",
    "    accuracy = np.sum((t_pred==y_test))\n",
    "    \n",
    "    # Updating the diff_marks\n",
    "    bool_ = 1*(t_pred==y_test)\n",
    "    diff_global_marks = diff_global_marks-bool_\n",
    "    diff_global_marks[diff_global_marks<min_marks] = min_marks\n",
    "    \n",
    "    return total_marks, accuracy"
   ]
  },
  {
   "cell_type": "code",
   "execution_count": 7,
   "metadata": {},
   "outputs": [
    {
     "name": "stdout",
     "output_type": "stream",
     "text": [
      "gen\tnevals\tstd    \tmin  \tavg    \tmax  \n",
      "0  \t100   \t11700.9\t1e-20\t7090.31\t37500\n",
      "100\n",
      "1  \t100   \t5875.25\t1e-20\t3565.64\t20239\n",
      "100\n",
      "2  \t100   \t5031.46\t1e-20\t3451.01\t13437\n",
      "100\n",
      "3  \t100   \t4933.48\t1e-20\t3349.59\t13277\n",
      "100\n",
      "4  \t100   \t4867.12\t1e-20\t3307.26\t13415\n",
      "100\n",
      "5  \t100   \t4873.99\t1e-20\t3239.89\t12841\n",
      "100\n",
      "6  \t100   \t4241.1 \t1e-20\t2515.74\t12639\n",
      "100\n",
      "7  \t100   \t4133.09\t1e-20\t2457.03\t12474\n",
      "100\n",
      "8  \t100   \t4161.29\t1e-20\t2619.57\t12837\n",
      "100\n",
      "9  \t100   \t3924.45\t1e-20\t2527.09\t12832\n",
      "100\n",
      "10 \t100   \t3958.68\t1e-20\t2559.99\t12375\n",
      "100\n",
      "11 \t100   \t4540.04\t1e-20\t3323.47\t12375\n",
      "100\n",
      "12 \t100   \t4505.52\t1e-20\t3059.45\t12857\n",
      "100\n",
      "13 \t100   \t4485.21\t1e-20\t3200.75\t12606\n",
      "100\n",
      "14 \t100   \t4350.47\t1e-20\t3070.24\t12786\n",
      "100\n",
      "15 \t100   \t4469.86\t1e-20\t3091.19\t12617\n",
      "100\n",
      "16 \t100   \t4361.11\t1e-20\t2901.65\t12573\n",
      "100\n",
      "17 \t100   \t4450.94\t1e-20\t3028.43\t12706\n",
      "100\n",
      "18 \t100   \t4634.88\t1e-20\t3328.77\t12705\n",
      "100\n",
      "19 \t100   \t4595.24\t1e-20\t3226.43\t12738\n",
      "100\n",
      "20 \t100   \t4491.56\t1e-20\t3222.18\t12738\n",
      "100\n",
      "21 \t100   \t4129.08\t1e-20\t2785.96\t12738\n",
      "100\n",
      "22 \t100   \t4384.63\t1e-20\t2922.13\t12606\n",
      "100\n",
      "23 \t100   \t4643.07\t1e-20\t3236.29\t12705\n",
      "100\n",
      "24 \t100   \t4830.08\t1e-20\t3408.67\t12441\n",
      "100\n",
      "25 \t100   \t4838.6 \t1e-20\t3778.59\t12705\n",
      "100\n",
      "26 \t100   \t4596.68\t1e-20\t3486.36\t12738\n",
      "100\n",
      "27 \t100   \t4642.36\t1e-20\t3714.16\t12738\n",
      "100\n",
      "28 \t100   \t4760.94\t1e-20\t3898.78\t12771\n",
      "100\n",
      "29 \t100   \t4708.48\t1e-20\t3912.38\t12771\n",
      "100\n",
      "30 \t100   \t4957.58\t1e-20\t3961.34\t12771\n",
      "100\n",
      "31 \t100   \t4699.6 \t1e-20\t3607.06\t12771\n",
      "100\n",
      "32 \t100   \t4966.91\t1e-20\t3996.19\t12771\n",
      "100\n",
      "33 \t100   \t4691.52\t1e-20\t3640.38\t12870\n",
      "100\n",
      "34 \t100   \t4780.91\t1e-20\t3576.63\t12771\n",
      "100\n",
      "35 \t100   \t4935.94\t1e-20\t3802.73\t12771\n",
      "100\n",
      "36 \t100   \t4496.77\t1e-20\t3229.49\t12771\n",
      "100\n",
      "37 \t100   \t4582.19\t1e-20\t3455.42\t12771\n",
      "100\n",
      "38 \t100   \t4721.9 \t1e-20\t3676.42\t12837\n",
      "100\n",
      "39 \t100   \t4680.64\t1e-20\t3464.77\t12639\n",
      "100\n",
      "40 \t100   \t4643.75\t1e-20\t3320.61\t12540\n",
      "100\n",
      "41 \t100   \t4702.56\t1e-20\t3274.2 \t12606\n",
      "100\n",
      "42 \t100   \t4677.79\t1e-20\t2993.36\t12672\n",
      "100\n",
      "43 \t100   \t4420.3 \t1e-20\t2888.98\t12507\n",
      "100\n",
      "44 \t100   \t4424.2 \t1e-20\t2749.41\t12507\n",
      "100\n",
      "45 \t100   \t4760.59\t1e-20\t3152.31\t12573\n",
      "100\n",
      "46 \t100   \t4912.73\t1e-20\t3505.06\t12870\n",
      "100\n",
      "47 \t100   \t4827.14\t1e-20\t3401.19\t13068\n",
      "100\n",
      "48 \t100   \t4612.26\t1e-20\t3175.6 \t12474\n",
      "100\n",
      "49 \t100   \t4510.51\t1e-20\t3062.38\t12705\n",
      "100\n",
      "50 \t100   \t4600.13\t1e-20\t3191.92\t12705\n",
      "100\n",
      "51 \t100   \t4741.71\t1e-20\t3468.85\t12705\n",
      "100\n",
      "52 \t100   \t4589.92\t1e-20\t3375.69\t12705\n",
      "100\n",
      "53 \t100   \t4468.53\t1e-20\t2920.43\t12705\n",
      "100\n",
      "54 \t100   \t4617.76\t1e-20\t3096.38\t12705\n",
      "100\n",
      "55 \t100   \t4800.49\t1e-20\t3057.96\t12705\n",
      "100\n",
      "56 \t100   \t5044.1 \t1e-20\t3273.01\t12705\n",
      "100\n",
      "57 \t100   \t4944.84\t1e-20\t3065.78\t12837\n",
      "100\n",
      "58 \t100   \t4798.14\t1e-20\t2943.89\t12705\n",
      "100\n",
      "59 \t100   \t4766.97\t1e-20\t2805.34\t12672\n",
      "100\n",
      "60 \t100   \t4885.31\t1e-20\t2911.25\t12540\n",
      "100\n",
      "61 \t100   \t4691   \t1e-20\t2729.35\t12573\n",
      "100\n",
      "62 \t100   \t4745.86\t1e-20\t2687.7 \t12540\n",
      "100\n",
      "63 \t100   \t5256.53\t1e-20\t3557.76\t12672\n",
      "100\n",
      "64 \t100   \t5478.81\t1e-20\t4139.5 \t12672\n",
      "100\n",
      "65 \t100   \t5559.16\t1e-20\t4324.8 \t12870\n",
      "100\n",
      "66 \t100   \t5614.9 \t1e-20\t4459.78\t12804\n",
      "100\n",
      "67 \t100   \t5498.35\t1e-20\t4230.79\t12441\n",
      "100\n",
      "68 \t100   \t5395.09\t1e-20\t4120.8 \t12738\n",
      "100\n",
      "69 \t100   \t5353.52\t1e-20\t3970.69\t12738\n",
      "100\n",
      "70 \t100   \t5325.67\t1e-20\t3881.78\t12738\n",
      "100\n",
      "71 \t100   \t5370.27\t1e-20\t4085.61\t12738\n",
      "100\n",
      "72 \t100   \t5327.43\t1e-20\t4295.73\t12804\n",
      "100\n",
      "73 \t100   \t5279.15\t1e-20\t4107.03\t12804\n",
      "100\n",
      "74 \t100   \t4987.36\t1e-20\t3526.99\t12771\n",
      "100\n",
      "75 \t100   \t5269.56\t1e-20\t4023.22\t12771\n",
      "100\n",
      "76 \t100   \t5170.46\t1e-20\t3847.78\t12738\n",
      "100\n",
      "77 \t100   \t5050.75\t1e-20\t3566.6 \t12573\n",
      "100\n",
      "78 \t100   \t5111   \t1e-20\t3645.48\t12573\n",
      "100\n",
      "79 \t100   \t5066.36\t1e-20\t3753.26\t12573\n",
      "100\n",
      "80 \t100   \t5208.08\t1e-20\t4159.22\t12606\n",
      "100\n",
      "81 \t100   \t5261.37\t1e-20\t4096.32\t12672\n",
      "100\n",
      "82 \t100   \t5422.1 \t1e-20\t4185.23\t12606\n",
      "100\n",
      "83 \t100   \t5482.8 \t1e-20\t4347.75\t12672\n",
      "100\n",
      "84 \t100   \t5513.29\t1e-20\t4246.77\t12573\n",
      "100\n",
      "85 \t100   \t5537.24\t1e-20\t4445.16\t12573\n",
      "100\n",
      "86 \t100   \t5432.82\t1e-20\t4126.92\t12705\n",
      "100\n",
      "87 \t100   \t5381.5 \t1e-20\t3920.37\t12705\n",
      "100\n",
      "88 \t100   \t5083.9 \t1e-20\t3477.01\t12573\n",
      "100\n",
      "89 \t100   \t5086.23\t1e-20\t3674.72\t12705\n",
      "100\n",
      "90 \t100   \t5274.53\t1e-20\t3763.29\t12771\n",
      "100\n",
      "91 \t100   \t5030.04\t1e-20\t3195.66\t12672\n",
      "100\n",
      "92 \t100   \t5146.39\t1e-20\t3269.44\t12738\n",
      "100\n",
      "93 \t100   \t5448.37\t1e-20\t4096.15\t12639\n",
      "100\n",
      "94 \t100   \t5539.36\t1e-20\t4287.4 \t12837\n",
      "100\n",
      "95 \t100   \t5629   \t1e-20\t4561.27\t12804\n",
      "100\n",
      "96 \t100   \t5504.96\t1e-20\t4018.63\t12804\n",
      "100\n",
      "97 \t100   \t5393.33\t1e-20\t3793.38\t12804\n",
      "100\n",
      "98 \t100   \t5266.98\t1e-20\t3612.33\t12804\n",
      "100\n",
      "99 \t100   \t5309.09\t1e-20\t3838.6 \t12804\n",
      "100\n",
      "100\t100   \t5226.99\t1e-20\t3598.39\t12639\n"
     ]
    },
    {
     "data": {
      "text/plain": [
       "'and_(True, True)'"
      ]
     },
     "execution_count": 7,
     "metadata": {},
     "output_type": "execute_result"
    }
   ],
   "source": [
    "toolbox.register('evaluate', evaluate_individual)\n",
    "#toolbox.register('select', tools.selTournament, tournsize=3)\n",
    "toolbox.register(\"select\", tools.selNSGA2)\n",
    "toolbox.register('mate', gp.cxOnePoint)\n",
    "toolbox.register('expr_mut', gp.genFull, min_=0, max_=3)\n",
    "toolbox.register('mutate', gp.mutUniform, expr=toolbox.expr_mut, pset=pset)\n",
    "\n",
    "population = toolbox.population(n=max_marks)\n",
    "halloffame = tools.HallOfFame(1)\n",
    "stats = tools.Statistics(lambda ind: ind.fitness.values)\n",
    "stats.register('std', np.std)\n",
    "stats.register('min', np.min)\n",
    "stats.register('avg', np.mean)\n",
    "stats.register('max', np.max)\n",
    "\n",
    "cxpb = 0.5\n",
    "mutpb = 0.5\n",
    "lambda_ = 100\n",
    "mu = max_marks\n",
    "ngen = 100\n",
    "verbose = True\n",
    "\n",
    "logbook = tools.Logbook()\n",
    "logbook.header = ['gen', 'nevals'] + (stats.fields if stats else [])\n",
    "\n",
    "\n",
    "# Evaluate the individuals with an invalid fitness\n",
    "invalid_ind = [ind for ind in population if not ind.fitness.valid]\n",
    "fitnesses = toolbox.map(toolbox.evaluate, invalid_ind)\n",
    "for ind, fit in zip(invalid_ind, fitnesses):\n",
    "    ind.fitness.values = fit\n",
    "\n",
    "if halloffame is not None:\n",
    "    halloffame.update(population)\n",
    "\n",
    "logbook = tools.Logbook()\n",
    "logbook.header = ['gen', 'nevals'] + (stats.fields if stats else [])\n",
    "\n",
    "record = stats.compile(population) if stats is not None else {}\n",
    "logbook.record(gen=0, nevals=len(invalid_ind), **record)\n",
    "if verbose:\n",
    "    print logbook.stream\n",
    "\n",
    "# Begin the generational process\n",
    "global diff_global_marks\n",
    "all_marks = []\n",
    "all_marks.append(diff_global_marks)\n",
    "\n",
    "for gen in range(1, ngen + 1):\n",
    "    # Vary the population\n",
    "    offspring = algorithms.varOr(population, toolbox, lambda_, cxpb, mutpb)\n",
    "\n",
    "    # Evaluate the individuals with an invalid fitness\n",
    "    invalid_ind = [ind for ind in offspring if not ind.fitness.valid]\n",
    "    fitnesses = toolbox.map(toolbox.evaluate, invalid_ind)\n",
    "    for ind, fit in zip(invalid_ind, fitnesses):\n",
    "        ind.fitness.values = fit\n",
    "\n",
    "    # Update the hall of fame with the generated individuals\n",
    "    if halloffame is not None:\n",
    "        halloffame.update(offspring)\n",
    "\n",
    "    # Select the next generation population\n",
    "    population[:] = toolbox.select(offspring, mu)\n",
    "    print len(population)\n",
    "    predict_unseen(population)\n",
    "    \n",
    "    # Just updating the all_marks array which has all the changed values\n",
    "    all_marks.append(diff_global_marks)\n",
    "    \n",
    "    # Update the statistics with the new population\n",
    "    record = stats.compile(population) if stats is not None else {}\n",
    "    logbook.record(gen=gen, nevals=len(invalid_ind), **record)\n",
    "    if verbose:\n",
    "        print logbook.stream\n",
    "    #return population, logbook\n",
    "\n",
    "str(halloffame[0])"
   ]
  },
  {
   "cell_type": "code",
   "execution_count": null,
   "metadata": {},
   "outputs": [],
   "source": []
  },
  {
   "cell_type": "code",
   "execution_count": 9,
   "metadata": {},
   "outputs": [
    {
     "ename": "NameError",
     "evalue": "name 'pd' is not defined",
     "output_type": "error",
     "traceback": [
      "\u001b[0;31m---------------------------------------------------------------------------\u001b[0m",
      "\u001b[0;31mNameError\u001b[0m                                 Traceback (most recent call last)",
      "\u001b[0;32m<ipython-input-9-20fcfb0d45ff>\u001b[0m in \u001b[0;36m<module>\u001b[0;34m()\u001b[0m\n\u001b[0;32m----> 1\u001b[0;31m \u001b[0mmarks\u001b[0m \u001b[0;34m=\u001b[0m \u001b[0mpd\u001b[0m\u001b[0;34m.\u001b[0m\u001b[0mDataFrame\u001b[0m\u001b[0;34m(\u001b[0m\u001b[0mall_marks\u001b[0m\u001b[0;34m[\u001b[0m\u001b[0;36m0\u001b[0m\u001b[0;34m]\u001b[0m\u001b[0;34m)\u001b[0m\u001b[0;34m\u001b[0m\u001b[0m\n\u001b[0m",
      "\u001b[0;31mNameError\u001b[0m: name 'pd' is not defined"
     ]
    }
   ],
   "source": [
    "marks = pd.DataFrame(all_marks[0])"
   ]
  },
  {
   "cell_type": "code",
   "execution_count": null,
   "metadata": {
    "collapsed": true
   },
   "outputs": [],
   "source": [
    "marks.columns = [str(1)]"
   ]
  },
  {
   "cell_type": "code",
   "execution_count": null,
   "metadata": {
    "collapsed": true
   },
   "outputs": [],
   "source": [
    "marks_ = pd.DataFrame()\n",
    "for i in range(0,len(all_marks)):\n",
    "    if(i==0):\n",
    "        marks_ = pd.DataFrame(all_marks[0])\n",
    "    else:\n",
    "        if(type(all_marks[i])!=float):\n",
    "            temp_ = pd.DataFrame(all_marks[i])\n",
    "            temp_.columns = [i]\n",
    "            marks_ = pd.concat([marks_,temp_],axis=1)"
   ]
  },
  {
   "cell_type": "code",
   "execution_count": null,
   "metadata": {
    "collapsed": true
   },
   "outputs": [],
   "source": [
    "%matplotlib inline"
   ]
  },
  {
   "cell_type": "code",
   "execution_count": null,
   "metadata": {
    "collapsed": true
   },
   "outputs": [],
   "source": [
    "plt.plot(marks_[0])"
   ]
  },
  {
   "cell_type": "code",
   "execution_count": null,
   "metadata": {
    "collapsed": true
   },
   "outputs": [],
   "source": [
    "forest_predictions = []\n",
    "\n",
    "for ind_num, individual in enumerate(population):\n",
    "    func = toolbox.compile(expr=individual)\n",
    "    subsample = np.array([func(*record) for record in X_train])\n",
    "    \n",
    "    if X_train[subsample].shape[0] == 0:\n",
    "        continue\n",
    "    \n",
    "    clf = DecisionTreeClassifier(random_state=34092)\n",
    "    clf.fit(X_train[subsample], y_train[subsample])\n",
    "    predictions = clf.predict(X_test)\n",
    "    forest_predictions.append(predictions)"
   ]
  },
  {
   "cell_type": "code",
   "execution_count": null,
   "metadata": {
    "collapsed": true,
    "scrolled": false
   },
   "outputs": [],
   "source": [
    "from collections import Counter\n",
    "from sklearn.metrics import accuracy_score\n",
    "\n",
    "y_pred = np.array(\n",
    "    [Counter(instance_forest_predictions).most_common(1)[0][0] for instance_forest_predictions in zip(*forest_predictions)])\n",
    "#np.sum(y_test == y_pred) / len(y_test)\n",
    "np.sum(y_test == y_pred)*100/ len(y_test)"
   ]
  },
  {
   "cell_type": "code",
   "execution_count": null,
   "metadata": {
    "collapsed": true
   },
   "outputs": [],
   "source": [
    "func = toolbox.compile(expr=halloffame[0])\n",
    "subsample = np.array([func(*record) for record in X_train])"
   ]
  },
  {
   "cell_type": "code",
   "execution_count": null,
   "metadata": {
    "collapsed": true
   },
   "outputs": [],
   "source": [
    "subsample"
   ]
  },
  {
   "cell_type": "code",
   "execution_count": null,
   "metadata": {
    "collapsed": true
   },
   "outputs": [],
   "source": [
    "print halloffame[0]"
   ]
  },
  {
   "cell_type": "code",
   "execution_count": 22,
   "metadata": {},
   "outputs": [
    {
     "data": {
      "text/plain": [
       "1"
      ]
     },
     "execution_count": 22,
     "metadata": {},
     "output_type": "execute_result"
    }
   ],
   "source": [
    "chk"
   ]
  },
  {
   "cell_type": "code",
   "execution_count": 15,
   "metadata": {},
   "outputs": [
    {
     "ename": "SyntaxError",
     "evalue": "unexpected EOF while parsing (<ipython-input-15-db75ffb14134>, line 1)",
     "output_type": "error",
     "traceback": [
      "\u001b[1;36m  File \u001b[1;32m\"<ipython-input-15-db75ffb14134>\"\u001b[1;36m, line \u001b[1;32m1\u001b[0m\n\u001b[1;33m    type(Integer((0.5*100))\u001b[0m\n\u001b[1;37m                           ^\u001b[0m\n\u001b[1;31mSyntaxError\u001b[0m\u001b[1;31m:\u001b[0m unexpected EOF while parsing\n"
     ]
    }
   ],
   "source": [
    "(0.5*100)"
   ]
  },
  {
   "cell_type": "code",
   "execution_count": 21,
   "metadata": {
    "collapsed": true
   },
   "outputs": [],
   "source": [
    "chk = 1;\n"
   ]
  },
  {
   "cell_type": "code",
   "execution_count": null,
   "metadata": {
    "collapsed": true
   },
   "outputs": [],
   "source": []
  }
 ],
 "metadata": {
  "kernelspec": {
   "display_name": "Python 2",
   "language": "python",
   "name": "python2"
  },
  "language_info": {
   "codemirror_mode": {
    "name": "ipython",
    "version": 2
   },
   "file_extension": ".py",
   "mimetype": "text/x-python",
   "name": "python",
   "nbconvert_exporter": "python",
   "pygments_lexer": "ipython2",
   "version": "2.7.12"
  }
 },
 "nbformat": 4,
 "nbformat_minor": 1
}
