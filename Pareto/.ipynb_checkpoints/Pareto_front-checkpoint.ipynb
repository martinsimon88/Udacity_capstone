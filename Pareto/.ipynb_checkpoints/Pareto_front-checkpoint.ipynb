{
 "cells": [
  {
   "cell_type": "code",
   "execution_count": 1,
   "metadata": {
    "collapsed": false,
    "deletable": true,
    "editable": true,
    "internals": {},
    "slideshow": {
     "slide_type": "-"
    }
   },
   "outputs": [],
   "source": [
    "import time, array, random, copy, math\n",
    "import numpy as np\n",
    "import pandas as pd"
   ]
  },
  {
   "cell_type": "code",
   "execution_count": 2,
   "metadata": {
    "collapsed": false,
    "deletable": true,
    "editable": true
   },
   "outputs": [],
   "source": [
    "import matplotlib.pyplot as plt\n",
    "%matplotlib inline\n",
    "%config InlineBackend.figure_format = 'retina'\n",
    "plt.rc('text', usetex=True)\n",
    "plt.rc('font', family='serif')\n",
    "plt.rcParams['text.latex.preamble'] ='\\\\usepackage{libertine}\\n\\\\usepackage[utf8]{inputenc}'\n",
    "\n",
    "import seaborn\n",
    "seaborn.set(style='whitegrid')\n",
    "seaborn.set_context('notebook')"
   ]
  },
  {
   "cell_type": "code",
   "execution_count": 3,
   "metadata": {
    "collapsed": false,
    "deletable": true,
    "editable": true
   },
   "outputs": [],
   "source": [
    "from deap import algorithms, base, benchmarks, tools, creator"
   ]
  },
  {
   "cell_type": "code",
   "execution_count": 4,
   "metadata": {
    "collapsed": true,
    "deletable": true,
    "editable": true
   },
   "outputs": [],
   "source": [
    "#To make XFoil work:\n",
    "\n",
    "import os\n",
    "import string\n",
    "import deap\n",
    "from deap import tools, base\n",
    "import random\n",
    "import pandas\n",
    "import numpy as np\n",
    "import XFoilGame\n",
    "\n",
    "#Go to directory\n",
    "os.chdir(\"/home/simonx/Documents/Udacity/ML/Projects/capstone/Pareto/Archive\")"
   ]
  },
  {
   "cell_type": "code",
   "execution_count": 48,
   "metadata": {
    "collapsed": false
   },
   "outputs": [],
   "source": [
    "#For acquisition function\n",
    "import numpy as np\n",
    "import sympy as sp\n",
    "sp.init_printing()\n",
    "from numpy import sin, exp, cos\n",
    "from sklearn.preprocessing import normalize\n",
    "from scipy.stats import norm\n",
    "from scipy.integrate import odeint\n",
    "import matplotlib.pyplot as plt\n",
    "from sklearn.gaussian_process import GaussianProcessRegressor\n",
    "%matplotlib inline"
   ]
  },
  {
   "cell_type": "code",
   "execution_count": 5,
   "metadata": {
    "collapsed": false,
    "deletable": true,
    "editable": true,
    "internals": {
     "frag_helper": "fragment_end",
     "frag_number": 11,
     "slide_helper": "subslide_end"
    },
    "slide_helper": "slide_end",
    "slideshow": {
     "slide_type": "-"
    }
   },
   "outputs": [],
   "source": [
    "random.seed(a=42) #WTF is this?"
   ]
  },
  {
   "cell_type": "markdown",
   "metadata": {
    "deletable": true,
    "editable": true,
    "internals": {
     "frag_helper": "fragment_end",
     "frag_number": 11,
     "slide_type": "subslide"
    },
    "slideshow": {
     "slide_type": "slide"
    }
   },
   "source": [
    "# Visualizing the Pareto dominance relation\n",
    "\n",
    "* To start, lets have a visual example of the Pareto dominance relationship in action.\n",
    "* In this notebook we will deal with two-objective problems in order to simplify visualization. \n",
    "* Therefore, we can create:"
   ]
  },
  {
   "cell_type": "code",
   "execution_count": 6,
   "metadata": {
    "collapsed": false,
    "deletable": true,
    "editable": true,
    "internals": {
     "frag_helper": "fragment_end",
     "frag_number": 11,
     "slide_helper": "subslide_end"
    },
    "slide_helper": "slide_end",
    "slideshow": {
     "slide_type": "-"
    }
   },
   "outputs": [],
   "source": [
    "creator.create(\"FitnessMin\", base.Fitness, weights=(-1.0,-1.0))\n",
    "creator.create(\"Individual\", array.array, typecode='d', \n",
    "               fitness=creator.FitnessMin)"
   ]
  },
  {
   "cell_type": "markdown",
   "metadata": {
    "deletable": true,
    "editable": true,
    "internals": {
     "frag_helper": "fragment_end",
     "frag_number": 11,
     "slide_helper": "subslide_end",
     "slide_type": "subslide"
    },
    "slide_helper": "slide_end",
    "slideshow": {
     "slide_type": "slide"
    }
   },
   "source": [
    "## Let's use an illustrative MOP problem: Dent\n",
    "\n",
    "$$\n",
    "\\begin{array}{rl}\n",
    "\\text{minimize} & f_1(\\vec{x}),f_2(\\vec{x}) \\\\\n",
    "\\text{such that} & f_1(\\vec{x}) = \\frac{1}{2}\\left( \\sqrt{1 + (x_1 + x_2)^2} \\sqrt{1 + (x_1 - x_2)^2} + x_1 -x_2\\right) + d,\\\\\n",
    " & f_2(\\vec{x}) = \\frac{1}{2}\\left( \\sqrt{1 + (x_1 + x_2)^2} \\sqrt{1 + (x_1 - x_2)^2} - x_1 -x_2\\right) + d,\\\\\n",
    "\\text{with}& d = \\lambda e^{-\\left(x_1-x_2\\right)^2}\\ (\\text{generally }\\lambda=0.85) \\text{ and } \\vec{x}\\in \\left[-1.5,1.5\\right]^2.\n",
    "\\end{array}\n",
    "$$"
   ]
  },
  {
   "cell_type": "markdown",
   "metadata": {
    "deletable": true,
    "editable": true,
    "internals": {
     "frag_helper": "fragment_end",
     "frag_number": 11,
     "slide_type": "subslide"
    },
    "slideshow": {
     "slide_type": "slide"
    }
   },
   "source": [
    "Implementing the XFoilGame"
   ]
  },
  {
   "cell_type": "code",
   "execution_count": 67,
   "metadata": {
    "collapsed": false,
    "deletable": true,
    "editable": true
   },
   "outputs": [
    {
     "data": {
      "text/plain": [
       "'\\nfor i in range(1, 3, 1):\\n    actions = np.random.rand(8)\\n    #actions=[0.5, 0.5, 0.5, 0.5, 0.5, 0.5, 0.5, 0.5]\\n    XFG=XFoilGame.XFoilGame()\\n    testgen = XFG.newGame(actions)\\n'"
      ]
     },
     "execution_count": 67,
     "metadata": {},
     "output_type": "execute_result"
    }
   ],
   "source": [
    "#Let's simplify the decision space to two variables:\n",
    "def TwoDXFoilGame(individual):\n",
    "    print individual\n",
    "    actions = [individual[0], individual[1], 0.1, 0.1, 0.1, 0.1, 0.1, 0.1]\n",
    "    XFG=XFoilGame.XFoilGame()\n",
    "    testgen = XFG.newGame(actions)\n",
    "    #print testgen\n",
    "    return testgen\n",
    "    \n",
    "#TwoDXFoilGame([0.06699999999999999, 0.028999999999999998])\n",
    "\n",
    "\n",
    "\n",
    "    \n",
    "    \n",
    "#for loop from previous:\n",
    "'''\n",
    "for i in range(1, 3, 1):\n",
    "    actions = np.random.rand(8)\n",
    "    #actions=[0.5, 0.5, 0.5, 0.5, 0.5, 0.5, 0.5, 0.5]\n",
    "    XFG=XFoilGame.XFoilGame()\n",
    "    testgen = XFG.newGame(actions)\n",
    "'''"
   ]
  },
  {
   "cell_type": "code",
   "execution_count": 9,
   "metadata": {
    "collapsed": false,
    "deletable": true,
    "editable": true,
    "internals": {
     "frag_helper": "fragment_end",
     "frag_number": 11
    },
    "slideshow": {
     "slide_type": "-"
    }
   },
   "outputs": [],
   "source": [
    "toolbox = base.Toolbox()"
   ]
  },
  {
   "cell_type": "code",
   "execution_count": 10,
   "metadata": {
    "collapsed": false,
    "deletable": true,
    "editable": true,
    "internals": {
     "frag_helper": "fragment_end",
     "frag_number": 11
    },
    "slideshow": {
     "slide_type": "-"
    }
   },
   "outputs": [],
   "source": [
    "BOUND_LOW, BOUND_UP = 0.01, 0.2\n",
    "NDIM = 2\n",
    "# toolbox.register(\"evaluate\", lambda ind: benchmarks.dtlz2(ind, 2))\n",
    "toolbox.register(\"evaluate\", TwoDXFoilGame)"
   ]
  },
  {
   "cell_type": "markdown",
   "metadata": {
    "deletable": true,
    "editable": true,
    "internals": {
     "frag_helper": "fragment_end",
     "frag_number": 11
    },
    "slideshow": {
     "slide_type": "-"
    }
   },
   "source": [
    "Defining attributes, individuals and population."
   ]
  },
  {
   "cell_type": "code",
   "execution_count": 11,
   "metadata": {
    "collapsed": false,
    "deletable": true,
    "editable": true,
    "internals": {
     "frag_helper": "fragment_end",
     "frag_number": 11,
     "slide_helper": "subslide_end"
    },
    "slide_helper": "slide_end",
    "slideshow": {
     "slide_type": "-"
    }
   },
   "outputs": [],
   "source": [
    "def uniform(low, up, size=None):\n",
    "    try:\n",
    "        return [random.uniform(a, b) for a, b in zip(low, up)]\n",
    "    except TypeError:\n",
    "        return [random.uniform(a, b) for a, b in zip([low] * size, [up] * size)]\n",
    "\n",
    "toolbox.register(\"attr_float\", uniform, BOUND_LOW, BOUND_UP, NDIM)\n",
    "toolbox.register(\"individual\", tools.initIterate, creator.Individual, toolbox.attr_float)\n",
    "toolbox.register(\"population\", tools.initRepeat, list, toolbox.individual)"
   ]
  },
  {
   "cell_type": "markdown",
   "metadata": {
    "deletable": true,
    "editable": true,
    "internals": {
     "frag_helper": "fragment_end",
     "frag_number": 11,
     "slide_type": "subslide"
    },
    "slideshow": {
     "slide_type": "slide"
    }
   },
   "source": [
    "Creating an example population distributed as a mesh."
   ]
  },
  {
   "cell_type": "code",
   "execution_count": 12,
   "metadata": {
    "collapsed": false,
    "deletable": true,
    "editable": true,
    "internals": {
     "frag_helper": "fragment_end",
     "frag_number": 11
    },
    "slideshow": {
     "slide_type": "-"
    }
   },
   "outputs": [],
   "source": [
    "num_samples = 10\n",
    "limits = [np.arange(BOUND_LOW, BOUND_UP, (BOUND_UP - BOUND_LOW)/num_samples)] * NDIM\n",
    "sample_x = np.meshgrid(*limits)"
   ]
  },
  {
   "cell_type": "code",
   "execution_count": 13,
   "metadata": {
    "collapsed": false,
    "deletable": true,
    "editable": true,
    "internals": {
     "frag_helper": "fragment_end",
     "frag_number": 11,
     "slide_helper": "subslide_end"
    },
    "slide_helper": "slide_end",
    "slideshow": {
     "slide_type": "-"
    }
   },
   "outputs": [
    {
     "name": "stdout",
     "output_type": "stream",
     "text": [
      "10\n"
     ]
    }
   ],
   "source": [
    "flat = []\n",
    "for i in range(len(sample_x)):\n",
    "    x_i = sample_x[i]\n",
    "    flat.append(x_i.reshape(num_samples**NDIM))\n",
    "print len(x_i[0])"
   ]
  },
  {
   "cell_type": "code",
   "execution_count": 14,
   "metadata": {
    "collapsed": false,
    "deletable": true,
    "editable": true,
    "internals": {
     "frag_helper": "fragment_end",
     "frag_number": 11,
     "slide_type": "subslide"
    },
    "slideshow": {
     "slide_type": "slide"
    }
   },
   "outputs": [],
   "source": [
    "example_pop = toolbox.population(n=num_samples**NDIM)"
   ]
  },
  {
   "cell_type": "code",
   "execution_count": 15,
   "metadata": {
    "collapsed": false,
    "deletable": true,
    "editable": true,
    "internals": {
     "frag_helper": "fragment_end",
     "frag_number": 11
    },
    "slideshow": {
     "slide_type": "-"
    }
   },
   "outputs": [
    {
     "data": {
      "text/plain": [
       "100"
      ]
     },
     "execution_count": 15,
     "metadata": {},
     "output_type": "execute_result"
    }
   ],
   "source": [
    "for i, ind in enumerate(example_pop):\n",
    "    for j in range(len(flat)):\n",
    "        ind[j] = flat[j][i]\n",
    "        \n",
    "        \n",
    "len(ind)\n",
    "len(example_pop)"
   ]
  },
  {
   "cell_type": "code",
   "execution_count": 16,
   "metadata": {
    "collapsed": false,
    "deletable": true,
    "editable": true,
    "internals": {
     "frag_helper": "fragment_end",
     "frag_number": 11,
     "slide_helper": "subslide_end"
    },
    "slide_helper": "slide_end",
    "slideshow": {
     "slide_type": "-"
    }
   },
   "outputs": [
    {
     "name": "stdout",
     "output_type": "stream",
     "text": [
      "array('d', [0.01, 0.01])\n",
      "1 \n",
      "2 \n",
      "1 \n",
      "3 \n",
      "3 \n",
      "1 \n",
      "4 \n",
      "6 \n",
      "4 \n",
      "1 \n",
      "5 \n",
      "10 \n",
      "10 \n",
      "5 \n",
      "1 \n",
      "1 5 10 10 5 1 (-0.5561, 0.239)\n",
      "array('d', [0.028999999999999998, 0.01])\n",
      "1 \n",
      "2 \n",
      "1 \n",
      "3 \n",
      "3 \n",
      "1 \n",
      "4 \n",
      "6 \n",
      "4 \n",
      "1 \n",
      "5 \n",
      "10 \n",
      "10 \n",
      "5 \n",
      "1 \n",
      "1 5 10 10 5 1 (-0.55, 0.24115)\n",
      "array('d', [0.047999999999999994, 0.01])\n",
      "1 \n",
      "2 \n",
      "1 \n",
      "3 \n",
      "3 \n",
      "1 \n",
      "4 \n",
      "6 \n",
      "4 \n",
      "1 \n",
      "5 \n",
      "10 \n",
      "10 \n",
      "5 \n",
      "1 \n",
      "1 5 10 10 5 1 (-0.5414, 0.24315)\n",
      "array('d', [0.06699999999999999, 0.01])\n",
      "1 \n",
      "2 \n",
      "1 \n",
      "3 \n",
      "3 \n",
      "1 \n",
      "4 \n",
      "6 \n",
      "4 \n",
      "1 \n",
      "5 \n",
      "10 \n",
      "10 \n",
      "5 \n",
      "1 \n",
      "1 5 10 10 5 1 (-0.5318, 0.24539)\n",
      "array('d', [0.08599999999999998, 0.01])\n",
      "1 \n",
      "2 \n",
      "1 \n",
      "3 \n",
      "3 \n",
      "1 \n",
      "4 \n",
      "6 \n",
      "4 \n",
      "1 \n",
      "5 \n",
      "10 \n",
      "10 \n",
      "5 \n",
      "1 \n",
      "1 5 10 10 5 1 (-0.5215, 0.24785)\n",
      "array('d', [0.10499999999999997, 0.01])\n",
      "1 \n",
      "2 \n",
      "1 \n",
      "3 \n",
      "3 \n",
      "1 \n",
      "4 \n",
      "6 \n",
      "4 \n",
      "1 \n",
      "5 \n",
      "10 \n",
      "10 \n",
      "5 \n",
      "1 \n",
      "1 5 10 10 5 1 (-0.6498, 0.24807)\n",
      "array('d', [0.12399999999999997, 0.01])\n",
      "1 \n",
      "2 \n",
      "1 \n",
      "3 \n",
      "3 \n",
      "1 \n",
      "4 \n",
      "6 \n",
      "4 \n",
      "1 \n",
      "5 \n",
      "10 \n",
      "10 \n",
      "5 \n",
      "1 \n",
      "1 5 10 10 5 1 (-0.6414, 0.25105)\n",
      "array('d', [0.143, 0.01])\n",
      "1 \n",
      "2 \n",
      "1 \n",
      "3 \n",
      "3 \n",
      "1 \n",
      "4 \n",
      "6 \n",
      "4 \n",
      "1 \n",
      "5 \n",
      "10 \n",
      "10 \n",
      "5 \n",
      "1 \n",
      "1 5 10 10 5 1 (-0.6316, 0.25407)\n",
      "array('d', [0.16199999999999998, 0.01])\n",
      "1 \n",
      "2 \n",
      "1 \n",
      "3 \n",
      "3 \n",
      "1 \n",
      "4 \n",
      "6 \n",
      "4 \n",
      "1 \n",
      "5 \n",
      "10 \n",
      "10 \n",
      "5 \n",
      "1 \n",
      "1 5 10 10 5 1 (-0.474, 0.25912)\n",
      "array('d', [0.18099999999999997, 0.01])\n",
      "1 \n",
      "2 \n",
      "1 \n",
      "3 \n",
      "3 \n",
      "1 \n",
      "4 \n",
      "6 \n",
      "4 \n",
      "1 \n",
      "5 \n",
      "10 \n",
      "10 \n",
      "5 \n",
      "1 \n",
      "1 5 10 10 5 1 (-0.6109, 0.26033)\n",
      "array('d', [0.01, 0.028999999999999998])\n",
      "1 \n",
      "2 \n",
      "1 \n",
      "3 \n",
      "3 \n",
      "1 \n",
      "4 \n",
      "6 \n",
      "4 \n",
      "1 \n",
      "5 \n",
      "10 \n",
      "10 \n",
      "5 \n",
      "1 \n",
      "1 5 10 10 5 1 (-0.5426, 0.23854)\n",
      "array('d', [0.028999999999999998, 0.028999999999999998])\n",
      "1 \n",
      "2 \n",
      "1 \n",
      "3 \n",
      "3 \n",
      "1 \n",
      "4 \n",
      "6 \n",
      "4 \n",
      "1 \n",
      "5 \n",
      "10 \n",
      "10 \n",
      "5 \n",
      "1 \n",
      "1 5 10 10 5 1 (-0.5358, 0.24044)\n",
      "array('d', [0.047999999999999994, 0.028999999999999998])\n",
      "1 \n",
      "2 \n",
      "1 \n",
      "3 \n",
      "3 \n",
      "1 \n",
      "4 \n",
      "6 \n",
      "4 \n",
      "1 \n",
      "5 \n",
      "10 \n",
      "10 \n",
      "5 \n",
      "1 \n",
      "1 5 10 10 5 1 (-0.5277, 0.24258)\n",
      "array('d', [0.06699999999999999, 0.028999999999999998])\n",
      "1 \n",
      "2 \n",
      "1 \n",
      "3 \n",
      "3 \n",
      "1 \n",
      "4 \n",
      "6 \n",
      "4 \n",
      "1 \n",
      "5 \n",
      "10 \n",
      "10 \n",
      "5 \n",
      "1 \n",
      "1 5 10 10 5 1 (-0.6492, 0.24235)\n",
      "array('d', [0.08599999999999998, 0.028999999999999998])\n",
      "1 \n",
      "2 \n",
      "1 \n",
      "3 \n",
      "3 \n",
      "1 \n",
      "4 \n",
      "6 \n",
      "4 \n",
      "1 \n",
      "5 \n",
      "10 \n",
      "10 \n",
      "5 \n",
      "1 \n",
      "1 5 10 10 5 1 (-0.5075, 0.2474)\n",
      "array('d', [0.10499999999999997, 0.028999999999999998])\n",
      "1 \n",
      "2 \n",
      "1 \n",
      "3 \n",
      "3 \n",
      "1 \n",
      "4 \n",
      "6 \n",
      "4 \n",
      "1 \n",
      "5 \n",
      "10 \n",
      "10 \n",
      "5 \n",
      "1 \n",
      "1 5 10 10 5 1 (-0.6343, 0.24775)\n",
      "array('d', [0.12399999999999997, 0.028999999999999998])\n",
      "1 \n",
      "2 \n",
      "1 \n",
      "3 \n",
      "3 \n",
      "1 \n",
      "4 \n",
      "6 \n",
      "4 \n",
      "1 \n",
      "5 \n",
      "10 \n",
      "10 \n",
      "5 \n",
      "1 \n",
      "1 5 10 10 5 1 (-0.4838, 0.25273)\n",
      "array('d', [0.143, 0.028999999999999998])\n",
      "1 \n",
      "2 \n",
      "1 \n",
      "3 \n",
      "3 \n",
      "1 \n",
      "4 \n",
      "6 \n",
      "4 \n",
      "1 \n",
      "5 \n",
      "10 \n",
      "10 \n",
      "5 \n",
      "1 \n",
      "1 5 10 10 5 1 (-0.5976, 0.25052)\n",
      "array('d', [0.16199999999999998, 0.028999999999999998])\n",
      "1 \n",
      "2 \n",
      "1 \n",
      "3 \n",
      "3 \n",
      "1 \n",
      "4 \n",
      "6 \n",
      "4 \n",
      "1 \n",
      "5 \n",
      "10 \n",
      "10 \n",
      "5 \n",
      "1 \n",
      "1 5 10 10 5 1 (-0.6041, 0.25666)\n",
      "array('d', [0.18099999999999997, 0.028999999999999998])\n",
      "1 \n",
      "2 \n",
      "1 \n",
      "3 \n",
      "3 \n",
      "1 \n",
      "4 \n",
      "6 \n",
      "4 \n",
      "1 \n",
      "5 \n",
      "10 \n",
      "10 \n",
      "5 \n",
      "1 \n",
      "1 5 10 10 5 1 (-0.5397, 0.25048)\n",
      "array('d', [0.01, 0.047999999999999994])\n",
      "1 \n",
      "2 \n",
      "1 \n",
      "3 \n",
      "3 \n",
      "1 \n",
      "4 \n",
      "6 \n",
      "4 \n",
      "1 \n",
      "5 \n",
      "10 \n",
      "10 \n",
      "5 \n",
      "1 \n",
      "1 5 10 10 5 1 (-0.5285, 0.23807)\n",
      "array('d', [0.028999999999999998, 0.047999999999999994])\n",
      "1 \n",
      "2 \n",
      "1 \n",
      "3 \n",
      "3 \n",
      "1 \n",
      "4 \n",
      "6 \n",
      "4 \n",
      "1 \n",
      "5 \n",
      "10 \n",
      "10 \n",
      "5 \n",
      "1 \n",
      "1 5 10 10 5 1 (-0.6427, 0.23736)\n",
      "array('d', [0.047999999999999994, 0.047999999999999994])\n",
      "1 \n",
      "2 \n",
      "1 \n",
      "3 \n",
      "3 \n",
      "1 \n",
      "4 \n",
      "6 \n",
      "4 \n",
      "1 \n",
      "5 \n",
      "10 \n",
      "10 \n",
      "5 \n",
      "1 \n",
      "1 5 10 10 5 1 (-0.5132, 0.24214)\n",
      "array('d', [0.06699999999999999, 0.047999999999999994])\n",
      "1 \n",
      "2 \n",
      "1 \n",
      "3 \n",
      "3 \n",
      "1 \n",
      "4 \n",
      "6 \n",
      "4 \n",
      "1 \n",
      "5 \n",
      "10 \n",
      "10 \n",
      "5 \n",
      "1 \n",
      "1 5 10 10 5 1 (-0.5037, 0.24446)\n",
      "array('d', [0.08599999999999998, 0.047999999999999994])\n",
      "1 \n",
      "2 \n",
      "1 \n",
      "3 \n",
      "3 \n",
      "1 \n",
      "4 \n",
      "6 \n",
      "4 \n",
      "1 \n",
      "5 \n",
      "10 \n",
      "10 \n",
      "5 \n",
      "1 \n",
      "1 5 10 10 5 1 (-0.4929, 0.24693)\n",
      "array('d', [0.10499999999999997, 0.047999999999999994])\n",
      "1 \n",
      "2 \n",
      "1 \n",
      "3 \n",
      "3 \n",
      "1 \n",
      "4 \n",
      "6 \n",
      "4 \n",
      "1 \n",
      "5 \n",
      "10 \n",
      "10 \n",
      "5 \n",
      "1 \n",
      "1 5 10 10 5 1 (-0.481, 0.24951)\n",
      "array('d', [0.12399999999999997, 0.047999999999999994])\n",
      "1 \n",
      "2 \n",
      "1 \n",
      "3 \n",
      "3 \n",
      "1 \n",
      "4 \n",
      "6 \n",
      "4 \n",
      "1 \n",
      "5 \n",
      "10 \n",
      "10 \n",
      "5 \n",
      "1 \n",
      "1 5 10 10 5 1 (-0.4684, 0.25218)\n",
      "array('d', [0.143, 0.047999999999999994])\n",
      "1 \n",
      "2 \n",
      "1 \n",
      "3 \n",
      "3 \n",
      "1 \n",
      "4 \n",
      "6 \n",
      "4 \n",
      "1 \n",
      "5 \n",
      "10 \n",
      "10 \n",
      "5 \n",
      "1 \n",
      "1 5 10 10 5 1 (-0.5979, 0.25328)\n",
      "array('d', [0.16199999999999998, 0.047999999999999994])\n",
      "1 \n",
      "2 \n",
      "1 \n",
      "3 \n",
      "3 \n",
      "1 \n",
      "4 \n",
      "6 \n",
      "4 \n",
      "1 \n",
      "5 \n",
      "10 \n",
      "10 \n",
      "5 \n",
      "1 \n",
      "1 5 10 10 5 1 (-0.5866, 0.25626)\n",
      "array('d', [0.18099999999999997, 0.047999999999999994])\n",
      "1 \n",
      "2 \n",
      "1 \n",
      "3 \n",
      "3 \n",
      "1 \n",
      "4 \n",
      "6 \n",
      "4 \n",
      "1 \n",
      "5 \n",
      "10 \n",
      "10 \n",
      "5 \n",
      "1 \n",
      "1 5 10 10 5 1 (-0.4283, 0.26051)\n",
      "array('d', [0.01, 0.06699999999999999])\n",
      "1 \n",
      "2 \n",
      "1 \n",
      "3 \n",
      "3 \n",
      "1 \n",
      "4 \n",
      "6 \n",
      "4 \n",
      "1 \n",
      "5 \n",
      "10 \n",
      "10 \n",
      "5 \n",
      "1 \n",
      "1 5 10 10 5 1 (-0.6292, 0.23502)\n",
      "array('d', [0.028999999999999998, 0.06699999999999999])\n",
      "1 \n",
      "2 \n",
      "1 \n",
      "3 \n",
      "3 \n",
      "1 \n",
      "4 \n",
      "6 \n",
      "4 \n",
      "1 \n",
      "5 \n",
      "10 \n",
      "10 \n",
      "5 \n",
      "1 \n",
      "1 5 10 10 5 1 (-0.5066, 0.23954)\n",
      "array('d', [0.047999999999999994, 0.06699999999999999])\n",
      "1 \n",
      "2 \n",
      "1 \n",
      "3 \n",
      "3 \n",
      "1 \n",
      "4 \n",
      "6 \n",
      "4 \n",
      "1 \n",
      "5 \n",
      "10 \n",
      "10 \n",
      "5 \n",
      "1 \n",
      "1 5 10 10 5 1 (-0.498, 0.24168)\n",
      "array('d', [0.06699999999999999, 0.06699999999999999])\n",
      "1 \n",
      "2 \n",
      "1 \n",
      "3 \n",
      "3 \n",
      "1 \n",
      "4 \n",
      "6 \n",
      "4 \n",
      "1 \n",
      "5 \n",
      "10 \n",
      "10 \n",
      "5 \n",
      "1 \n",
      "1 5 10 10 5 1 (-0.4882, 0.24398)\n",
      "array('d', [0.08599999999999998, 0.06699999999999999])\n",
      "1 \n",
      "2 \n",
      "1 \n",
      "3 \n",
      "3 \n",
      "1 \n",
      "4 \n",
      "6 \n",
      "4 \n",
      "1 \n",
      "5 \n",
      "10 \n",
      "10 \n",
      "5 \n",
      "1 \n",
      "1 5 10 10 5 1 (-0.4772, 0.24643)\n",
      "array('d', [0.10499999999999997, 0.06699999999999999])\n",
      "1 \n",
      "2 \n",
      "1 \n",
      "3 \n",
      "3 \n",
      "1 \n",
      "4 \n",
      "6 \n",
      "4 \n",
      "1 \n",
      "5 \n",
      "10 \n",
      "10 \n",
      "5 \n",
      "1 \n",
      "1 5 10 10 5 1 (-0.4652, 0.24897)\n",
      "array('d', [0.12399999999999997, 0.06699999999999999])\n",
      "1 \n",
      "2 \n",
      "1 \n",
      "3 \n",
      "3 \n",
      "1 \n",
      "4 \n",
      "6 \n",
      "4 \n",
      "1 \n",
      "5 \n",
      "10 \n",
      "10 \n",
      "5 \n",
      "1 \n",
      "1 5 10 10 5 1 (-0.5909, 0.25)\n",
      "array('d', [0.143, 0.06699999999999999])\n",
      "1 \n",
      "2 \n",
      "1 \n",
      "3 \n",
      "3 \n",
      "1 \n",
      "4 \n",
      "6 \n",
      "4 \n",
      "1 \n",
      "5 \n",
      "10 \n",
      "10 \n",
      "5 \n",
      "1 \n",
      "1 5 10 10 5 1 (-0.4391, 0.2543)\n",
      "array('d', [0.16199999999999998, 0.06699999999999999])\n",
      "1 \n",
      "2 \n",
      "1 \n",
      "3 \n",
      "3 \n",
      "1 \n",
      "4 \n",
      "6 \n",
      "4 \n",
      "1 \n",
      "5 \n",
      "10 \n",
      "10 \n",
      "5 \n",
      "1 \n",
      "1 5 10 10 5 1 (-0.5682, 0.25585)\n",
      "array('d', [0.18099999999999997, 0.06699999999999999])\n",
      "1 \n",
      "2 \n",
      "1 \n",
      "3 \n",
      "3 \n",
      "1 \n",
      "4 \n",
      "6 \n",
      "4 \n",
      "1 \n",
      "5 \n",
      "10 \n",
      "10 \n",
      "5 \n",
      "1 \n",
      "1 5 10 10 5 1 (-0.5558, 0.25878)\n",
      "array('d', [0.01, 0.08599999999999998])\n",
      "1 \n",
      "2 \n",
      "1 \n",
      "3 \n",
      "3 \n",
      "1 \n",
      "4 \n",
      "6 \n",
      "4 \n",
      "1 \n",
      "5 \n",
      "10 \n",
      "10 \n",
      "5 \n",
      "1 \n",
      "1 5 10 10 5 1 (-0.6125, 0.23471)\n",
      "array('d', [0.028999999999999998, 0.08599999999999998])\n",
      "1 \n",
      "2 \n",
      "1 \n",
      "3 \n",
      "3 \n",
      "1 \n",
      "4 \n",
      "6 \n",
      "4 \n",
      "1 \n",
      "5 \n",
      "10 \n",
      "10 \n",
      "5 \n",
      "1 \n",
      "1 5 10 10 5 1 (-0.4909, 0.23905)\n",
      "array('d', [0.047999999999999994, 0.08599999999999998])\n",
      "1 \n",
      "2 \n",
      "1 \n",
      "3 \n",
      "3 \n",
      "1 \n",
      "4 \n",
      "6 \n",
      "4 \n",
      "1 \n",
      "5 \n",
      "10 \n",
      "10 \n",
      "5 \n",
      "1 \n",
      "1 5 10 10 5 1 (-0.482, 0.24118)\n",
      "array('d', [0.06699999999999999, 0.08599999999999998])\n",
      "1 \n",
      "2 \n",
      "1 \n",
      "3 \n",
      "3 \n",
      "1 \n",
      "4 \n",
      "6 \n",
      "4 \n",
      "1 \n",
      "5 \n",
      "10 \n",
      "10 \n",
      "5 \n",
      "1 \n",
      "1 5 10 10 5 1 (-0.4719, 0.24346)\n",
      "array('d', [0.08599999999999998, 0.08599999999999998])\n",
      "1 \n",
      "2 \n",
      "1 \n",
      "3 \n",
      "3 \n",
      "1 \n",
      "4 \n",
      "6 \n",
      "4 \n",
      "1 \n",
      "5 \n",
      "10 \n",
      "10 \n",
      "5 \n",
      "1 \n",
      "1 5 10 10 5 1 (-0.5912, 0.24409)\n",
      "array('d', [0.10499999999999997, 0.08599999999999998])\n",
      "1 \n",
      "2 \n",
      "1 \n",
      "3 \n",
      "3 \n",
      "1 \n",
      "4 \n",
      "6 \n",
      "4 \n",
      "1 \n",
      "5 \n",
      "10 \n",
      "10 \n",
      "5 \n",
      "1 \n",
      "1 5 10 10 5 1 (-0.4485, 0.24839)\n",
      "array('d', [0.12399999999999997, 0.08599999999999998])\n",
      "1 \n",
      "2 \n",
      "1 \n",
      "3 \n",
      "3 \n",
      "1 \n",
      "4 \n",
      "6 \n",
      "4 \n",
      "1 \n",
      "5 \n",
      "10 \n",
      "10 \n",
      "5 \n",
      "1 \n",
      "1 5 10 10 5 1 (-0.4355, 0.25098)\n",
      "array('d', [0.143, 0.08599999999999998])\n",
      "1 \n",
      "2 \n",
      "1 \n",
      "3 \n",
      "3 \n",
      "1 \n",
      "4 \n",
      "6 \n",
      "4 \n",
      "1 \n",
      "5 \n",
      "10 \n",
      "10 \n",
      "5 \n",
      "1 \n",
      "1 5 10 10 5 1 (-0.5611, 0.25251)\n",
      "array('d', [0.16199999999999998, 0.08599999999999998])\n",
      "1 \n",
      "2 \n",
      "1 \n",
      "3 \n",
      "3 \n",
      "1 \n",
      "4 \n",
      "6 \n",
      "4 \n",
      "1 \n",
      "5 \n",
      "10 \n",
      "10 \n",
      "5 \n",
      "1 \n",
      "1 5 10 10 5 1 (-0.408, 0.25632)\n",
      "array('d', [0.18099999999999997, 0.08599999999999998])\n",
      "1 \n",
      "2 \n",
      "1 \n",
      "3 \n",
      "3 \n",
      "1 \n",
      "4 \n",
      "6 \n",
      "4 \n",
      "1 \n",
      "5 \n",
      "10 \n",
      "10 \n",
      "5 \n",
      "1 \n",
      "1 5 10 10 5 1 (-0.3939, 0.25902)\n",
      "array('d', [0.01, 0.10499999999999997])\n",
      "1 \n",
      "2 \n",
      "1 \n",
      "3 \n",
      "3 \n",
      "1 \n",
      "4 \n",
      "6 \n",
      "4 \n",
      "1 \n",
      "5 \n",
      "10 \n",
      "10 \n",
      "5 \n",
      "1 \n",
      "1 5 10 10 5 1 (-0.4819, 0.23649)\n",
      "array('d', [0.028999999999999998, 0.10499999999999997])\n",
      "1 \n",
      "2 \n",
      "1 \n",
      "3 \n",
      "3 \n",
      "1 \n",
      "4 \n",
      "6 \n",
      "4 \n",
      "1 \n",
      "5 \n",
      "10 \n",
      "10 \n",
      "5 \n",
      "1 \n",
      "1 5 10 10 5 1 (-0.4743, 0.23851)\n",
      "array('d', [0.047999999999999994, 0.10499999999999997])\n",
      "1 \n",
      "2 \n",
      "1 \n",
      "3 \n",
      "3 \n",
      "1 \n",
      "4 \n",
      "6 \n",
      "4 \n",
      "1 \n",
      "5 \n",
      "10 \n",
      "10 \n",
      "5 \n",
      "1 \n",
      "1 5 10 10 5 1 (-0.5865, 0.23875)\n",
      "array('d', [0.06699999999999999, 0.10499999999999997])\n",
      "1 \n",
      "2 \n",
      "1 \n",
      "3 \n",
      "3 \n",
      "1 \n",
      "4 \n",
      "6 \n",
      "4 \n",
      "1 \n",
      "5 \n",
      "10 \n",
      "10 \n",
      "5 \n",
      "1 \n",
      "1 5 10 10 5 1 (-0.5801, 0.24118)\n",
      "array('d', [0.08599999999999998, 0.10499999999999997])\n",
      "1 \n",
      "2 \n",
      "1 \n",
      "3 \n",
      "3 \n",
      "1 \n",
      "4 \n",
      "6 \n",
      "4 \n",
      "1 \n",
      "5 \n",
      "10 \n",
      "10 \n",
      "5 \n",
      "1 \n",
      "1 5 10 10 5 1 (-0.5723, 0.24375)\n",
      "array('d', [0.10499999999999997, 0.10499999999999997])\n",
      "1 \n",
      "2 \n",
      "1 \n",
      "3 \n",
      "3 \n",
      "1 \n",
      "4 \n",
      "6 \n",
      "4 \n",
      "1 \n",
      "5 \n",
      "10 \n",
      "10 \n",
      "5 \n",
      "1 \n",
      "1 5 10 10 5 1 (-0.5631, 0.24646)\n",
      "array('d', [0.12399999999999997, 0.10499999999999997])\n",
      "1 \n",
      "2 \n",
      "1 \n",
      "3 \n",
      "3 \n",
      "1 \n",
      "4 \n",
      "6 \n",
      "4 \n",
      "1 \n",
      "5 \n",
      "10 \n",
      "10 \n",
      "5 \n",
      "1 \n",
      "1 5 10 10 5 1 (-0.5527, 0.24925)\n",
      "array('d', [0.143, 0.10499999999999997])\n",
      "1 \n",
      "2 \n",
      "1 \n",
      "3 \n",
      "3 \n",
      "1 \n",
      "4 \n",
      "6 \n",
      "4 \n",
      "1 \n",
      "5 \n",
      "10 \n",
      "10 \n",
      "5 \n",
      "1 \n",
      "1 5 10 10 5 1 (-0.4038, 0.2529)\n",
      "array('d', [0.16199999999999998, 0.10499999999999997])\n",
      "1 \n",
      "2 \n",
      "1 \n",
      "3 \n",
      "3 \n",
      "1 \n",
      "4 \n",
      "6 \n",
      "4 \n",
      "1 \n",
      "5 \n",
      "10 \n",
      "10 \n",
      "5 \n",
      "1 \n",
      "1 5 10 10 5 1 (-0.3897, 0.25554)\n",
      "array('d', [0.18099999999999997, 0.10499999999999997])\n",
      "1 \n",
      "2 \n",
      "1 \n",
      "3 \n",
      "3 \n",
      "1 \n",
      "4 \n",
      "6 \n",
      "4 \n",
      "1 \n",
      "5 \n",
      "10 \n",
      "10 \n",
      "5 \n",
      "1 \n",
      "1 5 10 10 5 1 (-0.5157, 0.25778)\n",
      "array('d', [0.01, 0.12399999999999997])\n",
      "1 \n",
      "2 \n",
      "1 \n",
      "3 \n",
      "3 \n",
      "1 \n",
      "4 \n",
      "6 \n",
      "4 \n",
      "1 \n",
      "5 \n",
      "10 \n",
      "10 \n",
      "5 \n",
      "1 \n",
      "1 5 10 10 5 1 (-0.5758, 0.23402)\n",
      "array('d', [0.028999999999999998, 0.12399999999999997])\n",
      "1 \n",
      "2 \n",
      "1 \n",
      "3 \n",
      "3 \n",
      "1 \n",
      "4 \n",
      "6 \n",
      "4 \n",
      "1 \n",
      "5 \n",
      "10 \n",
      "10 \n",
      "5 \n",
      "1 \n",
      "1 5 10 10 5 1 (-0.5724, 0.23615)\n",
      "array('d', [0.047999999999999994, 0.12399999999999997])\n",
      "1 \n",
      "2 \n",
      "1 \n",
      "3 \n",
      "3 \n",
      "1 \n",
      "4 \n",
      "6 \n",
      "4 \n",
      "1 \n",
      "5 \n",
      "10 \n",
      "10 \n",
      "5 \n",
      "1 \n",
      "1 5 10 10 5 1 (-0.5672, 0.23842)\n",
      "array('d', [0.06699999999999999, 0.12399999999999997])\n",
      "1 \n",
      "2 \n",
      "1 \n",
      "3 \n",
      "3 \n",
      "1 \n",
      "4 \n",
      "6 \n",
      "4 \n",
      "1 \n",
      "5 \n",
      "10 \n",
      "10 \n",
      "5 \n",
      "1 \n",
      "1 5 10 10 5 1 (-0.5605, 0.24083)\n",
      "array('d', [0.08599999999999998, 0.12399999999999997])\n",
      "1 \n",
      "2 \n",
      "1 \n",
      "3 \n",
      "3 \n",
      "1 \n",
      "4 \n",
      "6 \n",
      "4 \n",
      "1 \n",
      "5 \n",
      "10 \n",
      "10 \n",
      "5 \n",
      "1 \n",
      "1 5 10 10 5 1 (-0.5523, 0.24338)\n",
      "array('d', [0.10499999999999997, 0.12399999999999997])\n",
      "1 \n",
      "2 \n",
      "1 \n",
      "3 \n",
      "3 \n",
      "1 \n",
      "4 \n",
      "6 \n",
      "4 \n",
      "1 \n",
      "5 \n",
      "10 \n",
      "10 \n",
      "5 \n",
      "1 \n",
      "1 5 10 10 5 1 (-0.5427, 0.24606)\n",
      "array('d', [0.12399999999999997, 0.12399999999999997])\n",
      "1 \n",
      "2 \n",
      "1 \n",
      "3 \n",
      "3 \n",
      "1 \n",
      "4 \n",
      "6 \n",
      "4 \n",
      "1 \n",
      "5 \n",
      "10 \n",
      "10 \n",
      "5 \n",
      "1 \n",
      "1 5 10 10 5 1 (-0.5319, 0.24881)\n",
      "array('d', [0.143, 0.12399999999999997])\n",
      "1 \n",
      "2 \n",
      "1 \n",
      "3 \n",
      "3 \n",
      "1 \n",
      "4 \n",
      "6 \n",
      "4 \n",
      "1 \n",
      "5 \n",
      "10 \n",
      "10 \n",
      "5 \n",
      "1 \n",
      "1 5 10 10 5 1 (-0.5201, 0.25161)\n",
      "array('d', [0.16199999999999998, 0.12399999999999997])\n",
      "1 \n",
      "2 \n",
      "1 \n",
      "3 \n",
      "3 \n",
      "1 \n",
      "4 \n",
      "6 \n",
      "4 \n",
      "1 \n",
      "5 \n",
      "10 \n",
      "10 \n",
      "5 \n",
      "1 \n",
      "1 5 10 10 5 1 (-0.3704, 0.25469)\n",
      "array('d', [0.18099999999999997, 0.12399999999999997])\n",
      "1 \n",
      "2 \n",
      "1 \n",
      "3 \n",
      "3 \n",
      "1 \n",
      "4 \n",
      "6 \n",
      "4 \n",
      "1 \n",
      "5 \n",
      "10 \n",
      "10 \n",
      "5 \n",
      "1 \n",
      "1 5 10 10 5 1 (-0.3559, 0.25728)\n",
      "array('d', [0.01, 0.143])\n",
      "1 \n",
      "2 \n",
      "1 \n",
      "3 \n",
      "3 \n",
      "1 \n",
      "4 \n",
      "6 \n",
      "4 \n",
      "1 \n",
      "5 \n",
      "10 \n",
      "10 \n",
      "5 \n",
      "1 \n",
      "1 5 10 10 5 1 (-0.5559, 0.23364)\n",
      "array('d', [0.028999999999999998, 0.143])\n",
      "1 \n",
      "2 \n",
      "1 \n",
      "3 \n",
      "3 \n",
      "1 \n",
      "4 \n",
      "6 \n",
      "4 \n",
      "1 \n",
      "5 \n",
      "10 \n",
      "10 \n",
      "5 \n",
      "1 \n",
      "1 5 10 10 5 1 (-0.5523, 0.23578)\n",
      "array('d', [0.047999999999999994, 0.143])\n",
      "1 \n",
      "2 \n",
      "1 \n",
      "3 \n",
      "3 \n",
      "1 \n",
      "4 \n",
      "6 \n",
      "4 \n",
      "1 \n",
      "5 \n",
      "10 \n",
      "10 \n",
      "5 \n",
      "1 \n",
      "1 5 10 10 5 1 (-0.4286, 0.23939)\n",
      "array('d', [0.06699999999999999, 0.143])\n",
      "1 \n",
      "2 \n",
      "1 \n",
      "3 \n",
      "3 \n",
      "1 \n",
      "4 \n",
      "6 \n",
      "4 \n",
      "1 \n",
      "5 \n",
      "10 \n",
      "10 \n",
      "5 \n",
      "1 \n",
      "1 5 10 10 5 1 (-0.5397, 0.24045)\n",
      "array('d', [0.08599999999999998, 0.143])\n",
      "1 \n",
      "2 \n",
      "1 \n",
      "3 \n",
      "3 \n",
      "1 \n",
      "4 \n",
      "6 \n",
      "4 \n",
      "1 \n",
      "5 \n",
      "10 \n",
      "10 \n",
      "5 \n",
      "1 \n",
      "1 5 10 10 5 1 (-0.5312, 0.24297)\n",
      "array('d', [0.10499999999999997, 0.143])\n",
      "1 \n",
      "2 \n",
      "1 \n",
      "3 \n",
      "3 \n",
      "1 \n",
      "4 \n",
      "6 \n",
      "4 \n",
      "1 \n",
      "5 \n",
      "10 \n",
      "10 \n",
      "5 \n",
      "1 \n",
      "1 5 10 10 5 1 (-0.3925, 0.24628)\n",
      "array('d', [0.12399999999999997, 0.143])\n",
      "1 \n",
      "2 \n",
      "1 \n",
      "3 \n",
      "3 \n",
      "1 \n",
      "4 \n",
      "6 \n",
      "4 \n",
      "1 \n",
      "5 \n",
      "10 \n",
      "10 \n",
      "5 \n",
      "1 \n",
      "1 5 10 10 5 1 (-0.3788, 0.24873)\n",
      "array('d', [0.143, 0.143])\n",
      "1 \n",
      "2 \n",
      "1 \n",
      "3 \n",
      "3 \n",
      "1 \n",
      "4 \n",
      "6 \n",
      "4 \n",
      "1 \n",
      "5 \n",
      "10 \n",
      "10 \n",
      "5 \n",
      "1 \n",
      "1 5 10 10 5 1 (-0.3646, 0.25123)\n",
      "array('d', [0.16199999999999998, 0.143])\n",
      "1 \n",
      "2 \n",
      "1 \n",
      "3 \n",
      "3 \n",
      "1 \n",
      "4 \n",
      "6 \n",
      "4 \n",
      "1 \n",
      "5 \n",
      "10 \n",
      "10 \n",
      "5 \n",
      "1 \n",
      "1 5 10 10 5 1 (-0.4848, 0.25385)\n",
      "array('d', [0.18099999999999997, 0.143])\n",
      "1 \n",
      "2 \n",
      "1 \n",
      "3 \n",
      "3 \n",
      "1 \n",
      "4 \n",
      "6 \n",
      "4 \n",
      "1 \n",
      "5 \n",
      "10 \n",
      "10 \n",
      "5 \n",
      "1 \n",
      "1 5 10 10 5 1 (-0.3353, 0.25629)\n",
      "array('d', [0.01, 0.16199999999999998])\n",
      "1 \n",
      "2 \n",
      "1 \n",
      "3 \n",
      "3 \n",
      "1 \n",
      "4 \n",
      "6 \n",
      "4 \n",
      "1 \n",
      "5 \n",
      "10 \n",
      "10 \n",
      "5 \n",
      "1 \n",
      "1 5 10 10 5 1 (-0.427, 0.23458)\n",
      "array('d', [0.028999999999999998, 0.16199999999999998])\n",
      "1 \n",
      "2 \n",
      "1 \n",
      "3 \n",
      "3 \n",
      "1 \n",
      "4 \n",
      "6 \n",
      "4 \n",
      "1 \n",
      "5 \n",
      "10 \n",
      "10 \n",
      "5 \n",
      "1 \n",
      "1 5 10 10 5 1 (-0.4187, 0.2366)\n",
      "array('d', [0.047999999999999994, 0.16199999999999998])\n",
      "1 \n",
      "2 \n",
      "1 \n",
      "3 \n",
      "3 \n",
      "1 \n",
      "4 \n",
      "6 \n",
      "4 \n",
      "1 \n",
      "5 \n",
      "10 \n",
      "10 \n",
      "5 \n",
      "1 \n",
      "1 5 10 10 5 1 (-0.4087, 0.23867)\n",
      "array('d', [0.06699999999999999, 0.16199999999999998])\n",
      "1 \n",
      "2 \n",
      "1 \n",
      "3 \n",
      "3 \n",
      "1 \n",
      "4 \n",
      "6 \n",
      "4 \n",
      "1 \n",
      "5 \n",
      "10 \n",
      "10 \n",
      "5 \n",
      "1 \n",
      "1 5 10 10 5 1 (-0.3974, 0.24084)\n",
      "array('d', [0.08599999999999998, 0.16199999999999998])\n",
      "1 \n",
      "2 \n",
      "1 \n",
      "3 \n",
      "3 \n",
      "1 \n",
      "4 \n",
      "6 \n",
      "4 \n",
      "1 \n",
      "5 \n",
      "10 \n",
      "10 \n",
      "5 \n",
      "1 \n",
      "1 5 10 10 5 1 (-0.5088, 0.24252)\n",
      "array('d', [0.10499999999999997, 0.16199999999999998])\n",
      "1 \n",
      "2 \n",
      "1 \n",
      "3 \n",
      "3 \n",
      "1 \n",
      "4 \n",
      "6 \n",
      "4 \n",
      "1 \n",
      "5 \n",
      "10 \n",
      "10 \n",
      "5 \n",
      "1 \n",
      "1 5 10 10 5 1 (-0.3718, 0.24544)\n",
      "array('d', [0.12399999999999997, 0.16199999999999998])\n",
      "1 \n",
      "2 \n",
      "1 \n",
      "3 \n",
      "3 \n",
      "1 \n",
      "4 \n",
      "6 \n",
      "4 \n",
      "1 \n",
      "5 \n",
      "10 \n",
      "10 \n",
      "5 \n",
      "1 \n",
      "1 5 10 10 5 1 (-0.3577, 0.24783)\n",
      "array('d', [0.143, 0.16199999999999998])\n",
      "1 \n",
      "2 \n",
      "1 \n",
      "3 \n",
      "3 \n",
      "1 \n",
      "4 \n",
      "6 \n",
      "4 \n",
      "1 \n",
      "5 \n",
      "10 \n",
      "10 \n",
      "5 \n",
      "1 \n",
      "1 5 10 10 5 1 (-0.3432, 0.25028)\n",
      "array('d', [0.16199999999999998, 0.16199999999999998])\n",
      "1 \n",
      "2 \n",
      "1 \n",
      "3 \n",
      "3 \n",
      "1 \n",
      "4 \n",
      "6 \n",
      "4 \n",
      "1 \n",
      "5 \n",
      "10 \n",
      "10 \n",
      "5 \n",
      "1 \n",
      "1 5 10 10 5 1 (-0.4609, 0.25322)\n",
      "array('d', [0.18099999999999997, 0.16199999999999998])\n",
      "1 \n",
      "2 \n",
      "1 \n",
      "3 \n",
      "3 \n",
      "1 \n",
      "4 \n",
      "6 \n",
      "4 \n",
      "1 \n",
      "5 \n",
      "10 \n",
      "10 \n",
      "5 \n",
      "1 \n",
      "1 5 10 10 5 1 (-0.4468, 0.25591)\n",
      "array('d', [0.01, 0.18099999999999997])\n",
      "1 \n",
      "2 \n",
      "1 \n",
      "3 \n",
      "3 \n",
      "1 \n",
      "4 \n",
      "6 \n",
      "4 \n",
      "1 \n",
      "5 \n",
      "10 \n",
      "10 \n",
      "5 \n",
      "1 \n",
      "1 5 10 10 5 1 (-0.4066, 0.23383)\n",
      "array('d', [0.028999999999999998, 0.18099999999999997])\n",
      "1 \n",
      "2 \n",
      "1 \n",
      "3 \n",
      "3 \n",
      "1 \n",
      "4 \n",
      "6 \n",
      "4 \n",
      "1 \n",
      "5 \n",
      "10 \n",
      "10 \n",
      "5 \n",
      "1 \n",
      "1 5 10 10 5 1 (-0.3979, 0.23583)\n",
      "array('d', [0.047999999999999994, 0.18099999999999997])\n",
      "1 \n",
      "2 \n",
      "1 \n",
      "3 \n",
      "3 \n",
      "1 \n",
      "4 \n",
      "6 \n",
      "4 \n",
      "1 \n",
      "5 \n",
      "10 \n",
      "10 \n",
      "5 \n",
      "1 \n",
      "1 5 10 10 5 1 (-0.3876, 0.23789)\n",
      "array('d', [0.06699999999999999, 0.18099999999999997])\n",
      "1 \n",
      "2 \n",
      "1 \n",
      "3 \n",
      "3 \n",
      "1 \n",
      "4 \n",
      "6 \n",
      "4 \n",
      "1 \n",
      "5 \n",
      "10 \n",
      "10 \n",
      "5 \n",
      "1 \n",
      "1 5 10 10 5 1 (-0.376, 0.24002)\n",
      "array('d', [0.08599999999999998, 0.18099999999999997])\n",
      "1 \n",
      "2 \n",
      "1 \n",
      "3 \n",
      "3 \n",
      "1 \n",
      "4 \n",
      "6 \n",
      "4 \n",
      "1 \n",
      "5 \n",
      "10 \n",
      "10 \n",
      "5 \n",
      "1 \n",
      "1 5 10 10 5 1 (-0.3633, 0.24223)\n",
      "array('d', [0.10499999999999997, 0.18099999999999997])\n",
      "1 \n",
      "2 \n",
      "1 \n",
      "3 \n",
      "3 \n",
      "1 \n",
      "4 \n",
      "6 \n",
      "4 \n",
      "1 \n",
      "5 \n",
      "10 \n",
      "10 \n",
      "5 \n",
      "1 \n",
      "1 5 10 10 5 1 (-0.4744, 0.24459)\n",
      "array('d', [0.12399999999999997, 0.18099999999999997])\n",
      "1 \n",
      "2 \n",
      "1 \n",
      "3 \n",
      "3 \n",
      "1 \n",
      "4 \n",
      "6 \n",
      "4 \n",
      "1 \n",
      "5 \n",
      "10 \n",
      "10 \n",
      "5 \n",
      "1 \n",
      "1 5 10 10 5 1 (-0.4624, 0.24722)\n",
      "array('d', [0.143, 0.18099999999999997])\n",
      "1 \n",
      "2 \n",
      "1 \n",
      "3 \n",
      "3 \n",
      "1 \n",
      "4 \n",
      "6 \n",
      "4 \n",
      "1 \n",
      "5 \n",
      "10 \n",
      "10 \n",
      "5 \n",
      "1 \n",
      "1 5 10 10 5 1 (-0.3206, 0.24923)\n",
      "array('d', [0.16199999999999998, 0.18099999999999997])\n",
      "1 \n",
      "2 \n",
      "1 \n",
      "3 \n",
      "3 \n",
      "1 \n",
      "4 \n",
      "6 \n",
      "4 \n",
      "1 \n",
      "5 \n",
      "10 \n",
      "10 \n",
      "5 \n",
      "1 \n",
      "1 5 10 10 5 1 (-0.3055, 0.25162)\n",
      "array('d', [0.18099999999999997, 0.18099999999999997])\n",
      "1 \n",
      "2 \n",
      "1 \n",
      "3 \n",
      "3 \n",
      "1 \n",
      "4 \n",
      "6 \n",
      "4 \n",
      "1 \n",
      "5 \n",
      "10 \n",
      "10 \n",
      "5 \n",
      "1 \n",
      "1 5 10 10 5 1 (-0.2904, 0.25403)\n"
     ]
    }
   ],
   "source": [
    "fitnesses = toolbox.map(toolbox.evaluate, example_pop)\n",
    "for ind, fit in zip(example_pop, fitnesses):\n",
    "    ind.fitness.values = fit"
   ]
  },
  {
   "cell_type": "markdown",
   "metadata": {
    "deletable": true,
    "editable": true,
    "internals": {
     "frag_helper": "fragment_end",
     "frag_number": 11,
     "slide_type": "subslide"
    },
    "slideshow": {
     "slide_type": "slide"
    }
   },
   "source": [
    "We also need `a_given_individual`."
   ]
  },
  {
   "cell_type": "code",
   "execution_count": 17,
   "metadata": {
    "collapsed": false,
    "deletable": true,
    "editable": true,
    "internals": {
     "frag_helper": "fragment_end",
     "frag_number": 11
    },
    "slideshow": {
     "slide_type": "-"
    }
   },
   "outputs": [],
   "source": [
    "a_given_individual = toolbox.population(n=1)[0]\n",
    "a_given_individual[0] = 0.01\n",
    "a_given_individual[1] = 0.01"
   ]
  },
  {
   "cell_type": "code",
   "execution_count": 18,
   "metadata": {
    "collapsed": false,
    "deletable": true,
    "editable": true,
    "internals": {
     "frag_helper": "fragment_end",
     "frag_number": 11,
     "slide_helper": "subslide_end"
    },
    "slide_helper": "slide_end",
    "slideshow": {
     "slide_type": "-"
    }
   },
   "outputs": [
    {
     "name": "stdout",
     "output_type": "stream",
     "text": [
      "array('d', [0.01, 0.01])\n",
      "1 \n",
      "2 \n",
      "1 \n",
      "3 \n",
      "3 \n",
      "1 \n",
      "4 \n",
      "6 \n",
      "4 \n",
      "1 \n",
      "5 \n",
      "10 \n",
      "10 \n",
      "5 \n",
      "1 \n",
      "1 5 10 10 5 1 (-0.5561, 0.239)\n"
     ]
    }
   ],
   "source": [
    "a_given_individual.fitness.values = toolbox.evaluate(a_given_individual)"
   ]
  },
  {
   "cell_type": "markdown",
   "metadata": {
    "deletable": true,
    "editable": true,
    "internals": {
     "frag_helper": "fragment_end",
     "frag_number": 11,
     "slide_type": "subslide"
    },
    "slideshow": {
     "slide_type": "slide"
    }
   },
   "source": [
    "Implementing the Pareto dominance relation between two individulas."
   ]
  },
  {
   "cell_type": "code",
   "execution_count": 19,
   "metadata": {
    "collapsed": false,
    "deletable": true,
    "editable": true,
    "internals": {
     "frag_helper": "fragment_end",
     "frag_number": 11
    },
    "slideshow": {
     "slide_type": "-"
    }
   },
   "outputs": [],
   "source": [
    "def pareto_dominance(ind1,ind2):\n",
    "    'Returns `True` if `ind1` dominates `ind2`.'\n",
    "    extrictly_better = False\n",
    "    for item1 in ind1.fitness.values:\n",
    "        for item2 in ind2.fitness.values:\n",
    "            if item1 > item2:\n",
    "                return False\n",
    "            if not extrictly_better and item1 < item2:\n",
    "                extrictly_better = True\n",
    "    return extrictly_better"
   ]
  },
  {
   "cell_type": "code",
   "execution_count": 20,
   "metadata": {
    "collapsed": true,
    "deletable": true,
    "editable": true
   },
   "outputs": [],
   "source": [
    "def pareto_dominance(x,y):\n",
    "    return tools.emo.isDominated(x.fitness.values, y.fitness.values)"
   ]
  },
  {
   "cell_type": "markdown",
   "metadata": {
    "deletable": true,
    "editable": true,
    "internals": {
     "frag_helper": "fragment_end",
     "frag_number": 11,
     "slide_helper": "subslide_end"
    },
    "slide_helper": "slide_end",
    "slideshow": {
     "slide_type": "-"
    }
   },
   "source": [
    "*Note:* Bear in mind that DEAP comes with a Pareto dominance relation that probably is more efficient than this implementation.\n",
    "```python\n",
    "def pareto_dominance(x,y):\n",
    "    return tools.emo.isDominated(x.fitness.values, y.fitness.values)\n",
    "```"
   ]
  },
  {
   "cell_type": "markdown",
   "metadata": {
    "deletable": true,
    "editable": true,
    "internals": {
     "frag_helper": "fragment_end",
     "frag_number": 11,
     "slide_type": "subslide"
    },
    "slideshow": {
     "slide_type": "slide"
    }
   },
   "source": [
    "Lets compute the set of individuals that are `dominated` by `a_given_individual`, the ones that dominate it (its `dominators`) and the remaining ones."
   ]
  },
  {
   "cell_type": "code",
   "execution_count": 21,
   "metadata": {
    "collapsed": false,
    "deletable": true,
    "editable": true,
    "internals": {
     "frag_helper": "fragment_end",
     "frag_number": 11,
     "slide_helper": "subslide_end"
    },
    "slide_helper": "subslide_end",
    "slideshow": {
     "slide_type": "-"
    }
   },
   "outputs": [],
   "source": [
    "dominated = [ind for ind in example_pop if pareto_dominance(a_given_individual, ind)]\n",
    "dominators = [ind for ind in example_pop if pareto_dominance(ind, a_given_individual)]\n",
    "others = [ind for ind in example_pop if not ind in dominated and not ind in dominators]"
   ]
  },
  {
   "cell_type": "code",
   "execution_count": 22,
   "metadata": {
    "collapsed": false,
    "deletable": true,
    "editable": true,
    "internals": {
     "frag_helper": "fragment_end",
     "frag_number": 11,
     "slide_helper": "subslide_end",
     "slide_type": "subslide"
    },
    "slide_helper": "slide_end",
    "slideshow": {
     "slide_type": "subslide"
    }
   },
   "outputs": [],
   "source": [
    "def plot_dent():\n",
    "    'Plots the points in decision and objective spaces.'\n",
    "    plt.figure(figsize=(10,5))\n",
    "    plt.subplot(1,2,1)\n",
    "    for ind in dominators: plt.plot(ind[0], ind[1], 'r.')\n",
    "    for ind in dominated: plt.plot(ind[0], ind[1], 'g.')\n",
    "    for ind in others: plt.plot(ind[0], ind[1], 'k.', ms=3)\n",
    "    plt.plot(a_given_individual[0], a_given_individual[1], 'bo', ms=6);\n",
    "    plt.xlabel('$x_1$');plt.ylabel('$x_2$');\n",
    "    plt.title('Decision space');\n",
    "    plt.subplot(1,2,2)\n",
    "    for ind in dominators: plt.plot(ind.fitness.values[0], ind.fitness.values[1], 'r.', alpha=0.7)\n",
    "    for ind in dominated: plt.plot(ind.fitness.values[0], ind.fitness.values[1], 'g.', alpha=0.7)\n",
    "    for ind in others: plt.plot(ind.fitness.values[0], ind.fitness.values[1], 'k.', alpha=0.7, ms=3)\n",
    "    plt.plot(a_given_individual.fitness.values[0], a_given_individual.fitness.values[1], 'bo', ms=6);\n",
    "    plt.xlabel('$f_1(\\mathbf{x})$');plt.ylabel('$f_2(\\mathbf{x})$');\n",
    "    #plt.xlim((-0.75,-0.25));plt.ylim((0.1,0.6));\n",
    "    plt.title('Objective space');\n",
    "    plt.tight_layout()"
   ]
  },
  {
   "cell_type": "markdown",
   "metadata": {
    "deletable": true,
    "editable": true,
    "internals": {
     "frag_helper": "fragment_end",
     "frag_number": 11,
     "slide_type": "subslide"
    },
    "slideshow": {
     "slide_type": "slide"
    }
   },
   "source": [
    "Having `a_given_individual` (blue dot) we can now plot those that are dominated by it (in green), those that dominate it (in red) and those that are uncomparable."
   ]
  },
  {
   "cell_type": "code",
   "execution_count": 23,
   "metadata": {
    "collapsed": false,
    "deletable": true,
    "editable": true,
    "internals": {
     "frag_helper": "fragment_end",
     "frag_number": 11,
     "slide_helper": "subslide_end"
    },
    "slide_helper": "slide_end",
    "slideshow": {
     "slide_type": "-"
    }
   },
   "outputs": [
    {
     "data": {
      "image/png": "[encoded data removed]",
      "text/plain": [
       "<matplotlib.figure.Figure at 0x7ff8c2f7d2d0>"
      ]
     },
     "metadata": {
      "image/png": {
       "height": 348,
       "width": 708
      }
     },
     "output_type": "display_data"
    }
   ],
   "source": [
    "plot_dent()"
   ]
  },
  {
   "cell_type": "markdown",
   "metadata": {
    "deletable": true,
    "editable": true,
    "internals": {
     "frag_helper": "fragment_end",
     "frag_number": 11,
     "slide_type": "subslide"
    },
    "slideshow": {
     "slide_type": "slide"
    }
   },
   "source": [
    "Obtaining the nondominated front."
   ]
  },
  {
   "cell_type": "code",
   "execution_count": 24,
   "metadata": {
    "collapsed": false,
    "deletable": true,
    "editable": true,
    "internals": {
     "frag_helper": "fragment_end",
     "frag_number": 11
    },
    "slideshow": {
     "slide_type": "-"
    }
   },
   "outputs": [
    {
     "name": "stdout",
     "output_type": "stream",
     "text": [
      "[array('d', [0.10499999999999997, 0.01]), array('d', [0.01, 0.06699999999999999]), array('d', [0.028999999999999998, 0.047999999999999994]), array('d', [0.01, 0.143]), array('d', [0.01, 0.12399999999999997]), array('d', [0.06699999999999999, 0.028999999999999998]), array('d', [0.01, 0.08599999999999998])]\n"
     ]
    }
   ],
   "source": [
    "non_dom = tools.sortNondominated(example_pop, k=len(example_pop), first_front_only=True)[0]\n",
    "print non_dom"
   ]
  },
  {
   "cell_type": "code",
   "execution_count": 25,
   "metadata": {
    "collapsed": false,
    "deletable": true,
    "editable": true,
    "internals": {
     "frag_helper": "fragment_end",
     "frag_number": 11,
     "slide_helper": "subslide_end"
    },
    "slide_helper": "slide_end",
    "slideshow": {
     "slide_type": "-"
    }
   },
   "outputs": [
    {
     "data": {
      "text/plain": [
       "<matplotlib.text.Text at 0x7ff8c2a0d690>"
      ]
     },
     "execution_count": 25,
     "metadata": {},
     "output_type": "execute_result"
    },
    {
     "data": {
      "image/png": "[encoded data removed]",
      "text/plain": [
       "<matplotlib.figure.Figure at 0x7ff8c28db410>"
      ]
     },
     "metadata": {
      "image/png": {
       "height": 323,
       "width": 335
      }
     },
     "output_type": "display_data"
    }
   ],
   "source": [
    "plt.figure(figsize=(5,5))\n",
    "for ind in example_pop:\n",
    "    plt.plot(ind.fitness.values[0], ind.fitness.values[1], 'k.', ms=3, alpha=0.5)\n",
    "for ind in non_dom:\n",
    "    plt.plot(ind.fitness.values[0], ind.fitness.values[1], 'bo', alpha=0.74, ms=5)\n",
    "plt.title('Pareto-optimal front')"
   ]
  },
  {
   "cell_type": "code",
   "execution_count": 35,
   "metadata": {
    "collapsed": false,
    "deletable": true,
    "editable": true
   },
   "outputs": [
    {
     "name": "stdout",
     "output_type": "stream",
     "text": [
      "[-0.6498, -0.6292, -0.6427, -0.5559, -0.5758, -0.6492, -0.6125] [0.24807, 0.23502, 0.23736, 0.23364, 0.23402, 0.24235, 0.23471] [array('d', [0.10499999999999997, 0.01]), array('d', [0.01, 0.06699999999999999]), array('d', [0.028999999999999998, 0.047999999999999994]), array('d', [0.01, 0.143]), array('d', [0.01, 0.12399999999999997]), array('d', [0.06699999999999999, 0.028999999999999998]), array('d', [0.01, 0.08599999999999998])]\n"
     ]
    },
    {
     "data": {
      "image/png": "[encoded data removed]",
      "text/plain": [
       "<matplotlib.figure.Figure at 0x7ff8c1d31890>"
      ]
     },
     "metadata": {
      "image/png": {
       "height": 323,
       "width": 335
      }
     },
     "output_type": "display_data"
    }
   ],
   "source": [
    "plt.figure(figsize=(5,5))\n",
    "X_non_dom=[]\n",
    "Y_non_dom=[]\n",
    "for ind in non_dom:\n",
    "    plt.plot(ind.fitness.values[0], ind.fitness.values[1], 'bo', alpha=0.74, ms=5)\n",
    "    X_non_dom.append(ind.fitness.values[0])\n",
    "    Y_non_dom.append(ind.fitness.values[1])\n",
    "plt.title('Pareto-optimal front')\n",
    "#plt.axis([-1.5, 0, 0,1.5])\n",
    "print X_non_dom, Y_non_dom, non_dom"
   ]
  },
  {
   "cell_type": "code",
   "execution_count": 36,
   "metadata": {
    "collapsed": true
   },
   "outputs": [],
   "source": [
    "\n",
    "\n",
    "\n",
    "def damped_oscillator(t_vals, g, k, m=1, sigma=0, x0=1):\n",
    "    X = (np.asarray(X_non_dom))\n",
    "    X.shape=((len(X_non_dom)),1)\n",
    "    y = Y_non_dom\n",
    "    X = (np.asarray(X))\n",
    "    X.shape=((len(X)),1)\n",
    "    #X = np.random.randn(10,1)\n",
    "    \n",
    "    if g**2 > 4*k*m:\n",
    "        l1 = (-g**2 + (g**2 - 4*k*m)**0.5) / (2 * m)\n",
    "        l2 = (-g**2 - (g**2 - 4*k*m)**0.5) / (2 * m)\n",
    "        c1, c2 = np.linalg.solve([[1, 1], [l1, l2]], [[x0], [0]]).flatten()\n",
    "        y_vals = X#c1 * exp(t_vals * l1) + c2 * exp(t_vals * l2)\n",
    "    elif g**2 == 4*k*m:\n",
    "        l1 = - g / (2 * m)\n",
    "        c1, c2 = np.linalg.solve([[1, 0], [l1, 1]], [[x0], [0]]).flatten()\n",
    "        y_vals = X#c1 * exp(t_vals * l1) + c2 * t_vals * exp(t_vals * l1)\n",
    "    else:\n",
    "        alpha = - g / (2 * m)\n",
    "        beta = (4 * m * k - g**2)**0.5 / (2 * m)\n",
    "        c1, c2 = np.linalg.solve([[1, 0], [alpha, beta]], [[x0], [0]]).flatten()\n",
    "        y_vals = X#exp(alpha * t_vals) * (c1 * cos(beta * t_vals) + c2 * sin(beta * t_vals))\n",
    "    y_vals = X\n",
    "    return y_vals + np.random.randn(len(t_vals)) * sigma"
   ]
  },
  {
   "cell_type": "code",
   "execution_count": 37,
   "metadata": {
    "collapsed": false
   },
   "outputs": [
    {
     "data": {
      "text/plain": [
       "<matplotlib.text.Text at 0x7ff8c2cde050>"
      ]
     },
     "execution_count": 37,
     "metadata": {},
     "output_type": "execute_result"
    },
    {
     "data": {
      "image/png": "[encoded data removed]",
      "text/plain": [
       "<matplotlib.figure.Figure at 0x7ff8c1e74710>"
      ]
     },
     "metadata": {
      "image/png": {
       "height": 357,
       "width": 511
      }
     },
     "output_type": "display_data"
    }
   ],
   "source": [
    "fig, ax = plt.subplots()\n",
    "\n",
    "t_vals = np.linspace(0, 5, num = 7)\n",
    "\n",
    "for g in np.logspace(-2, 2, num=4):\n",
    "    for k in np.logspace(-2, 2, num=4):\n",
    "        y_vals = damped_oscillator(t_vals, g=g, k=k)\n",
    "        #print y_vals\n",
    "        ax.plot(t_vals, y_vals)\n",
    "ax.set_xlabel('$t$')\n",
    "ax.set_ylabel('$y(t)$')"
   ]
  },
  {
   "cell_type": "code",
   "execution_count": 38,
   "metadata": {
    "collapsed": true
   },
   "outputs": [],
   "source": [
    "# parameters\n",
    "m=1  # known\n",
    "kstar=7  # unknown\n",
    "gstar=1  # unknown\n",
    "# noisy observations\n",
    "t_meas = np.linspace(0, 5, num=7)\n",
    "y_obs = damped_oscillator(t_meas, g=gstar, k=kstar, m=m, sigma=0.15)\n",
    "# true function\n",
    "t_vals = np.linspace(0, 5, num = 7)\n",
    "y_vals = damped_oscillator(t_vals, g=gstar, k=kstar, m=m)\n"
   ]
  },
  {
   "cell_type": "code",
   "execution_count": 40,
   "metadata": {
    "collapsed": false
   },
   "outputs": [
    {
     "ename": "ValueError",
     "evalue": "x and y must be the same size",
     "output_type": "error",
     "traceback": [
      "\u001b[0;31m---------------------------------------------------------------------------\u001b[0m",
      "\u001b[0;31mValueError\u001b[0m                                Traceback (most recent call last)",
      "\u001b[0;32m<ipython-input-40-ef71f9ee89d2>\u001b[0m in \u001b[0;36m<module>\u001b[0;34m()\u001b[0m\n\u001b[1;32m      2\u001b[0m \u001b[0;34m\u001b[0m\u001b[0m\n\u001b[1;32m      3\u001b[0m \u001b[0;31m#ax.plot(t_vals, y_vals, label='unknown parametrized function')\u001b[0m\u001b[0;34m\u001b[0m\u001b[0;34m\u001b[0m\u001b[0m\n\u001b[0;32m----> 4\u001b[0;31m \u001b[0max\u001b[0m\u001b[0;34m.\u001b[0m\u001b[0mscatter\u001b[0m\u001b[0;34m(\u001b[0m\u001b[0mt_meas\u001b[0m\u001b[0;34m,\u001b[0m \u001b[0my_obs\u001b[0m\u001b[0;34m,\u001b[0m \u001b[0mc\u001b[0m\u001b[0;34m=\u001b[0m\u001b[0;34m'r'\u001b[0m\u001b[0;34m,\u001b[0m \u001b[0mlabel\u001b[0m\u001b[0;34m=\u001b[0m\u001b[0;34m'noisy observations'\u001b[0m\u001b[0;34m)\u001b[0m\u001b[0;34m\u001b[0m\u001b[0m\n\u001b[0m\u001b[1;32m      5\u001b[0m \u001b[0max\u001b[0m\u001b[0;34m.\u001b[0m\u001b[0mset_xlabel\u001b[0m\u001b[0;34m(\u001b[0m\u001b[0;34m'$t$'\u001b[0m\u001b[0;34m)\u001b[0m\u001b[0;34m\u001b[0m\u001b[0m\n\u001b[1;32m      6\u001b[0m \u001b[0max\u001b[0m\u001b[0;34m.\u001b[0m\u001b[0mset_ylabel\u001b[0m\u001b[0;34m(\u001b[0m\u001b[0;34m'$y(t)$'\u001b[0m\u001b[0;34m)\u001b[0m\u001b[0;34m\u001b[0m\u001b[0m\n",
      "\u001b[0;32m/usr/local/lib/python2.7/dist-packages/matplotlib-1.5.3-py2.7-linux-x86_64.egg/matplotlib/__init__.pyc\u001b[0m in \u001b[0;36minner\u001b[0;34m(ax, *args, **kwargs)\u001b[0m\n\u001b[1;32m   1817\u001b[0m                     warnings.warn(msg % (label_namer, func.__name__),\n\u001b[1;32m   1818\u001b[0m                                   RuntimeWarning, stacklevel=2)\n\u001b[0;32m-> 1819\u001b[0;31m             \u001b[0;32mreturn\u001b[0m \u001b[0mfunc\u001b[0m\u001b[0;34m(\u001b[0m\u001b[0max\u001b[0m\u001b[0;34m,\u001b[0m \u001b[0;34m*\u001b[0m\u001b[0margs\u001b[0m\u001b[0;34m,\u001b[0m \u001b[0;34m**\u001b[0m\u001b[0mkwargs\u001b[0m\u001b[0;34m)\u001b[0m\u001b[0;34m\u001b[0m\u001b[0m\n\u001b[0m\u001b[1;32m   1820\u001b[0m         \u001b[0mpre_doc\u001b[0m \u001b[0;34m=\u001b[0m \u001b[0minner\u001b[0m\u001b[0;34m.\u001b[0m\u001b[0m__doc__\u001b[0m\u001b[0;34m\u001b[0m\u001b[0m\n\u001b[1;32m   1821\u001b[0m         \u001b[0;32mif\u001b[0m \u001b[0mpre_doc\u001b[0m \u001b[0;32mis\u001b[0m \u001b[0mNone\u001b[0m\u001b[0;34m:\u001b[0m\u001b[0;34m\u001b[0m\u001b[0m\n",
      "\u001b[0;32m/usr/local/lib/python2.7/dist-packages/matplotlib-1.5.3-py2.7-linux-x86_64.egg/matplotlib/axes/_axes.pyc\u001b[0m in \u001b[0;36mscatter\u001b[0;34m(self, x, y, s, c, marker, cmap, norm, vmin, vmax, alpha, linewidths, verts, edgecolors, **kwargs)\u001b[0m\n\u001b[1;32m   3808\u001b[0m         \u001b[0my\u001b[0m \u001b[0;34m=\u001b[0m \u001b[0mnp\u001b[0m\u001b[0;34m.\u001b[0m\u001b[0mma\u001b[0m\u001b[0;34m.\u001b[0m\u001b[0mravel\u001b[0m\u001b[0;34m(\u001b[0m\u001b[0my\u001b[0m\u001b[0;34m)\u001b[0m\u001b[0;34m\u001b[0m\u001b[0m\n\u001b[1;32m   3809\u001b[0m         \u001b[0;32mif\u001b[0m \u001b[0mx\u001b[0m\u001b[0;34m.\u001b[0m\u001b[0msize\u001b[0m \u001b[0;34m!=\u001b[0m \u001b[0my\u001b[0m\u001b[0;34m.\u001b[0m\u001b[0msize\u001b[0m\u001b[0;34m:\u001b[0m\u001b[0;34m\u001b[0m\u001b[0m\n\u001b[0;32m-> 3810\u001b[0;31m             \u001b[0;32mraise\u001b[0m \u001b[0mValueError\u001b[0m\u001b[0;34m(\u001b[0m\u001b[0;34m\"x and y must be the same size\"\u001b[0m\u001b[0;34m)\u001b[0m\u001b[0;34m\u001b[0m\u001b[0m\n\u001b[0m\u001b[1;32m   3811\u001b[0m \u001b[0;34m\u001b[0m\u001b[0m\n\u001b[1;32m   3812\u001b[0m         \u001b[0ms\u001b[0m \u001b[0;34m=\u001b[0m \u001b[0mnp\u001b[0m\u001b[0;34m.\u001b[0m\u001b[0mma\u001b[0m\u001b[0;34m.\u001b[0m\u001b[0mravel\u001b[0m\u001b[0;34m(\u001b[0m\u001b[0ms\u001b[0m\u001b[0;34m)\u001b[0m  \u001b[0;31m# This doesn't have to match x, y in size.\u001b[0m\u001b[0;34m\u001b[0m\u001b[0m\n",
      "\u001b[0;31mValueError\u001b[0m: x and y must be the same size"
     ]
    },
    {
     "data": {
      "image/png": "[encoded data removed]",
      "text/plain": [
       "<matplotlib.figure.Figure at 0x7ff8c2ad8490>"
      ]
     },
     "metadata": {
      "image/png": {
       "height": 342,
       "width": 486
      }
     },
     "output_type": "display_data"
    }
   ],
   "source": [
    "fig, ax = plt.subplots()\n",
    "\n",
    "ax.plot(t_vals, y_vals, label='unknown parametrized function')\n",
    "ax.scatter(t_meas, y_obs, c='r', label='noisy observations')\n",
    "ax.set_xlabel('$t$')\n",
    "ax.set_ylabel('$y(t)$')\n",
    "ax.legend(loc=0)"
   ]
  },
  {
   "cell_type": "code",
   "execution_count": 41,
   "metadata": {
    "collapsed": true
   },
   "outputs": [],
   "source": [
    "def get_mse(g, k):\n",
    "    \"\"\"\n",
    "    Computes the mean squared error for a given gamma and k\n",
    "    \"\"\"\n",
    "    y_sim = damped_oscillator(t_meas, g=g, k=k)\n",
    "    return np.log10(np.mean((y_sim - y_obs)**2))"
   ]
  },
  {
   "cell_type": "code",
   "execution_count": 42,
   "metadata": {
    "collapsed": true
   },
   "outputs": [],
   "source": [
    "g_vals = np.logspace(-2, 2, num=100)\n",
    "k_vals = np.logspace(-2, 2, num=100)\n",
    "\n",
    "mse_pars = np.zeros((len(g_vals), len(k_vals)))\n",
    "for i, g in enumerate(g_vals):\n",
    "    for j, k in enumerate(k_vals):\n",
    "        mse_pars[i, j] = get_mse(g=g, k=k)"
   ]
  },
  {
   "cell_type": "code",
   "execution_count": 43,
   "metadata": {
    "collapsed": false
   },
   "outputs": [
    {
     "data": {
      "text/plain": [
       "[]"
      ]
     },
     "execution_count": 43,
     "metadata": {},
     "output_type": "execute_result"
    },
    {
     "data": {
      "image/png": "[encoded data removed]",
      "text/plain": [
       "<matplotlib.figure.Figure at 0x7ff8c1a27750>"
      ]
     },
     "metadata": {
      "image/png": {
       "height": 383,
       "width": 396
      }
     },
     "output_type": "display_data"
    }
   ],
   "source": [
    "G, K = np.meshgrid(g_vals, k_vals)\n",
    "\n",
    "fig, ax = plt.subplots(figsize=(6, 6))\n",
    "ax.contourf(K, G, mse_pars.T)\n",
    "ax.set_xlabel('$k$')\n",
    "ax.set_ylabel('$g$')\n",
    "ax.scatter(kstar, gstar, c='y')\n",
    "ax.loglog()"
   ]
  },
  {
   "cell_type": "code",
   "execution_count": 44,
   "metadata": {
    "collapsed": false
   },
   "outputs": [
    {
     "data": {
      "image/png": "[encoded data removed]",
      "text/plain": [
       "<matplotlib.figure.Figure at 0x7ff8c193f990>"
      ]
     },
     "metadata": {
      "image/png": {
       "height": 338,
       "width": 733
      }
     },
     "output_type": "display_data"
    }
   ],
   "source": [
    "param_grid = np.array([[g, k] for k in np.logspace(-1.5, 1.5, num=4) for g in np.logspace(-1.5, 1.5, num=4)])\n",
    "param_random = 10**np.random.uniform(-2, 2, size=(16, 2))\n",
    "\n",
    "fig, (ax0, ax1) = plt.subplots(ncols=2, figsize=(12, 5))\n",
    "\n",
    "ax0.scatter(param_grid[:,0], param_grid[:,1], c='r')\n",
    "ax0.set_title('Grid')\n",
    "\n",
    "ax1.scatter(param_random[:,0], param_random[:,1], c='r')\n",
    "ax1.set_title('Random')\n",
    "\n",
    "for ax in (ax1, ax0):\n",
    "    ax.scatter(kstar, gstar, c='y')\n",
    "    ax.loglog()\n",
    "    ax.set_xlabel('$k$')\n",
    "    ax.set_ylabel('$\\gamma$')\n",
    "    ax.set_ylim([1e-2, 1e2])\n",
    "    ax.set_xlim([1e-2, 1e2])"
   ]
  },
  {
   "cell_type": "code",
   "execution_count": 45,
   "metadata": {
    "collapsed": false
   },
   "outputs": [
    {
     "data": {
      "text/plain": [
       "array([-1.89176296, -1.89176296, -1.89176296, -1.89176296, -1.89176296,\n",
       "       -1.89176296, -1.89176296, -1.89176296, -1.89176296, -1.89176296,\n",
       "       -1.89176296, -1.89176296, -1.89176296, -1.89176296, -1.89176296,\n",
       "       -1.89176296])"
      ]
     },
     "execution_count": 45,
     "metadata": {},
     "output_type": "execute_result"
    }
   ],
   "source": [
    "# evaluate instances\n",
    "simulated_parameters = param_random\n",
    "#simulated_parameters = param_grid\n",
    "mse_obs = np.array([get_mse(g=g, k=k) for g, k in simulated_parameters])\n",
    "mse_obs"
   ]
  },
  {
   "cell_type": "code",
   "execution_count": 49,
   "metadata": {
    "collapsed": false
   },
   "outputs": [
    {
     "data": {
      "text/plain": [
       "GaussianProcessRegressor(alpha=0.01, copy_X_train=True, kernel=None,\n",
       "             n_restarts_optimizer=0, normalize_y=False,\n",
       "             optimizer='fmin_l_bfgs_b', random_state=None)"
      ]
     },
     "execution_count": 49,
     "metadata": {},
     "output_type": "execute_result"
    }
   ],
   "source": [
    "gaussian_process = GaussianProcessRegressor(alpha=1e-2)\n",
    "gaussian_process.fit(np.log10(simulated_parameters), mse_obs)"
   ]
  },
  {
   "cell_type": "code",
   "execution_count": 50,
   "metadata": {
    "collapsed": false
   },
   "outputs": [
    {
     "name": "stdout",
     "output_type": "stream",
     "text": [
      "Predicted MSE: -1.89385292291 (0.110758926827)\n"
     ]
    }
   ],
   "source": [
    "instance = np.log10([[3, 0.1]])\n",
    "\n",
    "mu, sigma = gaussian_process.predict(instance, return_std=True)\n",
    "print('Predicted MSE: {} ({})'.format(mu[0], sigma[0]))"
   ]
  },
  {
   "cell_type": "code",
   "execution_count": 51,
   "metadata": {
    "collapsed": true
   },
   "outputs": [],
   "source": [
    "mu_mse = np.zeros_like(mse_pars)\n",
    "std_mse = np.zeros_like(mse_pars)\n",
    "\n",
    "for i, g in enumerate(g_vals):\n",
    "    for j, k in enumerate(k_vals):\n",
    "        instance = np.log10([[g, k]])\n",
    "        mu, sigma = gaussian_process.predict(instance, return_std=True)\n",
    "        mu_mse[i, j] = mu[:]\n",
    "        std_mse[i, j] = sigma[:]"
   ]
  },
  {
   "cell_type": "code",
   "execution_count": 54,
   "metadata": {
    "collapsed": false
   },
   "outputs": [
    {
     "data": {
      "image/png": "[encoded data removed]",
      "text/plain": [
       "<matplotlib.figure.Figure at 0x7ff8c1cacc50>"
      ]
     },
     "metadata": {
      "image/png": {
       "height": 338,
       "width": 731
      }
     },
     "output_type": "display_data"
    }
   ],
   "source": [
    "fig, (ax0, ax1) = plt.subplots(ncols=2, figsize=(12, 5))\n",
    "ax0.contourf(K, G, mu_mse.T)\n",
    "ax0.set_title('Estimated MSE')\n",
    "\n",
    "ax1.contourf(K, G, std_mse.T)\n",
    "ax1.set_title('Std MSE')\n",
    "\n",
    "for ax in (ax0, ax1):\n",
    "    ax.set_xlabel('$k$')\n",
    "    ax.set_ylabel('$\\gamma$')\n",
    "    ax.loglog()\n",
    "    ax.scatter(kstar, gstar, c='y')\n",
    "    ax.scatter(simulated_parameters[:,0], simulated_parameters[:,1], c='r')"
   ]
  },
  {
   "cell_type": "code",
   "execution_count": 55,
   "metadata": {
    "collapsed": false
   },
   "outputs": [
    {
     "data": {
      "text/plain": [
       "<matplotlib.legend.Legend at 0x7ff8ba31f9d0>"
      ]
     },
     "execution_count": 55,
     "metadata": {},
     "output_type": "execute_result"
    },
    {
     "data": {
      "image/png": "[encoded data removed]",
      "text/plain": [
       "<matplotlib.figure.Figure at 0x7ff8ba5f0e50>"
      ]
     },
     "metadata": {
      "image/png": {
       "height": 273,
       "width": 398
      }
     },
     "output_type": "display_data"
    }
   ],
   "source": [
    "k_slice = np.column_stack((np.logspace(-2, 2, num=100), [1]*100))\n",
    "# expected mse, std\n",
    "mu, sigma = gaussian_process.predict(np.log10(k_slice), return_std=True)\n",
    "\n",
    "fig, ax = plt.subplots()\n",
    "ax.plot(k_slice[:,0], mu, c='r', label='expected value')\n",
    "ax.plot(k_slice[:,0], mu-2*sigma, c='r', ls='--', label='95% interval')\n",
    "ax.plot(k_slice[:,0], mu+2*sigma, c='r', ls='--')\n",
    "ax.semilogx()\n",
    "ax.set_xlabel('$\\gamma$')\n",
    "ax.set_ylabel('predicted MSE')\n",
    "ax.plot(mu, sigma, 'b.', markersize=10, label=u'Observations')\n",
    "ax.legend(loc=0)"
   ]
  },
  {
   "cell_type": "code",
   "execution_count": 56,
   "metadata": {
    "collapsed": true
   },
   "outputs": [],
   "source": [
    "def calculate_gamma(mu, sigma, fbest):\n",
    "    return (fbest - mu) / sigma\n",
    "\n",
    "def probability_improvement(mu, sigma, fbest=np.min(mse_obs)):\n",
    "    \"\"\"\n",
    "    Calculates probability of improvement\n",
    "    \"\"\"\n",
    "    gamma_values = calculate_gamma(mu, sigma, fbest)\n",
    "    return norm.cdf(gamma_values)"
   ]
  },
  {
   "cell_type": "code",
   "execution_count": 57,
   "metadata": {
    "collapsed": true
   },
   "outputs": [],
   "source": [
    "def expected_improvement(mu, sigma, fbest=np.min(mse_obs)):\n",
    "    \"\"\"\n",
    "    Calculates expected improvement\n",
    "    \"\"\"\n",
    "    gamma_values = calculate_gamma(mu, sigma, fbest)\n",
    "    return sigma * (gamma_values * norm.cdf(gamma_values) + norm.pdf(gamma_values))"
   ]
  },
  {
   "cell_type": "code",
   "execution_count": 58,
   "metadata": {
    "collapsed": true
   },
   "outputs": [],
   "source": [
    "def lower_confidence_bound(mu, sigma, kappa=2):\n",
    "    \"\"\"\n",
    "    Calculates lower confidence bound\n",
    "    \n",
    "    Made negative: maximizing acquisition function!\n",
    "    \"\"\"\n",
    "    return - (mu - kappa * sigma)"
   ]
  },
  {
   "cell_type": "code",
   "execution_count": 59,
   "metadata": {
    "collapsed": true
   },
   "outputs": [],
   "source": [
    "def plot_acquisitions():\n",
    "    fig, (ax0, ax1, ax2, ax3) = plt.subplots(nrows=4, sharex=True, figsize=(8, 10))\n",
    "    \n",
    "    # plot mu and sigma\n",
    "    ax0.plot(k_slice[:,0], mu, c='r', label='expected value')\n",
    "    ax0.plot(k_slice[:,0], mu-2*sigma, c='r', ls='--', label='95% interval')\n",
    "    ax0.plot(k_slice[:,0], mu+2*sigma, c='r', ls='--')\n",
    "    ax0.semilogx()\n",
    "    ax0.set_ylabel('predicted\\nMSE')\n",
    "\n",
    "    # plot information gains\n",
    "    ax1.plot(k_slice[:,0], probability_improvement(mu, sigma), label='PI')\n",
    "    ax1.set_ylabel('PI')\n",
    "    ax2.plot(k_slice[:,0], expected_improvement(mu, sigma), label='EI')\n",
    "    ax2.set_ylabel('EI')\n",
    "    ax3.plot(k_slice[:,0], lower_confidence_bound(mu, sigma), label='LCB')\n",
    "    ax3.set_ylabel('LCB')\n",
    "    ax3.set_xlabel('$\\gamma$')\n"
   ]
  },
  {
   "cell_type": "code",
   "execution_count": 61,
   "metadata": {
    "collapsed": false
   },
   "outputs": [
    {
     "data": {
      "image/png": "[encoded data removed]",
      "text/plain": [
       "<matplotlib.figure.Figure at 0x7ff8ba141890>"
      ]
     },
     "metadata": {
      "image/png": {
       "height": 608,
       "width": 522
      }
     },
     "output_type": "display_data"
    }
   ],
   "source": [
    "plot_acquisitions()\n"
   ]
  },
  {
   "cell_type": "code",
   "execution_count": 62,
   "metadata": {
    "collapsed": true
   },
   "outputs": [],
   "source": [
    "PI = np.zeros_like(mse_pars)\n",
    "EI = np.zeros_like(mse_pars)\n",
    "LCB = np.zeros_like(mse_pars)\n",
    "\n",
    "for i, g in enumerate(g_vals):\n",
    "    for j, k in enumerate(k_vals):\n",
    "        instance = np.log10([[g, k]])\n",
    "        mu, sigma = gaussian_process.predict(instance, return_std=True)\n",
    "        mu = mu[:]\n",
    "        sigma = sigma[:]\n",
    "        PI[i,j] = probability_improvement(mu, sigma)\n",
    "        EI[i,j] = expected_improvement(mu, sigma)\n",
    "        LCB[i,j] = lower_confidence_bound(mu, sigma)"
   ]
  },
  {
   "cell_type": "code",
   "execution_count": 63,
   "metadata": {
    "collapsed": true
   },
   "outputs": [],
   "source": [
    "def show_acquisition_contourf(ax0, ax1, ax2):\n",
    "    ax0.contourf(K, G, PI.T)\n",
    "    ax0.set_title('PI')\n",
    "    ax0.scatter(simulated_parameters[:,0], simulated_parameters[:,1], c='r')\n",
    "\n",
    "    ax1.contourf(K, G, EI.T)\n",
    "    ax1.set_title('EI')\n",
    "    ax1.scatter(simulated_parameters[:,0], simulated_parameters[:,1], c='r')\n",
    "\n",
    "    ax2.contourf(K, G, LCB.T)\n",
    "    ax2.set_title('LCB')\n",
    "    ax2.scatter(simulated_parameters[:,0], simulated_parameters[:,1], c='r')\n",
    "\n",
    "    for ax in (ax0, ax1, ax2):\n",
    "        ax.set_xlabel('$k$')\n",
    "        ax.set_ylabel('$\\gamma$')\n",
    "        ax.loglog()\n",
    "        ax.scatter(kstar, gstar, c='y')\n",
    "        ax.scatter(simulated_parameters[:,0], simulated_parameters[:,1], c='r')"
   ]
  },
  {
   "cell_type": "code",
   "execution_count": 64,
   "metadata": {
    "collapsed": false
   },
   "outputs": [
    {
     "data": {
      "image/png": "[encoded data removed]",
      "text/plain": [
       "<matplotlib.figure.Figure at 0x7ff8b9b94450>"
      ]
     },
     "metadata": {
      "image/png": {
       "height": 338,
       "width": 788
      }
     },
     "output_type": "display_data"
    }
   ],
   "source": [
    "fig, (ax0, ax1, ax2) = plt.subplots(ncols=3, figsize=(13, 5))\n",
    "show_acquisition_contourf(ax0, ax1, ax2)"
   ]
  },
  {
   "cell_type": "code",
   "execution_count": 65,
   "metadata": {
    "collapsed": false
   },
   "outputs": [
    {
     "data": {
      "text/plain": [
       "<matplotlib.text.Text at 0x7ff8b9554d10>"
      ]
     },
     "execution_count": 65,
     "metadata": {},
     "output_type": "execute_result"
    },
    {
     "data": {
      "image/png": "[encoded data removed]",
      "text/plain": [
       "<matplotlib.figure.Figure at 0x7ff8b9fd3b50>"
      ]
     },
     "metadata": {
      "image/png": {
       "height": 258,
       "width": 503
      }
     },
     "output_type": "display_data"
    }
   ],
   "source": [
    "param_random = 10**np.random.uniform(-2, 2, size=(20, 2))\n",
    "\n",
    "mu, cov = gaussian_process.predict(np.log10(param_random), return_cov=True)\n",
    "\n",
    "fig, (ax0, ax1) = plt.subplots(ncols=2, figsize=(8, 4))\n",
    "ax0.plot(mu)\n",
    "ax0.set_ylabel('estimated MSE')\n",
    "\n",
    "ax1.imshow(cov, interpolation='nearest', cmap='hot')\n",
    "ax1.set_title('Covariance')"
   ]
  },
  {
   "cell_type": "code",
   "execution_count": null,
   "metadata": {
    "collapsed": true
   },
   "outputs": [],
   "source": []
  },
  {
   "cell_type": "code",
   "execution_count": null,
   "metadata": {
    "collapsed": true
   },
   "outputs": [],
   "source": []
  },
  {
   "cell_type": "code",
   "execution_count": null,
   "metadata": {
    "collapsed": true
   },
   "outputs": [],
   "source": []
  },
  {
   "cell_type": "code",
   "execution_count": 30,
   "metadata": {
    "collapsed": false,
    "deletable": true,
    "editable": true
   },
   "outputs": [
    {
     "data": {
      "text/plain": [
       "<matplotlib.text.Text at 0x7ff8c1fa2890>"
      ]
     },
     "execution_count": 30,
     "metadata": {},
     "output_type": "execute_result"
    },
    {
     "data": {
      "image/png": "[encoded data removed]",
      "text/plain": [
       "<matplotlib.figure.Figure at 0x7ff8c2034390>"
      ]
     },
     "metadata": {
      "image/png": {
       "height": 351,
       "width": 486
      }
     },
     "output_type": "display_data"
    }
   ],
   "source": [
    "X = [-0.6498, -0.6292, -0.6427, -0.5559, -0.5758, -0.6492, -0.6125] \n",
    "Y = [0.24807, 0.23502, 0.23736, 0.23364, 0.23402, 0.24235, 0.23471]\n",
    "\n",
    "import matplotlib.pyplot as pl\n",
    "\n",
    "\"\"\" This is code for simple GP regression. It assumes a zero mean GP Prior \"\"\"\n",
    "f = lambda x: np.sin(0.9*x).flatten()\n",
    "# Define the kernel\n",
    "def kernel(a, b):\n",
    "    \"\"\" GP squared exponential kernel \"\"\"\n",
    "    kernelParameter = 0.01\n",
    "    sqdist = np.sum(a**2,1).reshape(-1,1) + np.sum(b**2,1) - 2*np.dot(a, b.T)\n",
    "    return np.exp(-.5 * (1/kernelParameter) * sqdist)\n",
    "\n",
    "N = len(X_non_dom)       # number of training points.\n",
    "n = 50         # number of test points.\n",
    "s = 0.00005    # noise variance.\n",
    "\n",
    "\n",
    "# Let's import the Pareto Front points\n",
    "X = (np.asarray(X_non_dom))\n",
    "X.shape=((len(X_non_dom)),1)\n",
    "y = Y_non_dom\n",
    "\n",
    "K = kernel(X, X)\n",
    "L = np.linalg.cholesky(K + s*np.eye(N))\n",
    "\n",
    "# points we're going to make predictions at.\n",
    "Xtest = np.linspace(-2, 0.5, n).reshape(-1,1)\n",
    "\n",
    "# compute the mean at our test points.\n",
    "Lk = np.linalg.solve(L, kernel(X, Xtest))\n",
    "mu = np.dot(Lk.T, np.linalg.solve(L, y))\n",
    "\n",
    "# compute the variance at our test points.\n",
    "K_ = kernel(Xtest, Xtest)\n",
    "s2 = np.diag(K_) - np.sum(Lk**2, axis=0)\n",
    "s = np.sqrt(s2)\n",
    "\n",
    "# PLOTS:\n",
    "pl.figure(1)\n",
    "pl.clf()\n",
    "pl.plot(X, y, 'r+', ms=2)\n",
    "pl.plot(Xtest, f(Xtest), 'b-')\n",
    "pl.gca().fill_between(Xtest.flat, mu-3*s, mu+3*s, color=\"#dddddd\")\n",
    "pl.plot(Xtest, mu, 'r--', lw=2)\n",
    "plt.plot(X, y, 'b.', markersize=10, label=u'Observations')\n",
    "pl.savefig('predictive.png', bbox_inches='tight')\n",
    "pl.title('Mean predictions plus 3 st.deviations')\n",
    "\n"
   ]
  },
  {
   "cell_type": "code",
   "execution_count": null,
   "metadata": {
    "collapsed": false,
    "deletable": true,
    "editable": true
   },
   "outputs": [],
   "source": [
    "#Let's have a go at doing a Gaussian process ??RBF??\n",
    "from __future__ import division\n",
    "import numpy as np\n",
    "import matplotlib.pyplot as pl\n",
    "\n",
    "\"\"\" This is code for simple GP regression. It assumes a zero mean GP Prior \"\"\"\n",
    "f = lambda x: np.sin(0.9*x).flatten()\n",
    "# Define the kernel\n",
    "def kernel(a, b):\n",
    "    \"\"\" GP squared exponential kernel \"\"\"\n",
    "    kernelParameter = 0.01\n",
    "    sqdist = np.sum(a**2,1).reshape(-1,1) + np.sum(b**2,1) - 2*np.dot(a, b.T)\n",
    "    return np.exp(-.5 * (1/kernelParameter) * sqdist)\n",
    "\n",
    "N = len(X_non_dom)       # number of training points.\n",
    "n = 50         # number of test points.\n",
    "s = 0.00005    # noise variance.\n",
    "\n",
    "\n",
    "# Let's import the Pareto Front points\n",
    "X = (np.asarray(X_non_dom))\n",
    "X.shape=((len(X_non_dom)),1)\n",
    "y = Y_non_dom\n",
    "\n",
    "\n",
    "\n",
    "K = kernel(X, X)\n",
    "L = np.linalg.cholesky(K + s*np.eye(N))\n",
    "\n",
    "# points we're going to make predictions at.\n",
    "Xtest = np.linspace(-2, 0.5, n).reshape(-1,1)\n",
    "\n",
    "# compute the mean at our test points.\n",
    "Lk = np.linalg.solve(L, kernel(X, Xtest))\n",
    "mu = np.dot(Lk.T, np.linalg.solve(L, y))\n",
    "\n",
    "# compute the variance at our test points.\n",
    "K_ = kernel(Xtest, Xtest)\n",
    "s2 = np.diag(K_) - np.sum(Lk**2, axis=0)\n",
    "s = np.sqrt(s2)\n",
    "\n",
    "\n",
    "# PLOTS:\n",
    "pl.figure(1)\n",
    "pl.clf()\n",
    "pl.plot(X, y, 'r+', ms=2)\n",
    "pl.plot(Xtest, f(Xtest), 'b-')\n",
    "pl.gca().fill_between(Xtest.flat, mu-3*s, mu+3*s, color=\"#dddddd\")\n",
    "pl.plot(Xtest, mu, 'r--', lw=2)\n",
    "plt.plot(X, y, 'b.', markersize=10, label=u'Observations')\n",
    "pl.savefig('predictive.png', bbox_inches='tight')\n",
    "pl.title('Mean predictions plus 3 st.deviations')\n",
    "#pl.axis([-1.5, 0.5, -1.5,2])\n",
    "\n",
    "# draw samples from the prior at our test points.\n",
    "L = np.linalg.cholesky(K_ + 1e-6*np.eye(n))\n",
    "f_prior = np.dot(L, np.random.normal(size=(n,10)))\n",
    "pl.figure(2)\n",
    "pl.clf()\n",
    "pl.plot(Xtest, f_prior)\n",
    "pl.title('Ten samples from the GP prior')\n",
    "#pl.axis([-1.5, 0.5, 0,2])\n",
    "pl.savefig('prior.png', bbox_inches='tight')\n",
    "\n",
    "# draw samples from the posterior at our test points.\n",
    "L = np.linalg.cholesky(K_ + 1e-6*np.eye(n) - np.dot(Lk.T, Lk))\n",
    "f_post = mu.reshape(-1,1) + np.dot(L, np.random.normal(size=(n,10)))\n",
    "pl.figure(3)\n",
    "pl.clf()\n",
    "pl.plot(Xtest, f_post)\n",
    "pl.title('Ten samples from the GP posterior')\n",
    "#pl.axis([-2, 0, 0,2])\n",
    "pl.savefig('post.png', bbox_inches='tight')\n",
    "\n",
    "pl.show()\n",
    "\n",
    "\n",
    "#acquisition function\n",
    "#def acquisitionfunction()"
   ]
  },
  {
   "cell_type": "code",
   "execution_count": null,
   "metadata": {
    "collapsed": false,
    "deletable": true,
    "editable": true
   },
   "outputs": [],
   "source": [
    "#Here we start with Bayesian Optimization\n",
    "\n",
    "\n",
    "import numpy as np\n",
    "import sympy as sp\n",
    "sp.init_printing()\n",
    "from numpy import sin, exp, cos\n",
    "from sklearn.preprocessing import normalize\n",
    "from scipy.stats import norm\n",
    "from scipy.integrate import odeint\n",
    "import matplotlib.pyplot as plt\n",
    "from sklearn.gaussian_process import GaussianProcessRegressor\n",
    "%matplotlib inline"
   ]
  },
  {
   "cell_type": "code",
   "execution_count": null,
   "metadata": {
    "collapsed": false,
    "deletable": true,
    "editable": true
   },
   "outputs": [],
   "source": [
    "fig, ax = plt.subplots()\n",
    "\n",
    "for g in np.logspace(-2, 2, num=4):\n",
    "    for k in np.logspace(-2, 2, num=4):\n",
    "        ax.plot(X, y)\n",
    "ax.set_xlabel('$t$')\n",
    "ax.set_ylabel('$y(t)$')"
   ]
  },
  {
   "cell_type": "code",
   "execution_count": null,
   "metadata": {
    "collapsed": false,
    "deletable": true,
    "editable": true
   },
   "outputs": [],
   "source": [
    "# parameters\n",
    "m=1  # known\n",
    "kstar=7  # unknown\n",
    "gstar=1  # unknown\n",
    "# noisy observations\n",
    "t_meas = X\n",
    "y_obs = y\n",
    "# true function\n",
    "t_vals = X\n",
    "y_vals = y\n",
    "fig, ax = plt.subplots()\n",
    "\n",
    "ax.plot(t_vals, y_vals, label='unknown parametrized function')\n",
    "ax.scatter(t_meas, y_obs, c='r', label='noisy observations')\n",
    "ax.set_xlabel('$t$')\n",
    "ax.set_ylabel('$y(t)$')\n",
    "ax.legend(loc=0)"
   ]
  },
  {
   "cell_type": "code",
   "execution_count": null,
   "metadata": {
    "collapsed": false,
    "deletable": true,
    "editable": true
   },
   "outputs": [],
   "source": [
    "def get_mse(g, k):\n",
    "    \"\"\"\n",
    "    Computes the mean squared error for a given gamma and k\n",
    "    \"\"\"\n",
    "    y_sim = y\n",
    "    return np.log10(np.mean((y_sim - y_obs)**2))\n",
    "\n",
    "g_vals = np.logspace(-2, 2, num=100)\n",
    "k_vals = np.logspace(-2, 2, num=100)\n",
    "\n",
    "mse_pars = np.zeros((len(g_vals), len(k_vals)))\n",
    "for i, g in enumerate(g_vals):\n",
    "    for j, k in enumerate(k_vals):\n",
    "        mse_pars[i, j] = get_mse(g=g, k=k)\n",
    "        \n",
    "G, K = np.meshgrid(g_vals, k_vals)\n",
    "\n",
    "fig, ax = plt.subplots(figsize=(6, 6))\n",
    "ax.contourf(K, G, mse_pars.T)\n",
    "ax.set_xlabel('$k$')\n",
    "ax.set_ylabel('$g$')\n",
    "ax.scatter(kstar, gstar, c='y')\n",
    "ax.loglog()"
   ]
  },
  {
   "cell_type": "code",
   "execution_count": null,
   "metadata": {
    "collapsed": true,
    "deletable": true,
    "editable": true
   },
   "outputs": [],
   "source": [
    "gaussian_process = GaussianProcessRegressor(alpha=1e-2)\n",
    "gaussian_process.fit(np.log10(simulated_parameters), mse_obs)"
   ]
  },
  {
   "cell_type": "markdown",
   "metadata": {
    "deletable": true,
    "editable": true,
    "internals": {
     "frag_helper": "fragment_end",
     "frag_number": 11,
     "slide_helper": "subslide_end",
     "slide_type": "subslide"
    },
    "slide_helper": "slide_end",
    "slideshow": {
     "slide_type": "slide"
    }
   },
   "source": [
    "# The Non-dominated Sorting Genetic Algorithm (NSGA-II)\n",
    "\n",
    "* NSGA-II algorithm is one of the pillars of the EMO field.\n",
    "    * Deb, K., Pratap, A., Agarwal, S., Meyarivan, T., *A fast and elitist multiobjective genetic algorithm: NSGA-II*, IEEE Transactions on Evolutionary Computation, vol.6, no.2, pp.182,197, Apr 2002 doi: [10.1109/4235.996017](http://dx.doi.org/10.1109/4235.996017).\n",
    "* Fitness assignment relies on the Pareto dominance relation:\n",
    "    1. Rank individuals according the dominance relations established between them. \n",
    "    2. Individuals with the same domination rank are then compared using a local crowding distance."
   ]
  },
  {
   "cell_type": "markdown",
   "metadata": {
    "deletable": true,
    "editable": true,
    "internals": {
     "frag_helper": "fragment_end",
     "frag_number": 11,
     "slide_helper": "subslide_end",
     "slide_type": "subslide"
    },
    "slide_helper": "slide_end",
    "slideshow": {
     "slide_type": "slide"
    }
   },
   "source": [
    "## NSGA-II fitness in detail\n",
    "\n",
    "* The first step consists in classifying the individuals in a series of categories $\\mathcal{F}_1,\\ldots,\\mathcal{F}_L$. \n",
    "* Each of these categories store individuals that are only dominated by the elements of the previous categories,\n",
    "$$\n",
    "\\begin{array}{rl}\n",
    "\t\\forall \\vec{x}\\in\\set{F}_i: &\\exists \\vec{y}\\in\\set{F}_{i-1} \\text{ such that } \\vec{y}\\dom\\vec{x},\\text{ and }\\\\ \n",
    "\t                            &\\not\\exists\\vec{z}\\in \\set{P}_t\\setminus\\left( \\set{F}_1\\cup\\ldots\\cup\\set{F}_{i-1}\n",
    "\t                            \\right)\\text{ that }\\vec{z}\\dom\\vec{x}\\,;\n",
    "\\end{array}\n",
    "$$\n",
    "with $\\mathcal{F}_1$ equal to $\\mathcal{P}_t^\\ast$, the set of non-dominated individuals of $\\mathcal{P}_t$.\n",
    "\n",
    "* After all individuals are ranked a local crowding distance is assigned to them. \n",
    "* The use of this distance primes individuals more isolated with respect to others. "
   ]
  },
  {
   "cell_type": "markdown",
   "metadata": {
    "deletable": true,
    "editable": true,
    "internals": {
     "frag_helper": "fragment_end",
     "frag_number": 11,
     "slide_helper": "subslide_end",
     "slide_type": "subslide"
    },
    "slide_helper": "slide_end",
    "slideshow": {
     "slide_type": "slide"
    }
   },
   "source": [
    "## Crowding distance\n",
    "\n",
    "The assignment process goes as follows,\n",
    "\n",
    "* for each category set $\\set{F}_l$, having $f_l=|\\set{F}_l|$,\n",
    "    * for each individual $\\vec{x}_i\\in\\set{F}_l$, set $d_{i}=0$.\n",
    "    * for each objective function $m=1,\\ldots,M$,\n",
    "        * $\\vec{I}=\\mathrm{sort}\\left(\\set{F}_l,m\\right)$ (generate index vector).\n",
    "        * $d_{I_1}^{(l)}=d_{I_{f_l}}^{(l)}=\\infty$.\n",
    "        * for $i=2,\\ldots,f_l-1$,\n",
    "            * Update the remaining distances as,\n",
    "                $$\n",
    "                d_i = d_i + \\frac{f_m\\left(\\vec{x}_{I_{i+1}}\\right)-f_m\\left(\\vec{x}_{I_{i+1}}\\right)}\n",
    "\t\t\t                   {f_m\\left(\\vec{x}_{I_{1}}\\right)-f_m\\left(\\vec{x}_{I_{f_l}}\\right)}\\,.\n",
    "                $$\n",
    "\n",
    "Here the $\\mathrm{sort}\\left(\\set{F},m\\right)$ function produces an ordered index vector $\\vec{I}$ with respect to objective function $m$. "
   ]
  },
  {
   "cell_type": "markdown",
   "metadata": {
    "deletable": true,
    "editable": true,
    "internals": {
     "frag_helper": "fragment_end",
     "frag_number": 11,
     "slide_helper": "subslide_end",
     "slide_type": "subslide"
    },
    "slide_helper": "slide_end",
    "slideshow": {
     "slide_type": "slide"
    }
   },
   "source": [
    "Sorting the population by rank and distance.\n",
    "\n",
    "* Having the individual ranks and their local distances they are sorted using the crowded comparison operator, stated as: \n",
    "    * An individual $\\vec{x}_i$ _is better than_ $\\vec{x}_j$ if:\n",
    "        * $\\vec{x}_i$ has a better rank: $\\vec{x}_i\\in\\set{F}_k$, $\\vec{x}_j\\in\\set{F}_l$ and $k<l$, or;\n",
    "        * if $k=l$ and $d_i>d_j$.\n",
    "        \n",
    "**Now we have key element of the the non-dominated sorting GA.**"
   ]
  },
  {
   "cell_type": "markdown",
   "metadata": {
    "deletable": true,
    "editable": true,
    "internals": {
     "frag_helper": "fragment_end",
     "frag_number": 11,
     "slide_helper": "subslide_end",
     "slide_type": "subslide"
    },
    "slide_helper": "slide_end",
    "slideshow": {
     "slide_type": "slide"
    }
   },
   "source": [
    "## Implementing NSGA-II\n",
    "\n",
    "We will deal with [DTLZ3](http://www.tik.ee.ethz.ch/sop/download/supplementary/testproblems/dtlz3/), which is a more difficult test problem.\n",
    "\n",
    "* DTLZ problems can be configured to have as many objectives as desired, but as we want to visualize results we will stick to two objectives.\n",
    "* DTLZ3 is a (more complex) version of [DTLZ2](http://www.tik.ee.ethz.ch/sop/download/supplementary/testproblems/dtlz2/).\n",
    "* The Pareto-optimal front of DTLZ3 lies in the first [orthant](http://en.wikipedia.org/wiki/Orthant) of a unit (radius 1) hypersphere located at the coordinate origin ($\\vec{0}$).\n",
    "* It has many local optima that run parallel to the global optima and render the optimization process more complicated.\n",
    "\n",
    "<div align='center'><img src='http://www.cs.cinvestav.mx/~emoobook/apendix-e/galeria4/dtlz3a.jpg' width=\"38%\" align='center'/>\n",
    "from Coello Coello, Lamont and Van Veldhuizen (2007) Evolutionary Algorithms for Solving Multi-Objective Problems, Second Edition. Springer [Appendix E](http://www.cs.cinvestav.mx/~emoobook/apendix-e/apendix-e.html).</div>"
   ]
  },
  {
   "cell_type": "markdown",
   "metadata": {
    "deletable": true,
    "editable": true,
    "internals": {
     "frag_helper": "fragment_end",
     "frag_number": 11,
     "slide_type": "subslide"
    },
    "slideshow": {
     "slide_type": "slide"
    }
   },
   "source": [
    "New `toolbox` instance with the necessary components."
   ]
  },
  {
   "cell_type": "code",
   "execution_count": null,
   "metadata": {
    "collapsed": false,
    "deletable": true,
    "editable": true,
    "internals": {
     "frag_helper": "fragment_end",
     "frag_number": 11
    },
    "slideshow": {
     "slide_type": "-"
    }
   },
   "outputs": [],
   "source": [
    "toolbox = base.Toolbox()"
   ]
  },
  {
   "cell_type": "markdown",
   "metadata": {
    "deletable": true,
    "editable": true
   },
   "source": [
    "Define problem domain as $\\vec{x}\\in\\left[0,1\\right]^{30}$ and a two-objective DTLZ3 instance."
   ]
  },
  {
   "cell_type": "code",
   "execution_count": null,
   "metadata": {
    "collapsed": false,
    "deletable": true,
    "editable": true,
    "internals": {
     "frag_helper": "fragment_end",
     "frag_number": 11
    },
    "slideshow": {
     "slide_type": "-"
    }
   },
   "outputs": [],
   "source": [
    "NDIM = 30 \n",
    "BOUND_LOW, BOUND_UP = 0.0, 1.0\n",
    "toolbox.register(\"evaluate\", lambda ind: benchmarks.dtlz3(ind, 2))"
   ]
  },
  {
   "cell_type": "markdown",
   "metadata": {
    "deletable": true,
    "editable": true,
    "internals": {
     "frag_helper": "fragment_end",
     "frag_number": 11
    },
    "slideshow": {
     "slide_type": "-"
    }
   },
   "source": [
    "Describing attributes, individuals and population and defining the selection, mating and mutation operators."
   ]
  },
  {
   "cell_type": "code",
   "execution_count": null,
   "metadata": {
    "collapsed": false,
    "deletable": true,
    "editable": true,
    "internals": {
     "frag_helper": "fragment_end",
     "frag_number": 11
    },
    "slideshow": {
     "slide_type": "-"
    }
   },
   "outputs": [],
   "source": [
    "toolbox.register(\"attr_float\", uniform, BOUND_LOW, BOUND_UP, NDIM)\n",
    "toolbox.register(\"individual\", tools.initIterate, creator.Individual, toolbox.attr_float)\n",
    "toolbox.register(\"population\", tools.initRepeat, list, toolbox.individual)\n",
    "toolbox.register(\"mate\", tools.cxSimulatedBinaryBounded, low=BOUND_LOW, up=BOUND_UP, eta=20.0)\n",
    "toolbox.register(\"mutate\", tools.mutPolynomialBounded, low=BOUND_LOW, up=BOUND_UP, eta=20.0, indpb=1.0/NDIM)\n",
    "toolbox.register(\"select\", tools.selNSGA2)"
   ]
  },
  {
   "cell_type": "markdown",
   "metadata": {
    "deletable": true,
    "editable": true,
    "internals": {
     "frag_helper": "fragment_end",
     "frag_number": 11
    },
    "slideshow": {
     "slide_type": "-"
    }
   },
   "source": [
    "Let's also use the `toolbox` to store other configuration parameters of the algorithm. This will show itself usefull when performing massive experiments."
   ]
  },
  {
   "cell_type": "code",
   "execution_count": null,
   "metadata": {
    "collapsed": false,
    "deletable": true,
    "editable": true,
    "internals": {
     "frag_helper": "fragment_end",
     "frag_number": 11,
     "slide_helper": "subslide_end"
    },
    "slide_helper": "slide_end",
    "slideshow": {
     "slide_type": "-"
    }
   },
   "outputs": [],
   "source": [
    "toolbox.pop_size = 50\n",
    "toolbox.max_gen = 1000\n",
    "toolbox.mut_prob = 0.2"
   ]
  },
  {
   "cell_type": "markdown",
   "metadata": {
    "deletable": true,
    "editable": true,
    "internals": {
     "frag_helper": "fragment_end",
     "frag_number": 11,
     "slide_type": "subslide"
    },
    "slideshow": {
     "slide_type": "slide"
    }
   },
   "source": [
    "## A compact NSGA-II implementation\n",
    "\n",
    "Storing all the required information in the `toolbox` and using DEAP's `algorithms.eaMuPlusLambda` function allows us to create a very compact -albeit not a 100% exact copy of the original- implementation of NSGA-II."
   ]
  },
  {
   "cell_type": "code",
   "execution_count": null,
   "metadata": {
    "collapsed": false,
    "deletable": true,
    "editable": true,
    "internals": {
     "frag_helper": "fragment_end",
     "frag_number": 11,
     "slide_helper": "subslide_end"
    },
    "slide_helper": "slide_end",
    "slideshow": {
     "slide_type": "-"
    }
   },
   "outputs": [],
   "source": [
    "def run_ea(toolbox, stats=None, verbose=False):\n",
    "    pop = toolbox.population(n=toolbox.pop_size)\n",
    "    pop = toolbox.select(pop, len(pop))\n",
    "    return algorithms.eaMuPlusLambda(pop, toolbox, mu=toolbox.pop_size, \n",
    "                                     lambda_=toolbox.pop_size, \n",
    "                                     cxpb=1-toolbox.mut_prob,\n",
    "                                     mutpb=toolbox.mut_prob, \n",
    "                                     stats=stats, \n",
    "                                     ngen=toolbox.max_gen, \n",
    "                                     verbose=verbose)"
   ]
  },
  {
   "cell_type": "markdown",
   "metadata": {
    "deletable": true,
    "editable": true,
    "internals": {
     "frag_helper": "fragment_end",
     "frag_number": 11,
     "slide_type": "subslide"
    },
    "slideshow": {
     "slide_type": "slide"
    }
   },
   "source": [
    "## Running the algorithm"
   ]
  },
  {
   "cell_type": "markdown",
   "metadata": {
    "deletable": true,
    "editable": true,
    "internals": {
     "frag_helper": "fragment_end",
     "frag_number": 11
    },
    "slideshow": {
     "slide_type": "-"
    }
   },
   "source": [
    "We are now ready to run our NSGA-II."
   ]
  },
  {
   "cell_type": "code",
   "execution_count": null,
   "metadata": {
    "collapsed": false,
    "deletable": true,
    "editable": true,
    "internals": {
     "frag_helper": "fragment_end",
     "frag_number": 11
    },
    "slideshow": {
     "slide_type": "-"
    }
   },
   "outputs": [],
   "source": [
    "%time res,_ = run_ea(toolbox)"
   ]
  },
  {
   "cell_type": "markdown",
   "metadata": {
    "deletable": true,
    "editable": true,
    "internals": {
     "frag_helper": "fragment_end",
     "frag_number": 11
    },
    "slideshow": {
     "slide_type": "-"
    }
   },
   "source": [
    "We can now get the Pareto fronts in the results (`res`)."
   ]
  },
  {
   "cell_type": "code",
   "execution_count": null,
   "metadata": {
    "collapsed": false,
    "deletable": true,
    "editable": true,
    "internals": {
     "frag_helper": "fragment_end",
     "frag_number": 11,
     "slide_helper": "subslide_end"
    },
    "slide_helper": "slide_end",
    "slideshow": {
     "slide_type": "-"
    }
   },
   "outputs": [],
   "source": [
    "fronts = tools.emo.sortLogNondominated(res, len(res))"
   ]
  },
  {
   "cell_type": "markdown",
   "metadata": {
    "deletable": true,
    "editable": true,
    "internals": {
     "frag_helper": "fragment_end",
     "frag_number": 11,
     "slide_type": "subslide"
    },
    "slideshow": {
     "slide_type": "slide"
    }
   },
   "source": [
    "## Resulting Pareto fronts"
   ]
  },
  {
   "cell_type": "code",
   "execution_count": null,
   "metadata": {
    "collapsed": false,
    "deletable": true,
    "editable": true,
    "internals": {
     "frag_helper": "fragment_end",
     "frag_number": 11
    },
    "slideshow": {
     "slide_type": "-"
    }
   },
   "outputs": [],
   "source": [
    "plot_colors = seaborn.color_palette(\"Set1\", n_colors=10)\n",
    "fig, ax = plt.subplots(1, figsize=(4,4))\n",
    "for i,inds in enumerate(fronts):\n",
    "    par = [toolbox.evaluate(ind) for ind in inds]\n",
    "    df = pd.DataFrame(par)\n",
    "    df.plot(ax=ax, kind='scatter', label='Front ' + str(i+1), \n",
    "                 x=df.columns[0], y=df.columns[1], \n",
    "                 color=plot_colors[i])\n",
    "plt.xlabel('$f_1(\\mathbf{x})$');plt.ylabel('$f_2(\\mathbf{x})$');"
   ]
  },
  {
   "cell_type": "markdown",
   "metadata": {
    "deletable": true,
    "editable": true,
    "internals": {
     "frag_helper": "fragment_end",
     "frag_number": 11,
     "slide_helper": "subslide_end"
    },
    "slide_helper": "slide_end",
    "slideshow": {
     "slide_type": "-"
    }
   },
   "source": [
    "* It is better to make an animated plot of the evolution as it takes place."
   ]
  },
  {
   "cell_type": "markdown",
   "metadata": {
    "deletable": true,
    "editable": true,
    "internals": {
     "frag_helper": "fragment_end",
     "frag_number": 11,
     "slide_type": "subslide"
    },
    "slideshow": {
     "slide_type": "slide"
    }
   },
   "source": [
    "## Animating the evolutionary process"
   ]
  },
  {
   "cell_type": "markdown",
   "metadata": {
    "deletable": true,
    "editable": true,
    "internals": {
     "frag_helper": "fragment_end",
     "frag_number": 11
    },
    "slideshow": {
     "slide_type": "-"
    }
   },
   "source": [
    "We create a `stats` to store the individuals not only their objective function values."
   ]
  },
  {
   "cell_type": "code",
   "execution_count": null,
   "metadata": {
    "collapsed": false,
    "deletable": true,
    "editable": true,
    "internals": {
     "frag_helper": "fragment_end",
     "frag_number": 11
    },
    "slideshow": {
     "slide_type": "-"
    }
   },
   "outputs": [],
   "source": [
    "stats = tools.Statistics()\n",
    "stats.register(\"pop\", copy.deepcopy)"
   ]
  },
  {
   "cell_type": "code",
   "execution_count": null,
   "metadata": {
    "collapsed": false,
    "deletable": true,
    "editable": true,
    "internals": {
     "frag_helper": "fragment_end",
     "frag_number": 11
    },
    "slideshow": {
     "slide_type": "-"
    }
   },
   "outputs": [],
   "source": [
    "toolbox.max_gen = 1000 # we need more generations!"
   ]
  },
  {
   "cell_type": "markdown",
   "metadata": {
    "deletable": true,
    "editable": true,
    "internals": {
     "frag_helper": "fragment_end",
     "frag_number": 11
    },
    "slideshow": {
     "slide_type": "-"
    }
   },
   "source": [
    "Re-run the algorithm to get the data necessary for plotting."
   ]
  },
  {
   "cell_type": "code",
   "execution_count": null,
   "metadata": {
    "collapsed": false,
    "deletable": true,
    "editable": true,
    "internals": {
     "frag_helper": "fragment_end",
     "frag_number": 11,
     "slide_helper": "subslide_end"
    },
    "slide_helper": "subslide_end",
    "slideshow": {
     "slide_type": "-"
    }
   },
   "outputs": [],
   "source": [
    "%time res, logbook = run_ea(toolbox, stats=stats)"
   ]
  },
  {
   "cell_type": "code",
   "execution_count": null,
   "metadata": {
    "collapsed": false,
    "deletable": true,
    "editable": true,
    "internals": {
     "frag_helper": "fragment_end",
     "frag_number": 11,
     "slide_type": "subslide"
    },
    "slideshow": {
     "slide_type": "subslide"
    }
   },
   "outputs": [],
   "source": [
    "from matplotlib import animation\n",
    "from IPython.display import HTML"
   ]
  },
  {
   "cell_type": "code",
   "execution_count": null,
   "metadata": {
    "collapsed": false,
    "deletable": true,
    "editable": true,
    "internals": {
     "frag_helper": "fragment_end",
     "frag_number": 11,
     "slide_helper": "subslide_end"
    },
    "slide_helper": "slide_end",
    "slideshow": {
     "slide_type": "-"
    }
   },
   "outputs": [],
   "source": [
    "def animate(frame_index, logbook):\n",
    "    'Updates all plots to match frame _i_ of the animation.'\n",
    "    ax.clear()    \n",
    "    fronts = tools.emo.sortLogNondominated(logbook.select('pop')[frame_index], \n",
    "                                           len(logbook.select('pop')[frame_index]))\n",
    "    for i,inds in enumerate(fronts):\n",
    "        par = [toolbox.evaluate(ind) for ind in inds]\n",
    "        df = pd.DataFrame(par)\n",
    "        df.plot(ax=ax, kind='scatter', label='Front ' + str(i+1), \n",
    "                 x=df.columns[0], y=df.columns[1], alpha=0.47,\n",
    "                 color=plot_colors[i % len(plot_colors)])\n",
    "        \n",
    "    ax.set_title('$t=$' + str(frame_index))\n",
    "    ax.set_xlabel('$f_1(\\mathbf{x})$');ax.set_ylabel('$f_2(\\mathbf{x})$')\n",
    "    return []"
   ]
  },
  {
   "cell_type": "code",
   "execution_count": null,
   "metadata": {
    "collapsed": false,
    "deletable": true,
    "editable": true,
    "internals": {
     "frag_helper": "fragment_end",
     "frag_number": 11,
     "slide_helper": "subslide_end",
     "slide_type": "subslide"
    },
    "slide_helper": "slide_end",
    "slideshow": {
     "slide_type": "slide"
    }
   },
   "outputs": [],
   "source": [
    "fig = plt.figure(figsize=(4,4))\n",
    "ax = fig.gca()\n",
    "anim = animation.FuncAnimation(fig, lambda i: animate(i, logbook), \n",
    "                               frames=len(logbook), interval=60, \n",
    "                               blit=True)\n",
    "plt.close()"
   ]
  },
  {
   "cell_type": "code",
   "execution_count": null,
   "metadata": {
    "collapsed": false,
    "deletable": true,
    "editable": true
   },
   "outputs": [],
   "source": [
    "HTML(anim.to_html5_video())"
   ]
  },
  {
   "cell_type": "markdown",
   "metadata": {
    "deletable": true,
    "editable": true,
    "internals": {
     "frag_helper": "fragment_end",
     "frag_number": 11,
     "slide_helper": "subslide_end"
    },
    "slide_helper": "slide_end",
    "slideshow": {
     "slide_type": "-"
    }
   },
   "source": [
    "Here it is clearly visible how the algorithm \"jumps\" from one local-optimum to a better one as evolution takes place."
   ]
  },
  {
   "cell_type": "markdown",
   "metadata": {
    "deletable": true,
    "editable": true,
    "internals": {
     "frag_helper": "fragment_end",
     "frag_number": 11,
     "slide_helper": "subslide_end",
     "slide_type": "subslide"
    },
    "slide_helper": "slide_end",
    "slideshow": {
     "slide_type": "slide"
    }
   },
   "source": [
    "# MOP benchmark problem toolkits\n",
    "\n",
    "Each problem instance is meant to test the algorithms with regard with a given feature: local optima, convexity, discontinuity, bias, or a combination of them.\n",
    "\n",
    "* [*ZDT1-6*](http://www.tik.ee.ethz.ch/sop/download/supplementary/testproblems/): Two-objective problems with a fixed number of decision variables.\n",
    "     * E. Zitzler, K. Deb, and L. Thiele. Comparison of Multiobjective Evolutionary Algorithms: Empirical Results. Evolutionary Computation, 8(2):173-195, 2000. ([pdf](http://www.tik.ee.ethz.ch/sop/publicationListFiles/zdt2000a.pdf))\n",
    "* [*DTLZ1-7*](http://www.tik.ee.ethz.ch/sop/download/supplementary/testproblems/): $m$-objective problems with $n$ variables.\n",
    "     * K. Deb, L. Thiele, M. Laumanns and E. Zitzler. Scalable Multi-Objective Optimization Test Problems. CEC 2002, p. 825 - 830, IEEE Press, 2002. ([pdf](http://www.tik.ee.ethz.ch/sop/publicationListFiles/dtlz2002a.pdf))"
   ]
  },
  {
   "cell_type": "markdown",
   "metadata": {
    "deletable": true,
    "editable": true,
    "internals": {
     "frag_helper": "fragment_end",
     "frag_number": 11,
     "slide_helper": "subslide_end",
     "slide_type": "subslide"
    },
    "slide_helper": "slide_end",
    "slideshow": {
     "slide_type": "slide"
    }
   },
   "source": [
    "* [*CEC'09*](http://dces.essex.ac.uk/staff/zhang/moeacompetition09.htm): Two- and three- objective problems that very complex Pareto sets.\n",
    "    * Zhang, Q., Zhou, A., Zhao, S., & Suganthan, P. N. (2009). Multiobjective optimization test instances for the CEC 2009 special session and competition. In 2009 IEEE Congress on Evolutionary Computation (pp. 1–30). ([pdf](http://dces.essex.ac.uk/staff/zhang/MOEAcompetition/cec09testproblem0904.pdf.pdf))\n",
    "* [*WFG1-9*](http://www.wfg.csse.uwa.edu.au/publications.html#toolkit): $m$-objective problems with $n$ variables, very complex.\n",
    "    * Huband, S., Hingston, P., Barone, L., & While, L. (2006). A review of multiobjective test problems and a scalable test problem toolkit. IEEE Transactions on Evolutionary Computation, 10(5), 477–506. doi:10.1109/TEVC.2005.861417"
   ]
  },
  {
   "cell_type": "markdown",
   "metadata": {
    "deletable": true,
    "editable": true,
    "internals": {
     "frag_helper": "fragment_end",
     "frag_number": 11,
     "slide_type": "subslide"
    },
    "slideshow": {
     "slide_type": "slide"
    }
   },
   "source": [
    "How does our NSGA-II behaves when faced with different benchmark problems?"
   ]
  },
  {
   "cell_type": "code",
   "execution_count": null,
   "metadata": {
    "collapsed": false,
    "deletable": true,
    "editable": true,
    "internals": {
     "frag_helper": "fragment_end",
     "frag_number": 11,
     "slide_helper": "subslide_end"
    },
    "slide_helper": "slide_end",
    "slideshow": {
     "slide_type": "-"
    }
   },
   "outputs": [],
   "source": [
    "problem_instances = {'ZDT1': benchmarks.zdt1, 'ZDT2': benchmarks.zdt2,\n",
    "                     'ZDT3': benchmarks.zdt3, 'ZDT4': benchmarks.zdt4,\n",
    "                     'DTLZ1': lambda ind: benchmarks.dtlz1(ind,2),\n",
    "                     'DTLZ2': lambda ind: benchmarks.dtlz2(ind,2),\n",
    "                     'DTLZ3': lambda ind: benchmarks.dtlz3(ind,2),\n",
    "                     'DTLZ4': lambda ind: benchmarks.dtlz4(ind,2, 100),\n",
    "                     'DTLZ5': lambda ind: benchmarks.dtlz5(ind,2),\n",
    "                     'DTLZ6': lambda ind: benchmarks.dtlz6(ind,2),\n",
    "                     'DTLZ7': lambda ind: benchmarks.dtlz7(ind,2)}"
   ]
  },
  {
   "cell_type": "code",
   "execution_count": null,
   "metadata": {
    "collapsed": false,
    "deletable": true,
    "editable": true,
    "internals": {
     "frag_helper": "fragment_end",
     "frag_number": 11,
     "slide_type": "subslide"
    },
    "slideshow": {
     "slide_type": "slide"
    }
   },
   "outputs": [],
   "source": [
    "toolbox.max_gen = 1000\n",
    "\n",
    "stats = tools.Statistics(lambda ind: ind.fitness.values)\n",
    "stats.register(\"obj_vals\", np.copy)\n",
    "\n",
    "def run_problem(toolbox, problem):\n",
    "    toolbox.register('evaluate', problem)\n",
    "    return run_ea(toolbox, stats=stats)"
   ]
  },
  {
   "cell_type": "markdown",
   "metadata": {
    "deletable": true,
    "editable": true,
    "internals": {
     "frag_helper": "fragment_end",
     "frag_number": 11
    },
    "slideshow": {
     "slide_type": "-"
    }
   },
   "source": [
    "Running NSGA-II solving all problems. Now it takes longer."
   ]
  },
  {
   "cell_type": "code",
   "execution_count": null,
   "metadata": {
    "collapsed": false,
    "deletable": true,
    "editable": true,
    "internals": {
     "frag_helper": "fragment_end",
     "frag_number": 91,
     "slide_helper": "subslide_end"
    },
    "slide_helper": "slide_end",
    "slideshow": {
     "slide_type": "fragment"
    }
   },
   "outputs": [],
   "source": [
    "%time results = {problem: run_problem(toolbox, problem_instances[problem]) for problem in problem_instances}"
   ]
  },
  {
   "cell_type": "markdown",
   "metadata": {
    "deletable": true,
    "editable": true,
    "internals": {
     "frag_helper": "fragment_end",
     "frag_number": 91,
     "slide_type": "subslide"
    },
    "slideshow": {
     "slide_type": "slide"
    }
   },
   "source": [
    "Creating this animation takes more programming effort."
   ]
  },
  {
   "cell_type": "code",
   "execution_count": null,
   "metadata": {
    "collapsed": false,
    "deletable": true,
    "editable": true,
    "internals": {
     "frag_helper": "fragment_end",
     "frag_number": 91,
     "slide_helper": "subslide_end"
    },
    "slide_helper": "slide_end",
    "slideshow": {
     "slide_type": "-"
    }
   },
   "outputs": [],
   "source": [
    "class MultiProblemAnimation:\n",
    "    def init(self, fig, results):\n",
    "        self.results = results\n",
    "        self.axs = [fig.add_subplot(3,4,i+1) for i in range(len(results))]\n",
    "        self.plots =[]\n",
    "        for i, problem in enumerate(sorted(results)):\n",
    "            (res, logbook) = self.results[problem]\n",
    "            pop = pd.DataFrame(data=logbook.select('obj_vals')[0])\n",
    "            plot = self.axs[i].plot(pop[0], pop[1], 'b.', alpha=0.47)[0]\n",
    "            self.plots.append(plot)\n",
    "        fig.tight_layout()\n",
    "            \n",
    "    def animate(self, t):\n",
    "        'Updates all plots to match frame _i_ of the animation.'\n",
    "        for i, problem in enumerate(sorted(results)):\n",
    "            #self.axs[i].clear()\n",
    "            (res, logbook) = self.results[problem]\n",
    "            pop = pd.DataFrame(data=logbook.select('obj_vals')[t])\n",
    "            self.plots[i].set_data(pop[0], pop[1])\n",
    "            self.axs[i].set_title(problem + '; $t=' + str(t)+'$') \n",
    "            self.axs[i].set_xlim((0, max(1,pop.max()[0])))\n",
    "            self.axs[i].set_ylim((0, max(1,pop.max()[1])))\n",
    "        return self.axs"
   ]
  },
  {
   "cell_type": "code",
   "execution_count": null,
   "metadata": {
    "collapsed": false,
    "deletable": true,
    "editable": true,
    "internals": {
     "frag_helper": "fragment_end",
     "frag_number": 91,
     "slide_type": "subslide"
    },
    "slideshow": {
     "slide_type": "slide"
    }
   },
   "outputs": [],
   "source": [
    "mpa = MultiProblemAnimation()"
   ]
  },
  {
   "cell_type": "code",
   "execution_count": null,
   "metadata": {
    "collapsed": false,
    "deletable": true,
    "editable": true,
    "internals": {
     "frag_helper": "fragment_end",
     "frag_number": 91,
     "slide_helper": "subslide_end"
    },
    "slide_helper": "slide_end",
    "slideshow": {
     "slide_type": "-"
    }
   },
   "outputs": [],
   "source": [
    "fig = plt.figure(figsize=(14,6))\n",
    "anim = animation.FuncAnimation(fig, mpa.animate, init_func=mpa.init(fig,results), \n",
    "                               frames=toolbox.max_gen, interval=60, blit=True)\n",
    "plt.close()"
   ]
  },
  {
   "cell_type": "code",
   "execution_count": null,
   "metadata": {
    "collapsed": false,
    "deletable": true,
    "editable": true
   },
   "outputs": [],
   "source": [
    "HTML(anim.to_html5_video())"
   ]
  },
  {
   "cell_type": "markdown",
   "metadata": {
    "deletable": true,
    "editable": true,
    "internals": {
     "frag_helper": "fragment_end",
     "frag_number": 91,
     "slide_helper": "subslide_end"
    },
    "slide_helper": "slide_end",
    "slideshow": {
     "slide_type": "-"
    }
   },
   "source": [
    "* It is interesting how the algorithm deals with each problem: clearly some problems are harder than others.\n",
    "* In some cases it \"hits\" the Pareto front and then slowly explores it.\n",
    "\n",
    "**Read more about this in the class materials.**"
   ]
  },
  {
   "cell_type": "markdown",
   "metadata": {
    "deletable": true,
    "editable": true,
    "internals": {
     "frag_helper": "fragment_end",
     "frag_number": 91,
     "slide_helper": "subslide_end",
     "slide_type": "subslide"
    },
    "slide_helper": "slide_end",
    "slideshow": {
     "slide_type": "slide"
    }
   },
   "source": [
    "# Experiment design and reporting results\n",
    "\n",
    "* Watching an animation of an EMO algorithm solve a problem is certainly fun. \n",
    "* It also allows us to understand many particularities of the problem being solved.\n",
    "* But, as [Carlos Coello](http://delta.cs.cinvestav.mx/~ccoello/) would say, we are *not* in an art appreciation class.\n",
    "* We should follow the key concepts provided by the [scientific method](http://en.wikipedia.org/wiki/Scientific_method).\n",
    "* I urge you to study the [experimental design](http://en.wikipedia.org/wiki/Design_of_experiments) topic in depth as it is an essential knowledge.\n",
    "\n",
    "**Evolutionary algorithms are stochastic algorithms, therefore their results must be assessed by repeating experiments until you reach an statistically valid conclusion.** "
   ]
  },
  {
   "cell_type": "markdown",
   "metadata": {
    "deletable": true,
    "editable": true,
    "internals": {
     "frag_helper": "fragment_end",
     "frag_number": 91,
     "slide_helper": "subslide_end",
     "slide_type": "subslide"
    },
    "slide_helper": "slide_end",
    "slideshow": {
     "slide_type": "slide"
    }
   },
   "source": [
    "## An illustrative simple/sample experiment\n",
    "\n",
    "Let's make a relatively simple but very important experiment:\n",
    "\n",
    "* **Question**: In our NSGA-II applied to a two-objective DTLZ3 problem: Is it more important to have a big population and let the algorithm run for a few iterations or is better to have a small population and let the algorithm run for larger number of iterations.\n",
    "* **Procedure**: We must perform an experiment testing different population sizes and maximum number of iterations while keeping the other parameters constant."
   ]
  },
  {
   "cell_type": "markdown",
   "metadata": {
    "deletable": true,
    "editable": true,
    "internals": {
     "frag_helper": "fragment_end",
     "frag_number": 91,
     "slide_helper": "subslide_end",
     "slide_type": "subslide"
    },
    "slide_helper": "slide_end",
    "slideshow": {
     "slide_type": "slide"
    }
   },
   "source": [
    "### Notation\n",
    "\n",
    "As usual we need to establish some notation:\n",
    "\n",
    "* *Multi-objective problem* (or just *problem*): A multi-objective optimization problem, as defined above.\n",
    "* *MOEA*: An evolutionary computation method used to solve multi-objective problems.\n",
    "* *Experiment*: a combination of problem and MOEA and a set of values of their parameters.\n",
    "* *Experiment run*: The result of running an experiment.\n",
    "* We will use `toolbox` instances to define experiments. "
   ]
  },
  {
   "cell_type": "markdown",
   "metadata": {
    "deletable": true,
    "editable": true,
    "internals": {
     "frag_helper": "fragment_end",
     "frag_number": 91,
     "slide_type": "subslide"
    },
    "slideshow": {
     "slide_type": "slide"
    }
   },
   "source": [
    "We start by creating a `toolbox` that will contain the configuration that will be shared across all experiments."
   ]
  },
  {
   "cell_type": "code",
   "execution_count": null,
   "metadata": {
    "collapsed": false,
    "deletable": true,
    "editable": true,
    "internals": {
     "frag_helper": "fragment_end",
     "frag_number": 91
    },
    "slideshow": {
     "slide_type": "-"
    }
   },
   "outputs": [],
   "source": [
    "toolbox = base.Toolbox()"
   ]
  },
  {
   "cell_type": "code",
   "execution_count": null,
   "metadata": {
    "collapsed": false,
    "deletable": true,
    "editable": true,
    "internals": {
     "frag_helper": "fragment_end",
     "frag_number": 91,
     "slide_helper": "subslide_end"
    },
    "slide_helper": "slide_end",
    "slideshow": {
     "slide_type": "-"
    }
   },
   "outputs": [],
   "source": [
    "BOUND_LOW, BOUND_UP = 0.0, 1.0\n",
    "NDIM = 30\n",
    "# the explanation of this... a few lines bellow\n",
    "def eval_helper(ind):\n",
    "    return benchmarks.dtlz3(ind, 2)\n",
    "\n",
    "toolbox.register(\"evaluate\", eval_helper)"
   ]
  },
  {
   "cell_type": "code",
   "execution_count": null,
   "metadata": {
    "collapsed": false,
    "deletable": true,
    "editable": true,
    "internals": {
     "frag_helper": "fragment_end",
     "frag_number": 91,
     "slide_helper": "subslide_end",
     "slide_type": "subslide"
    },
    "slide_helper": "slide_end",
    "slideshow": {
     "slide_type": "slide"
    }
   },
   "outputs": [],
   "source": [
    "def uniform(low, up, size=None):\n",
    "    try:\n",
    "        return [random.uniform(a, b) for a, b in zip(low, up)]\n",
    "    except TypeError:\n",
    "        return [random.uniform(a, b) for a, b in zip([low] * size, [up] * size)]\n",
    "\n",
    "toolbox.register(\"attr_float\", uniform, BOUND_LOW, BOUND_UP, NDIM)\n",
    "toolbox.register(\"individual\", tools.initIterate, creator.Individual, toolbox.attr_float)\n",
    "toolbox.register(\"population\", tools.initRepeat, list, toolbox.individual)\n",
    "\n",
    "toolbox.register(\"mate\", tools.cxSimulatedBinaryBounded, low=BOUND_LOW, up=BOUND_UP, eta=20.0)\n",
    "toolbox.register(\"mutate\", tools.mutPolynomialBounded, low=BOUND_LOW, up=BOUND_UP, eta=20.0, indpb=1.0/NDIM)\n",
    "\n",
    "toolbox.register(\"select\", tools.selNSGA2)\n",
    "\n",
    "toolbox.mut_prob = 0.15"
   ]
  },
  {
   "cell_type": "markdown",
   "metadata": {
    "deletable": true,
    "editable": true,
    "internals": {
     "frag_helper": "fragment_end",
     "frag_number": 91,
     "slide_type": "subslide"
    },
    "slideshow": {
     "slide_type": "slide"
    }
   },
   "source": [
    "We add a `experiment_name` to `toolbox` that we will fill up later on. Here $n\\mathrm{pop}$ denotes the population size and $t_\\mathrm{max}$ the max. number of iterations."
   ]
  },
  {
   "cell_type": "code",
   "execution_count": null,
   "metadata": {
    "collapsed": false,
    "deletable": true,
    "editable": true,
    "internals": {
     "frag_helper": "fragment_end",
     "frag_number": 91
    },
    "slideshow": {
     "slide_type": "-"
    }
   },
   "outputs": [],
   "source": [
    "experiment_name = \"$n_\\mathrm{{pop}}={0};\\ t_\\mathrm{{max}}={1}$\""
   ]
  },
  {
   "cell_type": "code",
   "execution_count": null,
   "metadata": {
    "collapsed": true,
    "deletable": true,
    "editable": true
   },
   "outputs": [],
   "source": [
    "total_evals = 500"
   ]
  },
  {
   "cell_type": "markdown",
   "metadata": {
    "deletable": true,
    "editable": true,
    "internals": {
     "frag_helper": "fragment_end",
     "frag_number": 91
    },
    "slideshow": {
     "slide_type": "-"
    }
   },
   "source": [
    "We can now replicate this toolbox instance and then modify the mutation probabilities."
   ]
  },
  {
   "cell_type": "code",
   "execution_count": null,
   "metadata": {
    "collapsed": true,
    "deletable": true,
    "editable": true,
    "internals": {
     "frag_helper": "fragment_end",
     "frag_number": 91
    },
    "slideshow": {
     "slide_type": "-"
    }
   },
   "outputs": [],
   "source": [
    "pop_sizes = (10,50,100)"
   ]
  },
  {
   "cell_type": "code",
   "execution_count": null,
   "metadata": {
    "collapsed": true,
    "deletable": true,
    "editable": true
   },
   "outputs": [],
   "source": [
    "toolboxes=list([copy.deepcopy(toolbox) for _ in range(len(pop_sizes))])"
   ]
  },
  {
   "cell_type": "markdown",
   "metadata": {
    "deletable": true,
    "editable": true,
    "internals": {
     "frag_helper": "fragment_end",
     "frag_number": 91,
     "slide_helper": "subslide_end"
    },
    "slide_helper": "slide_end",
    "slideshow": {
     "slide_type": "-"
    }
   },
   "source": [
    "Now `toolboxes` is a list of copies of the same toolbox. One for each experiment configuration (population size)."
   ]
  },
  {
   "cell_type": "markdown",
   "metadata": {
    "deletable": true,
    "editable": true,
    "internals": {
     "frag_helper": "fragment_end",
     "frag_number": 91,
     "slide_type": "subslide"
    },
    "slideshow": {
     "slide_type": "slide"
    }
   },
   "source": [
    "...but we still have to set the population sizes in the elements of `toolboxes`."
   ]
  },
  {
   "cell_type": "code",
   "execution_count": null,
   "metadata": {
    "collapsed": false,
    "deletable": true,
    "editable": true,
    "internals": {
     "frag_helper": "fragment_end",
     "frag_number": 91
    },
    "slideshow": {
     "slide_type": "-"
    }
   },
   "outputs": [],
   "source": [
    "for pop_size, toolbox in zip(pop_sizes, toolboxes):\n",
    "    toolbox.pop_size = pop_size\n",
    "    toolbox.max_gen = total_evals // pop_size\n",
    "    toolbox.experiment_name = experiment_name.format(toolbox.pop_size, toolbox.max_gen)"
   ]
  },
  {
   "cell_type": "code",
   "execution_count": null,
   "metadata": {
    "collapsed": false,
    "deletable": true,
    "editable": true,
    "internals": {
     "frag_helper": "fragment_end",
     "frag_number": 114,
     "slide_helper": "subslide_end"
    },
    "slide_helper": "slide_end",
    "slideshow": {
     "slide_type": "fragment"
    }
   },
   "outputs": [],
   "source": [
    "for toolbox in toolboxes:\n",
    "    print(toolbox.experiment_name, toolbox.pop_size, toolbox.max_gen)"
   ]
  },
  {
   "cell_type": "markdown",
   "metadata": {
    "deletable": true,
    "editable": true,
    "internals": {
     "frag_helper": "fragment_end",
     "frag_number": 114,
     "slide_type": "subslide"
    },
    "slideshow": {
     "slide_type": "slide"
    }
   },
   "source": [
    "## Experiment design\n",
    "\n",
    "As we are dealing with stochastic methods their results should be reported relying on an statistical analysis.\n",
    "\n",
    "* A given  experiment (a `toolbox` instance in our case) should be repeated a *sufficient* amount of times. \n",
    "* In theory, the more runs the better, but how much in enough? In practice, we could say that about *30* runs is enough.\n",
    "* The non-dominated fronts produced by each experiment run should be compared to each other. \n",
    "* We have seen in class that a number of *performance indicators*, like the *hypervolume*, *additive* and *multiplicative epsilon indicators*, among others, have been proposed for that task.\n",
    "* We can use statistical visualizations like [box plots](http://en.wikipedia.org/wiki/Box_plot) or [violin plots](http://en.wikipedia.org/wiki/Violin_plot) to make a visual assessment of the indicator values produced in each run.\n",
    "* We must apply a set of [statistical hypothesis tests](http://en.wikipedia.org/wiki/Statistical_hypothesis_testing) in order to reach an statistically valid judgment of the results of an algorithms. \n",
    "\n",
    "\n",
    "_Note_: I personally like the number [42](http://en.wikipedia.org/wiki/42_%28number%29) as it is the [answer to The Ultimate Question of Life, the Universe, and Everything](http://en.wikipedia.org/wiki/Phrases_from_The_Hitchhiker%27s_Guide_to_the_Galaxy#Answer_to_the_Ultimate_Question_of_Life.2C_the_Universe.2C_and_Everything_.2842.29)."
   ]
  },
  {
   "cell_type": "code",
   "execution_count": null,
   "metadata": {
    "collapsed": false,
    "deletable": true,
    "editable": true,
    "internals": {
     "frag_helper": "fragment_end",
     "frag_number": 114,
     "slide_helper": "subslide_end"
    },
    "slide_helper": "slide_end",
    "slideshow": {
     "slide_type": "-"
    }
   },
   "outputs": [],
   "source": [
    "number_of_runs = 42"
   ]
  },
  {
   "cell_type": "markdown",
   "metadata": {
    "deletable": true,
    "editable": true,
    "internals": {
     "frag_helper": "fragment_end",
     "frag_number": 114,
     "slide_helper": "subslide_end",
     "slide_type": "subslide"
    },
    "slide_helper": "slide_end",
    "slideshow": {
     "slide_type": "slide"
    }
   },
   "source": [
    "### Running experiments in parallel \n",
    "As we are now solving more demanding problems it would be nice to make our algorithms to run in parallel and profit from modern multi-core CPUs.\n",
    "\n",
    "* In DEAP it is very simple to parallelize an algorithm (if it has been properly programmed) by providing a parallel `map()` function via the `toolbox`.\n",
    "* Local parallelization can be achieved using Python's [`multiprocessing`](https://docs.python.org/2/library/multiprocessing.html) or [`concurrent.futures`](https://docs.python.org/3/library/concurrent.futures.html) modules.\n",
    "* Cluster parallelization can be achieved using IPython Parallel or [SCOOP](http://en.wikipedia.org/wiki/Python_SCOOP_%28software%29)."
   ]
  },
  {
   "cell_type": "markdown",
   "metadata": {
    "deletable": true,
    "editable": true,
    "internals": {
     "frag_helper": "fragment_end",
     "frag_number": 114,
     "slide_type": "subslide"
    },
    "slideshow": {
     "slide_type": "slide"
    }
   },
   "source": [
    "### Progress feedback\n",
    "\n",
    "* Another issue with these long experiments has to do being patient.\n",
    "* A little bit of feedback on the experiment execution would be cool.\n",
    "* We can use the integer progress bar from [IPython widgets](http://nbviewer.ipython.org/github/jvns/ipython/blob/master/examples/Interactive%20Widgets/Index.ipynb) and report every time an experiment run is finished."
   ]
  },
  {
   "cell_type": "code",
   "execution_count": null,
   "metadata": {
    "collapsed": false,
    "deletable": true,
    "editable": true,
    "internals": {
     "frag_helper": "fragment_end",
     "frag_number": 114
    },
    "slideshow": {
     "slide_type": "-"
    }
   },
   "outputs": [],
   "source": [
    "from ipywidgets import IntProgress\n",
    "from IPython.display import display"
   ]
  },
  {
   "cell_type": "markdown",
   "metadata": {
    "deletable": true,
    "editable": true,
    "internals": {
     "frag_helper": "fragment_end",
     "frag_number": 114,
     "slide_type": "subslide"
    },
    "slideshow": {
     "slide_type": "slide"
    }
   },
   "source": [
    "### A side-effect of using process-based parallelization\n",
    "\n",
    "Process-based parallelization based on `multiprocessing` requires that the parameters passed to `map()` be [pickleable](https://docs.python.org/3.4/library/pickle.html).\n",
    "\n",
    "* The direct consequence is that `lambda` functions can not be directly used. \n",
    "* This is will certainly ruin the party to all `lambda` fans out there! *-me included*.\n",
    "* Hence we need to write some wrapper functions instead.\n",
    "* But, that wrapper function can take care of filtering out dominated individuals in the results."
   ]
  },
  {
   "cell_type": "code",
   "execution_count": null,
   "metadata": {
    "collapsed": false,
    "deletable": true,
    "editable": true,
    "internals": {
     "frag_helper": "fragment_end",
     "frag_number": 114,
     "slide_helper": "subslide_end"
    },
    "slide_helper": "slide_end",
    "slideshow": {
     "slide_type": "-"
    }
   },
   "outputs": [],
   "source": [
    "def run_algo_wrapper(toolbox):\n",
    "    result, _ = run_ea(toolbox)\n",
    "    local_pareto_set = tools.emo.sortLogNondominated(result, len(result), first_front_only=True)\n",
    "    return local_pareto_set"
   ]
  },
  {
   "cell_type": "markdown",
   "metadata": {
    "deletable": true,
    "editable": true,
    "internals": {
     "frag_helper": "fragment_end",
     "frag_number": 114,
     "slide_type": "subslide"
    },
    "slideshow": {
     "slide_type": "slide"
    }
   },
   "source": [
    "# All set! Run the experiments..."
   ]
  },
  {
   "cell_type": "code",
   "execution_count": null,
   "metadata": {
    "collapsed": false,
    "deletable": true,
    "editable": true
   },
   "outputs": [],
   "source": [
    "%%time\n",
    "import concurrent.futures\n",
    "progress_bar = IntProgress(description=\"000/000\", max=len(toolboxes)*number_of_runs)\n",
    "display(progress_bar)\n",
    "\n",
    "results = {toolbox.experiment_name:[] for toolbox in toolboxes}\n",
    "with concurrent.futures.ProcessPoolExecutor() as executor:\n",
    "    # Submit all the tasks...\n",
    "    futures = {executor.submit(run_algo_wrapper, toolbox): toolbox\n",
    "               for _ in range(number_of_runs)\n",
    "               for toolbox in toolboxes}\n",
    "    \n",
    "    # ...and wait for them to finish.\n",
    "    for future in concurrent.futures.as_completed(futures):\n",
    "        tb = futures[future]\n",
    "        results[tb.experiment_name].append(future.result())\n",
    "        progress_bar.value +=1\n",
    "        progress_bar.description = \"%03d/%03d:\" % (progress_bar.value, progress_bar.max)"
   ]
  },
  {
   "cell_type": "markdown",
   "metadata": {
    "deletable": true,
    "editable": true,
    "internals": {
     "frag_helper": "fragment_end",
     "frag_number": 114
    },
    "slideshow": {
     "slide_type": "-"
    }
   },
   "source": [
    "This is not a perfect implementation but... works!"
   ]
  },
  {
   "cell_type": "markdown",
   "metadata": {
    "deletable": true,
    "editable": true,
    "internals": {
     "frag_helper": "fragment_end",
     "frag_number": 114
    },
    "slideshow": {
     "slide_type": "-"
    }
   },
   "source": [
    "As running the experiments sometimes takes a long time it is a good practice to store the results."
   ]
  },
  {
   "cell_type": "code",
   "execution_count": null,
   "metadata": {
    "collapsed": false,
    "deletable": true,
    "editable": true,
    "internals": {
     "frag_helper": "fragment_end",
     "frag_number": 114
    },
    "slideshow": {
     "slide_type": "-"
    }
   },
   "outputs": [],
   "source": [
    "import pickle"
   ]
  },
  {
   "cell_type": "code",
   "execution_count": null,
   "metadata": {
    "collapsed": false,
    "deletable": true,
    "editable": true,
    "internals": {
     "frag_helper": "fragment_end",
     "frag_number": 114
    },
    "slideshow": {
     "slide_type": "-"
    }
   },
   "outputs": [],
   "source": [
    "pickle.dump(results, open('nsga_ii_dtlz3-results.pickle', 'wb'))"
   ]
  },
  {
   "cell_type": "markdown",
   "metadata": {
    "deletable": true,
    "editable": true,
    "internals": {
     "frag_helper": "fragment_end",
     "frag_number": 131
    },
    "slideshow": {
     "slide_type": "fragment"
    }
   },
   "source": [
    "In case you need it, this file is included in the github repository.\n",
    "\n",
    "To load the results we would just have to:"
   ]
  },
  {
   "cell_type": "code",
   "execution_count": null,
   "metadata": {
    "collapsed": false,
    "deletable": true,
    "editable": true,
    "internals": {
     "frag_helper": "fragment_end",
     "frag_number": 131,
     "slide_helper": "subslide_end"
    },
    "slide_helper": "slide_end",
    "slideshow": {
     "slide_type": "-"
    }
   },
   "outputs": [],
   "source": [
    "# loaded_results = pickle.load(open('nsga_ii_dtlz3-results.pickle', 'rb'))\n",
    "# results = loaded_results #  <-- uncomment if needed"
   ]
  },
  {
   "cell_type": "markdown",
   "metadata": {
    "deletable": true,
    "editable": true,
    "internals": {
     "frag_helper": "fragment_end",
     "frag_number": 131,
     "slide_type": "subslide"
    },
    "slideshow": {
     "slide_type": "slide"
    }
   },
   "source": [
    "`results` is a dictionary, but a pandas `DataFrame` is a more handy container for the results."
   ]
  },
  {
   "cell_type": "code",
   "execution_count": null,
   "metadata": {
    "collapsed": false,
    "deletable": true,
    "editable": true,
    "internals": {
     "frag_helper": "fragment_end",
     "frag_number": 131,
     "slide_helper": "subslide_end"
    },
    "slide_helper": "slide_end",
    "slideshow": {
     "slide_type": "-"
    }
   },
   "outputs": [],
   "source": [
    "res = pd.DataFrame(results)"
   ]
  },
  {
   "cell_type": "markdown",
   "metadata": {
    "deletable": true,
    "editable": true,
    "internals": {
     "frag_helper": "fragment_end",
     "frag_number": 131,
     "slide_type": "subslide"
    },
    "slideshow": {
     "slide_type": "slide"
    }
   },
   "source": [
    "Headers may come out unsorted. Let's fix that first. "
   ]
  },
  {
   "cell_type": "code",
   "execution_count": null,
   "metadata": {
    "collapsed": false,
    "deletable": true,
    "editable": true,
    "internals": {
     "frag_helper": "fragment_end",
     "frag_number": 131,
     "slide_helper": "subslide_end"
    },
    "slide_helper": "subslide_end",
    "slideshow": {
     "slide_type": "-"
    }
   },
   "outputs": [],
   "source": [
    "res.head()"
   ]
  },
  {
   "cell_type": "code",
   "execution_count": null,
   "metadata": {
    "collapsed": false,
    "deletable": true,
    "editable": true,
    "internals": {
     "frag_helper": "fragment_end",
     "frag_number": 131,
     "slide_type": "subslide"
    },
    "slideshow": {
     "slide_type": "subslide"
    }
   },
   "outputs": [],
   "source": [
    "res = res.reindex_axis([toolbox.experiment_name for toolbox in toolboxes], axis=1)"
   ]
  },
  {
   "cell_type": "code",
   "execution_count": null,
   "metadata": {
    "collapsed": false,
    "deletable": true,
    "editable": true,
    "internals": {
     "frag_helper": "fragment_end",
     "frag_number": 131,
     "slide_helper": "subslide_end"
    },
    "slide_helper": "slide_end",
    "slideshow": {
     "slide_type": "-"
    }
   },
   "outputs": [],
   "source": [
    "res.head()"
   ]
  },
  {
   "cell_type": "markdown",
   "metadata": {
    "deletable": true,
    "editable": true,
    "internals": {
     "frag_helper": "fragment_end",
     "frag_number": 131,
     "slide_type": "subslide"
    },
    "slideshow": {
     "slide_type": "slide"
    }
   },
   "source": [
    "## A first glace at the results"
   ]
  },
  {
   "cell_type": "code",
   "execution_count": null,
   "metadata": {
    "collapsed": false,
    "deletable": true,
    "editable": true,
    "internals": {
     "frag_helper": "fragment_end",
     "frag_number": 131
    },
    "slideshow": {
     "slide_type": "-"
    }
   },
   "outputs": [],
   "source": [
    "a = res.applymap(lambda pop: [toolbox.evaluate(ind) for ind in pop])\n",
    "plt.figure(figsize=(11,3))\n",
    "for i, col in enumerate(a.columns):\n",
    "    plt.subplot(1, len(a.columns), i+1)\n",
    "    for pop in a[col]:\n",
    "        x = pd.DataFrame(data=pop)\n",
    "        plt.scatter(x[0], x[1], marker='.', alpha=0.5)\n",
    "    plt.title(col)"
   ]
  },
  {
   "cell_type": "markdown",
   "metadata": {
    "deletable": true,
    "editable": true,
    "internals": {
     "frag_helper": "fragment_end",
     "frag_number": 131,
     "slide_helper": "subslide_end"
    },
    "slide_helper": "slide_end",
    "slideshow": {
     "slide_type": "-"
    }
   },
   "source": [
    "The local Pareto-optimal fronts are clearly visible!"
   ]
  },
  {
   "cell_type": "markdown",
   "metadata": {
    "deletable": true,
    "editable": true,
    "internals": {
     "frag_helper": "fragment_end",
     "frag_number": 131,
     "slide_helper": "subslide_end",
     "slide_type": "subslide"
    },
    "slide_helper": "slide_end",
    "slideshow": {
     "slide_type": "slide"
    }
   },
   "source": [
    "## Calculating performance indicators\n",
    "\n",
    "* As already mentioned, we need to evaluate the quality of the solutions produced in every execution of the algorithm. \n",
    "* We will use the hypervolumne indicator for that.\n",
    "* Larger hypervolume values are better.\n",
    "* We already filtered each population a leave only the non-dominated individuals."
   ]
  },
  {
   "cell_type": "markdown",
   "metadata": {
    "deletable": true,
    "editable": true,
    "internals": {
     "frag_helper": "fragment_end",
     "frag_number": 131,
     "slide_type": "subslide"
    },
    "slideshow": {
     "slide_type": "slide"
    }
   },
   "source": [
    "Calculating the *reference point*: a point that is **“worst”** than any other individual in every objective."
   ]
  },
  {
   "cell_type": "code",
   "execution_count": null,
   "metadata": {
    "collapsed": false,
    "deletable": true,
    "editable": true,
    "internals": {
     "frag_helper": "fragment_end",
     "frag_number": 131
    },
    "slideshow": {
     "slide_type": "-"
    }
   },
   "outputs": [],
   "source": [
    "def calculate_reference(results, epsilon=0.1):\n",
    "    alldata = np.concatenate(np.concatenate(results.values))\n",
    "    obj_vals = [toolbox.evaluate(ind) for ind in alldata]\n",
    "    return np.max(obj_vals, axis=0) + epsilon"
   ]
  },
  {
   "cell_type": "code",
   "execution_count": null,
   "metadata": {
    "collapsed": false,
    "deletable": true,
    "editable": true,
    "internals": {
     "frag_helper": "fragment_end",
     "frag_number": 145
    },
    "slideshow": {
     "slide_type": "fragment"
    }
   },
   "outputs": [],
   "source": [
    "reference = calculate_reference(res)"
   ]
  },
  {
   "cell_type": "code",
   "execution_count": null,
   "metadata": {
    "collapsed": false,
    "deletable": true,
    "editable": true,
    "internals": {
     "frag_helper": "fragment_end",
     "frag_number": 145,
     "slide_helper": "subslide_end"
    },
    "slide_helper": "slide_end",
    "slideshow": {
     "slide_type": "-"
    }
   },
   "outputs": [],
   "source": [
    "reference"
   ]
  },
  {
   "cell_type": "markdown",
   "metadata": {
    "deletable": true,
    "editable": true,
    "internals": {
     "frag_helper": "fragment_end",
     "frag_number": 145,
     "slide_type": "subslide"
    },
    "slideshow": {
     "slide_type": "slide"
    }
   },
   "source": [
    "We can now compute the hypervolume of the Pareto-optimal fronts yielded by each algorithm run."
   ]
  },
  {
   "cell_type": "code",
   "execution_count": null,
   "metadata": {
    "collapsed": false,
    "deletable": true,
    "editable": true,
    "internals": {
     "frag_helper": "fragment_end",
     "frag_number": 145
    },
    "slideshow": {
     "slide_type": "-"
    }
   },
   "outputs": [],
   "source": [
    "import deap.benchmarks.tools as bt"
   ]
  },
  {
   "cell_type": "code",
   "execution_count": null,
   "metadata": {
    "collapsed": false,
    "deletable": true,
    "editable": true,
    "internals": {
     "frag_helper": "fragment_end",
     "frag_number": 145
    },
    "slideshow": {
     "slide_type": "-"
    }
   },
   "outputs": [],
   "source": [
    "hypervols = res.applymap(lambda pop: bt.hypervolume(pop, reference))"
   ]
  },
  {
   "cell_type": "code",
   "execution_count": null,
   "metadata": {
    "collapsed": false,
    "deletable": true,
    "editable": true,
    "internals": {
     "frag_helper": "fragment_end",
     "frag_number": 150,
     "slide_helper": "subslide_end"
    },
    "slide_helper": "slide_end",
    "slideshow": {
     "slide_type": "fragment"
    }
   },
   "outputs": [],
   "source": [
    "hypervols.head()"
   ]
  },
  {
   "cell_type": "markdown",
   "metadata": {
    "deletable": true,
    "editable": true,
    "internals": {
     "frag_helper": "fragment_end",
     "frag_number": 150,
     "slide_type": "subslide"
    },
    "slideshow": {
     "slide_type": "slide"
    }
   },
   "source": [
    "## How can we interpret the indicators?"
   ]
  },
  {
   "cell_type": "markdown",
   "metadata": {
    "deletable": true,
    "editable": true,
    "internals": {
     "frag_helper": "fragment_end",
     "frag_number": 152
    },
    "slideshow": {
     "slide_type": "fragment"
    }
   },
   "source": [
    "### Option A: Tabular form"
   ]
  },
  {
   "cell_type": "code",
   "execution_count": null,
   "metadata": {
    "collapsed": false,
    "deletable": true,
    "editable": true,
    "internals": {
     "frag_helper": "fragment_end",
     "frag_number": 152,
     "slide_helper": "subslide_end"
    },
    "slide_helper": "slide_end",
    "slideshow": {
     "slide_type": "-"
    }
   },
   "outputs": [],
   "source": [
    "hypervols.describe()"
   ]
  },
  {
   "cell_type": "markdown",
   "metadata": {
    "deletable": true,
    "editable": true,
    "internals": {
     "frag_helper": "fragment_end",
     "frag_number": 152,
     "slide_type": "subslide"
    },
    "slideshow": {
     "slide_type": "slide"
    }
   },
   "source": [
    "### Option B: Visualization"
   ]
  },
  {
   "cell_type": "code",
   "execution_count": null,
   "metadata": {
    "collapsed": false,
    "deletable": true,
    "editable": true,
    "internals": {
     "frag_helper": "fragment_end",
     "frag_number": 152,
     "slide_helper": "subslide_end"
    },
    "slide_helper": "slide_end",
    "slideshow": {
     "slide_type": "-"
    }
   },
   "outputs": [],
   "source": [
    "fig = plt.figure(figsize=(11,4))\n",
    "plt.subplot(121, title='Violin plots of NSGA-II with $P_{\\mathrm{mut}}$')\n",
    "seaborn.violinplot(data=hypervols, palette='Set2')\n",
    "plt.ylabel('Hypervolume'); plt.xlabel('Configuration')\n",
    "plt.subplot(122, title='Box plots of NSGA-II with $P_{\\mathrm{mut}}$')\n",
    "seaborn.boxplot(data=hypervols, palette='Set2')\n",
    "plt.ylabel('Hypervolume'); plt.xlabel('Configuration');\n",
    "plt.tight_layout()"
   ]
  },
  {
   "cell_type": "markdown",
   "metadata": {
    "deletable": true,
    "editable": true,
    "internals": {
     "frag_helper": "fragment_end",
     "frag_number": 152,
     "slide_type": "subslide"
    },
    "slideshow": {
     "slide_type": "slide"
    }
   },
   "source": [
    "## Option C: Statistical hypothesis test"
   ]
  },
  {
   "cell_type": "markdown",
   "metadata": {
    "deletable": true,
    "editable": true,
    "internals": {
     "frag_helper": "fragment_end",
     "frag_number": 152,
     "slide_helper": "subslide_end"
    },
    "slide_helper": "slide_end",
    "slideshow": {
     "slide_type": "-"
    }
   },
   "source": [
    "* Choosing the correct statistical test is essential to properly report the results.\n",
    "* [Nonparametric statistics](http://en.wikipedia.org/wiki/Nonparametric_statistics) can lend a helping hand.\n",
    "* [Parametric statistics](http://en.wikipedia.org/wiki/Parametric_statistics) could be a better choice in some cases. \n",
    "* Parametric statistics require that *all* data follow a known distribution (frequently a normal one).\n",
    "* Some tests -like the [normality test](http://en.wikipedia.org/wiki/Normality_test)- can be apply to verify that data meet the parametric stats requirements.\n",
    "* In my experience that is very unlikely that all your EMO result meet those characteristics."
   ]
  },
  {
   "cell_type": "markdown",
   "metadata": {
    "deletable": true,
    "editable": true,
    "internals": {
     "frag_helper": "fragment_end",
     "frag_number": 152,
     "slide_type": "subslide"
    },
    "slideshow": {
     "slide_type": "slide"
    }
   },
   "source": [
    "We start by writing a function that helps us tabulate the results of the application of an statistical hypothesis test."
   ]
  },
  {
   "cell_type": "code",
   "execution_count": null,
   "metadata": {
    "collapsed": false,
    "deletable": true,
    "editable": true,
    "internals": {
     "frag_helper": "fragment_end",
     "frag_number": 152
    },
    "slideshow": {
     "slide_type": "-"
    }
   },
   "outputs": [],
   "source": [
    "import itertools\n",
    "import scipy.stats as stats"
   ]
  },
  {
   "cell_type": "code",
   "execution_count": null,
   "metadata": {
    "collapsed": false,
    "deletable": true,
    "editable": true,
    "internals": {
     "frag_helper": "fragment_end",
     "frag_number": 152,
     "slide_helper": "subslide_end"
    },
    "slide_helper": "slide_end",
    "slideshow": {
     "slide_type": "-"
    }
   },
   "outputs": [],
   "source": [
    "def compute_stat_matrix(data, stat_func, alpha=0.05):\n",
    "    '''A function that applies `stat_func` to all combinations of columns in `data`.\n",
    "    Returns a squared matrix with the p-values'''\n",
    "    p_values = pd.DataFrame(columns=data.columns, index=data.columns)\n",
    "    for a,b in itertools.combinations(data.columns,2):\n",
    "        s,p = stat_func(data[a], data[b]) \n",
    "        p_values[a].ix[b] = p\n",
    "        p_values[b].ix[a] = p\n",
    "    return p_values"
   ]
  },
  {
   "cell_type": "markdown",
   "metadata": {
    "deletable": true,
    "editable": true,
    "internals": {
     "frag_helper": "fragment_end",
     "frag_number": 152,
     "slide_type": "subslide"
    },
    "slideshow": {
     "slide_type": "slide"
    }
   },
   "source": [
    "The [Kruskal-Wallis H-test](http://docs.scipy.org/doc/scipy-0.14.0/reference/generated/scipy.stats.kruskal.html) tests the null hypothesis that the population median of all of the groups are equal.\n",
    "\n",
    "* It is a non-parametric version of [ANOVA](http://en.wikipedia.org/wiki/Analysis_of_variance). \n",
    "* The test works on 2 or more independent samples, which may have different sizes. \n",
    "* Note that rejecting the null hypothesis does not indicate which of the groups differs. \n",
    "* Post-hoc comparisons between groups are required to determine which groups are different."
   ]
  },
  {
   "cell_type": "code",
   "execution_count": null,
   "metadata": {
    "collapsed": false,
    "deletable": true,
    "editable": true,
    "internals": {
     "frag_helper": "fragment_end",
     "frag_number": 163
    },
    "slideshow": {
     "slide_type": "fragment"
    }
   },
   "outputs": [],
   "source": [
    "stats.kruskal(*[hypervols[col] for col in hypervols.columns])"
   ]
  },
  {
   "cell_type": "markdown",
   "metadata": {
    "deletable": true,
    "editable": true,
    "internals": {
     "frag_helper": "fragment_end",
     "frag_number": 163,
     "slide_helper": "subslide_end"
    },
    "slide_helper": "slide_end",
    "slideshow": {
     "slide_type": "-"
    }
   },
   "source": [
    "We now can assert that the results are not the same but which ones are different or similar to the others the others?"
   ]
  },
  {
   "cell_type": "markdown",
   "metadata": {
    "deletable": true,
    "editable": true,
    "internals": {
     "frag_helper": "fragment_end",
     "frag_number": 163,
     "slide_helper": "subslide_end",
     "slide_type": "subslide"
    },
    "slide_helper": "slide_end",
    "slideshow": {
     "slide_type": "slide"
    }
   },
   "source": [
    "In case that the null hypothesis of the Kruskal-Wallis is rejected the Conover–Inman procedure (Conover, 1999, pp. 288-290) can be applied in a pairwise manner in order to determine if the results of one algorithm were significantly better than those of the other.\n",
    "\n",
    "* Conover, W. J. (1999). *Practical Nonparametric Statistics*. John Wiley & Sons, New York, 3rd edition.\n",
    "\n",
    "_Note_: If you want to get an extended summary of this method check out my [PhD thesis](http://lmarti.com/pubs). "
   ]
  },
  {
   "cell_type": "code",
   "execution_count": null,
   "metadata": {
    "collapsed": false,
    "deletable": true,
    "editable": true,
    "internals": {
     "frag_helper": "fragment_end",
     "frag_number": 163,
     "slide_helper": "subslide_end",
     "slide_type": "subslide"
    },
    "slide_helper": "slide_end",
    "slideshow": {
     "slide_type": "slide"
    }
   },
   "outputs": [],
   "source": [
    "def conover_inman_procedure(data, alpha=0.05):\n",
    "    num_runs = len(data)\n",
    "    num_algos = len(data.columns)\n",
    "    N = num_runs*num_algos\n",
    "\n",
    "    _,p_value = stats.kruskal(*[data[col] for col in data.columns])\n",
    "    \n",
    "    ranked =  stats.rankdata(np.concatenate([data[col] for col in data.columns]))\n",
    "    \n",
    "    ranksums = []\n",
    "    for i in range(num_algos):\n",
    "        ranksums.append(np.sum(ranked[num_runs*i:num_runs*(i+1)]))\n",
    "\n",
    "    S_sq = (np.sum(ranked**2) - N*((N+1)**2)/4)/(N-1)\n",
    "\n",
    "    right_side = stats.t.cdf(1-(alpha/2), N-num_algos) * \\\n",
    "                 math.sqrt((S_sq*((N-1-p_value)/(N-1)))*2/num_runs)\n",
    "    \n",
    "    res = pd.DataFrame(columns=data.columns, index=data.columns)\n",
    "\n",
    "    for i,j in itertools.combinations(np.arange(num_algos),2):\n",
    "        res[res.columns[i]].ix[j] = abs(ranksums[i] - ranksums[j]/num_runs) > right_side\n",
    "        res[res.columns[j]].ix[i] = abs(ranksums[i] - ranksums[j]/num_runs) > right_side\n",
    "    return res"
   ]
  },
  {
   "cell_type": "code",
   "execution_count": null,
   "metadata": {
    "collapsed": false,
    "deletable": true,
    "editable": true,
    "internals": {
     "frag_helper": "fragment_end",
     "frag_number": 163,
     "slide_type": "subslide"
    },
    "slideshow": {
     "slide_type": "slide"
    }
   },
   "outputs": [],
   "source": [
    "conover_inman_procedure(hypervols)"
   ]
  },
  {
   "cell_type": "markdown",
   "metadata": {
    "deletable": true,
    "editable": true,
    "internals": {
     "frag_helper": "fragment_end",
     "frag_number": 163,
     "slide_helper": "subslide_end"
    },
    "slide_helper": "slide_end",
    "slideshow": {
     "slide_type": "-"
    }
   },
   "source": [
    "We now know in what cases the difference is sufficient as to say that one result is better than the other."
   ]
  },
  {
   "cell_type": "markdown",
   "metadata": {
    "deletable": true,
    "editable": true,
    "internals": {
     "frag_helper": "fragment_end",
     "frag_number": 163,
     "slide_type": "subslide"
    },
    "slideshow": {
     "slide_type": "slide"
    }
   },
   "source": [
    "Another alternative is the [Friedman test](http://en.wikipedia.org/wiki/Friedman_test).\n",
    "\n",
    "* Its null hypothesis that repeated measurements of the same individuals have the same distribution. \n",
    "* It is often used to test for consistency among measurements obtained in different ways. \n",
    "    * For example, if two measurement techniques are used on the same set of individuals, the Friedman test can be used to determine if the two measurement techniques are consistent."
   ]
  },
  {
   "cell_type": "code",
   "execution_count": null,
   "metadata": {
    "collapsed": false,
    "deletable": true,
    "editable": true,
    "internals": {
     "frag_helper": "fragment_end",
     "frag_number": 163,
     "slide_helper": "subslide_end"
    },
    "slide_helper": "slide_end",
    "slideshow": {
     "slide_type": "-"
    }
   },
   "outputs": [],
   "source": [
    "measurements = [list(hypervols[col]) for col in hypervols.columns]\n",
    "stats.friedmanchisquare(*measurements)"
   ]
  },
  {
   "cell_type": "markdown",
   "metadata": {
    "deletable": true,
    "editable": true,
    "internals": {
     "frag_helper": "fragment_end",
     "frag_number": 163,
     "slide_type": "subslide"
    },
    "slideshow": {
     "slide_type": "slide"
    }
   },
   "source": [
    "[Mann–Whitney U test](http://en.wikipedia.org/wiki/Mann%E2%80%93Whitney_U_test) (also called the Mann–Whitney–Wilcoxon (MWW), Wilcoxon rank-sum test (WRS), or Wilcoxon–Mann–Whitney test) is a nonparametric test of the null hypothesis that two populations are the same against an alternative hypothesis, especially that a particular population tends to have larger values than the other.\n",
    "\n",
    "It has greater efficiency than the $t$-test on non-normal distributions, such as a mixture of normal distributions, and it is nearly as efficient as the $t$-test on normal distributions."
   ]
  },
  {
   "cell_type": "code",
   "execution_count": null,
   "metadata": {
    "collapsed": false,
    "deletable": true,
    "editable": true,
    "internals": {
     "frag_helper": "fragment_end",
     "frag_number": 172,
     "slide_helper": "subslide_end"
    },
    "slide_helper": "slide_end",
    "slideshow": {
     "slide_type": "fragment"
    }
   },
   "outputs": [],
   "source": [
    "raw_p_values=compute_stat_matrix(hypervols, stats.mannwhitneyu)\n",
    "raw_p_values"
   ]
  },
  {
   "cell_type": "markdown",
   "metadata": {
    "deletable": true,
    "editable": true,
    "internals": {
     "frag_helper": "fragment_end",
     "frag_number": 172,
     "slide_helper": "subslide_end",
     "slide_type": "subslide"
    },
    "slide_helper": "slide_end",
    "slideshow": {
     "slide_type": "slide"
    }
   },
   "source": [
    "The [familywise error rate](http://en.wikipedia.org/wiki/Familywise_error_rate) (FWER) is the probability of making one or more false discoveries, or [type I errors](http://en.wikipedia.org/wiki/Type_I_and_type_II_errors), among all the hypotheses when performing multiple hypotheses tests.\n",
    "\n",
    "_Example_: When performing a test, there is a $\\alpha$ chance of making a type I error. If we make $m$ tests, then the probability of making one type I error is $m\\alpha$. Therefore, if an $\\alpha=0.05$ is used and 5 pairwise comparisons are made, we will have a $5\\times0.05 = 0.25$ chance of making a type I error.\n",
    "\n",
    "* FWER procedures (such as the [Bonferroni correction](http://en.wikipedia.org/wiki/Bonferroni_correction)) exert a more stringent control over false discovery compared to False discovery rate controlling procedures. \n",
    "* FWER controlling seek to reduce the probability of even one false discovery, as opposed to the expected proportion of false discoveries. \n",
    "* Thus, FDR procedures have greater power at the cost of increased rates of type I errors, i.e., rejecting the null hypothesis of no effect when it should be accepted."
   ]
  },
  {
   "cell_type": "markdown",
   "metadata": {
    "deletable": true,
    "editable": true,
    "internals": {
     "frag_helper": "fragment_end",
     "frag_number": 172,
     "slide_type": "subslide"
    },
    "slideshow": {
     "slide_type": "slide"
    }
   },
   "source": [
    "One of these corrections is the [Šidák correction](http://en.wikipedia.org/wiki/%C5%A0id%C3%A1k_correction) as it is less conservative than the [Bonferroni correction](http://en.wikipedia.org/wiki/Bonferroni_correction):\n",
    "$$\\alpha_{SID} = 1-(1-\\alpha)^\\frac{1}{m},$$\n",
    "where $m$ is the number of tests.\n",
    "\n",
    "* In our case $m$ is the number of combinations of algorithm configurations taken two at a time,\n",
    "$$\n",
    "m = {\\mathtt{number\\_of\\_experiments} \\choose 2}.\n",
    "$$\n",
    "* There are other corrections that can be used."
   ]
  },
  {
   "cell_type": "code",
   "execution_count": null,
   "metadata": {
    "collapsed": false,
    "deletable": true,
    "editable": true,
    "internals": {
     "frag_helper": "fragment_end",
     "frag_number": 172,
     "slide_helper": "subslide_end"
    },
    "slide_helper": "slide_end",
    "slideshow": {
     "slide_type": "-"
    }
   },
   "outputs": [],
   "source": [
    "from scipy.misc import comb\n",
    "alpha=0.05\n",
    "alpha_sid = 1 - (1-alpha)**(1/comb(len(hypervols.columns), 2))\n",
    "alpha_sid"
   ]
  },
  {
   "cell_type": "markdown",
   "metadata": {
    "deletable": true,
    "editable": true,
    "internals": {
     "frag_helper": "fragment_end",
     "frag_number": 172,
     "slide_type": "subslide"
    },
    "slideshow": {
     "slide_type": "slide"
    }
   },
   "source": [
    "Let's apply the corrected alpha to `raw_p_values`. If we have a cell with a `True` value that means that those two results are the same."
   ]
  },
  {
   "cell_type": "code",
   "execution_count": null,
   "metadata": {
    "collapsed": false,
    "deletable": true,
    "editable": true,
    "internals": {
     "frag_helper": "fragment_end",
     "frag_number": 172,
     "slide_helper": "subslide_end"
    },
    "slide_helper": "slide_end",
    "slideshow": {
     "slide_type": "-"
    }
   },
   "outputs": [],
   "source": [
    "raw_p_values.applymap(lambda value: value <= alpha_sid)"
   ]
  },
  {
   "cell_type": "markdown",
   "metadata": {
    "deletable": true,
    "editable": true,
    "internals": {
     "frag_helper": "fragment_end",
     "frag_number": 172,
     "slide_helper": "subslide_end",
     "slide_type": "subslide"
    },
    "slide_helper": "slide_end",
    "slideshow": {
     "slide_type": "slide"
    }
   },
   "source": [
    "## Further -and highly recommended- reading\n",
    "\n",
    "* Cohen, P. R. (1995). _Empirical Methods for Artificial Intelligence_ (Vol. 139). Cambridge: MIT press. [link](http://mitpress.mit.edu/books/empirical-methods-artificial-intelligence)\n",
    "* Bartz-Beielstein, Thomas (2006). _Experimental Research in Evolutionary Computation: The New Experimentalism_. Springer [link](http://link.springer.com/book/10.1007%2F3-540-32027-X)\n",
    "* García, S., & Herrera, F. (2008). _An Extension on “Statistical Comparisons of Classifiers over Multiple Data Sets” for all Pairwise Comparisons_. Journal of Machine Learning Research, 9, 2677–2694. [pdf](http://www.jmlr.org/papers/v9/garcia08a.html)"
   ]
  },
  {
   "cell_type": "markdown",
   "metadata": {
    "deletable": true,
    "editable": true,
    "internals": {
     "frag_helper": "fragment_end",
     "frag_number": 172,
     "slide_type": "subslide"
    },
    "slideshow": {
     "slide_type": "slide"
    }
   },
   "source": [
    "# Final remarks\n",
    "\n"
   ]
  },
  {
   "cell_type": "markdown",
   "metadata": {
    "deletable": true,
    "editable": true,
    "internals": {
     "frag_helper": "fragment_end",
     "frag_number": 172,
     "slide_helper": "subslide_end"
    },
    "slide_helper": "slide_end",
    "slideshow": {
     "slide_type": "-"
    }
   },
   "source": [
    "In this class/notebook we have seen some key elements:\n",
    "\n",
    "1. The Pareto dominance relation in action.\n",
    "2. The NSGA-II algorithm.\n",
    "3. Some of the existing MOP benchmarks. \n",
    "4. How to perform experiments and draw statistically valid conclusions from them.\n",
    "\n",
    "Bear in mind that:\n",
    "\n",
    "* When working in EMO topics problems like those of the CEC'09 or WFG toolkits are usually involved.\n",
    "* The issue of devising a proper experiment design and interpreting the results is a fundamental one.\n",
    "* The experimental setup presented here can be used with little modifications to single-objective optimization and even to other machine learning or stochastic algorithms."
   ]
  },
  {
   "cell_type": "markdown",
   "metadata": {
    "deletable": true,
    "editable": true
   },
   "source": [
    "<hr/>\n",
    "<div class=\"container-fluid\">\n",
    "  <div class='well'>\n",
    "      <div class=\"row\">\n",
    "          <div class=\"col-md-3\" align='center'>\n",
    "              <img align='center'alt=\"Creative Commons License\" style=\"border-width:0\" src=\"https://i.creativecommons.org/l/by-nc-sa/4.0/88x31.png\"/>\n",
    "          </div>\n",
    "          <div class=\"col-md-9\">\n",
    "              This work is licensed under a [Creative Commons Attribution-NonCommercial-ShareAlike 4.0 International License](http://creativecommons.org/licenses/by-nc-sa/4.0/).\n",
    "          </div>\n",
    "      </div>\n",
    "  </div>\n",
    "</div>"
   ]
  },
  {
   "cell_type": "code",
   "execution_count": null,
   "metadata": {
    "collapsed": false,
    "deletable": true,
    "editable": true
   },
   "outputs": [],
   "source": [
    "# To install run: pip install version_information\n",
    "%load_ext version_information\n",
    "%version_information scipy, numpy, matplotlib, seaborn, deap"
   ]
  },
  {
   "cell_type": "code",
   "execution_count": null,
   "metadata": {
    "collapsed": false,
    "deletable": true,
    "editable": true
   },
   "outputs": [],
   "source": [
    "# this code is here for cosmetic reasons\n",
    "from IPython.core.display import HTML\n",
    "from urllib.request import urlopen\n",
    "HTML(urlopen('https://raw.githubusercontent.com/lmarti/jupyter_custom/master/custom.include').read().decode('utf-8'))"
   ]
  },
  {
   "cell_type": "markdown",
   "metadata": {
    "collapsed": true,
    "deletable": true,
    "editable": true
   },
   "source": [
    " "
   ]
  }
 ],
 "metadata": {
  "kernelspec": {
   "display_name": "Python 2",
   "language": "python",
   "name": "python2"
  },
  "language_info": {
   "codemirror_mode": {
    "name": "ipython",
    "version": 2
   },
   "file_extension": ".py",
   "mimetype": "text/x-python",
   "name": "python",
   "nbconvert_exporter": "python",
   "pygments_lexer": "ipython2",
   "version": "2.7.12"
  },
  "notify_time": "30"
 },
 "nbformat": 4,
 "nbformat_minor": 0
}
