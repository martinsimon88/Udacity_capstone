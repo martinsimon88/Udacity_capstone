{
 "cells": [
  {
   "cell_type": "markdown",
   "metadata": {
    "deletable": true,
    "editable": true
   },
   "source": [
    "# Machine Learning Engineer Nanodegree\n",
    "## Capstone Proposal\n",
    "Martin Simon  \n",
    "February 6th, 2017\n",
    "\n",
    "## Proposal"
   ]
  },
  {
   "cell_type": "markdown",
   "metadata": {
    "collapsed": true,
    "deletable": true,
    "editable": true
   },
   "source": [
    "### Domain Background\n",
    "\n",
    "Finding optimal solutions in Mechanical Engineering requires thorough theoretical understanding of physics and practical experience in the domain to find good solutions. However, even skilled professionals experiment with a number of theories before finding the most suitable solution. Machine Learning algorithms can be used to find hidden patterns and automate the engineering process. Genetic Algorithms have already proven useful - proposing technical solutions, which humans would probably not find with human intuition. A great example of this is the design of a NASA satellite antenna: https://ti.arc.nasa.gov/m/pub-archive/1244h/1244%20(Hornby).pdf. An examples of applying Machine Learning is [Simulation Data Mining](http://www.joerg.frochte.de/field-of-interest/simulation-data-mining/).\n",
    "\n",
    "I am currently designing a Blended Wing Body Unmanned Aerial Vehicle and am interested in experimenting with Machine Learning algorithms to help make the solvers more \"intelligent\" to speed up the development process. Handing tasks that can be automated and are based on a lot of \"trial and error\" is a significant improvement of an engineers workflow. However, physics simulation driven policies can act in other applications as well, such as [real-time decision making](http://groups.csail.mit.edu/robotics-center/public_papers/Tedrake09.pdf). The policy will be using open-source softwares to generate geometry and get evaluations for the proposed geometries: [XFLR5](http://www.xflr5.com/xflr5.htm), [XFoil](http://web.mit.edu/drela/Public/web/xfoil/), [OpenVSP](http://openvsp.org/) and [AeroPython](http://lorenabarba.com/blog/announcing-aeropython/)."
   ]
  },
  {
   "cell_type": "markdown",
   "metadata": {
    "collapsed": true,
    "deletable": true,
    "editable": true
   },
   "source": [
    "### Problem Statement\n",
    "\n",
    "Train a Reinforced AI Engineer-Policy to find aerodynamically optimal geometric parameters for a Blended Wing Body Unmanned Aerial Vehicle design. The optimal solution is determined by evaluating the UAV-s Coefficient of Lift, Drag and stability factors. "
   ]
  },
  {
   "cell_type": "markdown",
   "metadata": {
    "collapsed": true,
    "deletable": true,
    "editable": true
   },
   "source": [
    "### Datasets and Inputs\n",
    "\n",
    "The preliminary geometric model is built by myself, making some broad assumptions about where the useful model should be. Some geometric limits will be set to make sure it is manufacturable and can carry electronics. The initial mutations of the model will be random.\n",
    "The preliminary input model will be based on airfoil sections, thus giving the policy the option to remember what worked on one section and use that knowledge to make decisions on the next.\n",
    "\n",
    "For modelling and analysis open-source airfoil/wing platforms will be used, such as XFoil, XFLR5 and OpenVSP."
   ]
  },
  {
   "cell_type": "markdown",
   "metadata": {
    "collapsed": true,
    "deletable": true,
    "editable": true
   },
   "source": [
    "### Solution Statement\n",
    "\n",
    "Based on decisions, the policy gets feedback. Small changes will be penalized in the beginning to get moving. Also, annealing should be used to avoid local minimas."
   ]
  },
  {
   "cell_type": "markdown",
   "metadata": {
    "deletable": true,
    "editable": true
   },
   "source": [
    "### Benchmark Model\n",
    "\n",
    "The benchmark model is the human engineer who tinkers the initial geometric model of the UAV to have the best attributes of the stability, drag, lift and weight."
   ]
  },
  {
   "cell_type": "markdown",
   "metadata": {
    "deletable": true,
    "editable": true
   },
   "source": [
    "### Evaluation Metrics\n",
    "\n",
    "Evaluation metrics are stability, drag, lift and weight values. "
   ]
  },
  {
   "cell_type": "markdown",
   "metadata": {
    "deletable": true,
    "editable": true
   },
   "source": [
    "### Project Design\n",
    "\n",
    "Finding an aerodynamically optimized body for the UAV begins with constructing an initial model and sets of constraints by the human engineer. The policy is given a set of parameters it can modify and is expected to learn which combinations will give the best effect when constrained by payload size, and weight, UAV range, endurance (time), stall margin (m/s), minimum airspeed (m/s) and available power etc.\n",
    "\n",
    "The policy will take leverage of 2D and 3D aerodynamic modeling to find optimal solutions with the least amount of GPUh/CPUh.\n",
    "\n",
    "The project workflow:\n",
    "\n",
    "1. Set up aerodynamic analysis programs and make a decision which of them are most beneficial for the project.\n",
    "\n",
    "2. Build a simple Python-API to mediate with the selected programs.\n",
    "\n",
    "3. Create a set of constraints and initial model.\n",
    "\n",
    "4. Test a DNN based Reinforcemed ML Policy with a simple game from [OpenAI Gym](https://gym.openai.com/).\n",
    "\n",
    "5. Connect the modifiable parameters and reward function to the Reinforced learner.\n",
    "\n",
    "6. Fine-tune the set-up of the ML system.\n",
    "\n",
    "7. Train final policy and evaluate results."
   ]
  },
  {
   "cell_type": "code",
   "execution_count": null,
   "metadata": {
    "collapsed": true
   },
   "outputs": [],
   "source": []
  }
 ],
 "metadata": {
  "kernelspec": {
   "display_name": "Python 2",
   "language": "python",
   "name": "python2"
  },
  "language_info": {
   "codemirror_mode": {
    "name": "ipython",
    "version": 2
   },
   "file_extension": ".py",
   "mimetype": "text/x-python",
   "name": "python",
   "nbconvert_exporter": "python",
   "pygments_lexer": "ipython2",
   "version": "2.7.12"
  }
 },
 "nbformat": 4,
 "nbformat_minor": 0
}
